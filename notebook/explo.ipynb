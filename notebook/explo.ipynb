{
 "cells": [
  {
   "cell_type": "code",
   "execution_count": 1,
   "metadata": {},
   "outputs": [],
   "source": [
    "# Per patient - option to select by drug or visit"
   ]
  },
  {
   "cell_type": "code",
   "execution_count": 1,
   "metadata": {},
   "outputs": [],
   "source": [
    "import numpy as np\n",
    "import pandas as pd\n",
    "import plotly.express as px\n",
    "import datetime as dt\n",
    "import typing as T\n",
    "\n",
    "pd.set_option(\"display.max_columns\", None)\n",
    "from IPython.core.interactiveshell import InteractiveShell\n",
    "InteractiveShell.ast_node_interactivity = \"all\""
   ]
  },
  {
   "cell_type": "code",
   "execution_count": 2,
   "metadata": {},
   "outputs": [],
   "source": [
    "def load_csv(filename: str, sep: str, parse_dates: list[str]) -> pd.DataFrame:\n",
    "    df = pd.read_csv(\n",
    "        filepath_or_buffer=filename,\n",
    "        sep=sep,\n",
    "        parse_dates=parse_dates,\n",
    "        date_format={col: \"%Y%m%d\" for col in parse_dates},\n",
    "    )\n",
    "    return df"
   ]
  },
  {
   "cell_type": "code",
   "execution_count": 3,
   "metadata": {},
   "outputs": [],
   "source": [
    "def merge_dataset(left_df: pd.DataFrame, left_on: str, right_df: pd.DataFrame, right_on: str, prefixes: tuple[str, str], how: str = \"left\") -> pd.DataFrame:\n",
    "    left_df = left_df.copy()\n",
    "    if prefixes[0] is not None:\n",
    "        left_df.columns = [f\"{prefixes[0]}_{col}\" for col in left_df.columns]\n",
    "        left_on = f\"{prefixes[0]}_{left_on}\"\n",
    "\n",
    "    right_df = right_df.copy()\n",
    "    if prefixes[1] is not None:\n",
    "        right_df.columns = [f\"{prefixes[1]}_{col}\" for col in right_df.columns]\n",
    "        right_on = f\"{prefixes[1]}_{right_on}\"\n",
    "\n",
    "    df = pd.merge(left=left_df, left_on=left_on, right=right_df, right_on=right_on, how=how)\n",
    "    return df\n",
    "\n",
    "\n",
    "def preprocess_drug_strength(drug_df: pd.DataFrame, concept_df: pd.DataFrame, keep_only_valid_unit: bool = False) -> pd.DataFrame:\n",
    "\n",
    "    strength_df = drug_df.copy()\n",
    "    # CHECK VALIDITY DATES\n",
    "    # Invalid reason: D (deleted), U (replaced with an update), NULL (valid_end_date has the default value)\n",
    "    strength_df[\"invalid_drug\"] = strength_df[\"valid_end_date\"].apply(lambda x: x < dt.datetime.now())\n",
    "\n",
    "    assert len(strength_df[\"invalid_reason\"].dropna()) == strength_df[\"invalid_drug\"].sum()\n",
    "\n",
    "    # ADD CONCEPT DEFINITION\n",
    "    unit_concept_df = concept_df[concept_df[\"domain_id\"] == \"Unit\"].reset_index(drop=True)\n",
    "    # Keep only concepts that are valid\n",
    "    if keep_only_valid_unit:\n",
    "        unit_concept_df = unit_concept_df[unit_concept_df[\"valid_end_date\"] >= dt.datetime.now()].reset_index(drop=True)\n",
    "\n",
    "    # drug_concept_df = concept_df[concept_df[\"domain_id\"] == \"Drug\"].reset_index(drop=True)\n",
    "    drug_concept_df = concept_df.copy()\n",
    "\n",
    "    # MERGE CONCEPTS\n",
    "    # 1. Amount concept\n",
    "    df = merge_dataset(\n",
    "        left_df=strength_df,\n",
    "        right_df=unit_concept_df,\n",
    "        left_on=\"amount_unit_concept_id\",\n",
    "        right_on=\"concept_id\",\n",
    "        prefixes=(None, \"amount\"),\n",
    "        how=\"left\",\n",
    "    )\n",
    "    # 2. Numerator concept\n",
    "    df = merge_dataset(\n",
    "        left_df=df,\n",
    "        right_df=unit_concept_df,\n",
    "        left_on=\"numerator_unit_concept_id\",\n",
    "        right_on=\"concept_id\",\n",
    "        prefixes=(None, \"numerator\"),\n",
    "        how=\"left\",\n",
    "    )\n",
    "    # 3. Denominator concept\n",
    "    df = merge_dataset(\n",
    "        left_df=df,\n",
    "        right_df=unit_concept_df,\n",
    "        left_on=\"denominator_unit_concept_id\",\n",
    "        right_on=\"concept_id\",\n",
    "        prefixes=(None, \"denominator\"),\n",
    "        how=\"left\",\n",
    "    )\n",
    "    # 4. Ingredient concept\n",
    "    df = merge_dataset(\n",
    "        left_df=df,\n",
    "        right_df=drug_concept_df,\n",
    "        left_on=\"ingredient_concept_id\",\n",
    "        right_on=\"concept_id\",\n",
    "        prefixes=(None, \"ingredient\")\n",
    "    )\n",
    "    return df"
   ]
  },
  {
   "cell_type": "code",
   "execution_count": 4,
   "metadata": {},
   "outputs": [],
   "source": [
    "def refining_drug_exposure(drug_df: pd.DataFrame, concept_df: pd.DataFrame) -> pd.DataFrame:\n",
    "    exposure_df = drug_df.copy()\n",
    "\n",
    "    # drug_concept_df = concept_df[concept_df[\"domain_id\"] == \"Drug\"].reset_index(drop=True)\n",
    "    drug_concept_df = concept_df.copy()\n",
    "\n",
    "    # MERGE CONCEPTS\n",
    "    # 1. Drug\n",
    "    df = merge_dataset(\n",
    "        left_df=exposure_df,\n",
    "        left_on=\"drug_concept_id\",\n",
    "        right_df=drug_concept_df,\n",
    "        right_on=\"concept_id\",\n",
    "        prefixes=(None, \"drug\"),\n",
    "        how=\"left\",\n",
    "    )\n",
    "    # 2. Drug type\n",
    "    df = merge_dataset(\n",
    "        left_df=df,\n",
    "        left_on=\"drug_type_concept_id\",\n",
    "        right_df=drug_concept_df,\n",
    "        right_on=\"concept_id\",\n",
    "        prefixes=(None, \"drug_type\"),\n",
    "        how=\"left\",\n",
    "    )\n",
    "    # 3. Route\n",
    "    df = merge_dataset(\n",
    "        left_df=df,\n",
    "        left_on=\"route_concept_id\",\n",
    "        right_df=drug_concept_df,\n",
    "        right_on=\"concept_id\",\n",
    "        prefixes=(None, \"route\"),\n",
    "        how=\"left\",\n",
    "    )\n",
    "\n",
    "    return df"
   ]
  },
  {
   "cell_type": "code",
   "execution_count": 5,
   "metadata": {},
   "outputs": [],
   "source": [
    "def compute_drug_dose(row: pd.Series) -> float:\n",
    "    # 1. Tablets and other fixed amount formulations\n",
    "    # DRUG_STRENGTH.denominator_unit_concept_id = empty\n",
    "    if row[\"denominator_unit_concept_id\"] is None:\n",
    "        dose = row[\"quantity\"] * row[\"amount_value\"]\n",
    "        dose_lit = f\"{dose} {row['denominator_concept_code']}\"\n",
    "    # 2. Puffs of an inhaler\n",
    "    # Denominator unit is {actuat}\n",
    "    elif row[\"denominator_unit_concept_id\"] == 45744809:\n",
    "        dose = row[\"quantity\"] * row[\"numerator_value\"]\n",
    "        dose_lit = f\"{dose} {row['numerator_concept_code']}\"\n",
    "    # Denominator is either mL or mg\n",
    "    elif row[\"denominator_unit_concept_id\"] in [8587, 8576]:  # [mL, mg]\n",
    "        # 3. Quantified Drugs which are formulated as a concentration mL or mg, but\n",
    "        # denominator_value might be different from 1\n",
    "        if row[\"denominator_value\"] != 1:\n",
    "            dose = row[\"quantity\"] * row[\"numerator_value\"]\n",
    "            dose_lit = f\"{dose} {row['numerator_concept_code']}\"\n",
    "        # 4. Drugs with the total amount provided in quantity\n",
    "        # NLP analysis is needed to analyze concept name (get concentration, content, units, etc.)\n",
    "        # TO CHECK 1: check that quantity is expressed in mL or mL and not in oz\n",
    "        # TO CHECK 2: check denominator unit e.g. g vs mg (factor 1000)\n",
    "        else:\n",
    "            dose = row[\"quantity\"] * row[\"numerator_value\"]\n",
    "            dose_lit = f\"{dose} {row['numerator_concept_code']}\"\n",
    "    # 6. Drugs with the active ingredient released over time\n",
    "    elif row[\"denominator_unit_concept_id\"] == 8505:\n",
    "        dose = row[\"numerator_value\"]\n",
    "        dose_lit = f\"{dose} {row['numerator_concept_code']} / {row['denominator_concept_code']}\"\n",
    "    # 5. Compounded drugs\n",
    "    # TODO: NLP analysis needed to get different ingredients\n",
    "    else:\n",
    "        dose = None\n",
    "        dose_lit = None\n",
    "\n",
    "    return dose, dose_lit"
   ]
  },
  {
   "cell_type": "code",
   "execution_count": 6,
   "metadata": {},
   "outputs": [],
   "source": [
    "def get_dataframe_per_patient(df: pd.DataFrame, patient_id: int) -> pd.DataFrame:\n",
    "    patient_df = df[df[\"person_id\"] == patient_id].reset_index(drop=True)\n",
    "    return patient_df\n",
    "\n",
    "def get_dataframe_per_visit(df: pd.DataFrame, patient_id: int, visit_id: int) -> pd.DataFrame:\n",
    "    visit_df = df[(df[\"person_id\"] == patient_id) & (df[\"visit_occurrence_id\"] == visit_id)].reset_index(drop=True)\n",
    "    return visit_df\n",
    "\n",
    "def get_unique_patient_id(df: pd.DataFrame) -> list:\n",
    "    return df[\"person_id\"].unique().tolist()\n",
    "\n",
    "def get_unique_visit_id(df: pd.DataFrame) -> list:\n",
    "    return df[\"visit_occurrence_id\"].unique().tolist()\n",
    "\n",
    "def get_trend(value: float) -> int:\n",
    "    if value > 0:\n",
    "        return 1\n",
    "    elif value < 0:\n",
    "        return -1\n",
    "    else:\n",
    "        return 0"
   ]
  },
  {
   "cell_type": "code",
   "execution_count": 7,
   "metadata": {},
   "outputs": [
    {
     "name": "stderr",
     "output_type": "stream",
     "text": [
      "/var/folders/5t/vb6260nn0dd8rm99r3ls2p8h0000gp/T/ipykernel_26007/1270663440.py:2: DtypeWarning: Columns (6,9) have mixed types. Specify dtype option on import or set low_memory=False.\n",
      "  df = pd.read_csv(\n",
      "/var/folders/5t/vb6260nn0dd8rm99r3ls2p8h0000gp/T/ipykernel_26007/1270663440.py:2: DtypeWarning: Columns (11) have mixed types. Specify dtype option on import or set low_memory=False.\n",
      "  df = pd.read_csv(\n"
     ]
    }
   ],
   "source": [
    "concept_file = \"../data/vocabulary_download_v5_all/CONCEPT.csv\"\n",
    "drug_strength_file = \"../data/vocabulary_download_v5_all/DRUG_STRENGTH.csv\"\n",
    "drug_exposure_file = \"../data/drug_exposure.csv\"\n",
    "\n",
    "concept_df = load_csv(filename=concept_file, sep=\"\\t\", parse_dates=[\"valid_start_date\", \"valid_end_date\"])\n",
    "drug_strength_df = load_csv(filename=drug_strength_file, sep=\"\\t\", parse_dates=[\"valid_start_date\", \"valid_end_date\"])\n",
    "drug_exposure_df = pd.read_csv(drug_exposure_file)"
   ]
  },
  {
   "cell_type": "code",
   "execution_count": 8,
   "metadata": {},
   "outputs": [
    {
     "data": {
      "text/plain": [
       "18229"
      ]
     },
     "execution_count": 8,
     "metadata": {},
     "output_type": "execute_result"
    },
    {
     "data": {
      "text/plain": [
       "100"
      ]
     },
     "execution_count": 8,
     "metadata": {},
     "output_type": "execute_result"
    },
    {
     "data": {
      "text/plain": [
       "251"
      ]
     },
     "execution_count": 8,
     "metadata": {},
     "output_type": "execute_result"
    }
   ],
   "source": [
    "drug_exposure_df[\"drug_exposure_id\"].nunique()\n",
    "drug_exposure_df[\"person_id\"].nunique()\n",
    "drug_exposure_df[\"visit_occurrence_id\"].nunique()"
   ]
  },
  {
   "cell_type": "code",
   "execution_count": 9,
   "metadata": {},
   "outputs": [
    {
     "data": {
      "text/html": [
       "<div>\n",
       "<style scoped>\n",
       "    .dataframe tbody tr th:only-of-type {\n",
       "        vertical-align: middle;\n",
       "    }\n",
       "\n",
       "    .dataframe tbody tr th {\n",
       "        vertical-align: top;\n",
       "    }\n",
       "\n",
       "    .dataframe thead th {\n",
       "        text-align: right;\n",
       "    }\n",
       "</style>\n",
       "<table border=\"1\" class=\"dataframe\">\n",
       "  <thead>\n",
       "    <tr style=\"text-align: right;\">\n",
       "      <th></th>\n",
       "      <th>drug_exposure_id</th>\n",
       "      <th>person_id</th>\n",
       "      <th>drug_concept_id</th>\n",
       "      <th>drug_exposure_start_date</th>\n",
       "      <th>drug_exposure_start_datetime</th>\n",
       "      <th>drug_exposure_end_date</th>\n",
       "      <th>drug_exposure_end_datetime</th>\n",
       "      <th>verbatim_end_date</th>\n",
       "      <th>drug_type_concept_id</th>\n",
       "      <th>stop_reason</th>\n",
       "      <th>refills</th>\n",
       "      <th>quantity</th>\n",
       "      <th>days_supply</th>\n",
       "      <th>sig</th>\n",
       "      <th>route_concept_id</th>\n",
       "      <th>lot_number</th>\n",
       "      <th>provider_id</th>\n",
       "      <th>visit_occurrence_id</th>\n",
       "      <th>visit_detail_id</th>\n",
       "      <th>drug_source_value</th>\n",
       "      <th>drug_source_concept_id</th>\n",
       "      <th>route_source_value</th>\n",
       "      <th>dose_unit_source_value</th>\n",
       "    </tr>\n",
       "  </thead>\n",
       "  <tbody>\n",
       "    <tr>\n",
       "      <th>0</th>\n",
       "      <td>294884377115777655</td>\n",
       "      <td>1741351032930224901</td>\n",
       "      <td>40166274</td>\n",
       "      <td>2177-07-16</td>\n",
       "      <td>2177-07-16 22:00:00</td>\n",
       "      <td>2177-07-17</td>\n",
       "      <td>2177-07-17 21:00:00</td>\n",
       "      <td>NaN</td>\n",
       "      <td>32838</td>\n",
       "      <td>NaN</td>\n",
       "      <td>NaN</td>\n",
       "      <td>0.005</td>\n",
       "      <td>NaN</td>\n",
       "      <td>NaN</td>\n",
       "      <td>4142048</td>\n",
       "      <td>NaN</td>\n",
       "      <td>NaN</td>\n",
       "      <td>3736965967695233281</td>\n",
       "      <td>NaN</td>\n",
       "      <td>00002751001</td>\n",
       "      <td>45144375</td>\n",
       "      <td>SC</td>\n",
       "      <td>VIAL</td>\n",
       "    </tr>\n",
       "  </tbody>\n",
       "</table>\n",
       "</div>"
      ],
      "text/plain": [
       "     drug_exposure_id            person_id  drug_concept_id  \\\n",
       "0  294884377115777655  1741351032930224901         40166274   \n",
       "\n",
       "  drug_exposure_start_date drug_exposure_start_datetime  \\\n",
       "0               2177-07-16          2177-07-16 22:00:00   \n",
       "\n",
       "  drug_exposure_end_date drug_exposure_end_datetime  verbatim_end_date  \\\n",
       "0             2177-07-17        2177-07-17 21:00:00                NaN   \n",
       "\n",
       "   drug_type_concept_id  stop_reason  refills  quantity  days_supply  sig  \\\n",
       "0                 32838          NaN      NaN     0.005          NaN  NaN   \n",
       "\n",
       "   route_concept_id  lot_number  provider_id  visit_occurrence_id  \\\n",
       "0           4142048         NaN          NaN  3736965967695233281   \n",
       "\n",
       "   visit_detail_id drug_source_value  drug_source_concept_id  \\\n",
       "0              NaN       00002751001                45144375   \n",
       "\n",
       "  route_source_value dose_unit_source_value  \n",
       "0                 SC                   VIAL  "
      ]
     },
     "execution_count": 9,
     "metadata": {},
     "output_type": "execute_result"
    }
   ],
   "source": [
    "drug_exposure_df.head(1)"
   ]
  },
  {
   "cell_type": "code",
   "execution_count": 27,
   "metadata": {},
   "outputs": [],
   "source": [
    "def preprocess_drug_exposure(df: pd.DataFrame) -> pd.DataFrame:\n",
    "    new_df = df.copy()\n",
    "    columns = [\"drug_exposure_id\", \"person_id\", \"visit_occurrence_id\"]\n",
    "    columns = [col for col in columns if col in new_df.columns]\n",
    "    for col in columns:\n",
    "        unique_values = new_df[col].unique()\n",
    "        map_values = {val: f\"P{i+1:06d}\" for i, val in enumerate(unique_values)}\n",
    "\n",
    "        new_df[col] = new_df[col].map(map_values)\n",
    "    return new_df"
   ]
  },
  {
   "cell_type": "code",
   "execution_count": 10,
   "metadata": {},
   "outputs": [],
   "source": [
    "strength_df = preprocess_drug_strength(drug_df=drug_strength_df, concept_df=concept_df)\n",
    "exposure_df = refining_drug_exposure(drug_df=drug_exposure_df, concept_df=concept_df)\n",
    "\n",
    "final_df = pd.merge(left=exposure_df, left_on=\"drug_concept_id\", right=strength_df, right_on=\"drug_concept_id\", how=\"left\")\n",
    "final_df[\"dose\"] = final_df.apply(lambda x: compute_drug_dose(x), axis=1)"
   ]
  },
  {
   "cell_type": "code",
   "execution_count": 11,
   "metadata": {},
   "outputs": [],
   "source": [
    "persons = get_unique_patient_id(df=final_df)\n",
    "\n",
    "patient_df = get_dataframe_per_patient(df=final_df, patient_id=persons[0])\n",
    "\n",
    "visits = get_unique_visit_id(df=patient_df)\n",
    "\n",
    "visit_df = get_dataframe_per_visit(df=patient_df, patient_id=persons[0], visit_id=visits[0])"
   ]
  },
  {
   "cell_type": "code",
   "execution_count": 12,
   "metadata": {},
   "outputs": [
    {
     "data": {
      "text/html": [
       "<div>\n",
       "<style scoped>\n",
       "    .dataframe tbody tr th:only-of-type {\n",
       "        vertical-align: middle;\n",
       "    }\n",
       "\n",
       "    .dataframe tbody tr th {\n",
       "        vertical-align: top;\n",
       "    }\n",
       "\n",
       "    .dataframe thead th {\n",
       "        text-align: right;\n",
       "    }\n",
       "</style>\n",
       "<table border=\"1\" class=\"dataframe\">\n",
       "  <thead>\n",
       "    <tr style=\"text-align: right;\">\n",
       "      <th></th>\n",
       "      <th>drug_exposure_id</th>\n",
       "      <th>person_id</th>\n",
       "      <th>drug_concept_id</th>\n",
       "      <th>drug_exposure_start_date</th>\n",
       "      <th>drug_exposure_start_datetime</th>\n",
       "      <th>drug_exposure_end_date</th>\n",
       "      <th>drug_exposure_end_datetime</th>\n",
       "      <th>verbatim_end_date</th>\n",
       "      <th>drug_type_concept_id</th>\n",
       "      <th>stop_reason</th>\n",
       "      <th>refills</th>\n",
       "      <th>quantity</th>\n",
       "      <th>days_supply</th>\n",
       "      <th>sig</th>\n",
       "      <th>route_concept_id</th>\n",
       "      <th>lot_number</th>\n",
       "      <th>provider_id</th>\n",
       "      <th>visit_occurrence_id</th>\n",
       "      <th>visit_detail_id</th>\n",
       "      <th>drug_source_value</th>\n",
       "      <th>drug_source_concept_id</th>\n",
       "      <th>route_source_value</th>\n",
       "      <th>dose_unit_source_value</th>\n",
       "      <th>drug_concept_name</th>\n",
       "      <th>drug_domain_id</th>\n",
       "      <th>drug_vocabulary_id</th>\n",
       "      <th>drug_concept_class_id</th>\n",
       "      <th>drug_standard_concept</th>\n",
       "      <th>drug_concept_code</th>\n",
       "      <th>drug_valid_start_date</th>\n",
       "      <th>drug_valid_end_date</th>\n",
       "      <th>drug_invalid_reason</th>\n",
       "      <th>drug_type_concept_name</th>\n",
       "      <th>drug_type_domain_id</th>\n",
       "      <th>drug_type_vocabulary_id</th>\n",
       "      <th>drug_type_concept_class_id</th>\n",
       "      <th>drug_type_standard_concept</th>\n",
       "      <th>drug_type_concept_code</th>\n",
       "      <th>drug_type_valid_start_date</th>\n",
       "      <th>drug_type_valid_end_date</th>\n",
       "      <th>drug_type_invalid_reason</th>\n",
       "      <th>route_concept_name</th>\n",
       "      <th>route_domain_id</th>\n",
       "      <th>route_vocabulary_id</th>\n",
       "      <th>route_concept_class_id</th>\n",
       "      <th>route_standard_concept</th>\n",
       "      <th>route_concept_code</th>\n",
       "      <th>route_valid_start_date</th>\n",
       "      <th>route_valid_end_date</th>\n",
       "      <th>route_invalid_reason</th>\n",
       "      <th>ingredient_concept_id</th>\n",
       "      <th>amount_value</th>\n",
       "      <th>amount_unit_concept_id</th>\n",
       "      <th>numerator_value</th>\n",
       "      <th>numerator_unit_concept_id</th>\n",
       "      <th>denominator_value</th>\n",
       "      <th>denominator_unit_concept_id</th>\n",
       "      <th>box_size</th>\n",
       "      <th>valid_start_date</th>\n",
       "      <th>valid_end_date</th>\n",
       "      <th>invalid_reason</th>\n",
       "      <th>invalid_drug</th>\n",
       "      <th>amount_concept_id</th>\n",
       "      <th>amount_concept_name</th>\n",
       "      <th>amount_domain_id</th>\n",
       "      <th>amount_vocabulary_id</th>\n",
       "      <th>amount_concept_class_id</th>\n",
       "      <th>amount_standard_concept</th>\n",
       "      <th>amount_concept_code</th>\n",
       "      <th>amount_valid_start_date</th>\n",
       "      <th>amount_valid_end_date</th>\n",
       "      <th>amount_invalid_reason</th>\n",
       "      <th>numerator_concept_id</th>\n",
       "      <th>numerator_concept_name</th>\n",
       "      <th>numerator_domain_id</th>\n",
       "      <th>numerator_vocabulary_id</th>\n",
       "      <th>numerator_concept_class_id</th>\n",
       "      <th>numerator_standard_concept</th>\n",
       "      <th>numerator_concept_code</th>\n",
       "      <th>numerator_valid_start_date</th>\n",
       "      <th>numerator_valid_end_date</th>\n",
       "      <th>numerator_invalid_reason</th>\n",
       "      <th>denominator_concept_id</th>\n",
       "      <th>denominator_concept_name</th>\n",
       "      <th>denominator_domain_id</th>\n",
       "      <th>denominator_vocabulary_id</th>\n",
       "      <th>denominator_concept_class_id</th>\n",
       "      <th>denominator_standard_concept</th>\n",
       "      <th>denominator_concept_code</th>\n",
       "      <th>denominator_valid_start_date</th>\n",
       "      <th>denominator_valid_end_date</th>\n",
       "      <th>denominator_invalid_reason</th>\n",
       "      <th>ingredient_concept_name</th>\n",
       "      <th>ingredient_domain_id</th>\n",
       "      <th>ingredient_vocabulary_id</th>\n",
       "      <th>ingredient_concept_class_id</th>\n",
       "      <th>ingredient_standard_concept</th>\n",
       "      <th>ingredient_concept_code</th>\n",
       "      <th>ingredient_valid_start_date</th>\n",
       "      <th>ingredient_valid_end_date</th>\n",
       "      <th>ingredient_invalid_reason</th>\n",
       "      <th>dose</th>\n",
       "    </tr>\n",
       "  </thead>\n",
       "  <tbody>\n",
       "    <tr>\n",
       "      <th>0</th>\n",
       "      <td>294884377115777655</td>\n",
       "      <td>1741351032930224901</td>\n",
       "      <td>40166274</td>\n",
       "      <td>2177-07-16</td>\n",
       "      <td>2177-07-16 22:00:00</td>\n",
       "      <td>2177-07-17</td>\n",
       "      <td>2177-07-17 21:00:00</td>\n",
       "      <td>NaN</td>\n",
       "      <td>32838</td>\n",
       "      <td>NaN</td>\n",
       "      <td>NaN</td>\n",
       "      <td>0.005</td>\n",
       "      <td>NaN</td>\n",
       "      <td>NaN</td>\n",
       "      <td>4142048</td>\n",
       "      <td>NaN</td>\n",
       "      <td>NaN</td>\n",
       "      <td>3736965967695233281</td>\n",
       "      <td>NaN</td>\n",
       "      <td>00002751001</td>\n",
       "      <td>45144375</td>\n",
       "      <td>SC</td>\n",
       "      <td>VIAL</td>\n",
       "      <td>insulin lispro 100 UNT/ML Injectable Solution ...</td>\n",
       "      <td>Drug</td>\n",
       "      <td>RxNorm</td>\n",
       "      <td>Branded Drug</td>\n",
       "      <td>S</td>\n",
       "      <td>865098</td>\n",
       "      <td>2009-10-04</td>\n",
       "      <td>2099-12-31</td>\n",
       "      <td>NaN</td>\n",
       "      <td>EHR prescription</td>\n",
       "      <td>Type Concept</td>\n",
       "      <td>Type Concept</td>\n",
       "      <td>Type Concept</td>\n",
       "      <td>S</td>\n",
       "      <td>OMOP4976911</td>\n",
       "      <td>2020-08-20</td>\n",
       "      <td>2099-12-31</td>\n",
       "      <td>NaN</td>\n",
       "      <td>NaN</td>\n",
       "      <td>NaN</td>\n",
       "      <td>NaN</td>\n",
       "      <td>NaN</td>\n",
       "      <td>NaN</td>\n",
       "      <td>NaN</td>\n",
       "      <td>NaT</td>\n",
       "      <td>NaT</td>\n",
       "      <td>NaN</td>\n",
       "      <td>1550023.0</td>\n",
       "      <td>NaN</td>\n",
       "      <td>NaN</td>\n",
       "      <td>100.0</td>\n",
       "      <td>8510.0</td>\n",
       "      <td>NaN</td>\n",
       "      <td>8587.0</td>\n",
       "      <td>NaN</td>\n",
       "      <td>1970-01-01</td>\n",
       "      <td>2099-12-31</td>\n",
       "      <td>NaN</td>\n",
       "      <td>False</td>\n",
       "      <td>NaN</td>\n",
       "      <td>NaN</td>\n",
       "      <td>NaN</td>\n",
       "      <td>NaN</td>\n",
       "      <td>NaN</td>\n",
       "      <td>NaN</td>\n",
       "      <td>NaN</td>\n",
       "      <td>NaT</td>\n",
       "      <td>NaT</td>\n",
       "      <td>NaN</td>\n",
       "      <td>8510.0</td>\n",
       "      <td>unit</td>\n",
       "      <td>Unit</td>\n",
       "      <td>UCUM</td>\n",
       "      <td>Unit</td>\n",
       "      <td>S</td>\n",
       "      <td>[U]</td>\n",
       "      <td>1970-01-01</td>\n",
       "      <td>2099-12-31</td>\n",
       "      <td>NaN</td>\n",
       "      <td>8587.0</td>\n",
       "      <td>milliliter</td>\n",
       "      <td>Unit</td>\n",
       "      <td>UCUM</td>\n",
       "      <td>Unit</td>\n",
       "      <td>S</td>\n",
       "      <td>mL</td>\n",
       "      <td>1970-01-01</td>\n",
       "      <td>2099-12-31</td>\n",
       "      <td>NaN</td>\n",
       "      <td>insulin lispro</td>\n",
       "      <td>Drug</td>\n",
       "      <td>RxNorm</td>\n",
       "      <td>Ingredient</td>\n",
       "      <td>S</td>\n",
       "      <td>86009</td>\n",
       "      <td>1970-01-01</td>\n",
       "      <td>2099-12-31</td>\n",
       "      <td>NaN</td>\n",
       "      <td>(0.5, 0.5 [U])</td>\n",
       "    </tr>\n",
       "    <tr>\n",
       "      <th>1</th>\n",
       "      <td>-3609243742606366340</td>\n",
       "      <td>1741351032930224901</td>\n",
       "      <td>40166274</td>\n",
       "      <td>2177-07-17</td>\n",
       "      <td>2177-07-17 19:00:00</td>\n",
       "      <td>2177-07-18</td>\n",
       "      <td>2177-07-18 18:00:00</td>\n",
       "      <td>NaN</td>\n",
       "      <td>32838</td>\n",
       "      <td>NaN</td>\n",
       "      <td>NaN</td>\n",
       "      <td>0.014</td>\n",
       "      <td>NaN</td>\n",
       "      <td>NaN</td>\n",
       "      <td>4142048</td>\n",
       "      <td>NaN</td>\n",
       "      <td>NaN</td>\n",
       "      <td>3736965967695233281</td>\n",
       "      <td>NaN</td>\n",
       "      <td>00002751001</td>\n",
       "      <td>45144375</td>\n",
       "      <td>SC</td>\n",
       "      <td>VIAL</td>\n",
       "      <td>insulin lispro 100 UNT/ML Injectable Solution ...</td>\n",
       "      <td>Drug</td>\n",
       "      <td>RxNorm</td>\n",
       "      <td>Branded Drug</td>\n",
       "      <td>S</td>\n",
       "      <td>865098</td>\n",
       "      <td>2009-10-04</td>\n",
       "      <td>2099-12-31</td>\n",
       "      <td>NaN</td>\n",
       "      <td>EHR prescription</td>\n",
       "      <td>Type Concept</td>\n",
       "      <td>Type Concept</td>\n",
       "      <td>Type Concept</td>\n",
       "      <td>S</td>\n",
       "      <td>OMOP4976911</td>\n",
       "      <td>2020-08-20</td>\n",
       "      <td>2099-12-31</td>\n",
       "      <td>NaN</td>\n",
       "      <td>NaN</td>\n",
       "      <td>NaN</td>\n",
       "      <td>NaN</td>\n",
       "      <td>NaN</td>\n",
       "      <td>NaN</td>\n",
       "      <td>NaN</td>\n",
       "      <td>NaT</td>\n",
       "      <td>NaT</td>\n",
       "      <td>NaN</td>\n",
       "      <td>1550023.0</td>\n",
       "      <td>NaN</td>\n",
       "      <td>NaN</td>\n",
       "      <td>100.0</td>\n",
       "      <td>8510.0</td>\n",
       "      <td>NaN</td>\n",
       "      <td>8587.0</td>\n",
       "      <td>NaN</td>\n",
       "      <td>1970-01-01</td>\n",
       "      <td>2099-12-31</td>\n",
       "      <td>NaN</td>\n",
       "      <td>False</td>\n",
       "      <td>NaN</td>\n",
       "      <td>NaN</td>\n",
       "      <td>NaN</td>\n",
       "      <td>NaN</td>\n",
       "      <td>NaN</td>\n",
       "      <td>NaN</td>\n",
       "      <td>NaN</td>\n",
       "      <td>NaT</td>\n",
       "      <td>NaT</td>\n",
       "      <td>NaN</td>\n",
       "      <td>8510.0</td>\n",
       "      <td>unit</td>\n",
       "      <td>Unit</td>\n",
       "      <td>UCUM</td>\n",
       "      <td>Unit</td>\n",
       "      <td>S</td>\n",
       "      <td>[U]</td>\n",
       "      <td>1970-01-01</td>\n",
       "      <td>2099-12-31</td>\n",
       "      <td>NaN</td>\n",
       "      <td>8587.0</td>\n",
       "      <td>milliliter</td>\n",
       "      <td>Unit</td>\n",
       "      <td>UCUM</td>\n",
       "      <td>Unit</td>\n",
       "      <td>S</td>\n",
       "      <td>mL</td>\n",
       "      <td>1970-01-01</td>\n",
       "      <td>2099-12-31</td>\n",
       "      <td>NaN</td>\n",
       "      <td>insulin lispro</td>\n",
       "      <td>Drug</td>\n",
       "      <td>RxNorm</td>\n",
       "      <td>Ingredient</td>\n",
       "      <td>S</td>\n",
       "      <td>86009</td>\n",
       "      <td>1970-01-01</td>\n",
       "      <td>2099-12-31</td>\n",
       "      <td>NaN</td>\n",
       "      <td>(1.4000000000000001, 1.4000000000000001 [U])</td>\n",
       "    </tr>\n",
       "    <tr>\n",
       "      <th>2</th>\n",
       "      <td>-6865345241721388581</td>\n",
       "      <td>1741351032930224901</td>\n",
       "      <td>40166274</td>\n",
       "      <td>2177-07-15</td>\n",
       "      <td>2177-07-15 19:00:00</td>\n",
       "      <td>2177-07-16</td>\n",
       "      <td>2177-07-16 18:00:00</td>\n",
       "      <td>NaN</td>\n",
       "      <td>32838</td>\n",
       "      <td>NaN</td>\n",
       "      <td>NaN</td>\n",
       "      <td>0.012</td>\n",
       "      <td>NaN</td>\n",
       "      <td>NaN</td>\n",
       "      <td>4142048</td>\n",
       "      <td>NaN</td>\n",
       "      <td>NaN</td>\n",
       "      <td>3736965967695233281</td>\n",
       "      <td>NaN</td>\n",
       "      <td>00002751001</td>\n",
       "      <td>45144375</td>\n",
       "      <td>SC</td>\n",
       "      <td>VIAL</td>\n",
       "      <td>insulin lispro 100 UNT/ML Injectable Solution ...</td>\n",
       "      <td>Drug</td>\n",
       "      <td>RxNorm</td>\n",
       "      <td>Branded Drug</td>\n",
       "      <td>S</td>\n",
       "      <td>865098</td>\n",
       "      <td>2009-10-04</td>\n",
       "      <td>2099-12-31</td>\n",
       "      <td>NaN</td>\n",
       "      <td>EHR prescription</td>\n",
       "      <td>Type Concept</td>\n",
       "      <td>Type Concept</td>\n",
       "      <td>Type Concept</td>\n",
       "      <td>S</td>\n",
       "      <td>OMOP4976911</td>\n",
       "      <td>2020-08-20</td>\n",
       "      <td>2099-12-31</td>\n",
       "      <td>NaN</td>\n",
       "      <td>NaN</td>\n",
       "      <td>NaN</td>\n",
       "      <td>NaN</td>\n",
       "      <td>NaN</td>\n",
       "      <td>NaN</td>\n",
       "      <td>NaN</td>\n",
       "      <td>NaT</td>\n",
       "      <td>NaT</td>\n",
       "      <td>NaN</td>\n",
       "      <td>1550023.0</td>\n",
       "      <td>NaN</td>\n",
       "      <td>NaN</td>\n",
       "      <td>100.0</td>\n",
       "      <td>8510.0</td>\n",
       "      <td>NaN</td>\n",
       "      <td>8587.0</td>\n",
       "      <td>NaN</td>\n",
       "      <td>1970-01-01</td>\n",
       "      <td>2099-12-31</td>\n",
       "      <td>NaN</td>\n",
       "      <td>False</td>\n",
       "      <td>NaN</td>\n",
       "      <td>NaN</td>\n",
       "      <td>NaN</td>\n",
       "      <td>NaN</td>\n",
       "      <td>NaN</td>\n",
       "      <td>NaN</td>\n",
       "      <td>NaN</td>\n",
       "      <td>NaT</td>\n",
       "      <td>NaT</td>\n",
       "      <td>NaN</td>\n",
       "      <td>8510.0</td>\n",
       "      <td>unit</td>\n",
       "      <td>Unit</td>\n",
       "      <td>UCUM</td>\n",
       "      <td>Unit</td>\n",
       "      <td>S</td>\n",
       "      <td>[U]</td>\n",
       "      <td>1970-01-01</td>\n",
       "      <td>2099-12-31</td>\n",
       "      <td>NaN</td>\n",
       "      <td>8587.0</td>\n",
       "      <td>milliliter</td>\n",
       "      <td>Unit</td>\n",
       "      <td>UCUM</td>\n",
       "      <td>Unit</td>\n",
       "      <td>S</td>\n",
       "      <td>mL</td>\n",
       "      <td>1970-01-01</td>\n",
       "      <td>2099-12-31</td>\n",
       "      <td>NaN</td>\n",
       "      <td>insulin lispro</td>\n",
       "      <td>Drug</td>\n",
       "      <td>RxNorm</td>\n",
       "      <td>Ingredient</td>\n",
       "      <td>S</td>\n",
       "      <td>86009</td>\n",
       "      <td>1970-01-01</td>\n",
       "      <td>2099-12-31</td>\n",
       "      <td>NaN</td>\n",
       "      <td>(1.2, 1.2 [U])</td>\n",
       "    </tr>\n",
       "    <tr>\n",
       "      <th>3</th>\n",
       "      <td>-826223020394544622</td>\n",
       "      <td>1741351032930224901</td>\n",
       "      <td>40166274</td>\n",
       "      <td>2177-07-21</td>\n",
       "      <td>2177-07-21 22:00:00</td>\n",
       "      <td>2177-07-22</td>\n",
       "      <td>2177-07-22 21:00:00</td>\n",
       "      <td>NaN</td>\n",
       "      <td>32838</td>\n",
       "      <td>NaN</td>\n",
       "      <td>NaN</td>\n",
       "      <td>0.003</td>\n",
       "      <td>NaN</td>\n",
       "      <td>NaN</td>\n",
       "      <td>4142048</td>\n",
       "      <td>NaN</td>\n",
       "      <td>NaN</td>\n",
       "      <td>3736965967695233281</td>\n",
       "      <td>NaN</td>\n",
       "      <td>00002751001</td>\n",
       "      <td>45144375</td>\n",
       "      <td>SC</td>\n",
       "      <td>VIAL</td>\n",
       "      <td>insulin lispro 100 UNT/ML Injectable Solution ...</td>\n",
       "      <td>Drug</td>\n",
       "      <td>RxNorm</td>\n",
       "      <td>Branded Drug</td>\n",
       "      <td>S</td>\n",
       "      <td>865098</td>\n",
       "      <td>2009-10-04</td>\n",
       "      <td>2099-12-31</td>\n",
       "      <td>NaN</td>\n",
       "      <td>EHR prescription</td>\n",
       "      <td>Type Concept</td>\n",
       "      <td>Type Concept</td>\n",
       "      <td>Type Concept</td>\n",
       "      <td>S</td>\n",
       "      <td>OMOP4976911</td>\n",
       "      <td>2020-08-20</td>\n",
       "      <td>2099-12-31</td>\n",
       "      <td>NaN</td>\n",
       "      <td>NaN</td>\n",
       "      <td>NaN</td>\n",
       "      <td>NaN</td>\n",
       "      <td>NaN</td>\n",
       "      <td>NaN</td>\n",
       "      <td>NaN</td>\n",
       "      <td>NaT</td>\n",
       "      <td>NaT</td>\n",
       "      <td>NaN</td>\n",
       "      <td>1550023.0</td>\n",
       "      <td>NaN</td>\n",
       "      <td>NaN</td>\n",
       "      <td>100.0</td>\n",
       "      <td>8510.0</td>\n",
       "      <td>NaN</td>\n",
       "      <td>8587.0</td>\n",
       "      <td>NaN</td>\n",
       "      <td>1970-01-01</td>\n",
       "      <td>2099-12-31</td>\n",
       "      <td>NaN</td>\n",
       "      <td>False</td>\n",
       "      <td>NaN</td>\n",
       "      <td>NaN</td>\n",
       "      <td>NaN</td>\n",
       "      <td>NaN</td>\n",
       "      <td>NaN</td>\n",
       "      <td>NaN</td>\n",
       "      <td>NaN</td>\n",
       "      <td>NaT</td>\n",
       "      <td>NaT</td>\n",
       "      <td>NaN</td>\n",
       "      <td>8510.0</td>\n",
       "      <td>unit</td>\n",
       "      <td>Unit</td>\n",
       "      <td>UCUM</td>\n",
       "      <td>Unit</td>\n",
       "      <td>S</td>\n",
       "      <td>[U]</td>\n",
       "      <td>1970-01-01</td>\n",
       "      <td>2099-12-31</td>\n",
       "      <td>NaN</td>\n",
       "      <td>8587.0</td>\n",
       "      <td>milliliter</td>\n",
       "      <td>Unit</td>\n",
       "      <td>UCUM</td>\n",
       "      <td>Unit</td>\n",
       "      <td>S</td>\n",
       "      <td>mL</td>\n",
       "      <td>1970-01-01</td>\n",
       "      <td>2099-12-31</td>\n",
       "      <td>NaN</td>\n",
       "      <td>insulin lispro</td>\n",
       "      <td>Drug</td>\n",
       "      <td>RxNorm</td>\n",
       "      <td>Ingredient</td>\n",
       "      <td>S</td>\n",
       "      <td>86009</td>\n",
       "      <td>1970-01-01</td>\n",
       "      <td>2099-12-31</td>\n",
       "      <td>NaN</td>\n",
       "      <td>(0.3, 0.3 [U])</td>\n",
       "    </tr>\n",
       "    <tr>\n",
       "      <th>4</th>\n",
       "      <td>2417954811860157314</td>\n",
       "      <td>1741351032930224901</td>\n",
       "      <td>40166274</td>\n",
       "      <td>2177-07-18</td>\n",
       "      <td>2177-07-18 23:00:00</td>\n",
       "      <td>2177-07-19</td>\n",
       "      <td>2177-07-19 22:00:00</td>\n",
       "      <td>NaN</td>\n",
       "      <td>32838</td>\n",
       "      <td>NaN</td>\n",
       "      <td>NaN</td>\n",
       "      <td>0.005</td>\n",
       "      <td>NaN</td>\n",
       "      <td>NaN</td>\n",
       "      <td>4142048</td>\n",
       "      <td>NaN</td>\n",
       "      <td>NaN</td>\n",
       "      <td>3736965967695233281</td>\n",
       "      <td>NaN</td>\n",
       "      <td>00002751001</td>\n",
       "      <td>45144375</td>\n",
       "      <td>SC</td>\n",
       "      <td>VIAL</td>\n",
       "      <td>insulin lispro 100 UNT/ML Injectable Solution ...</td>\n",
       "      <td>Drug</td>\n",
       "      <td>RxNorm</td>\n",
       "      <td>Branded Drug</td>\n",
       "      <td>S</td>\n",
       "      <td>865098</td>\n",
       "      <td>2009-10-04</td>\n",
       "      <td>2099-12-31</td>\n",
       "      <td>NaN</td>\n",
       "      <td>EHR prescription</td>\n",
       "      <td>Type Concept</td>\n",
       "      <td>Type Concept</td>\n",
       "      <td>Type Concept</td>\n",
       "      <td>S</td>\n",
       "      <td>OMOP4976911</td>\n",
       "      <td>2020-08-20</td>\n",
       "      <td>2099-12-31</td>\n",
       "      <td>NaN</td>\n",
       "      <td>NaN</td>\n",
       "      <td>NaN</td>\n",
       "      <td>NaN</td>\n",
       "      <td>NaN</td>\n",
       "      <td>NaN</td>\n",
       "      <td>NaN</td>\n",
       "      <td>NaT</td>\n",
       "      <td>NaT</td>\n",
       "      <td>NaN</td>\n",
       "      <td>1550023.0</td>\n",
       "      <td>NaN</td>\n",
       "      <td>NaN</td>\n",
       "      <td>100.0</td>\n",
       "      <td>8510.0</td>\n",
       "      <td>NaN</td>\n",
       "      <td>8587.0</td>\n",
       "      <td>NaN</td>\n",
       "      <td>1970-01-01</td>\n",
       "      <td>2099-12-31</td>\n",
       "      <td>NaN</td>\n",
       "      <td>False</td>\n",
       "      <td>NaN</td>\n",
       "      <td>NaN</td>\n",
       "      <td>NaN</td>\n",
       "      <td>NaN</td>\n",
       "      <td>NaN</td>\n",
       "      <td>NaN</td>\n",
       "      <td>NaN</td>\n",
       "      <td>NaT</td>\n",
       "      <td>NaT</td>\n",
       "      <td>NaN</td>\n",
       "      <td>8510.0</td>\n",
       "      <td>unit</td>\n",
       "      <td>Unit</td>\n",
       "      <td>UCUM</td>\n",
       "      <td>Unit</td>\n",
       "      <td>S</td>\n",
       "      <td>[U]</td>\n",
       "      <td>1970-01-01</td>\n",
       "      <td>2099-12-31</td>\n",
       "      <td>NaN</td>\n",
       "      <td>8587.0</td>\n",
       "      <td>milliliter</td>\n",
       "      <td>Unit</td>\n",
       "      <td>UCUM</td>\n",
       "      <td>Unit</td>\n",
       "      <td>S</td>\n",
       "      <td>mL</td>\n",
       "      <td>1970-01-01</td>\n",
       "      <td>2099-12-31</td>\n",
       "      <td>NaN</td>\n",
       "      <td>insulin lispro</td>\n",
       "      <td>Drug</td>\n",
       "      <td>RxNorm</td>\n",
       "      <td>Ingredient</td>\n",
       "      <td>S</td>\n",
       "      <td>86009</td>\n",
       "      <td>1970-01-01</td>\n",
       "      <td>2099-12-31</td>\n",
       "      <td>NaN</td>\n",
       "      <td>(0.5, 0.5 [U])</td>\n",
       "    </tr>\n",
       "  </tbody>\n",
       "</table>\n",
       "</div>"
      ],
      "text/plain": [
       "      drug_exposure_id            person_id  drug_concept_id  \\\n",
       "0   294884377115777655  1741351032930224901         40166274   \n",
       "1 -3609243742606366340  1741351032930224901         40166274   \n",
       "2 -6865345241721388581  1741351032930224901         40166274   \n",
       "3  -826223020394544622  1741351032930224901         40166274   \n",
       "4  2417954811860157314  1741351032930224901         40166274   \n",
       "\n",
       "  drug_exposure_start_date drug_exposure_start_datetime  \\\n",
       "0               2177-07-16          2177-07-16 22:00:00   \n",
       "1               2177-07-17          2177-07-17 19:00:00   \n",
       "2               2177-07-15          2177-07-15 19:00:00   \n",
       "3               2177-07-21          2177-07-21 22:00:00   \n",
       "4               2177-07-18          2177-07-18 23:00:00   \n",
       "\n",
       "  drug_exposure_end_date drug_exposure_end_datetime  verbatim_end_date  \\\n",
       "0             2177-07-17        2177-07-17 21:00:00                NaN   \n",
       "1             2177-07-18        2177-07-18 18:00:00                NaN   \n",
       "2             2177-07-16        2177-07-16 18:00:00                NaN   \n",
       "3             2177-07-22        2177-07-22 21:00:00                NaN   \n",
       "4             2177-07-19        2177-07-19 22:00:00                NaN   \n",
       "\n",
       "   drug_type_concept_id  stop_reason  refills  quantity  days_supply  sig  \\\n",
       "0                 32838          NaN      NaN     0.005          NaN  NaN   \n",
       "1                 32838          NaN      NaN     0.014          NaN  NaN   \n",
       "2                 32838          NaN      NaN     0.012          NaN  NaN   \n",
       "3                 32838          NaN      NaN     0.003          NaN  NaN   \n",
       "4                 32838          NaN      NaN     0.005          NaN  NaN   \n",
       "\n",
       "   route_concept_id  lot_number  provider_id  visit_occurrence_id  \\\n",
       "0           4142048         NaN          NaN  3736965967695233281   \n",
       "1           4142048         NaN          NaN  3736965967695233281   \n",
       "2           4142048         NaN          NaN  3736965967695233281   \n",
       "3           4142048         NaN          NaN  3736965967695233281   \n",
       "4           4142048         NaN          NaN  3736965967695233281   \n",
       "\n",
       "   visit_detail_id drug_source_value  drug_source_concept_id  \\\n",
       "0              NaN       00002751001                45144375   \n",
       "1              NaN       00002751001                45144375   \n",
       "2              NaN       00002751001                45144375   \n",
       "3              NaN       00002751001                45144375   \n",
       "4              NaN       00002751001                45144375   \n",
       "\n",
       "  route_source_value dose_unit_source_value  \\\n",
       "0                 SC                   VIAL   \n",
       "1                 SC                   VIAL   \n",
       "2                 SC                   VIAL   \n",
       "3                 SC                   VIAL   \n",
       "4                 SC                   VIAL   \n",
       "\n",
       "                                   drug_concept_name drug_domain_id  \\\n",
       "0  insulin lispro 100 UNT/ML Injectable Solution ...           Drug   \n",
       "1  insulin lispro 100 UNT/ML Injectable Solution ...           Drug   \n",
       "2  insulin lispro 100 UNT/ML Injectable Solution ...           Drug   \n",
       "3  insulin lispro 100 UNT/ML Injectable Solution ...           Drug   \n",
       "4  insulin lispro 100 UNT/ML Injectable Solution ...           Drug   \n",
       "\n",
       "  drug_vocabulary_id drug_concept_class_id drug_standard_concept  \\\n",
       "0             RxNorm          Branded Drug                     S   \n",
       "1             RxNorm          Branded Drug                     S   \n",
       "2             RxNorm          Branded Drug                     S   \n",
       "3             RxNorm          Branded Drug                     S   \n",
       "4             RxNorm          Branded Drug                     S   \n",
       "\n",
       "  drug_concept_code drug_valid_start_date drug_valid_end_date  \\\n",
       "0            865098            2009-10-04          2099-12-31   \n",
       "1            865098            2009-10-04          2099-12-31   \n",
       "2            865098            2009-10-04          2099-12-31   \n",
       "3            865098            2009-10-04          2099-12-31   \n",
       "4            865098            2009-10-04          2099-12-31   \n",
       "\n",
       "  drug_invalid_reason drug_type_concept_name drug_type_domain_id  \\\n",
       "0                 NaN       EHR prescription        Type Concept   \n",
       "1                 NaN       EHR prescription        Type Concept   \n",
       "2                 NaN       EHR prescription        Type Concept   \n",
       "3                 NaN       EHR prescription        Type Concept   \n",
       "4                 NaN       EHR prescription        Type Concept   \n",
       "\n",
       "  drug_type_vocabulary_id drug_type_concept_class_id  \\\n",
       "0            Type Concept               Type Concept   \n",
       "1            Type Concept               Type Concept   \n",
       "2            Type Concept               Type Concept   \n",
       "3            Type Concept               Type Concept   \n",
       "4            Type Concept               Type Concept   \n",
       "\n",
       "  drug_type_standard_concept drug_type_concept_code  \\\n",
       "0                          S            OMOP4976911   \n",
       "1                          S            OMOP4976911   \n",
       "2                          S            OMOP4976911   \n",
       "3                          S            OMOP4976911   \n",
       "4                          S            OMOP4976911   \n",
       "\n",
       "  drug_type_valid_start_date drug_type_valid_end_date  \\\n",
       "0                 2020-08-20               2099-12-31   \n",
       "1                 2020-08-20               2099-12-31   \n",
       "2                 2020-08-20               2099-12-31   \n",
       "3                 2020-08-20               2099-12-31   \n",
       "4                 2020-08-20               2099-12-31   \n",
       "\n",
       "  drug_type_invalid_reason route_concept_name route_domain_id  \\\n",
       "0                      NaN                NaN             NaN   \n",
       "1                      NaN                NaN             NaN   \n",
       "2                      NaN                NaN             NaN   \n",
       "3                      NaN                NaN             NaN   \n",
       "4                      NaN                NaN             NaN   \n",
       "\n",
       "  route_vocabulary_id route_concept_class_id route_standard_concept  \\\n",
       "0                 NaN                    NaN                    NaN   \n",
       "1                 NaN                    NaN                    NaN   \n",
       "2                 NaN                    NaN                    NaN   \n",
       "3                 NaN                    NaN                    NaN   \n",
       "4                 NaN                    NaN                    NaN   \n",
       "\n",
       "  route_concept_code route_valid_start_date route_valid_end_date  \\\n",
       "0                NaN                    NaT                  NaT   \n",
       "1                NaN                    NaT                  NaT   \n",
       "2                NaN                    NaT                  NaT   \n",
       "3                NaN                    NaT                  NaT   \n",
       "4                NaN                    NaT                  NaT   \n",
       "\n",
       "  route_invalid_reason  ingredient_concept_id  amount_value  \\\n",
       "0                  NaN              1550023.0           NaN   \n",
       "1                  NaN              1550023.0           NaN   \n",
       "2                  NaN              1550023.0           NaN   \n",
       "3                  NaN              1550023.0           NaN   \n",
       "4                  NaN              1550023.0           NaN   \n",
       "\n",
       "   amount_unit_concept_id  numerator_value  numerator_unit_concept_id  \\\n",
       "0                     NaN            100.0                     8510.0   \n",
       "1                     NaN            100.0                     8510.0   \n",
       "2                     NaN            100.0                     8510.0   \n",
       "3                     NaN            100.0                     8510.0   \n",
       "4                     NaN            100.0                     8510.0   \n",
       "\n",
       "   denominator_value  denominator_unit_concept_id  box_size valid_start_date  \\\n",
       "0                NaN                       8587.0       NaN       1970-01-01   \n",
       "1                NaN                       8587.0       NaN       1970-01-01   \n",
       "2                NaN                       8587.0       NaN       1970-01-01   \n",
       "3                NaN                       8587.0       NaN       1970-01-01   \n",
       "4                NaN                       8587.0       NaN       1970-01-01   \n",
       "\n",
       "  valid_end_date invalid_reason invalid_drug  amount_concept_id  \\\n",
       "0     2099-12-31            NaN        False                NaN   \n",
       "1     2099-12-31            NaN        False                NaN   \n",
       "2     2099-12-31            NaN        False                NaN   \n",
       "3     2099-12-31            NaN        False                NaN   \n",
       "4     2099-12-31            NaN        False                NaN   \n",
       "\n",
       "  amount_concept_name amount_domain_id amount_vocabulary_id  \\\n",
       "0                 NaN              NaN                  NaN   \n",
       "1                 NaN              NaN                  NaN   \n",
       "2                 NaN              NaN                  NaN   \n",
       "3                 NaN              NaN                  NaN   \n",
       "4                 NaN              NaN                  NaN   \n",
       "\n",
       "  amount_concept_class_id amount_standard_concept amount_concept_code  \\\n",
       "0                     NaN                     NaN                 NaN   \n",
       "1                     NaN                     NaN                 NaN   \n",
       "2                     NaN                     NaN                 NaN   \n",
       "3                     NaN                     NaN                 NaN   \n",
       "4                     NaN                     NaN                 NaN   \n",
       "\n",
       "  amount_valid_start_date amount_valid_end_date amount_invalid_reason  \\\n",
       "0                     NaT                   NaT                   NaN   \n",
       "1                     NaT                   NaT                   NaN   \n",
       "2                     NaT                   NaT                   NaN   \n",
       "3                     NaT                   NaT                   NaN   \n",
       "4                     NaT                   NaT                   NaN   \n",
       "\n",
       "   numerator_concept_id numerator_concept_name numerator_domain_id  \\\n",
       "0                8510.0                   unit                Unit   \n",
       "1                8510.0                   unit                Unit   \n",
       "2                8510.0                   unit                Unit   \n",
       "3                8510.0                   unit                Unit   \n",
       "4                8510.0                   unit                Unit   \n",
       "\n",
       "  numerator_vocabulary_id numerator_concept_class_id  \\\n",
       "0                    UCUM                       Unit   \n",
       "1                    UCUM                       Unit   \n",
       "2                    UCUM                       Unit   \n",
       "3                    UCUM                       Unit   \n",
       "4                    UCUM                       Unit   \n",
       "\n",
       "  numerator_standard_concept numerator_concept_code  \\\n",
       "0                          S                    [U]   \n",
       "1                          S                    [U]   \n",
       "2                          S                    [U]   \n",
       "3                          S                    [U]   \n",
       "4                          S                    [U]   \n",
       "\n",
       "  numerator_valid_start_date numerator_valid_end_date  \\\n",
       "0                 1970-01-01               2099-12-31   \n",
       "1                 1970-01-01               2099-12-31   \n",
       "2                 1970-01-01               2099-12-31   \n",
       "3                 1970-01-01               2099-12-31   \n",
       "4                 1970-01-01               2099-12-31   \n",
       "\n",
       "  numerator_invalid_reason  denominator_concept_id denominator_concept_name  \\\n",
       "0                      NaN                  8587.0               milliliter   \n",
       "1                      NaN                  8587.0               milliliter   \n",
       "2                      NaN                  8587.0               milliliter   \n",
       "3                      NaN                  8587.0               milliliter   \n",
       "4                      NaN                  8587.0               milliliter   \n",
       "\n",
       "  denominator_domain_id denominator_vocabulary_id  \\\n",
       "0                  Unit                      UCUM   \n",
       "1                  Unit                      UCUM   \n",
       "2                  Unit                      UCUM   \n",
       "3                  Unit                      UCUM   \n",
       "4                  Unit                      UCUM   \n",
       "\n",
       "  denominator_concept_class_id denominator_standard_concept  \\\n",
       "0                         Unit                            S   \n",
       "1                         Unit                            S   \n",
       "2                         Unit                            S   \n",
       "3                         Unit                            S   \n",
       "4                         Unit                            S   \n",
       "\n",
       "  denominator_concept_code denominator_valid_start_date  \\\n",
       "0                       mL                   1970-01-01   \n",
       "1                       mL                   1970-01-01   \n",
       "2                       mL                   1970-01-01   \n",
       "3                       mL                   1970-01-01   \n",
       "4                       mL                   1970-01-01   \n",
       "\n",
       "  denominator_valid_end_date denominator_invalid_reason  \\\n",
       "0                 2099-12-31                        NaN   \n",
       "1                 2099-12-31                        NaN   \n",
       "2                 2099-12-31                        NaN   \n",
       "3                 2099-12-31                        NaN   \n",
       "4                 2099-12-31                        NaN   \n",
       "\n",
       "  ingredient_concept_name ingredient_domain_id ingredient_vocabulary_id  \\\n",
       "0          insulin lispro                 Drug                   RxNorm   \n",
       "1          insulin lispro                 Drug                   RxNorm   \n",
       "2          insulin lispro                 Drug                   RxNorm   \n",
       "3          insulin lispro                 Drug                   RxNorm   \n",
       "4          insulin lispro                 Drug                   RxNorm   \n",
       "\n",
       "  ingredient_concept_class_id ingredient_standard_concept  \\\n",
       "0                  Ingredient                           S   \n",
       "1                  Ingredient                           S   \n",
       "2                  Ingredient                           S   \n",
       "3                  Ingredient                           S   \n",
       "4                  Ingredient                           S   \n",
       "\n",
       "  ingredient_concept_code ingredient_valid_start_date  \\\n",
       "0                   86009                  1970-01-01   \n",
       "1                   86009                  1970-01-01   \n",
       "2                   86009                  1970-01-01   \n",
       "3                   86009                  1970-01-01   \n",
       "4                   86009                  1970-01-01   \n",
       "\n",
       "  ingredient_valid_end_date ingredient_invalid_reason  \\\n",
       "0                2099-12-31                       NaN   \n",
       "1                2099-12-31                       NaN   \n",
       "2                2099-12-31                       NaN   \n",
       "3                2099-12-31                       NaN   \n",
       "4                2099-12-31                       NaN   \n",
       "\n",
       "                                           dose  \n",
       "0                                (0.5, 0.5 [U])  \n",
       "1  (1.4000000000000001, 1.4000000000000001 [U])  \n",
       "2                                (1.2, 1.2 [U])  \n",
       "3                                (0.3, 0.3 [U])  \n",
       "4                                (0.5, 0.5 [U])  "
      ]
     },
     "execution_count": 12,
     "metadata": {},
     "output_type": "execute_result"
    }
   ],
   "source": [
    "patient_df.head()"
   ]
  },
  {
   "cell_type": "code",
   "execution_count": 13,
   "metadata": {},
   "outputs": [],
   "source": [
    "import datetime as dt"
   ]
  },
  {
   "cell_type": "code",
   "execution_count": 14,
   "metadata": {},
   "outputs": [],
   "source": [
    "patient_df[\"drug_exposure_start_date\"] = pd.to_datetime(patient_df[\"drug_exposure_start_date\"])\n",
    "patient_df[\"drug_exposure_end_date\"] = pd.to_datetime(patient_df[\"drug_exposure_end_date\"])"
   ]
  },
  {
   "cell_type": "code",
   "execution_count": 15,
   "metadata": {},
   "outputs": [
    {
     "data": {
      "text/html": [
       "<div>\n",
       "<style scoped>\n",
       "    .dataframe tbody tr th:only-of-type {\n",
       "        vertical-align: middle;\n",
       "    }\n",
       "\n",
       "    .dataframe tbody tr th {\n",
       "        vertical-align: top;\n",
       "    }\n",
       "\n",
       "    .dataframe thead th {\n",
       "        text-align: right;\n",
       "    }\n",
       "</style>\n",
       "<table border=\"1\" class=\"dataframe\">\n",
       "  <thead>\n",
       "    <tr style=\"text-align: right;\">\n",
       "      <th></th>\n",
       "      <th>drug_exposure_start_date</th>\n",
       "      <th>drug_exposure_end_date</th>\n",
       "    </tr>\n",
       "  </thead>\n",
       "  <tbody>\n",
       "    <tr>\n",
       "      <th>count</th>\n",
       "      <td>493</td>\n",
       "      <td>493</td>\n",
       "    </tr>\n",
       "    <tr>\n",
       "      <th>mean</th>\n",
       "      <td>2178-10-20 20:12:10.223124480</td>\n",
       "      <td>2178-10-22 21:39:47.829614592</td>\n",
       "    </tr>\n",
       "    <tr>\n",
       "      <th>min</th>\n",
       "      <td>2177-07-14 00:00:00</td>\n",
       "      <td>2177-07-15 00:00:00</td>\n",
       "    </tr>\n",
       "    <tr>\n",
       "      <th>25%</th>\n",
       "      <td>2177-09-04 00:00:00</td>\n",
       "      <td>2177-09-05 00:00:00</td>\n",
       "    </tr>\n",
       "    <tr>\n",
       "      <th>50%</th>\n",
       "      <td>2178-09-29 00:00:00</td>\n",
       "      <td>2178-10-02 00:00:00</td>\n",
       "    </tr>\n",
       "    <tr>\n",
       "      <th>75%</th>\n",
       "      <td>2179-03-30 00:00:00</td>\n",
       "      <td>2179-04-01 00:00:00</td>\n",
       "    </tr>\n",
       "    <tr>\n",
       "      <th>max</th>\n",
       "      <td>2182-05-03 00:00:00</td>\n",
       "      <td>2182-05-03 00:00:00</td>\n",
       "    </tr>\n",
       "  </tbody>\n",
       "</table>\n",
       "</div>"
      ],
      "text/plain": [
       "            drug_exposure_start_date         drug_exposure_end_date\n",
       "count                            493                            493\n",
       "mean   2178-10-20 20:12:10.223124480  2178-10-22 21:39:47.829614592\n",
       "min              2177-07-14 00:00:00            2177-07-15 00:00:00\n",
       "25%              2177-09-04 00:00:00            2177-09-05 00:00:00\n",
       "50%              2178-09-29 00:00:00            2178-10-02 00:00:00\n",
       "75%              2179-03-30 00:00:00            2179-04-01 00:00:00\n",
       "max              2182-05-03 00:00:00            2182-05-03 00:00:00"
      ]
     },
     "execution_count": 15,
     "metadata": {},
     "output_type": "execute_result"
    }
   ],
   "source": [
    "patient_df[[\"drug_exposure_start_date\", \"drug_exposure_end_date\"]].describe()"
   ]
  },
  {
   "cell_type": "code",
   "execution_count": 20,
   "metadata": {},
   "outputs": [
    {
     "data": {
      "text/plain": [
       "(493, 102)"
      ]
     },
     "execution_count": 20,
     "metadata": {},
     "output_type": "execute_result"
    },
    {
     "data": {
      "text/plain": [
       "(493, 105)"
      ]
     },
     "execution_count": 20,
     "metadata": {},
     "output_type": "execute_result"
    }
   ],
   "source": [
    "patient_df.shape\n",
    "visit_df.shape"
   ]
  },
  {
   "cell_type": "code",
   "execution_count": 24,
   "metadata": {},
   "outputs": [
    {
     "data": {
      "text/html": [
       "<div>\n",
       "<style scoped>\n",
       "    .dataframe tbody tr th:only-of-type {\n",
       "        vertical-align: middle;\n",
       "    }\n",
       "\n",
       "    .dataframe tbody tr th {\n",
       "        vertical-align: top;\n",
       "    }\n",
       "\n",
       "    .dataframe thead th {\n",
       "        text-align: right;\n",
       "    }\n",
       "</style>\n",
       "<table border=\"1\" class=\"dataframe\">\n",
       "  <thead>\n",
       "    <tr style=\"text-align: right;\">\n",
       "      <th></th>\n",
       "      <th>drug_exposure_id</th>\n",
       "      <th>person_id</th>\n",
       "      <th>drug_concept_id</th>\n",
       "      <th>drug_exposure_start_date</th>\n",
       "      <th>drug_exposure_start_datetime</th>\n",
       "      <th>drug_exposure_end_date</th>\n",
       "      <th>drug_exposure_end_datetime</th>\n",
       "      <th>verbatim_end_date</th>\n",
       "      <th>drug_type_concept_id</th>\n",
       "      <th>stop_reason</th>\n",
       "      <th>refills</th>\n",
       "      <th>quantity</th>\n",
       "      <th>days_supply</th>\n",
       "      <th>sig</th>\n",
       "      <th>route_concept_id</th>\n",
       "      <th>lot_number</th>\n",
       "      <th>provider_id</th>\n",
       "      <th>visit_occurrence_id</th>\n",
       "      <th>visit_detail_id</th>\n",
       "      <th>drug_source_value</th>\n",
       "      <th>drug_source_concept_id</th>\n",
       "      <th>route_source_value</th>\n",
       "      <th>dose_unit_source_value</th>\n",
       "      <th>drug_concept_name</th>\n",
       "      <th>drug_domain_id</th>\n",
       "      <th>drug_vocabulary_id</th>\n",
       "      <th>drug_concept_class_id</th>\n",
       "      <th>drug_standard_concept</th>\n",
       "      <th>drug_concept_code</th>\n",
       "      <th>drug_valid_start_date</th>\n",
       "      <th>drug_valid_end_date</th>\n",
       "      <th>drug_invalid_reason</th>\n",
       "      <th>drug_type_concept_name</th>\n",
       "      <th>drug_type_domain_id</th>\n",
       "      <th>drug_type_vocabulary_id</th>\n",
       "      <th>drug_type_concept_class_id</th>\n",
       "      <th>drug_type_standard_concept</th>\n",
       "      <th>drug_type_concept_code</th>\n",
       "      <th>drug_type_valid_start_date</th>\n",
       "      <th>drug_type_valid_end_date</th>\n",
       "      <th>drug_type_invalid_reason</th>\n",
       "      <th>route_concept_name</th>\n",
       "      <th>route_domain_id</th>\n",
       "      <th>route_vocabulary_id</th>\n",
       "      <th>route_concept_class_id</th>\n",
       "      <th>route_standard_concept</th>\n",
       "      <th>route_concept_code</th>\n",
       "      <th>route_valid_start_date</th>\n",
       "      <th>route_valid_end_date</th>\n",
       "      <th>route_invalid_reason</th>\n",
       "      <th>ingredient_concept_id</th>\n",
       "      <th>amount_value</th>\n",
       "      <th>amount_unit_concept_id</th>\n",
       "      <th>numerator_value</th>\n",
       "      <th>numerator_unit_concept_id</th>\n",
       "      <th>denominator_value</th>\n",
       "      <th>denominator_unit_concept_id</th>\n",
       "      <th>box_size</th>\n",
       "      <th>valid_start_date</th>\n",
       "      <th>valid_end_date</th>\n",
       "      <th>invalid_reason</th>\n",
       "      <th>invalid_drug</th>\n",
       "      <th>amount_concept_id</th>\n",
       "      <th>amount_concept_name</th>\n",
       "      <th>amount_domain_id</th>\n",
       "      <th>amount_vocabulary_id</th>\n",
       "      <th>amount_concept_class_id</th>\n",
       "      <th>amount_standard_concept</th>\n",
       "      <th>amount_concept_code</th>\n",
       "      <th>amount_valid_start_date</th>\n",
       "      <th>amount_valid_end_date</th>\n",
       "      <th>amount_invalid_reason</th>\n",
       "      <th>numerator_concept_id</th>\n",
       "      <th>numerator_concept_name</th>\n",
       "      <th>numerator_domain_id</th>\n",
       "      <th>numerator_vocabulary_id</th>\n",
       "      <th>numerator_concept_class_id</th>\n",
       "      <th>numerator_standard_concept</th>\n",
       "      <th>numerator_concept_code</th>\n",
       "      <th>numerator_valid_start_date</th>\n",
       "      <th>numerator_valid_end_date</th>\n",
       "      <th>numerator_invalid_reason</th>\n",
       "      <th>denominator_concept_id</th>\n",
       "      <th>denominator_concept_name</th>\n",
       "      <th>denominator_domain_id</th>\n",
       "      <th>denominator_vocabulary_id</th>\n",
       "      <th>denominator_concept_class_id</th>\n",
       "      <th>denominator_standard_concept</th>\n",
       "      <th>denominator_concept_code</th>\n",
       "      <th>denominator_valid_start_date</th>\n",
       "      <th>denominator_valid_end_date</th>\n",
       "      <th>denominator_invalid_reason</th>\n",
       "      <th>ingredient_concept_name</th>\n",
       "      <th>ingredient_domain_id</th>\n",
       "      <th>ingredient_vocabulary_id</th>\n",
       "      <th>ingredient_concept_class_id</th>\n",
       "      <th>ingredient_standard_concept</th>\n",
       "      <th>ingredient_concept_code</th>\n",
       "      <th>ingredient_valid_start_date</th>\n",
       "      <th>ingredient_valid_end_date</th>\n",
       "      <th>ingredient_invalid_reason</th>\n",
       "      <th>dose</th>\n",
       "      <th>quantity_diff</th>\n",
       "      <th>quantity_diff_percentage</th>\n",
       "      <th>quantity_diff_trend</th>\n",
       "    </tr>\n",
       "  </thead>\n",
       "  <tbody>\n",
       "    <tr>\n",
       "      <th>488</th>\n",
       "      <td>1655312397065359440</td>\n",
       "      <td>1741351032930224901</td>\n",
       "      <td>991764</td>\n",
       "      <td>2179-03-31</td>\n",
       "      <td>2179-03-31 11:00:00</td>\n",
       "      <td>2179-04-01</td>\n",
       "      <td>2179-04-01 10:00:00</td>\n",
       "      <td>NaN</td>\n",
       "      <td>32838</td>\n",
       "      <td>NaN</td>\n",
       "      <td>NaN</td>\n",
       "      <td>2.0</td>\n",
       "      <td>NaN</td>\n",
       "      <td>NaN</td>\n",
       "      <td>4132161</td>\n",
       "      <td>NaN</td>\n",
       "      <td>NaN</td>\n",
       "      <td>1448527175232053560</td>\n",
       "      <td>NaN</td>\n",
       "      <td>64980010401</td>\n",
       "      <td>44887654</td>\n",
       "      <td>PO</td>\n",
       "      <td>TAB</td>\n",
       "      <td>potassium phosphate 155 MG / sodium phosphate,...</td>\n",
       "      <td>Drug</td>\n",
       "      <td>RxNorm</td>\n",
       "      <td>Branded Drug</td>\n",
       "      <td>S</td>\n",
       "      <td>656742</td>\n",
       "      <td>2006-11-19</td>\n",
       "      <td>2099-12-31</td>\n",
       "      <td>NaN</td>\n",
       "      <td>EHR prescription</td>\n",
       "      <td>Type Concept</td>\n",
       "      <td>Type Concept</td>\n",
       "      <td>Type Concept</td>\n",
       "      <td>S</td>\n",
       "      <td>OMOP4976911</td>\n",
       "      <td>2020-08-20</td>\n",
       "      <td>2099-12-31</td>\n",
       "      <td>NaN</td>\n",
       "      <td>NaN</td>\n",
       "      <td>NaN</td>\n",
       "      <td>NaN</td>\n",
       "      <td>NaN</td>\n",
       "      <td>NaN</td>\n",
       "      <td>NaN</td>\n",
       "      <td>NaT</td>\n",
       "      <td>NaT</td>\n",
       "      <td>NaN</td>\n",
       "      <td>991710.0</td>\n",
       "      <td>852.0</td>\n",
       "      <td>8576.0</td>\n",
       "      <td>NaN</td>\n",
       "      <td>NaN</td>\n",
       "      <td>NaN</td>\n",
       "      <td>NaN</td>\n",
       "      <td>NaN</td>\n",
       "      <td>1970-01-01</td>\n",
       "      <td>2099-12-31</td>\n",
       "      <td>NaN</td>\n",
       "      <td>False</td>\n",
       "      <td>8576.0</td>\n",
       "      <td>milligram</td>\n",
       "      <td>Unit</td>\n",
       "      <td>UCUM</td>\n",
       "      <td>Unit</td>\n",
       "      <td>S</td>\n",
       "      <td>mg</td>\n",
       "      <td>1970-01-01</td>\n",
       "      <td>2099-12-31</td>\n",
       "      <td>NaN</td>\n",
       "      <td>NaN</td>\n",
       "      <td>NaN</td>\n",
       "      <td>NaN</td>\n",
       "      <td>NaN</td>\n",
       "      <td>NaN</td>\n",
       "      <td>NaN</td>\n",
       "      <td>NaN</td>\n",
       "      <td>NaT</td>\n",
       "      <td>NaT</td>\n",
       "      <td>NaN</td>\n",
       "      <td>NaN</td>\n",
       "      <td>NaN</td>\n",
       "      <td>NaN</td>\n",
       "      <td>NaN</td>\n",
       "      <td>NaN</td>\n",
       "      <td>NaN</td>\n",
       "      <td>NaN</td>\n",
       "      <td>NaT</td>\n",
       "      <td>NaT</td>\n",
       "      <td>NaN</td>\n",
       "      <td>sodium phosphate, dibasic</td>\n",
       "      <td>Drug</td>\n",
       "      <td>RxNorm</td>\n",
       "      <td>Ingredient</td>\n",
       "      <td>S</td>\n",
       "      <td>236719</td>\n",
       "      <td>1970-01-01</td>\n",
       "      <td>2099-12-31</td>\n",
       "      <td>NaN</td>\n",
       "      <td>(None, None)</td>\n",
       "      <td>0.0</td>\n",
       "      <td>0.0</td>\n",
       "      <td>0</td>\n",
       "    </tr>\n",
       "    <tr>\n",
       "      <th>489</th>\n",
       "      <td>1655312397065359440</td>\n",
       "      <td>1741351032930224901</td>\n",
       "      <td>991764</td>\n",
       "      <td>2179-03-31</td>\n",
       "      <td>2179-03-31 11:00:00</td>\n",
       "      <td>2179-04-01</td>\n",
       "      <td>2179-04-01 10:00:00</td>\n",
       "      <td>NaN</td>\n",
       "      <td>32838</td>\n",
       "      <td>NaN</td>\n",
       "      <td>NaN</td>\n",
       "      <td>2.0</td>\n",
       "      <td>NaN</td>\n",
       "      <td>NaN</td>\n",
       "      <td>4132161</td>\n",
       "      <td>NaN</td>\n",
       "      <td>NaN</td>\n",
       "      <td>1448527175232053560</td>\n",
       "      <td>NaN</td>\n",
       "      <td>64980010401</td>\n",
       "      <td>44887654</td>\n",
       "      <td>PO</td>\n",
       "      <td>TAB</td>\n",
       "      <td>potassium phosphate 155 MG / sodium phosphate,...</td>\n",
       "      <td>Drug</td>\n",
       "      <td>RxNorm</td>\n",
       "      <td>Branded Drug</td>\n",
       "      <td>S</td>\n",
       "      <td>656742</td>\n",
       "      <td>2006-11-19</td>\n",
       "      <td>2099-12-31</td>\n",
       "      <td>NaN</td>\n",
       "      <td>EHR prescription</td>\n",
       "      <td>Type Concept</td>\n",
       "      <td>Type Concept</td>\n",
       "      <td>Type Concept</td>\n",
       "      <td>S</td>\n",
       "      <td>OMOP4976911</td>\n",
       "      <td>2020-08-20</td>\n",
       "      <td>2099-12-31</td>\n",
       "      <td>NaN</td>\n",
       "      <td>NaN</td>\n",
       "      <td>NaN</td>\n",
       "      <td>NaN</td>\n",
       "      <td>NaN</td>\n",
       "      <td>NaN</td>\n",
       "      <td>NaN</td>\n",
       "      <td>NaT</td>\n",
       "      <td>NaT</td>\n",
       "      <td>NaN</td>\n",
       "      <td>19027362.0</td>\n",
       "      <td>155.0</td>\n",
       "      <td>8576.0</td>\n",
       "      <td>NaN</td>\n",
       "      <td>NaN</td>\n",
       "      <td>NaN</td>\n",
       "      <td>NaN</td>\n",
       "      <td>NaN</td>\n",
       "      <td>1970-01-01</td>\n",
       "      <td>2099-12-31</td>\n",
       "      <td>NaN</td>\n",
       "      <td>False</td>\n",
       "      <td>8576.0</td>\n",
       "      <td>milligram</td>\n",
       "      <td>Unit</td>\n",
       "      <td>UCUM</td>\n",
       "      <td>Unit</td>\n",
       "      <td>S</td>\n",
       "      <td>mg</td>\n",
       "      <td>1970-01-01</td>\n",
       "      <td>2099-12-31</td>\n",
       "      <td>NaN</td>\n",
       "      <td>NaN</td>\n",
       "      <td>NaN</td>\n",
       "      <td>NaN</td>\n",
       "      <td>NaN</td>\n",
       "      <td>NaN</td>\n",
       "      <td>NaN</td>\n",
       "      <td>NaN</td>\n",
       "      <td>NaT</td>\n",
       "      <td>NaT</td>\n",
       "      <td>NaN</td>\n",
       "      <td>NaN</td>\n",
       "      <td>NaN</td>\n",
       "      <td>NaN</td>\n",
       "      <td>NaN</td>\n",
       "      <td>NaN</td>\n",
       "      <td>NaN</td>\n",
       "      <td>NaN</td>\n",
       "      <td>NaT</td>\n",
       "      <td>NaT</td>\n",
       "      <td>NaN</td>\n",
       "      <td>potassium phosphate</td>\n",
       "      <td>Drug</td>\n",
       "      <td>RxNorm</td>\n",
       "      <td>Ingredient</td>\n",
       "      <td>S</td>\n",
       "      <td>34322</td>\n",
       "      <td>1970-01-01</td>\n",
       "      <td>2099-12-31</td>\n",
       "      <td>NaN</td>\n",
       "      <td>(None, None)</td>\n",
       "      <td>0.0</td>\n",
       "      <td>0.0</td>\n",
       "      <td>0</td>\n",
       "    </tr>\n",
       "    <tr>\n",
       "      <th>490</th>\n",
       "      <td>7964888222981337738</td>\n",
       "      <td>1741351032930224901</td>\n",
       "      <td>991764</td>\n",
       "      <td>2179-04-01</td>\n",
       "      <td>2179-04-01 13:00:00</td>\n",
       "      <td>2179-04-02</td>\n",
       "      <td>2179-04-02 12:00:00</td>\n",
       "      <td>NaN</td>\n",
       "      <td>32838</td>\n",
       "      <td>NaN</td>\n",
       "      <td>NaN</td>\n",
       "      <td>2.0</td>\n",
       "      <td>NaN</td>\n",
       "      <td>NaN</td>\n",
       "      <td>4132161</td>\n",
       "      <td>NaN</td>\n",
       "      <td>NaN</td>\n",
       "      <td>1448527175232053560</td>\n",
       "      <td>NaN</td>\n",
       "      <td>64980010401</td>\n",
       "      <td>44887654</td>\n",
       "      <td>PO</td>\n",
       "      <td>TAB</td>\n",
       "      <td>potassium phosphate 155 MG / sodium phosphate,...</td>\n",
       "      <td>Drug</td>\n",
       "      <td>RxNorm</td>\n",
       "      <td>Branded Drug</td>\n",
       "      <td>S</td>\n",
       "      <td>656742</td>\n",
       "      <td>2006-11-19</td>\n",
       "      <td>2099-12-31</td>\n",
       "      <td>NaN</td>\n",
       "      <td>EHR prescription</td>\n",
       "      <td>Type Concept</td>\n",
       "      <td>Type Concept</td>\n",
       "      <td>Type Concept</td>\n",
       "      <td>S</td>\n",
       "      <td>OMOP4976911</td>\n",
       "      <td>2020-08-20</td>\n",
       "      <td>2099-12-31</td>\n",
       "      <td>NaN</td>\n",
       "      <td>NaN</td>\n",
       "      <td>NaN</td>\n",
       "      <td>NaN</td>\n",
       "      <td>NaN</td>\n",
       "      <td>NaN</td>\n",
       "      <td>NaN</td>\n",
       "      <td>NaT</td>\n",
       "      <td>NaT</td>\n",
       "      <td>NaN</td>\n",
       "      <td>990499.0</td>\n",
       "      <td>130.0</td>\n",
       "      <td>8576.0</td>\n",
       "      <td>NaN</td>\n",
       "      <td>NaN</td>\n",
       "      <td>NaN</td>\n",
       "      <td>NaN</td>\n",
       "      <td>NaN</td>\n",
       "      <td>1970-01-01</td>\n",
       "      <td>2099-12-31</td>\n",
       "      <td>NaN</td>\n",
       "      <td>False</td>\n",
       "      <td>8576.0</td>\n",
       "      <td>milligram</td>\n",
       "      <td>Unit</td>\n",
       "      <td>UCUM</td>\n",
       "      <td>Unit</td>\n",
       "      <td>S</td>\n",
       "      <td>mg</td>\n",
       "      <td>1970-01-01</td>\n",
       "      <td>2099-12-31</td>\n",
       "      <td>NaN</td>\n",
       "      <td>NaN</td>\n",
       "      <td>NaN</td>\n",
       "      <td>NaN</td>\n",
       "      <td>NaN</td>\n",
       "      <td>NaN</td>\n",
       "      <td>NaN</td>\n",
       "      <td>NaN</td>\n",
       "      <td>NaT</td>\n",
       "      <td>NaT</td>\n",
       "      <td>NaN</td>\n",
       "      <td>NaN</td>\n",
       "      <td>NaN</td>\n",
       "      <td>NaN</td>\n",
       "      <td>NaN</td>\n",
       "      <td>NaN</td>\n",
       "      <td>NaN</td>\n",
       "      <td>NaN</td>\n",
       "      <td>NaT</td>\n",
       "      <td>NaT</td>\n",
       "      <td>NaN</td>\n",
       "      <td>sodium phosphate, monobasic</td>\n",
       "      <td>Drug</td>\n",
       "      <td>RxNorm</td>\n",
       "      <td>Ingredient</td>\n",
       "      <td>S</td>\n",
       "      <td>235496</td>\n",
       "      <td>1970-01-01</td>\n",
       "      <td>2099-12-31</td>\n",
       "      <td>NaN</td>\n",
       "      <td>(None, None)</td>\n",
       "      <td>0.0</td>\n",
       "      <td>0.0</td>\n",
       "      <td>0</td>\n",
       "    </tr>\n",
       "    <tr>\n",
       "      <th>491</th>\n",
       "      <td>7964888222981337738</td>\n",
       "      <td>1741351032930224901</td>\n",
       "      <td>991764</td>\n",
       "      <td>2179-04-01</td>\n",
       "      <td>2179-04-01 13:00:00</td>\n",
       "      <td>2179-04-02</td>\n",
       "      <td>2179-04-02 12:00:00</td>\n",
       "      <td>NaN</td>\n",
       "      <td>32838</td>\n",
       "      <td>NaN</td>\n",
       "      <td>NaN</td>\n",
       "      <td>2.0</td>\n",
       "      <td>NaN</td>\n",
       "      <td>NaN</td>\n",
       "      <td>4132161</td>\n",
       "      <td>NaN</td>\n",
       "      <td>NaN</td>\n",
       "      <td>1448527175232053560</td>\n",
       "      <td>NaN</td>\n",
       "      <td>64980010401</td>\n",
       "      <td>44887654</td>\n",
       "      <td>PO</td>\n",
       "      <td>TAB</td>\n",
       "      <td>potassium phosphate 155 MG / sodium phosphate,...</td>\n",
       "      <td>Drug</td>\n",
       "      <td>RxNorm</td>\n",
       "      <td>Branded Drug</td>\n",
       "      <td>S</td>\n",
       "      <td>656742</td>\n",
       "      <td>2006-11-19</td>\n",
       "      <td>2099-12-31</td>\n",
       "      <td>NaN</td>\n",
       "      <td>EHR prescription</td>\n",
       "      <td>Type Concept</td>\n",
       "      <td>Type Concept</td>\n",
       "      <td>Type Concept</td>\n",
       "      <td>S</td>\n",
       "      <td>OMOP4976911</td>\n",
       "      <td>2020-08-20</td>\n",
       "      <td>2099-12-31</td>\n",
       "      <td>NaN</td>\n",
       "      <td>NaN</td>\n",
       "      <td>NaN</td>\n",
       "      <td>NaN</td>\n",
       "      <td>NaN</td>\n",
       "      <td>NaN</td>\n",
       "      <td>NaN</td>\n",
       "      <td>NaT</td>\n",
       "      <td>NaT</td>\n",
       "      <td>NaN</td>\n",
       "      <td>991710.0</td>\n",
       "      <td>852.0</td>\n",
       "      <td>8576.0</td>\n",
       "      <td>NaN</td>\n",
       "      <td>NaN</td>\n",
       "      <td>NaN</td>\n",
       "      <td>NaN</td>\n",
       "      <td>NaN</td>\n",
       "      <td>1970-01-01</td>\n",
       "      <td>2099-12-31</td>\n",
       "      <td>NaN</td>\n",
       "      <td>False</td>\n",
       "      <td>8576.0</td>\n",
       "      <td>milligram</td>\n",
       "      <td>Unit</td>\n",
       "      <td>UCUM</td>\n",
       "      <td>Unit</td>\n",
       "      <td>S</td>\n",
       "      <td>mg</td>\n",
       "      <td>1970-01-01</td>\n",
       "      <td>2099-12-31</td>\n",
       "      <td>NaN</td>\n",
       "      <td>NaN</td>\n",
       "      <td>NaN</td>\n",
       "      <td>NaN</td>\n",
       "      <td>NaN</td>\n",
       "      <td>NaN</td>\n",
       "      <td>NaN</td>\n",
       "      <td>NaN</td>\n",
       "      <td>NaT</td>\n",
       "      <td>NaT</td>\n",
       "      <td>NaN</td>\n",
       "      <td>NaN</td>\n",
       "      <td>NaN</td>\n",
       "      <td>NaN</td>\n",
       "      <td>NaN</td>\n",
       "      <td>NaN</td>\n",
       "      <td>NaN</td>\n",
       "      <td>NaN</td>\n",
       "      <td>NaT</td>\n",
       "      <td>NaT</td>\n",
       "      <td>NaN</td>\n",
       "      <td>sodium phosphate, dibasic</td>\n",
       "      <td>Drug</td>\n",
       "      <td>RxNorm</td>\n",
       "      <td>Ingredient</td>\n",
       "      <td>S</td>\n",
       "      <td>236719</td>\n",
       "      <td>1970-01-01</td>\n",
       "      <td>2099-12-31</td>\n",
       "      <td>NaN</td>\n",
       "      <td>(None, None)</td>\n",
       "      <td>0.0</td>\n",
       "      <td>0.0</td>\n",
       "      <td>0</td>\n",
       "    </tr>\n",
       "    <tr>\n",
       "      <th>492</th>\n",
       "      <td>7964888222981337738</td>\n",
       "      <td>1741351032930224901</td>\n",
       "      <td>991764</td>\n",
       "      <td>2179-04-01</td>\n",
       "      <td>2179-04-01 13:00:00</td>\n",
       "      <td>2179-04-02</td>\n",
       "      <td>2179-04-02 12:00:00</td>\n",
       "      <td>NaN</td>\n",
       "      <td>32838</td>\n",
       "      <td>NaN</td>\n",
       "      <td>NaN</td>\n",
       "      <td>2.0</td>\n",
       "      <td>NaN</td>\n",
       "      <td>NaN</td>\n",
       "      <td>4132161</td>\n",
       "      <td>NaN</td>\n",
       "      <td>NaN</td>\n",
       "      <td>1448527175232053560</td>\n",
       "      <td>NaN</td>\n",
       "      <td>64980010401</td>\n",
       "      <td>44887654</td>\n",
       "      <td>PO</td>\n",
       "      <td>TAB</td>\n",
       "      <td>potassium phosphate 155 MG / sodium phosphate,...</td>\n",
       "      <td>Drug</td>\n",
       "      <td>RxNorm</td>\n",
       "      <td>Branded Drug</td>\n",
       "      <td>S</td>\n",
       "      <td>656742</td>\n",
       "      <td>2006-11-19</td>\n",
       "      <td>2099-12-31</td>\n",
       "      <td>NaN</td>\n",
       "      <td>EHR prescription</td>\n",
       "      <td>Type Concept</td>\n",
       "      <td>Type Concept</td>\n",
       "      <td>Type Concept</td>\n",
       "      <td>S</td>\n",
       "      <td>OMOP4976911</td>\n",
       "      <td>2020-08-20</td>\n",
       "      <td>2099-12-31</td>\n",
       "      <td>NaN</td>\n",
       "      <td>NaN</td>\n",
       "      <td>NaN</td>\n",
       "      <td>NaN</td>\n",
       "      <td>NaN</td>\n",
       "      <td>NaN</td>\n",
       "      <td>NaN</td>\n",
       "      <td>NaT</td>\n",
       "      <td>NaT</td>\n",
       "      <td>NaN</td>\n",
       "      <td>19027362.0</td>\n",
       "      <td>155.0</td>\n",
       "      <td>8576.0</td>\n",
       "      <td>NaN</td>\n",
       "      <td>NaN</td>\n",
       "      <td>NaN</td>\n",
       "      <td>NaN</td>\n",
       "      <td>NaN</td>\n",
       "      <td>1970-01-01</td>\n",
       "      <td>2099-12-31</td>\n",
       "      <td>NaN</td>\n",
       "      <td>False</td>\n",
       "      <td>8576.0</td>\n",
       "      <td>milligram</td>\n",
       "      <td>Unit</td>\n",
       "      <td>UCUM</td>\n",
       "      <td>Unit</td>\n",
       "      <td>S</td>\n",
       "      <td>mg</td>\n",
       "      <td>1970-01-01</td>\n",
       "      <td>2099-12-31</td>\n",
       "      <td>NaN</td>\n",
       "      <td>NaN</td>\n",
       "      <td>NaN</td>\n",
       "      <td>NaN</td>\n",
       "      <td>NaN</td>\n",
       "      <td>NaN</td>\n",
       "      <td>NaN</td>\n",
       "      <td>NaN</td>\n",
       "      <td>NaT</td>\n",
       "      <td>NaT</td>\n",
       "      <td>NaN</td>\n",
       "      <td>NaN</td>\n",
       "      <td>NaN</td>\n",
       "      <td>NaN</td>\n",
       "      <td>NaN</td>\n",
       "      <td>NaN</td>\n",
       "      <td>NaN</td>\n",
       "      <td>NaN</td>\n",
       "      <td>NaT</td>\n",
       "      <td>NaT</td>\n",
       "      <td>NaN</td>\n",
       "      <td>potassium phosphate</td>\n",
       "      <td>Drug</td>\n",
       "      <td>RxNorm</td>\n",
       "      <td>Ingredient</td>\n",
       "      <td>S</td>\n",
       "      <td>34322</td>\n",
       "      <td>1970-01-01</td>\n",
       "      <td>2099-12-31</td>\n",
       "      <td>NaN</td>\n",
       "      <td>(None, None)</td>\n",
       "      <td>0.0</td>\n",
       "      <td>0.0</td>\n",
       "      <td>0</td>\n",
       "    </tr>\n",
       "  </tbody>\n",
       "</table>\n",
       "</div>"
      ],
      "text/plain": [
       "        drug_exposure_id            person_id drug_concept_id  \\\n",
       "488  1655312397065359440  1741351032930224901          991764   \n",
       "489  1655312397065359440  1741351032930224901          991764   \n",
       "490  7964888222981337738  1741351032930224901          991764   \n",
       "491  7964888222981337738  1741351032930224901          991764   \n",
       "492  7964888222981337738  1741351032930224901          991764   \n",
       "\n",
       "    drug_exposure_start_date drug_exposure_start_datetime  \\\n",
       "488               2179-03-31          2179-03-31 11:00:00   \n",
       "489               2179-03-31          2179-03-31 11:00:00   \n",
       "490               2179-04-01          2179-04-01 13:00:00   \n",
       "491               2179-04-01          2179-04-01 13:00:00   \n",
       "492               2179-04-01          2179-04-01 13:00:00   \n",
       "\n",
       "    drug_exposure_end_date drug_exposure_end_datetime  verbatim_end_date  \\\n",
       "488             2179-04-01        2179-04-01 10:00:00                NaN   \n",
       "489             2179-04-01        2179-04-01 10:00:00                NaN   \n",
       "490             2179-04-02        2179-04-02 12:00:00                NaN   \n",
       "491             2179-04-02        2179-04-02 12:00:00                NaN   \n",
       "492             2179-04-02        2179-04-02 12:00:00                NaN   \n",
       "\n",
       "     drug_type_concept_id  stop_reason  refills  quantity  days_supply  sig  \\\n",
       "488                 32838          NaN      NaN       2.0          NaN  NaN   \n",
       "489                 32838          NaN      NaN       2.0          NaN  NaN   \n",
       "490                 32838          NaN      NaN       2.0          NaN  NaN   \n",
       "491                 32838          NaN      NaN       2.0          NaN  NaN   \n",
       "492                 32838          NaN      NaN       2.0          NaN  NaN   \n",
       "\n",
       "     route_concept_id  lot_number  provider_id  visit_occurrence_id  \\\n",
       "488           4132161         NaN          NaN  1448527175232053560   \n",
       "489           4132161         NaN          NaN  1448527175232053560   \n",
       "490           4132161         NaN          NaN  1448527175232053560   \n",
       "491           4132161         NaN          NaN  1448527175232053560   \n",
       "492           4132161         NaN          NaN  1448527175232053560   \n",
       "\n",
       "     visit_detail_id drug_source_value  drug_source_concept_id  \\\n",
       "488              NaN       64980010401                44887654   \n",
       "489              NaN       64980010401                44887654   \n",
       "490              NaN       64980010401                44887654   \n",
       "491              NaN       64980010401                44887654   \n",
       "492              NaN       64980010401                44887654   \n",
       "\n",
       "    route_source_value dose_unit_source_value  \\\n",
       "488                 PO                    TAB   \n",
       "489                 PO                    TAB   \n",
       "490                 PO                    TAB   \n",
       "491                 PO                    TAB   \n",
       "492                 PO                    TAB   \n",
       "\n",
       "                                     drug_concept_name drug_domain_id  \\\n",
       "488  potassium phosphate 155 MG / sodium phosphate,...           Drug   \n",
       "489  potassium phosphate 155 MG / sodium phosphate,...           Drug   \n",
       "490  potassium phosphate 155 MG / sodium phosphate,...           Drug   \n",
       "491  potassium phosphate 155 MG / sodium phosphate,...           Drug   \n",
       "492  potassium phosphate 155 MG / sodium phosphate,...           Drug   \n",
       "\n",
       "    drug_vocabulary_id drug_concept_class_id drug_standard_concept  \\\n",
       "488             RxNorm          Branded Drug                     S   \n",
       "489             RxNorm          Branded Drug                     S   \n",
       "490             RxNorm          Branded Drug                     S   \n",
       "491             RxNorm          Branded Drug                     S   \n",
       "492             RxNorm          Branded Drug                     S   \n",
       "\n",
       "    drug_concept_code drug_valid_start_date drug_valid_end_date  \\\n",
       "488            656742            2006-11-19          2099-12-31   \n",
       "489            656742            2006-11-19          2099-12-31   \n",
       "490            656742            2006-11-19          2099-12-31   \n",
       "491            656742            2006-11-19          2099-12-31   \n",
       "492            656742            2006-11-19          2099-12-31   \n",
       "\n",
       "    drug_invalid_reason drug_type_concept_name drug_type_domain_id  \\\n",
       "488                 NaN       EHR prescription        Type Concept   \n",
       "489                 NaN       EHR prescription        Type Concept   \n",
       "490                 NaN       EHR prescription        Type Concept   \n",
       "491                 NaN       EHR prescription        Type Concept   \n",
       "492                 NaN       EHR prescription        Type Concept   \n",
       "\n",
       "    drug_type_vocabulary_id drug_type_concept_class_id  \\\n",
       "488            Type Concept               Type Concept   \n",
       "489            Type Concept               Type Concept   \n",
       "490            Type Concept               Type Concept   \n",
       "491            Type Concept               Type Concept   \n",
       "492            Type Concept               Type Concept   \n",
       "\n",
       "    drug_type_standard_concept drug_type_concept_code  \\\n",
       "488                          S            OMOP4976911   \n",
       "489                          S            OMOP4976911   \n",
       "490                          S            OMOP4976911   \n",
       "491                          S            OMOP4976911   \n",
       "492                          S            OMOP4976911   \n",
       "\n",
       "    drug_type_valid_start_date drug_type_valid_end_date  \\\n",
       "488                 2020-08-20               2099-12-31   \n",
       "489                 2020-08-20               2099-12-31   \n",
       "490                 2020-08-20               2099-12-31   \n",
       "491                 2020-08-20               2099-12-31   \n",
       "492                 2020-08-20               2099-12-31   \n",
       "\n",
       "    drug_type_invalid_reason route_concept_name route_domain_id  \\\n",
       "488                      NaN                NaN             NaN   \n",
       "489                      NaN                NaN             NaN   \n",
       "490                      NaN                NaN             NaN   \n",
       "491                      NaN                NaN             NaN   \n",
       "492                      NaN                NaN             NaN   \n",
       "\n",
       "    route_vocabulary_id route_concept_class_id route_standard_concept  \\\n",
       "488                 NaN                    NaN                    NaN   \n",
       "489                 NaN                    NaN                    NaN   \n",
       "490                 NaN                    NaN                    NaN   \n",
       "491                 NaN                    NaN                    NaN   \n",
       "492                 NaN                    NaN                    NaN   \n",
       "\n",
       "    route_concept_code route_valid_start_date route_valid_end_date  \\\n",
       "488                NaN                    NaT                  NaT   \n",
       "489                NaN                    NaT                  NaT   \n",
       "490                NaN                    NaT                  NaT   \n",
       "491                NaN                    NaT                  NaT   \n",
       "492                NaN                    NaT                  NaT   \n",
       "\n",
       "    route_invalid_reason  ingredient_concept_id  amount_value  \\\n",
       "488                  NaN               991710.0         852.0   \n",
       "489                  NaN             19027362.0         155.0   \n",
       "490                  NaN               990499.0         130.0   \n",
       "491                  NaN               991710.0         852.0   \n",
       "492                  NaN             19027362.0         155.0   \n",
       "\n",
       "     amount_unit_concept_id  numerator_value  numerator_unit_concept_id  \\\n",
       "488                  8576.0              NaN                        NaN   \n",
       "489                  8576.0              NaN                        NaN   \n",
       "490                  8576.0              NaN                        NaN   \n",
       "491                  8576.0              NaN                        NaN   \n",
       "492                  8576.0              NaN                        NaN   \n",
       "\n",
       "     denominator_value  denominator_unit_concept_id  box_size  \\\n",
       "488                NaN                          NaN       NaN   \n",
       "489                NaN                          NaN       NaN   \n",
       "490                NaN                          NaN       NaN   \n",
       "491                NaN                          NaN       NaN   \n",
       "492                NaN                          NaN       NaN   \n",
       "\n",
       "    valid_start_date valid_end_date invalid_reason invalid_drug  \\\n",
       "488       1970-01-01     2099-12-31            NaN        False   \n",
       "489       1970-01-01     2099-12-31            NaN        False   \n",
       "490       1970-01-01     2099-12-31            NaN        False   \n",
       "491       1970-01-01     2099-12-31            NaN        False   \n",
       "492       1970-01-01     2099-12-31            NaN        False   \n",
       "\n",
       "     amount_concept_id amount_concept_name amount_domain_id  \\\n",
       "488             8576.0           milligram             Unit   \n",
       "489             8576.0           milligram             Unit   \n",
       "490             8576.0           milligram             Unit   \n",
       "491             8576.0           milligram             Unit   \n",
       "492             8576.0           milligram             Unit   \n",
       "\n",
       "    amount_vocabulary_id amount_concept_class_id amount_standard_concept  \\\n",
       "488                 UCUM                    Unit                       S   \n",
       "489                 UCUM                    Unit                       S   \n",
       "490                 UCUM                    Unit                       S   \n",
       "491                 UCUM                    Unit                       S   \n",
       "492                 UCUM                    Unit                       S   \n",
       "\n",
       "    amount_concept_code amount_valid_start_date amount_valid_end_date  \\\n",
       "488                  mg              1970-01-01            2099-12-31   \n",
       "489                  mg              1970-01-01            2099-12-31   \n",
       "490                  mg              1970-01-01            2099-12-31   \n",
       "491                  mg              1970-01-01            2099-12-31   \n",
       "492                  mg              1970-01-01            2099-12-31   \n",
       "\n",
       "    amount_invalid_reason  numerator_concept_id numerator_concept_name  \\\n",
       "488                   NaN                   NaN                    NaN   \n",
       "489                   NaN                   NaN                    NaN   \n",
       "490                   NaN                   NaN                    NaN   \n",
       "491                   NaN                   NaN                    NaN   \n",
       "492                   NaN                   NaN                    NaN   \n",
       "\n",
       "    numerator_domain_id numerator_vocabulary_id numerator_concept_class_id  \\\n",
       "488                 NaN                     NaN                        NaN   \n",
       "489                 NaN                     NaN                        NaN   \n",
       "490                 NaN                     NaN                        NaN   \n",
       "491                 NaN                     NaN                        NaN   \n",
       "492                 NaN                     NaN                        NaN   \n",
       "\n",
       "    numerator_standard_concept numerator_concept_code  \\\n",
       "488                        NaN                    NaN   \n",
       "489                        NaN                    NaN   \n",
       "490                        NaN                    NaN   \n",
       "491                        NaN                    NaN   \n",
       "492                        NaN                    NaN   \n",
       "\n",
       "    numerator_valid_start_date numerator_valid_end_date  \\\n",
       "488                        NaT                      NaT   \n",
       "489                        NaT                      NaT   \n",
       "490                        NaT                      NaT   \n",
       "491                        NaT                      NaT   \n",
       "492                        NaT                      NaT   \n",
       "\n",
       "    numerator_invalid_reason  denominator_concept_id denominator_concept_name  \\\n",
       "488                      NaN                     NaN                      NaN   \n",
       "489                      NaN                     NaN                      NaN   \n",
       "490                      NaN                     NaN                      NaN   \n",
       "491                      NaN                     NaN                      NaN   \n",
       "492                      NaN                     NaN                      NaN   \n",
       "\n",
       "    denominator_domain_id denominator_vocabulary_id  \\\n",
       "488                   NaN                       NaN   \n",
       "489                   NaN                       NaN   \n",
       "490                   NaN                       NaN   \n",
       "491                   NaN                       NaN   \n",
       "492                   NaN                       NaN   \n",
       "\n",
       "    denominator_concept_class_id denominator_standard_concept  \\\n",
       "488                          NaN                          NaN   \n",
       "489                          NaN                          NaN   \n",
       "490                          NaN                          NaN   \n",
       "491                          NaN                          NaN   \n",
       "492                          NaN                          NaN   \n",
       "\n",
       "    denominator_concept_code denominator_valid_start_date  \\\n",
       "488                      NaN                          NaT   \n",
       "489                      NaN                          NaT   \n",
       "490                      NaN                          NaT   \n",
       "491                      NaN                          NaT   \n",
       "492                      NaN                          NaT   \n",
       "\n",
       "    denominator_valid_end_date denominator_invalid_reason  \\\n",
       "488                        NaT                        NaN   \n",
       "489                        NaT                        NaN   \n",
       "490                        NaT                        NaN   \n",
       "491                        NaT                        NaN   \n",
       "492                        NaT                        NaN   \n",
       "\n",
       "         ingredient_concept_name ingredient_domain_id  \\\n",
       "488    sodium phosphate, dibasic                 Drug   \n",
       "489          potassium phosphate                 Drug   \n",
       "490  sodium phosphate, monobasic                 Drug   \n",
       "491    sodium phosphate, dibasic                 Drug   \n",
       "492          potassium phosphate                 Drug   \n",
       "\n",
       "    ingredient_vocabulary_id ingredient_concept_class_id  \\\n",
       "488                   RxNorm                  Ingredient   \n",
       "489                   RxNorm                  Ingredient   \n",
       "490                   RxNorm                  Ingredient   \n",
       "491                   RxNorm                  Ingredient   \n",
       "492                   RxNorm                  Ingredient   \n",
       "\n",
       "    ingredient_standard_concept ingredient_concept_code  \\\n",
       "488                           S                  236719   \n",
       "489                           S                   34322   \n",
       "490                           S                  235496   \n",
       "491                           S                  236719   \n",
       "492                           S                   34322   \n",
       "\n",
       "    ingredient_valid_start_date ingredient_valid_end_date  \\\n",
       "488                  1970-01-01                2099-12-31   \n",
       "489                  1970-01-01                2099-12-31   \n",
       "490                  1970-01-01                2099-12-31   \n",
       "491                  1970-01-01                2099-12-31   \n",
       "492                  1970-01-01                2099-12-31   \n",
       "\n",
       "    ingredient_invalid_reason          dose  quantity_diff  \\\n",
       "488                       NaN  (None, None)            0.0   \n",
       "489                       NaN  (None, None)            0.0   \n",
       "490                       NaN  (None, None)            0.0   \n",
       "491                       NaN  (None, None)            0.0   \n",
       "492                       NaN  (None, None)            0.0   \n",
       "\n",
       "     quantity_diff_percentage  quantity_diff_trend  \n",
       "488                       0.0                    0  \n",
       "489                       0.0                    0  \n",
       "490                       0.0                    0  \n",
       "491                       0.0                    0  \n",
       "492                       0.0                    0  "
      ]
     },
     "execution_count": 24,
     "metadata": {},
     "output_type": "execute_result"
    }
   ],
   "source": [
    "visit_df.tail()"
   ]
  },
  {
   "cell_type": "code",
   "execution_count": 23,
   "metadata": {},
   "outputs": [
    {
     "data": {
      "text/plain": [
       "99"
      ]
     },
     "execution_count": 23,
     "metadata": {},
     "output_type": "execute_result"
    }
   ],
   "source": [
    "visit_df[\"drug_concept_name\"].nunique()"
   ]
  },
  {
   "cell_type": "code",
   "execution_count": 25,
   "metadata": {},
   "outputs": [
    {
     "data": {
      "application/vnd.plotly.v1+json": {
       "config": {
        "plotlyServerURL": "https://plot.ly"
       },
       "data": [
        {
         "alignmentgroup": "True",
         "base": [
          "2177-07-15T00:00:00",
          "2177-09-04T00:00:00",
          "2182-04-29T00:00:00",
          "2177-12-22T00:00:00",
          "2178-09-29T00:00:00",
          "2178-09-29T00:00:00",
          "2178-12-21T00:00:00",
          "2179-04-02T00:00:00",
          "2177-12-22T00:00:00",
          "2178-09-29T00:00:00",
          "2178-12-21T00:00:00",
          "2179-07-25T00:00:00",
          "2177-07-15T00:00:00",
          "2177-09-04T00:00:00",
          "2177-09-04T00:00:00",
          "2177-12-22T00:00:00",
          "2178-09-29T00:00:00",
          "2178-12-22T00:00:00",
          "2179-03-28T00:00:00",
          "2179-07-25T00:00:00",
          "2182-05-02T00:00:00",
          "2178-12-21T00:00:00",
          "2178-12-21T00:00:00",
          "2178-12-21T00:00:00",
          "2177-07-15T00:00:00",
          "2177-09-04T00:00:00",
          "2178-09-29T00:00:00",
          "2178-12-22T00:00:00",
          "2179-07-25T00:00:00",
          "2177-07-20T00:00:00",
          "2177-07-20T00:00:00",
          "2177-07-21T00:00:00",
          "2177-07-21T00:00:00",
          "2177-07-22T00:00:00",
          "2177-07-22T00:00:00",
          "2177-07-23T00:00:00",
          "2177-07-23T00:00:00",
          "2177-09-05T00:00:00",
          "2177-09-05T00:00:00",
          "2177-09-05T00:00:00",
          "2177-09-05T00:00:00",
          "2177-09-06T00:00:00",
          "2177-09-06T00:00:00",
          "2177-09-06T00:00:00",
          "2177-09-06T00:00:00",
          "2182-05-01T00:00:00",
          "2177-07-15T00:00:00",
          "2177-09-04T00:00:00",
          "2177-07-15T00:00:00",
          "2177-07-15T00:00:00",
          "2177-09-04T00:00:00",
          "2177-12-22T00:00:00",
          "2178-09-29T00:00:00",
          "2178-12-21T00:00:00",
          "2179-03-27T00:00:00",
          "2179-07-25T00:00:00",
          "2182-04-29T00:00:00",
          "2177-07-15T00:00:00",
          "2177-09-04T00:00:00",
          "2177-12-22T00:00:00",
          "2178-09-29T00:00:00",
          "2178-12-21T00:00:00",
          "2179-03-27T00:00:00",
          "2179-07-25T00:00:00",
          "2182-04-29T00:00:00",
          "2177-07-15T00:00:00",
          "2177-07-15T00:00:00",
          "2179-03-30T00:00:00",
          "2179-03-30T00:00:00",
          "2179-03-30T00:00:00",
          "2179-03-30T00:00:00",
          "2179-03-30T00:00:00",
          "2179-03-30T00:00:00",
          "2179-03-31T00:00:00",
          "2179-03-31T00:00:00",
          "2177-07-15T00:00:00",
          "2177-07-15T00:00:00",
          "2177-07-16T00:00:00",
          "2177-07-17T00:00:00",
          "2177-07-17T00:00:00",
          "2177-07-18T00:00:00",
          "2177-07-19T00:00:00",
          "2177-07-19T00:00:00",
          "2177-07-20T00:00:00",
          "2177-07-21T00:00:00",
          "2177-07-22T00:00:00",
          "2177-07-23T00:00:00",
          "2177-09-04T00:00:00",
          "2177-09-04T00:00:00",
          "2177-09-05T00:00:00",
          "2177-09-05T00:00:00",
          "2177-09-06T00:00:00",
          "2182-05-03T00:00:00",
          "2182-04-29T00:00:00",
          "2177-07-15T00:00:00",
          "2182-05-01T00:00:00",
          "2177-07-14T00:00:00",
          "2177-07-15T00:00:00",
          "2177-07-15T00:00:00",
          "2177-07-15T00:00:00",
          "2177-07-15T00:00:00",
          "2179-04-03T00:00:00",
          "2179-03-28T00:00:00",
          "2177-07-19T00:00:00",
          "2179-04-03T00:00:00",
          "2179-07-27T00:00:00",
          "2179-07-27T00:00:00",
          "2179-07-27T00:00:00",
          "2179-07-27T00:00:00",
          "2177-07-19T00:00:00",
          "2177-07-19T00:00:00",
          "2177-09-04T00:00:00",
          "2177-09-04T00:00:00",
          "2177-09-05T00:00:00",
          "2177-09-05T00:00:00",
          "2177-07-15T00:00:00",
          "2177-09-04T00:00:00",
          "2177-12-22T00:00:00",
          "2178-09-29T00:00:00",
          "2178-12-21T00:00:00",
          "2179-03-27T00:00:00",
          "2179-07-25T00:00:00",
          "2182-04-29T00:00:00",
          "2177-07-15T00:00:00",
          "2177-09-04T00:00:00",
          "2178-09-29T00:00:00",
          "2178-12-21T00:00:00",
          "2179-03-27T00:00:00",
          "2179-07-25T00:00:00",
          "2182-05-01T00:00:00",
          "2177-07-14T00:00:00",
          "2177-07-15T00:00:00",
          "2177-09-04T00:00:00",
          "2177-09-04T00:00:00",
          "2177-12-22T00:00:00",
          "2178-09-29T00:00:00",
          "2177-07-15T00:00:00",
          "2177-07-15T00:00:00",
          "2177-07-15T00:00:00",
          "2177-07-15T00:00:00",
          "2177-12-22T00:00:00",
          "2179-07-26T00:00:00",
          "2182-05-02T00:00:00",
          "2182-05-03T00:00:00",
          "2177-07-15T00:00:00",
          "2177-07-15T00:00:00",
          "2177-07-15T00:00:00",
          "2177-12-22T00:00:00",
          "2178-10-02T00:00:00",
          "2178-12-25T00:00:00",
          "2179-03-28T00:00:00",
          "2179-03-30T00:00:00",
          "2182-05-02T00:00:00",
          "2179-03-28T00:00:00",
          "2179-07-25T00:00:00",
          "2177-07-15T00:00:00",
          "2177-07-15T00:00:00",
          "2177-07-15T00:00:00",
          "2177-07-15T00:00:00",
          "2177-07-16T00:00:00",
          "2177-07-16T00:00:00",
          "2177-07-17T00:00:00",
          "2177-07-17T00:00:00",
          "2177-07-17T00:00:00",
          "2177-07-17T00:00:00",
          "2177-07-18T00:00:00",
          "2177-07-18T00:00:00",
          "2177-07-19T00:00:00",
          "2177-07-19T00:00:00",
          "2177-07-19T00:00:00",
          "2177-07-20T00:00:00",
          "2177-07-21T00:00:00",
          "2177-07-22T00:00:00",
          "2177-07-23T00:00:00",
          "2177-09-04T00:00:00",
          "2177-12-22T00:00:00",
          "2178-09-30T00:00:00",
          "2178-09-30T00:00:00",
          "2178-09-30T00:00:00",
          "2178-09-30T00:00:00",
          "2178-10-01T00:00:00",
          "2178-10-01T00:00:00",
          "2178-12-21T00:00:00",
          "2178-12-22T00:00:00",
          "2178-12-23T00:00:00",
          "2178-12-24T00:00:00",
          "2178-12-25T00:00:00",
          "2179-03-27T00:00:00",
          "2179-03-28T00:00:00",
          "2179-03-30T00:00:00",
          "2179-07-25T00:00:00",
          "2179-07-26T00:00:00",
          "2179-07-27T00:00:00",
          "2179-07-27T00:00:00",
          "2179-07-28T00:00:00",
          "2182-04-30T00:00:00",
          "2182-05-01T00:00:00",
          "2182-05-02T00:00:00",
          "2178-09-29T00:00:00",
          "2177-12-22T00:00:00",
          "2177-12-23T00:00:00",
          "2179-03-27T00:00:00",
          "2179-03-28T00:00:00",
          "2177-07-14T00:00:00",
          "2178-09-29T00:00:00",
          "2177-07-22T00:00:00",
          "2178-09-29T00:00:00",
          "2178-12-26T00:00:00",
          "2182-05-01T00:00:00",
          "2182-05-01T00:00:00",
          "2182-05-03T00:00:00",
          "2177-07-15T00:00:00",
          "2179-07-25T00:00:00",
          "2177-12-22T00:00:00",
          "2178-09-29T00:00:00",
          "2178-09-29T00:00:00",
          "2177-07-16T00:00:00",
          "2177-09-04T00:00:00",
          "2177-09-05T00:00:00",
          "2177-07-15T00:00:00",
          "2177-07-15T00:00:00",
          "2178-12-21T00:00:00",
          "2182-04-29T00:00:00",
          "2182-04-30T00:00:00",
          "2182-05-01T00:00:00",
          "2182-05-02T00:00:00",
          "2179-03-28T00:00:00",
          "2178-09-29T00:00:00",
          "2182-04-29T00:00:00",
          "2178-12-21T00:00:00",
          "2178-12-21T00:00:00",
          "2178-12-21T00:00:00",
          "2177-12-22T00:00:00",
          "2178-09-29T00:00:00",
          "2178-12-21T00:00:00",
          "2179-03-27T00:00:00",
          "2179-07-25T00:00:00",
          "2177-12-22T00:00:00",
          "2179-03-27T00:00:00",
          "2179-03-29T00:00:00",
          "2179-04-02T00:00:00",
          "2177-07-15T00:00:00",
          "2177-09-04T00:00:00",
          "2177-12-21T00:00:00",
          "2178-09-29T00:00:00",
          "2178-12-22T00:00:00",
          "2179-03-27T00:00:00",
          "2179-07-25T00:00:00",
          "2182-04-29T00:00:00",
          "2177-09-05T00:00:00",
          "2177-12-22T00:00:00",
          "2182-04-29T00:00:00",
          "2182-04-29T00:00:00",
          "2182-04-29T00:00:00",
          "2182-04-29T00:00:00",
          "2177-07-15T00:00:00",
          "2177-09-04T00:00:00",
          "2178-09-29T00:00:00",
          "2178-12-21T00:00:00",
          "2179-07-25T00:00:00",
          "2177-07-15T00:00:00",
          "2177-09-04T00:00:00",
          "2177-12-22T00:00:00",
          "2178-09-29T00:00:00",
          "2178-12-21T00:00:00",
          "2179-03-27T00:00:00",
          "2179-07-25T00:00:00",
          "2182-05-01T00:00:00",
          "2178-12-21T00:00:00",
          "2182-04-30T00:00:00",
          "2182-04-30T00:00:00",
          "2177-07-15T00:00:00",
          "2177-09-04T00:00:00",
          "2177-12-22T00:00:00",
          "2178-09-29T00:00:00",
          "2177-07-15T00:00:00",
          "2177-09-04T00:00:00",
          "2177-07-15T00:00:00",
          "2177-07-15T00:00:00",
          "2177-09-04T00:00:00",
          "2177-09-04T00:00:00",
          "2177-09-04T00:00:00",
          "2177-09-04T00:00:00",
          "2177-07-15T00:00:00",
          "2177-09-04T00:00:00",
          "2177-12-22T00:00:00",
          "2178-09-29T00:00:00",
          "2178-12-21T00:00:00",
          "2179-03-30T00:00:00",
          "2179-04-04T00:00:00",
          "2179-07-25T00:00:00",
          "2182-05-01T00:00:00",
          "2177-07-17T00:00:00",
          "2177-07-19T00:00:00",
          "2177-07-20T00:00:00",
          "2178-09-30T00:00:00",
          "2177-09-04T00:00:00",
          "2177-09-04T00:00:00",
          "2177-09-04T00:00:00",
          "2177-09-04T00:00:00",
          "2177-09-04T00:00:00",
          "2177-09-04T00:00:00",
          "2177-09-04T00:00:00",
          "2177-09-04T00:00:00",
          "2177-09-04T00:00:00",
          "2177-09-04T00:00:00",
          "2177-09-04T00:00:00",
          "2177-09-04T00:00:00",
          "2177-09-04T00:00:00",
          "2177-09-04T00:00:00",
          "2177-09-04T00:00:00",
          "2177-09-04T00:00:00",
          "2177-09-04T00:00:00",
          "2177-09-04T00:00:00",
          "2177-09-04T00:00:00",
          "2177-09-04T00:00:00",
          "2177-09-04T00:00:00",
          "2177-09-04T00:00:00",
          "2177-09-04T00:00:00",
          "2177-07-15T00:00:00",
          "2177-07-16T00:00:00",
          "2177-07-17T00:00:00",
          "2177-07-18T00:00:00",
          "2177-07-21T00:00:00",
          "2177-09-06T00:00:00",
          "2177-12-22T00:00:00",
          "2177-12-22T00:00:00",
          "2177-12-23T00:00:00",
          "2178-09-29T00:00:00",
          "2178-09-29T00:00:00",
          "2178-09-30T00:00:00",
          "2178-09-30T00:00:00",
          "2178-10-01T00:00:00",
          "2178-10-01T00:00:00",
          "2178-12-21T00:00:00",
          "2178-12-22T00:00:00",
          "2178-12-23T00:00:00",
          "2178-12-24T00:00:00",
          "2178-12-25T00:00:00",
          "2179-03-27T00:00:00",
          "2179-03-27T00:00:00",
          "2179-03-27T00:00:00",
          "2179-03-28T00:00:00",
          "2179-03-30T00:00:00",
          "2179-07-25T00:00:00",
          "2179-07-25T00:00:00",
          "2179-07-25T00:00:00",
          "2179-07-26T00:00:00",
          "2179-07-27T00:00:00",
          "2179-07-27T00:00:00",
          "2179-07-28T00:00:00",
          "2182-05-02T00:00:00",
          "2182-05-02T00:00:00",
          "2182-05-02T00:00:00",
          "2182-05-02T00:00:00",
          "2182-04-29T00:00:00",
          "2177-07-15T00:00:00",
          "2177-12-22T00:00:00",
          "2178-09-29T00:00:00",
          "2178-12-21T00:00:00",
          "2179-03-27T00:00:00",
          "2179-07-25T00:00:00",
          "2177-09-04T00:00:00",
          "2177-07-15T00:00:00",
          "2177-09-04T00:00:00",
          "2177-09-04T00:00:00",
          "2177-12-22T00:00:00",
          "2178-09-29T00:00:00",
          "2178-09-29T00:00:00",
          "2178-10-01T00:00:00",
          "2178-12-21T00:00:00",
          "2179-03-27T00:00:00",
          "2179-07-25T00:00:00",
          "2177-07-14T00:00:00",
          "2177-07-15T00:00:00",
          "2177-07-15T00:00:00",
          "2178-09-29T00:00:00",
          "2178-09-29T00:00:00",
          "2178-10-02T00:00:00",
          "2178-12-21T00:00:00",
          "2178-12-21T00:00:00",
          "2178-12-21T00:00:00",
          "2178-12-21T00:00:00",
          "2178-12-24T00:00:00",
          "2179-03-27T00:00:00",
          "2179-07-25T00:00:00",
          "2182-04-29T00:00:00",
          "2177-07-15T00:00:00",
          "2179-03-31T00:00:00",
          "2182-05-01T00:00:00",
          "2177-07-15T00:00:00",
          "2177-07-15T00:00:00",
          "2177-07-15T00:00:00",
          "2177-07-15T00:00:00",
          "2179-03-28T00:00:00",
          "2179-03-28T00:00:00",
          "2179-03-30T00:00:00",
          "2179-03-30T00:00:00",
          "2179-03-30T00:00:00",
          "2182-04-29T00:00:00",
          "2177-12-22T00:00:00",
          "2178-12-26T00:00:00",
          "2177-07-14T00:00:00",
          "2177-09-04T00:00:00",
          "2177-07-14T00:00:00",
          "2177-09-04T00:00:00",
          "2177-12-22T00:00:00",
          "2178-09-29T00:00:00",
          "2178-12-21T00:00:00",
          "2179-03-28T00:00:00",
          "2179-07-25T00:00:00",
          "2182-04-29T00:00:00",
          "2178-09-29T00:00:00",
          "2179-03-28T00:00:00",
          "2177-07-15T00:00:00",
          "2177-09-06T00:00:00",
          "2177-12-22T00:00:00",
          "2178-09-29T00:00:00",
          "2179-07-25T00:00:00",
          "2177-07-15T00:00:00",
          "2177-07-15T00:00:00",
          "2177-07-15T00:00:00",
          "2177-07-15T00:00:00",
          "2177-07-15T00:00:00",
          "2177-07-15T00:00:00",
          "2177-09-05T00:00:00",
          "2177-09-05T00:00:00",
          "2177-12-22T00:00:00",
          "2177-12-22T00:00:00",
          "2178-09-29T00:00:00",
          "2178-09-29T00:00:00",
          "2178-10-02T00:00:00",
          "2178-10-02T00:00:00",
          "2178-12-21T00:00:00",
          "2178-12-21T00:00:00",
          "2178-12-21T00:00:00",
          "2178-12-21T00:00:00",
          "2178-12-21T00:00:00",
          "2178-12-21T00:00:00",
          "2178-12-21T00:00:00",
          "2178-12-21T00:00:00",
          "2179-03-28T00:00:00",
          "2179-03-28T00:00:00",
          "2179-04-01T00:00:00",
          "2179-04-01T00:00:00",
          "2179-04-04T00:00:00",
          "2179-04-04T00:00:00",
          "2179-07-26T00:00:00",
          "2179-07-26T00:00:00",
          "2182-05-02T00:00:00",
          "2182-05-02T00:00:00",
          "2182-05-03T00:00:00",
          "2182-05-03T00:00:00",
          "2179-07-25T00:00:00",
          "2178-09-29T00:00:00",
          "2178-10-02T00:00:00",
          "2178-12-24T00:00:00",
          "2179-03-27T00:00:00",
          "2178-09-29T00:00:00",
          "2182-04-29T00:00:00",
          "2182-05-01T00:00:00",
          "2179-04-01T00:00:00",
          "2177-07-14T00:00:00",
          "2177-12-21T00:00:00",
          "2178-09-29T00:00:00",
          "2179-07-25T00:00:00",
          "2177-07-15T00:00:00",
          "2177-12-22T00:00:00",
          "2179-07-26T00:00:00",
          "2182-05-02T00:00:00",
          "2182-05-03T00:00:00",
          "2182-04-30T00:00:00",
          "2182-04-30T00:00:00",
          "2177-09-05T00:00:00",
          "2177-12-22T00:00:00",
          "2178-09-29T00:00:00",
          "2178-12-21T00:00:00",
          "2179-07-25T00:00:00",
          "2178-12-21T00:00:00",
          "2178-12-21T00:00:00",
          "2178-12-21T00:00:00",
          "2179-03-28T00:00:00",
          "2179-03-28T00:00:00",
          "2179-03-28T00:00:00",
          "2179-03-30T00:00:00",
          "2179-03-30T00:00:00",
          "2179-03-30T00:00:00",
          "2179-03-31T00:00:00",
          "2179-03-31T00:00:00",
          "2179-03-31T00:00:00",
          "2179-04-01T00:00:00",
          "2179-04-01T00:00:00",
          "2179-04-01T00:00:00"
         ],
         "hovertemplate": "drug_exposure_start_date=%{base}<br>drug_exposure_end_date=%{x}<br>drug_concept_name=%{y}<extra></extra>",
         "legendgroup": "",
         "marker": {
          "color": "#636efa",
          "pattern": {
           "shape": ""
          }
         },
         "name": "",
         "offsetgroup": "",
         "orientation": "h",
         "showlegend": false,
         "textposition": "auto",
         "type": "bar",
         "x": [
          777600000,
          259200000,
          172800000,
          86400000,
          0,
          259200000,
          432000000,
          172800000,
          86400000,
          259200000,
          432000000,
          259200000,
          777600000,
          259200000,
          0,
          86400000,
          259200000,
          345600000,
          604800000,
          259200000,
          86400000,
          86400000,
          86400000,
          86400000,
          777600000,
          259200000,
          259200000,
          345600000,
          259200000,
          86400000,
          86400000,
          86400000,
          86400000,
          86400000,
          86400000,
          86400000,
          86400000,
          86400000,
          86400000,
          86400000,
          86400000,
          86400000,
          86400000,
          86400000,
          86400000,
          172800000,
          777600000,
          259200000,
          777600000,
          777600000,
          259200000,
          86400000,
          259200000,
          432000000,
          691200000,
          259200000,
          345600000,
          777600000,
          259200000,
          86400000,
          259200000,
          432000000,
          691200000,
          259200000,
          345600000,
          0,
          0,
          0,
          0,
          0,
          0,
          86400000,
          86400000,
          86400000,
          86400000,
          0,
          86400000,
          345600000,
          0,
          86400000,
          172800000,
          0,
          86400000,
          86400000,
          86400000,
          86400000,
          86400000,
          0,
          86400000,
          0,
          86400000,
          86400000,
          0,
          345600000,
          0,
          86400000,
          86400000,
          0,
          0,
          0,
          432000000,
          86400000,
          518400000,
          259200000,
          86400000,
          86400000,
          86400000,
          0,
          0,
          86400000,
          86400000,
          86400000,
          86400000,
          0,
          0,
          777600000,
          259200000,
          86400000,
          259200000,
          432000000,
          691200000,
          259200000,
          345600000,
          777600000,
          86400000,
          0,
          432000000,
          691200000,
          259200000,
          172800000,
          864000000,
          777600000,
          0,
          259200000,
          86400000,
          259200000,
          0,
          0,
          0,
          777600000,
          86400000,
          0,
          86400000,
          0,
          0,
          0,
          0,
          86400000,
          0,
          86400000,
          0,
          86400000,
          86400000,
          604800000,
          259200000,
          86400000,
          0,
          86400000,
          0,
          345600000,
          345600000,
          0,
          86400000,
          86400000,
          0,
          172800000,
          172800000,
          0,
          86400000,
          0,
          86400000,
          86400000,
          86400000,
          86400000,
          0,
          86400000,
          0,
          86400000,
          86400000,
          86400000,
          0,
          86400000,
          86400000,
          86400000,
          86400000,
          86400000,
          86400000,
          86400000,
          172800000,
          432000000,
          86400000,
          86400000,
          0,
          86400000,
          0,
          172800000,
          86400000,
          86400000,
          259200000,
          86400000,
          0,
          86400000,
          259200000,
          864000000,
          259200000,
          172800000,
          172800000,
          0,
          0,
          172800000,
          0,
          432000000,
          259200000,
          86400000,
          86400000,
          0,
          259200000,
          86400000,
          0,
          0,
          0,
          0,
          259200000,
          172800000,
          86400000,
          86400000,
          86400000,
          0,
          86400000,
          86400000,
          86400000,
          86400000,
          86400000,
          259200000,
          432000000,
          691200000,
          259200000,
          86400000,
          172800000,
          345600000,
          172800000,
          777600000,
          86400000,
          172800000,
          259200000,
          345600000,
          691200000,
          259200000,
          345600000,
          172800000,
          86400000,
          86400000,
          86400000,
          86400000,
          86400000,
          777600000,
          259200000,
          259200000,
          432000000,
          259200000,
          777600000,
          259200000,
          86400000,
          259200000,
          432000000,
          691200000,
          259200000,
          172800000,
          86400000,
          86400000,
          86400000,
          777600000,
          259200000,
          86400000,
          259200000,
          777600000,
          259200000,
          777600000,
          777600000,
          0,
          0,
          259200000,
          259200000,
          777600000,
          259200000,
          86400000,
          259200000,
          432000000,
          432000000,
          0,
          259200000,
          172800000,
          86400000,
          86400000,
          345600000,
          172800000,
          259200000,
          259200000,
          259200000,
          259200000,
          259200000,
          259200000,
          259200000,
          259200000,
          259200000,
          259200000,
          259200000,
          259200000,
          259200000,
          259200000,
          259200000,
          259200000,
          259200000,
          259200000,
          259200000,
          259200000,
          259200000,
          259200000,
          259200000,
          86400000,
          86400000,
          86400000,
          86400000,
          86400000,
          86400000,
          86400000,
          86400000,
          0,
          0,
          86400000,
          0,
          86400000,
          0,
          86400000,
          86400000,
          86400000,
          86400000,
          86400000,
          86400000,
          86400000,
          86400000,
          86400000,
          172800000,
          432000000,
          86400000,
          86400000,
          86400000,
          86400000,
          0,
          86400000,
          0,
          86400000,
          86400000,
          86400000,
          86400000,
          172800000,
          777600000,
          86400000,
          259200000,
          432000000,
          691200000,
          259200000,
          259200000,
          777600000,
          259200000,
          86400000,
          86400000,
          86400000,
          86400000,
          0,
          86400000,
          86400000,
          0,
          86400000,
          0,
          0,
          0,
          172800000,
          0,
          0,
          86400000,
          86400000,
          86400000,
          172800000,
          345600000,
          172800000,
          345600000,
          0,
          86400000,
          86400000,
          0,
          0,
          432000000,
          0,
          0,
          0,
          0,
          0,
          86400000,
          86400000,
          86400000,
          0,
          86400000,
          172800000,
          864000000,
          259200000,
          86400000,
          259200000,
          432000000,
          604800000,
          259200000,
          345600000,
          0,
          86400000,
          777600000,
          86400000,
          86400000,
          259200000,
          86400000,
          0,
          0,
          0,
          0,
          0,
          0,
          86400000,
          86400000,
          86400000,
          86400000,
          86400000,
          86400000,
          0,
          0,
          86400000,
          86400000,
          86400000,
          86400000,
          86400000,
          86400000,
          86400000,
          86400000,
          0,
          0,
          86400000,
          86400000,
          0,
          0,
          0,
          0,
          86400000,
          86400000,
          0,
          0,
          172800000,
          0,
          0,
          172800000,
          345600000,
          172800000,
          172800000,
          172800000,
          259200000,
          864000000,
          172800000,
          259200000,
          86400000,
          777600000,
          86400000,
          0,
          86400000,
          0,
          86400000,
          86400000,
          172800000,
          86400000,
          259200000,
          432000000,
          259200000,
          86400000,
          86400000,
          86400000,
          0,
          0,
          0,
          86400000,
          86400000,
          86400000,
          86400000,
          86400000,
          86400000,
          86400000,
          86400000,
          86400000
         ],
         "xaxis": "x",
         "y": [
          "No matching concept",
          "No matching concept",
          "No matching concept",
          "ipratropium bromide 0.2 MG/ML Inhalation Solution",
          "acetaminophen 325 MG Oral Tablet",
          "acetaminophen 325 MG Oral Tablet",
          "acetaminophen 325 MG Oral Tablet",
          "acetaminophen 325 MG Oral Tablet",
          "benzonatate 100 MG Oral Capsule",
          "vitamin B12 0.5 MG Oral Tablet",
          "vitamin B12 0.5 MG Oral Tablet",
          "vitamin B12 0.5 MG Oral Tablet",
          "amlodipine 5 MG Oral Tablet",
          "amlodipine 5 MG Oral Tablet",
          "amlodipine 5 MG Oral Tablet",
          "amlodipine 5 MG Oral Tablet",
          "amlodipine 5 MG Oral Tablet",
          "amlodipine 5 MG Oral Tablet",
          "amlodipine 5 MG Oral Tablet",
          "amlodipine 5 MG Oral Tablet",
          "amlodipine 5 MG Oral Tablet",
          "100 ML calcium gluconate 20 MG/ML Injection",
          "100 ML calcium gluconate 20 MG/ML Injection",
          "100 ML calcium gluconate 20 MG/ML Injection",
          "ferrous sulfate 300 MG Oral Tablet",
          "ferrous sulfate 300 MG Oral Tablet",
          "ferrous sulfate 300 MG Oral Tablet",
          "ferrous sulfate 300 MG Oral Tablet",
          "ferrous sulfate 300 MG Oral Tablet",
          "insulin lispro 25 UNT/ML / insulin lispro protamine, human 75 UNT/ML Injectable Suspension [Humalog Mix]",
          "insulin lispro 25 UNT/ML / insulin lispro protamine, human 75 UNT/ML Injectable Suspension [Humalog Mix]",
          "insulin lispro 25 UNT/ML / insulin lispro protamine, human 75 UNT/ML Injectable Suspension [Humalog Mix]",
          "insulin lispro 25 UNT/ML / insulin lispro protamine, human 75 UNT/ML Injectable Suspension [Humalog Mix]",
          "insulin lispro 25 UNT/ML / insulin lispro protamine, human 75 UNT/ML Injectable Suspension [Humalog Mix]",
          "insulin lispro 25 UNT/ML / insulin lispro protamine, human 75 UNT/ML Injectable Suspension [Humalog Mix]",
          "insulin lispro 25 UNT/ML / insulin lispro protamine, human 75 UNT/ML Injectable Suspension [Humalog Mix]",
          "insulin lispro 25 UNT/ML / insulin lispro protamine, human 75 UNT/ML Injectable Suspension [Humalog Mix]",
          "insulin lispro 25 UNT/ML / insulin lispro protamine, human 75 UNT/ML Injectable Suspension [Humalog Mix]",
          "insulin lispro 25 UNT/ML / insulin lispro protamine, human 75 UNT/ML Injectable Suspension [Humalog Mix]",
          "insulin lispro 25 UNT/ML / insulin lispro protamine, human 75 UNT/ML Injectable Suspension [Humalog Mix]",
          "insulin lispro 25 UNT/ML / insulin lispro protamine, human 75 UNT/ML Injectable Suspension [Humalog Mix]",
          "insulin lispro 25 UNT/ML / insulin lispro protamine, human 75 UNT/ML Injectable Suspension [Humalog Mix]",
          "insulin lispro 25 UNT/ML / insulin lispro protamine, human 75 UNT/ML Injectable Suspension [Humalog Mix]",
          "insulin lispro 25 UNT/ML / insulin lispro protamine, human 75 UNT/ML Injectable Suspension [Humalog Mix]",
          "insulin lispro 25 UNT/ML / insulin lispro protamine, human 75 UNT/ML Injectable Suspension [Humalog Mix]",
          "atorvastatin 40 MG Oral Tablet",
          "atorvastatin 20 MG Oral Tablet [Lipitor]",
          "atorvastatin 20 MG Oral Tablet [Lipitor]",
          "estrogens, conjugated (USP) 0.625 MG/ML Vaginal Cream [Premarin]",
          "glucose 0.4 MG/MG Oral Gel",
          "glucose 0.4 MG/MG Oral Gel",
          "glucose 0.4 MG/MG Oral Gel",
          "glucose 0.4 MG/MG Oral Gel",
          "glucose 0.4 MG/MG Oral Gel",
          "glucose 0.4 MG/MG Oral Gel",
          "glucose 0.4 MG/MG Oral Gel",
          "glucose 0.4 MG/MG Oral Gel",
          "50 ML glucose 500 MG/ML Prefilled Syringe",
          "50 ML glucose 500 MG/ML Prefilled Syringe",
          "50 ML glucose 500 MG/ML Prefilled Syringe",
          "50 ML glucose 500 MG/ML Prefilled Syringe",
          "50 ML glucose 500 MG/ML Prefilled Syringe",
          "50 ML glucose 500 MG/ML Prefilled Syringe",
          "50 ML glucose 500 MG/ML Prefilled Syringe",
          "50 ML glucose 500 MG/ML Prefilled Syringe",
          "15 ML sodium phosphate, dibasic 142 MG/ML / sodium phosphate, monobasic 276 MG/ML Injection",
          "15 ML sodium phosphate, dibasic 142 MG/ML / sodium phosphate, monobasic 276 MG/ML Injection",
          "15 ML dibasic potassium phosphate 236 MG/ML / monobasic potassium phosphate 224 MG/ML Injection",
          "15 ML dibasic potassium phosphate 236 MG/ML / monobasic potassium phosphate 224 MG/ML Injection",
          "15 ML dibasic potassium phosphate 236 MG/ML / monobasic potassium phosphate 224 MG/ML Injection",
          "15 ML dibasic potassium phosphate 236 MG/ML / monobasic potassium phosphate 224 MG/ML Injection",
          "15 ML dibasic potassium phosphate 236 MG/ML / monobasic potassium phosphate 224 MG/ML Injection",
          "15 ML dibasic potassium phosphate 236 MG/ML / monobasic potassium phosphate 224 MG/ML Injection",
          "15 ML dibasic potassium phosphate 236 MG/ML / monobasic potassium phosphate 224 MG/ML Injection",
          "15 ML dibasic potassium phosphate 236 MG/ML / monobasic potassium phosphate 224 MG/ML Injection",
          "insulin, regular, human",
          "insulin, regular, human",
          "insulin, regular, human",
          "insulin, regular, human",
          "insulin, regular, human",
          "insulin, regular, human",
          "insulin, regular, human",
          "insulin, regular, human",
          "insulin, regular, human",
          "insulin, regular, human",
          "insulin, regular, human",
          "insulin, regular, human",
          "insulin, regular, human",
          "insulin, regular, human",
          "insulin, regular, human",
          "insulin, regular, human",
          "insulin, regular, human",
          "metronidazole 500 MG Oral Tablet",
          "100 ML metronidazole 5 MG/ML Injection",
          "10 ML potassium chloride 2 MEQ/ML Injection",
          "10 ML potassium chloride 2 MEQ/ML Injection",
          "20 ML potassium chloride 2 MEQ/ML Injection",
          "20 ML potassium chloride 2 MEQ/ML Injection",
          "20 ML potassium chloride 2 MEQ/ML Injection",
          "20 ML potassium chloride 2 MEQ/ML Injection",
          "20 ML potassium chloride 2 MEQ/ML Injection",
          "levofloxacin 500 MG Oral Tablet [Levaquin]",
          "fluconazole 150 MG Oral Tablet",
          "ciprofloxacin 250 MG Oral Tablet",
          "oseltamivir 75 MG Oral Capsule [Tamiflu]",
          "sulfamethoxazole 400 MG / trimethoprim 80 MG Oral Tablet",
          "sulfamethoxazole 400 MG / trimethoprim 80 MG Oral Tablet",
          "sulfamethoxazole 800 MG / trimethoprim 160 MG Oral Tablet",
          "sulfamethoxazole 800 MG / trimethoprim 160 MG Oral Tablet",
          "insulin isophane, human 70 UNT/ML / insulin, regular, human 30 UNT/ML Injectable Suspension [Humulin]",
          "insulin isophane, human 70 UNT/ML / insulin, regular, human 30 UNT/ML Injectable Suspension [Humulin]",
          "insulin isophane, human 70 UNT/ML / insulin, regular, human 30 UNT/ML Injectable Suspension [Humulin]",
          "insulin isophane, human 70 UNT/ML / insulin, regular, human 30 UNT/ML Injectable Suspension [Humulin]",
          "insulin isophane, human 70 UNT/ML / insulin, regular, human 30 UNT/ML Injectable Suspension [Humulin]",
          "insulin isophane, human 70 UNT/ML / insulin, regular, human 30 UNT/ML Injectable Suspension [Humulin]",
          "glucagon (rDNA) 1 MG Injection [GlucaGen]",
          "glucagon (rDNA) 1 MG Injection [GlucaGen]",
          "glucagon (rDNA) 1 MG Injection [GlucaGen]",
          "glucagon (rDNA) 1 MG Injection [GlucaGen]",
          "glucagon (rDNA) 1 MG Injection [GlucaGen]",
          "glucagon (rDNA) 1 MG Injection [GlucaGen]",
          "glucagon (rDNA) 1 MG Injection [GlucaGen]",
          "glucagon (rDNA) 1 MG Injection [GlucaGen]",
          "omeprazole 20 MG Delayed Release Oral Capsule",
          "omeprazole 20 MG Delayed Release Oral Capsule",
          "omeprazole 20 MG Delayed Release Oral Capsule",
          "omeprazole 20 MG Delayed Release Oral Capsule",
          "omeprazole 20 MG Delayed Release Oral Capsule",
          "omeprazole 20 MG Delayed Release Oral Capsule",
          "omeprazole 20 MG Delayed Release Oral Capsule",
          "bisacodyl 10 MG Rectal Suppository",
          "hydrochlorothiazide 12.5 MG Oral Capsule",
          "hydrochlorothiazide 12.5 MG Oral Capsule",
          "hydrochlorothiazide 12.5 MG Oral Capsule",
          "hydrochlorothiazide 12.5 MG Oral Capsule",
          "dexamethasone 1 MG/ML Ophthalmic Suspension [Maxidex]",
          "potassium chloride 1.33 MEQ/ML Oral Solution [Kay Ciel]",
          "potassium chloride 1.33 MEQ/ML Oral Solution [Kay Ciel]",
          "potassium chloride 1.33 MEQ/ML Oral Solution [Kay Ciel]",
          "potassium",
          "potassium",
          "potassium",
          "potassium",
          "potassium",
          "potassium chloride 10 MEQ Extended Release Oral Tablet",
          "potassium chloride 10 MEQ Extended Release Oral Tablet",
          "potassium chloride 10 MEQ Extended Release Oral Tablet",
          "potassium chloride 10 MEQ Extended Release Oral Tablet",
          "potassium chloride 10 MEQ Extended Release Oral Tablet",
          "potassium chloride 10 MEQ Extended Release Oral Tablet",
          "potassium chloride 10 MEQ Extended Release Oral Tablet",
          "potassium chloride 10 MEQ Extended Release Oral Tablet",
          "potassium chloride 10 MEQ Extended Release Oral Tablet [Klor-Con]",
          "vancomycin 100 MG/ML Injectable Solution",
          "ascorbic acid 500 MG Oral Tablet",
          "insulin glargine 100 UNT/ML Injectable Solution [Lantus]",
          "insulin glargine 100 UNT/ML Injectable Solution [Lantus]",
          "insulin glargine 100 UNT/ML Injectable Solution [Lantus]",
          "insulin glargine 100 UNT/ML Injectable Solution [Lantus]",
          "insulin glargine 100 UNT/ML Injectable Solution [Lantus]",
          "insulin glargine 100 UNT/ML Injectable Solution [Lantus]",
          "insulin glargine 100 UNT/ML Injectable Solution [Lantus]",
          "insulin glargine 100 UNT/ML Injectable Solution [Lantus]",
          "insulin glargine 100 UNT/ML Injectable Solution [Lantus]",
          "insulin glargine 100 UNT/ML Injectable Solution [Lantus]",
          "insulin glargine 100 UNT/ML Injectable Solution [Lantus]",
          "insulin glargine 100 UNT/ML Injectable Solution [Lantus]",
          "insulin glargine 100 UNT/ML Injectable Solution [Lantus]",
          "insulin glargine 100 UNT/ML Injectable Solution [Lantus]",
          "insulin glargine 100 UNT/ML Injectable Solution [Lantus]",
          "insulin glargine 100 UNT/ML Injectable Solution [Lantus]",
          "insulin glargine 100 UNT/ML Injectable Solution [Lantus]",
          "insulin glargine 100 UNT/ML Injectable Solution [Lantus]",
          "insulin glargine 100 UNT/ML Injectable Solution [Lantus]",
          "insulin glargine 100 UNT/ML Injectable Solution [Lantus]",
          "insulin glargine 100 UNT/ML Injectable Solution [Lantus]",
          "insulin glargine 100 UNT/ML Injectable Solution [Lantus]",
          "insulin glargine 100 UNT/ML Injectable Solution [Lantus]",
          "insulin glargine 100 UNT/ML Injectable Solution [Lantus]",
          "insulin glargine 100 UNT/ML Injectable Solution [Lantus]",
          "insulin glargine 100 UNT/ML Injectable Solution [Lantus]",
          "insulin glargine 100 UNT/ML Injectable Solution [Lantus]",
          "insulin glargine 100 UNT/ML Injectable Solution [Lantus]",
          "insulin glargine 100 UNT/ML Injectable Solution [Lantus]",
          "insulin glargine 100 UNT/ML Injectable Solution [Lantus]",
          "insulin glargine 100 UNT/ML Injectable Solution [Lantus]",
          "insulin glargine 100 UNT/ML Injectable Solution [Lantus]",
          "insulin glargine 100 UNT/ML Injectable Solution [Lantus]",
          "insulin glargine 100 UNT/ML Injectable Solution [Lantus]",
          "insulin glargine 100 UNT/ML Injectable Solution [Lantus]",
          "insulin glargine 100 UNT/ML Injectable Solution [Lantus]",
          "insulin glargine 100 UNT/ML Injectable Solution [Lantus]",
          "insulin glargine 100 UNT/ML Injectable Solution [Lantus]",
          "insulin glargine 100 UNT/ML Injectable Solution [Lantus]",
          "insulin glargine 100 UNT/ML Injectable Solution [Lantus]",
          "insulin glargine 100 UNT/ML Injectable Solution [Lantus]",
          "insulin glargine 100 UNT/ML Injectable Solution [Lantus]",
          "insulin glargine 100 UNT/ML Injectable Solution [Lantus]",
          "acetaminophen 32 MG/ML Oral Solution",
          "azithromycin 250 MG Oral Tablet",
          "azithromycin 250 MG Oral Tablet",
          "azithromycin 250 MG Oral Tablet",
          "azithromycin 250 MG Oral Tablet",
          "bisacodyl 5 MG Delayed Release Oral Tablet",
          "ciprofloxacin 3 MG/ML Ophthalmic Solution",
          "ciprofloxacin 500 MG Oral Tablet",
          "ciprofloxacin 500 MG Oral Tablet",
          "ciprofloxacin 500 MG Oral Tablet",
          "ciprofloxacin 500 MG Oral Tablet",
          "ciprofloxacin 500 MG Oral Tablet",
          "ciprofloxacin 500 MG Oral Tablet",
          "clotrimazole 10 MG/ML Topical Cream",
          "clotrimazole 10 MG/ML Topical Cream",
          "vitamin B12 0.1 MG Oral Tablet",
          "furosemide 20 MG Oral Tablet",
          "gentamicin 3 MG/ML Ophthalmic Solution",
          "glipizide 10 MG Oral Tablet",
          "insulin isophane, human 100 UNT/ML Injectable Suspension [Humulin N]",
          "insulin isophane, human 100 UNT/ML Injectable Suspension [Humulin N]",
          "insulin, regular, human 100 UNT/ML Injectable Solution [Humulin R]",
          "insulin, regular, human 100 UNT/ML Injectable Solution [Humulin R]",
          "insulin, regular, human 100 UNT/ML Injectable Solution [Humulin R]",
          "insulin, regular, human 100 UNT/ML Injectable Solution [Humulin R]",
          "insulin, regular, human 100 UNT/ML Injectable Solution [Humulin R]",
          "insulin, regular, human 100 UNT/ML Injectable Solution [Humulin R]",
          "insulin, regular, human 100 UNT/ML Injectable Solution [Humulin R]",
          "100 ML potassium chloride 0.1 MEQ/ML Injection",
          "moxifloxacin 5 MG/ML Ophthalmic Solution [Vigamox]",
          "100 ML acetaminophen 10 MG/ML Injection",
          "1000 ML glucose 50 MG/ML / potassium chloride 0.04 MEQ/ML / sodium chloride 4.5 MG/ML Injection",
          "1000 ML glucose 50 MG/ML / potassium chloride 0.04 MEQ/ML / sodium chloride 4.5 MG/ML Injection",
          "1000 ML glucose 50 MG/ML / potassium chloride 0.04 MEQ/ML / sodium chloride 4.5 MG/ML Injection",
          "atorvastatin 20 MG Oral Tablet",
          "atorvastatin 20 MG Oral Tablet",
          "atorvastatin 20 MG Oral Tablet",
          "atorvastatin 20 MG Oral Tablet",
          "atorvastatin 20 MG Oral Tablet",
          "albuterol 0.83 MG/ML Inhalation Solution",
          "albuterol 0.83 MG/ML Inhalation Solution",
          "albuterol 0.83 MG/ML Inhalation Solution",
          "albuterol 0.83 MG/ML Inhalation Solution",
          "hydrocortisone 25 MG/ML Rectal Cream [Proctocream]",
          "hydrocortisone 25 MG/ML Rectal Cream [Proctocream]",
          "10 ML sodium chloride 9 MG/ML Prefilled Syringe",
          "10 ML sodium chloride 9 MG/ML Prefilled Syringe",
          "10 ML sodium chloride 9 MG/ML Prefilled Syringe",
          "10 ML sodium chloride 9 MG/ML Prefilled Syringe",
          "10 ML sodium chloride 9 MG/ML Prefilled Syringe",
          "10 ML sodium chloride 9 MG/ML Prefilled Syringe",
          "NDA020983 60 ACTUAT albuterol 0.09 MG/ACTUAT Metered Dose Inhaler [Ventolin]",
          "NDA020983 60 ACTUAT albuterol 0.09 MG/ACTUAT Metered Dose Inhaler [Ventolin]",
          "calcium chloride 0.2 MG/ML / potassium chloride 0.3 MG/ML / sodium chloride 6 MG/ML / sodium lactate 3.1 MG/ML Injectable Solution",
          "calcium chloride 0.2 MG/ML / potassium chloride 0.3 MG/ML / sodium chloride 6 MG/ML / sodium lactate 3.1 MG/ML Injectable Solution",
          "calcium chloride 0.2 MG/ML / potassium chloride 0.3 MG/ML / sodium chloride 6 MG/ML / sodium lactate 3.1 MG/ML Injectable Solution",
          "calcium chloride 0.2 MG/ML / potassium chloride 0.3 MG/ML / sodium chloride 6 MG/ML / sodium lactate 3.1 MG/ML Injectable Solution",
          null,
          null,
          null,
          null,
          null,
          "paroxetine hydrochloride 20 MG Oral Tablet",
          "paroxetine hydrochloride 20 MG Oral Tablet",
          "paroxetine hydrochloride 20 MG Oral Tablet",
          "paroxetine hydrochloride 20 MG Oral Tablet",
          "paroxetine hydrochloride 20 MG Oral Tablet",
          "paroxetine hydrochloride 20 MG Oral Tablet",
          "paroxetine hydrochloride 20 MG Oral Tablet",
          "paroxetine hydrochloride 20 MG Oral Tablet",
          "2 ML ondansetron 2 MG/ML Injection",
          "1000 ML glucose 50 MG/ML / sodium chloride 4.5 MG/ML Injection",
          "1000 ML glucose 50 MG/ML / sodium chloride 4.5 MG/ML Injection",
          "fluticasone propionate 0.05 MG/ACTUAT Metered Dose Nasal Spray",
          "fluticasone propionate 0.05 MG/ACTUAT Metered Dose Nasal Spray",
          "fluticasone propionate 0.05 MG/ACTUAT Metered Dose Nasal Spray",
          "fluticasone propionate 0.05 MG/ACTUAT Metered Dose Nasal Spray",
          "sodium chloride Prefilled Syringe",
          "sodium chloride Prefilled Syringe",
          "acetaminophen 500 MG / hydrocodone bitartrate 5 MG Oral Tablet",
          "acetaminophen 500 MG / hydrocodone bitartrate 5 MG Oral Tablet",
          "acetaminophen 500 MG / hydrocodone bitartrate 5 MG Oral Tablet",
          "acetaminophen 500 MG / hydrocodone bitartrate 5 MG Oral Tablet",
          "acetaminophen 500 MG / hydrocodone bitartrate 5 MG Oral Tablet",
          "acetaminophen 500 MG / hydrocodone bitartrate 5 MG Oral Tablet",
          "propranolol hydrochloride 10 MG Oral Tablet",
          "propranolol hydrochloride 10 MG Oral Tablet",
          "propranolol hydrochloride 10 MG Oral Tablet",
          "propranolol hydrochloride 10 MG Oral Tablet",
          "propranolol hydrochloride 10 MG Oral Tablet",
          "propranolol hydrochloride 10 MG Oral Tablet",
          "propranolol hydrochloride 10 MG Oral Tablet",
          "propranolol hydrochloride 10 MG Oral Tablet",
          "propranolol hydrochloride 10 MG Oral Tablet",
          "trazodone hydrochloride 50 MG Oral Tablet",
          "trazodone hydrochloride 50 MG Oral Tablet",
          "trazodone hydrochloride 50 MG Oral Tablet",
          "trazodone hydrochloride 50 MG Oral Tablet",
          "Streptococcus pneumoniae type 1 capsular polysaccharide antigen 0.05 MG/ML / Streptococcus pneumoniae type 10A capsular polysaccharide antigen 0.05 MG/ML / Streptococcus pneumoniae type 11A capsular polysaccharide antigen 0.05 MG/ML / Streptococcus pne...",
          "Streptococcus pneumoniae type 1 capsular polysaccharide antigen 0.05 MG/ML / Streptococcus pneumoniae type 10A capsular polysaccharide antigen 0.05 MG/ML / Streptococcus pneumoniae type 11A capsular polysaccharide antigen 0.05 MG/ML / Streptococcus pne...",
          "Streptococcus pneumoniae type 1 capsular polysaccharide antigen 0.05 MG/ML / Streptococcus pneumoniae type 10A capsular polysaccharide antigen 0.05 MG/ML / Streptococcus pneumoniae type 11A capsular polysaccharide antigen 0.05 MG/ML / Streptococcus pne...",
          "Streptococcus pneumoniae type 1 capsular polysaccharide antigen 0.05 MG/ML / Streptococcus pneumoniae type 10A capsular polysaccharide antigen 0.05 MG/ML / Streptococcus pneumoniae type 11A capsular polysaccharide antigen 0.05 MG/ML / Streptococcus pne...",
          "Streptococcus pneumoniae type 1 capsular polysaccharide antigen 0.05 MG/ML / Streptococcus pneumoniae type 10A capsular polysaccharide antigen 0.05 MG/ML / Streptococcus pneumoniae type 11A capsular polysaccharide antigen 0.05 MG/ML / Streptococcus pne...",
          "Streptococcus pneumoniae type 1 capsular polysaccharide antigen 0.05 MG/ML / Streptococcus pneumoniae type 10A capsular polysaccharide antigen 0.05 MG/ML / Streptococcus pneumoniae type 11A capsular polysaccharide antigen 0.05 MG/ML / Streptococcus pne...",
          "Streptococcus pneumoniae type 1 capsular polysaccharide antigen 0.05 MG/ML / Streptococcus pneumoniae type 10A capsular polysaccharide antigen 0.05 MG/ML / Streptococcus pneumoniae type 11A capsular polysaccharide antigen 0.05 MG/ML / Streptococcus pne...",
          "Streptococcus pneumoniae type 1 capsular polysaccharide antigen 0.05 MG/ML / Streptococcus pneumoniae type 10A capsular polysaccharide antigen 0.05 MG/ML / Streptococcus pneumoniae type 11A capsular polysaccharide antigen 0.05 MG/ML / Streptococcus pne...",
          "Streptococcus pneumoniae type 1 capsular polysaccharide antigen 0.05 MG/ML / Streptococcus pneumoniae type 10A capsular polysaccharide antigen 0.05 MG/ML / Streptococcus pneumoniae type 11A capsular polysaccharide antigen 0.05 MG/ML / Streptococcus pne...",
          "Streptococcus pneumoniae type 1 capsular polysaccharide antigen 0.05 MG/ML / Streptococcus pneumoniae type 10A capsular polysaccharide antigen 0.05 MG/ML / Streptococcus pneumoniae type 11A capsular polysaccharide antigen 0.05 MG/ML / Streptococcus pne...",
          "Streptococcus pneumoniae type 1 capsular polysaccharide antigen 0.05 MG/ML / Streptococcus pneumoniae type 10A capsular polysaccharide antigen 0.05 MG/ML / Streptococcus pneumoniae type 11A capsular polysaccharide antigen 0.05 MG/ML / Streptococcus pne...",
          "Streptococcus pneumoniae type 1 capsular polysaccharide antigen 0.05 MG/ML / Streptococcus pneumoniae type 10A capsular polysaccharide antigen 0.05 MG/ML / Streptococcus pneumoniae type 11A capsular polysaccharide antigen 0.05 MG/ML / Streptococcus pne...",
          "Streptococcus pneumoniae type 1 capsular polysaccharide antigen 0.05 MG/ML / Streptococcus pneumoniae type 10A capsular polysaccharide antigen 0.05 MG/ML / Streptococcus pneumoniae type 11A capsular polysaccharide antigen 0.05 MG/ML / Streptococcus pne...",
          "Streptococcus pneumoniae type 1 capsular polysaccharide antigen 0.05 MG/ML / Streptococcus pneumoniae type 10A capsular polysaccharide antigen 0.05 MG/ML / Streptococcus pneumoniae type 11A capsular polysaccharide antigen 0.05 MG/ML / Streptococcus pne...",
          "Streptococcus pneumoniae type 1 capsular polysaccharide antigen 0.05 MG/ML / Streptococcus pneumoniae type 10A capsular polysaccharide antigen 0.05 MG/ML / Streptococcus pneumoniae type 11A capsular polysaccharide antigen 0.05 MG/ML / Streptococcus pne...",
          "Streptococcus pneumoniae type 1 capsular polysaccharide antigen 0.05 MG/ML / Streptococcus pneumoniae type 10A capsular polysaccharide antigen 0.05 MG/ML / Streptococcus pneumoniae type 11A capsular polysaccharide antigen 0.05 MG/ML / Streptococcus pne...",
          "Streptococcus pneumoniae type 1 capsular polysaccharide antigen 0.05 MG/ML / Streptococcus pneumoniae type 10A capsular polysaccharide antigen 0.05 MG/ML / Streptococcus pneumoniae type 11A capsular polysaccharide antigen 0.05 MG/ML / Streptococcus pne...",
          "Streptococcus pneumoniae type 1 capsular polysaccharide antigen 0.05 MG/ML / Streptococcus pneumoniae type 10A capsular polysaccharide antigen 0.05 MG/ML / Streptococcus pneumoniae type 11A capsular polysaccharide antigen 0.05 MG/ML / Streptococcus pne...",
          "Streptococcus pneumoniae type 1 capsular polysaccharide antigen 0.05 MG/ML / Streptococcus pneumoniae type 10A capsular polysaccharide antigen 0.05 MG/ML / Streptococcus pneumoniae type 11A capsular polysaccharide antigen 0.05 MG/ML / Streptococcus pne...",
          "Streptococcus pneumoniae type 1 capsular polysaccharide antigen 0.05 MG/ML / Streptococcus pneumoniae type 10A capsular polysaccharide antigen 0.05 MG/ML / Streptococcus pneumoniae type 11A capsular polysaccharide antigen 0.05 MG/ML / Streptococcus pne...",
          "Streptococcus pneumoniae type 1 capsular polysaccharide antigen 0.05 MG/ML / Streptococcus pneumoniae type 10A capsular polysaccharide antigen 0.05 MG/ML / Streptococcus pneumoniae type 11A capsular polysaccharide antigen 0.05 MG/ML / Streptococcus pne...",
          "Streptococcus pneumoniae type 1 capsular polysaccharide antigen 0.05 MG/ML / Streptococcus pneumoniae type 10A capsular polysaccharide antigen 0.05 MG/ML / Streptococcus pneumoniae type 11A capsular polysaccharide antigen 0.05 MG/ML / Streptococcus pne...",
          "Streptococcus pneumoniae type 1 capsular polysaccharide antigen 0.05 MG/ML / Streptococcus pneumoniae type 10A capsular polysaccharide antigen 0.05 MG/ML / Streptococcus pneumoniae type 11A capsular polysaccharide antigen 0.05 MG/ML / Streptococcus pne...",
          "insulin lispro 100 UNT/ML Injectable Solution [Humalog]",
          "insulin lispro 100 UNT/ML Injectable Solution [Humalog]",
          "insulin lispro 100 UNT/ML Injectable Solution [Humalog]",
          "insulin lispro 100 UNT/ML Injectable Solution [Humalog]",
          "insulin lispro 100 UNT/ML Injectable Solution [Humalog]",
          "insulin lispro 100 UNT/ML Injectable Solution [Humalog]",
          "insulin lispro 100 UNT/ML Injectable Solution [Humalog]",
          "insulin lispro 100 UNT/ML Injectable Solution [Humalog]",
          "insulin lispro 100 UNT/ML Injectable Solution [Humalog]",
          "insulin lispro 100 UNT/ML Injectable Solution [Humalog]",
          "insulin lispro 100 UNT/ML Injectable Solution [Humalog]",
          "insulin lispro 100 UNT/ML Injectable Solution [Humalog]",
          "insulin lispro 100 UNT/ML Injectable Solution [Humalog]",
          "insulin lispro 100 UNT/ML Injectable Solution [Humalog]",
          "insulin lispro 100 UNT/ML Injectable Solution [Humalog]",
          "insulin lispro 100 UNT/ML Injectable Solution [Humalog]",
          "insulin lispro 100 UNT/ML Injectable Solution [Humalog]",
          "insulin lispro 100 UNT/ML Injectable Solution [Humalog]",
          "insulin lispro 100 UNT/ML Injectable Solution [Humalog]",
          "insulin lispro 100 UNT/ML Injectable Solution [Humalog]",
          "insulin lispro 100 UNT/ML Injectable Solution [Humalog]",
          "insulin lispro 100 UNT/ML Injectable Solution [Humalog]",
          "insulin lispro 100 UNT/ML Injectable Solution [Humalog]",
          "insulin lispro 100 UNT/ML Injectable Solution [Humalog]",
          "insulin lispro 100 UNT/ML Injectable Solution [Humalog]",
          "insulin lispro 100 UNT/ML Injectable Solution [Humalog]",
          "insulin lispro 100 UNT/ML Injectable Solution [Humalog]",
          "insulin lispro 100 UNT/ML Injectable Solution [Humalog]",
          "insulin lispro 100 UNT/ML Injectable Solution [Humalog]",
          "insulin lispro 100 UNT/ML Injectable Solution [Humalog]",
          "insulin lispro 100 UNT/ML Injectable Solution [Humalog]",
          "insulin lispro 100 UNT/ML Injectable Solution [Humalog]",
          "insulin lispro 100 UNT/ML Injectable Solution [Humalog]",
          "insulin lispro 100 UNT/ML Injectable Solution [Humalog]",
          "insulin lispro 100 UNT/ML Injectable Solution [Humalog]",
          "insulin lispro 100 UNT/ML Injectable Solution [Humalog]",
          "5 ML metoprolol tartrate 1 MG/ML Injection",
          "buspirone hydrochloride 10 MG Oral Tablet",
          "buspirone hydrochloride 10 MG Oral Tablet",
          "buspirone hydrochloride 10 MG Oral Tablet",
          "buspirone hydrochloride 10 MG Oral Tablet",
          "buspirone hydrochloride 10 MG Oral Tablet",
          "buspirone hydrochloride 10 MG Oral Tablet",
          "buspirone hydrochloride 5 MG Oral Tablet",
          "losartan potassium 50 MG Oral Tablet",
          "losartan potassium 50 MG Oral Tablet",
          "1000 ML sodium chloride 9 MG/ML Injection",
          "1000 ML sodium chloride 9 MG/ML Injection",
          "1000 ML sodium chloride 9 MG/ML Injection",
          "1000 ML sodium chloride 9 MG/ML Injection",
          "1000 ML sodium chloride 9 MG/ML Injection",
          "1000 ML sodium chloride 9 MG/ML Injection",
          "1000 ML sodium chloride 9 MG/ML Injection",
          "1000 ML sodium chloride 9 MG/ML Injection",
          "1000 ML sodium chloride 4.5 MG/ML Injection",
          "1000 ML sodium chloride 4.5 MG/ML Injection",
          "100 ML sodium chloride 9 MG/ML Injection",
          "100 ML sodium chloride 9 MG/ML Injection",
          "100 ML sodium chloride 9 MG/ML Injection",
          "100 ML sodium chloride 9 MG/ML Injection",
          "100 ML sodium chloride 9 MG/ML Injection",
          "100 ML sodium chloride 9 MG/ML Injection",
          "100 ML sodium chloride 9 MG/ML Injection",
          "100 ML sodium chloride 9 MG/ML Injection",
          "100 ML sodium chloride 9 MG/ML Injection",
          "100 ML sodium chloride 9 MG/ML Injection",
          "100 ML sodium chloride 9 MG/ML Injection",
          "100 ML sodium chloride 9 MG/ML Injection",
          "250 ML sodium chloride 9 MG/ML Injection",
          "250 ML sodium chloride 9 MG/ML Injection",
          "250 ML sodium chloride 9 MG/ML Injection",
          "500 ML sodium chloride 9 MG/ML Injection",
          "500 ML sodium chloride 9 MG/ML Injection",
          "500 ML sodium chloride 9 MG/ML Injection",
          "500 ML sodium chloride 9 MG/ML Injection",
          "500 ML sodium chloride 9 MG/ML Injection",
          "500 ML sodium chloride 9 MG/ML Injection",
          "500 ML sodium chloride 9 MG/ML Injection",
          "500 ML sodium chloride 9 MG/ML Injection",
          "500 ML sodium chloride 9 MG/ML Injection",
          "100 ML acetaminophen 10 MG/ML Injection [Ofirmev]",
          "dextromethorphan hydrobromide 2 MG/ML / guaifenesin 20 MG/ML Oral Solution [Diabetic Tussin DM]",
          "dextromethorphan hydrobromide 2 MG/ML / guaifenesin 20 MG/ML Oral Solution [Diabetic Tussin DM]",
          "docusate sodium 10 MG/ML Oral Suspension",
          "docusate sodium 10 MG/ML Oral Suspension",
          "heparin sodium, porcine 5000 UNT/ML Injectable Solution",
          "heparin sodium, porcine 5000 UNT/ML Injectable Solution",
          "heparin sodium, porcine 5000 UNT/ML Injectable Solution",
          "heparin sodium, porcine 5000 UNT/ML Injectable Solution",
          "heparin sodium, porcine 5000 UNT/ML Injectable Solution",
          "heparin sodium, porcine 5000 UNT/ML Injectable Solution",
          "heparin sodium, porcine 5000 UNT/ML Injectable Solution",
          "heparin sodium, porcine 5000 UNT/ML Injectable Solution",
          "prednisolone acetate 10 MG/ML Ophthalmic Suspension",
          null,
          "docusate sodium 100 MG Oral Capsule [DOK]",
          "docusate sodium 100 MG Oral Capsule [DOK]",
          "docusate sodium 100 MG Oral Capsule [DOK]",
          "docusate sodium 100 MG Oral Capsule [DOK]",
          "docusate sodium 100 MG Oral Capsule [DOK]",
          "50 ML magnesium sulfate 40 MG/ML Injection",
          "50 ML magnesium sulfate 40 MG/ML Injection",
          "50 ML magnesium sulfate 40 MG/ML Injection",
          "50 ML magnesium sulfate 40 MG/ML Injection",
          "50 ML magnesium sulfate 40 MG/ML Injection",
          "50 ML magnesium sulfate 40 MG/ML Injection",
          "50 ML magnesium sulfate 40 MG/ML Injection",
          "50 ML magnesium sulfate 40 MG/ML Injection",
          "50 ML magnesium sulfate 40 MG/ML Injection",
          "50 ML magnesium sulfate 40 MG/ML Injection",
          "50 ML magnesium sulfate 40 MG/ML Injection",
          "50 ML magnesium sulfate 40 MG/ML Injection",
          "50 ML magnesium sulfate 40 MG/ML Injection",
          "50 ML magnesium sulfate 40 MG/ML Injection",
          "50 ML magnesium sulfate 40 MG/ML Injection",
          "50 ML magnesium sulfate 40 MG/ML Injection",
          "50 ML magnesium sulfate 40 MG/ML Injection",
          "50 ML magnesium sulfate 40 MG/ML Injection",
          "50 ML magnesium sulfate 40 MG/ML Injection",
          "50 ML magnesium sulfate 40 MG/ML Injection",
          "50 ML magnesium sulfate 40 MG/ML Injection",
          "50 ML magnesium sulfate 40 MG/ML Injection",
          "50 ML magnesium sulfate 40 MG/ML Injection",
          "50 ML magnesium sulfate 40 MG/ML Injection",
          "50 ML magnesium sulfate 40 MG/ML Injection",
          "50 ML magnesium sulfate 40 MG/ML Injection",
          "50 ML magnesium sulfate 40 MG/ML Injection",
          "50 ML magnesium sulfate 40 MG/ML Injection",
          "50 ML magnesium sulfate 40 MG/ML Injection",
          "50 ML magnesium sulfate 40 MG/ML Injection",
          "50 ML magnesium sulfate 40 MG/ML Injection",
          "50 ML magnesium sulfate 40 MG/ML Injection",
          "50 ML magnesium sulfate 40 MG/ML Injection",
          "50 ML magnesium sulfate 40 MG/ML Injection",
          "ceftriaxone 1000 MG Injection",
          "ceftriaxone 1000 MG Injection [Rocephin]",
          "ceftriaxone 1000 MG Injection [Rocephin]",
          "ceftriaxone 1000 MG Injection [Rocephin]",
          "ceftriaxone 1000 MG Injection [Rocephin]",
          "cefepime 1000 MG Injection",
          "200 ML ciprofloxacin 2 MG/ML Injection",
          "mirtazapine 15 MG Oral Tablet",
          "nystatin 100000 UNT/ML Topical Cream",
          "sennosides, USP 8.6 MG Oral Tablet",
          "sennosides, USP 8.6 MG Oral Tablet",
          "sennosides, USP 8.6 MG Oral Tablet",
          "sennosides, USP 8.6 MG Oral Tablet",
          "sodium phosphate",
          "sodium phosphate",
          "sodium phosphate",
          "sodium phosphate",
          "sodium phosphate",
          "pantoprazole 40 MG Injection",
          "pantoprazole 40 MG Injection",
          "ranitidine 150 MG Oral Tablet",
          "ranitidine 150 MG Oral Tablet",
          "ranitidine 150 MG Oral Tablet",
          "ranitidine 150 MG Oral Tablet",
          "ranitidine 150 MG Oral Tablet",
          "potassium phosphate 155 MG / sodium phosphate, dibasic 852 MG / sodium phosphate, monobasic 130 MG Oral Tablet [Phospha 250 Neutral]",
          "potassium phosphate 155 MG / sodium phosphate, dibasic 852 MG / sodium phosphate, monobasic 130 MG Oral Tablet [Phospha 250 Neutral]",
          "potassium phosphate 155 MG / sodium phosphate, dibasic 852 MG / sodium phosphate, monobasic 130 MG Oral Tablet [Phospha 250 Neutral]",
          "potassium phosphate 155 MG / sodium phosphate, dibasic 852 MG / sodium phosphate, monobasic 130 MG Oral Tablet [Phospha 250 Neutral]",
          "potassium phosphate 155 MG / sodium phosphate, dibasic 852 MG / sodium phosphate, monobasic 130 MG Oral Tablet [Phospha 250 Neutral]",
          "potassium phosphate 155 MG / sodium phosphate, dibasic 852 MG / sodium phosphate, monobasic 130 MG Oral Tablet [Phospha 250 Neutral]",
          "potassium phosphate 155 MG / sodium phosphate, dibasic 852 MG / sodium phosphate, monobasic 130 MG Oral Tablet [Phospha 250 Neutral]",
          "potassium phosphate 155 MG / sodium phosphate, dibasic 852 MG / sodium phosphate, monobasic 130 MG Oral Tablet [Phospha 250 Neutral]",
          "potassium phosphate 155 MG / sodium phosphate, dibasic 852 MG / sodium phosphate, monobasic 130 MG Oral Tablet [Phospha 250 Neutral]",
          "potassium phosphate 155 MG / sodium phosphate, dibasic 852 MG / sodium phosphate, monobasic 130 MG Oral Tablet [Phospha 250 Neutral]",
          "potassium phosphate 155 MG / sodium phosphate, dibasic 852 MG / sodium phosphate, monobasic 130 MG Oral Tablet [Phospha 250 Neutral]",
          "potassium phosphate 155 MG / sodium phosphate, dibasic 852 MG / sodium phosphate, monobasic 130 MG Oral Tablet [Phospha 250 Neutral]",
          "potassium phosphate 155 MG / sodium phosphate, dibasic 852 MG / sodium phosphate, monobasic 130 MG Oral Tablet [Phospha 250 Neutral]",
          "potassium phosphate 155 MG / sodium phosphate, dibasic 852 MG / sodium phosphate, monobasic 130 MG Oral Tablet [Phospha 250 Neutral]",
          "potassium phosphate 155 MG / sodium phosphate, dibasic 852 MG / sodium phosphate, monobasic 130 MG Oral Tablet [Phospha 250 Neutral]"
         ],
         "yaxis": "y"
        }
       ],
       "layout": {
        "barmode": "overlay",
        "legend": {
         "tracegroupgap": 0
        },
        "margin": {
         "t": 60
        },
        "template": {
         "data": {
          "bar": [
           {
            "error_x": {
             "color": "#2a3f5f"
            },
            "error_y": {
             "color": "#2a3f5f"
            },
            "marker": {
             "line": {
              "color": "#E5ECF6",
              "width": 0.5
             },
             "pattern": {
              "fillmode": "overlay",
              "size": 10,
              "solidity": 0.2
             }
            },
            "type": "bar"
           }
          ],
          "barpolar": [
           {
            "marker": {
             "line": {
              "color": "#E5ECF6",
              "width": 0.5
             },
             "pattern": {
              "fillmode": "overlay",
              "size": 10,
              "solidity": 0.2
             }
            },
            "type": "barpolar"
           }
          ],
          "carpet": [
           {
            "aaxis": {
             "endlinecolor": "#2a3f5f",
             "gridcolor": "white",
             "linecolor": "white",
             "minorgridcolor": "white",
             "startlinecolor": "#2a3f5f"
            },
            "baxis": {
             "endlinecolor": "#2a3f5f",
             "gridcolor": "white",
             "linecolor": "white",
             "minorgridcolor": "white",
             "startlinecolor": "#2a3f5f"
            },
            "type": "carpet"
           }
          ],
          "choropleth": [
           {
            "colorbar": {
             "outlinewidth": 0,
             "ticks": ""
            },
            "type": "choropleth"
           }
          ],
          "contour": [
           {
            "colorbar": {
             "outlinewidth": 0,
             "ticks": ""
            },
            "colorscale": [
             [
              0,
              "#0d0887"
             ],
             [
              0.1111111111111111,
              "#46039f"
             ],
             [
              0.2222222222222222,
              "#7201a8"
             ],
             [
              0.3333333333333333,
              "#9c179e"
             ],
             [
              0.4444444444444444,
              "#bd3786"
             ],
             [
              0.5555555555555556,
              "#d8576b"
             ],
             [
              0.6666666666666666,
              "#ed7953"
             ],
             [
              0.7777777777777778,
              "#fb9f3a"
             ],
             [
              0.8888888888888888,
              "#fdca26"
             ],
             [
              1,
              "#f0f921"
             ]
            ],
            "type": "contour"
           }
          ],
          "contourcarpet": [
           {
            "colorbar": {
             "outlinewidth": 0,
             "ticks": ""
            },
            "type": "contourcarpet"
           }
          ],
          "heatmap": [
           {
            "colorbar": {
             "outlinewidth": 0,
             "ticks": ""
            },
            "colorscale": [
             [
              0,
              "#0d0887"
             ],
             [
              0.1111111111111111,
              "#46039f"
             ],
             [
              0.2222222222222222,
              "#7201a8"
             ],
             [
              0.3333333333333333,
              "#9c179e"
             ],
             [
              0.4444444444444444,
              "#bd3786"
             ],
             [
              0.5555555555555556,
              "#d8576b"
             ],
             [
              0.6666666666666666,
              "#ed7953"
             ],
             [
              0.7777777777777778,
              "#fb9f3a"
             ],
             [
              0.8888888888888888,
              "#fdca26"
             ],
             [
              1,
              "#f0f921"
             ]
            ],
            "type": "heatmap"
           }
          ],
          "heatmapgl": [
           {
            "colorbar": {
             "outlinewidth": 0,
             "ticks": ""
            },
            "colorscale": [
             [
              0,
              "#0d0887"
             ],
             [
              0.1111111111111111,
              "#46039f"
             ],
             [
              0.2222222222222222,
              "#7201a8"
             ],
             [
              0.3333333333333333,
              "#9c179e"
             ],
             [
              0.4444444444444444,
              "#bd3786"
             ],
             [
              0.5555555555555556,
              "#d8576b"
             ],
             [
              0.6666666666666666,
              "#ed7953"
             ],
             [
              0.7777777777777778,
              "#fb9f3a"
             ],
             [
              0.8888888888888888,
              "#fdca26"
             ],
             [
              1,
              "#f0f921"
             ]
            ],
            "type": "heatmapgl"
           }
          ],
          "histogram": [
           {
            "marker": {
             "pattern": {
              "fillmode": "overlay",
              "size": 10,
              "solidity": 0.2
             }
            },
            "type": "histogram"
           }
          ],
          "histogram2d": [
           {
            "colorbar": {
             "outlinewidth": 0,
             "ticks": ""
            },
            "colorscale": [
             [
              0,
              "#0d0887"
             ],
             [
              0.1111111111111111,
              "#46039f"
             ],
             [
              0.2222222222222222,
              "#7201a8"
             ],
             [
              0.3333333333333333,
              "#9c179e"
             ],
             [
              0.4444444444444444,
              "#bd3786"
             ],
             [
              0.5555555555555556,
              "#d8576b"
             ],
             [
              0.6666666666666666,
              "#ed7953"
             ],
             [
              0.7777777777777778,
              "#fb9f3a"
             ],
             [
              0.8888888888888888,
              "#fdca26"
             ],
             [
              1,
              "#f0f921"
             ]
            ],
            "type": "histogram2d"
           }
          ],
          "histogram2dcontour": [
           {
            "colorbar": {
             "outlinewidth": 0,
             "ticks": ""
            },
            "colorscale": [
             [
              0,
              "#0d0887"
             ],
             [
              0.1111111111111111,
              "#46039f"
             ],
             [
              0.2222222222222222,
              "#7201a8"
             ],
             [
              0.3333333333333333,
              "#9c179e"
             ],
             [
              0.4444444444444444,
              "#bd3786"
             ],
             [
              0.5555555555555556,
              "#d8576b"
             ],
             [
              0.6666666666666666,
              "#ed7953"
             ],
             [
              0.7777777777777778,
              "#fb9f3a"
             ],
             [
              0.8888888888888888,
              "#fdca26"
             ],
             [
              1,
              "#f0f921"
             ]
            ],
            "type": "histogram2dcontour"
           }
          ],
          "mesh3d": [
           {
            "colorbar": {
             "outlinewidth": 0,
             "ticks": ""
            },
            "type": "mesh3d"
           }
          ],
          "parcoords": [
           {
            "line": {
             "colorbar": {
              "outlinewidth": 0,
              "ticks": ""
             }
            },
            "type": "parcoords"
           }
          ],
          "pie": [
           {
            "automargin": true,
            "type": "pie"
           }
          ],
          "scatter": [
           {
            "fillpattern": {
             "fillmode": "overlay",
             "size": 10,
             "solidity": 0.2
            },
            "type": "scatter"
           }
          ],
          "scatter3d": [
           {
            "line": {
             "colorbar": {
              "outlinewidth": 0,
              "ticks": ""
             }
            },
            "marker": {
             "colorbar": {
              "outlinewidth": 0,
              "ticks": ""
             }
            },
            "type": "scatter3d"
           }
          ],
          "scattercarpet": [
           {
            "marker": {
             "colorbar": {
              "outlinewidth": 0,
              "ticks": ""
             }
            },
            "type": "scattercarpet"
           }
          ],
          "scattergeo": [
           {
            "marker": {
             "colorbar": {
              "outlinewidth": 0,
              "ticks": ""
             }
            },
            "type": "scattergeo"
           }
          ],
          "scattergl": [
           {
            "marker": {
             "colorbar": {
              "outlinewidth": 0,
              "ticks": ""
             }
            },
            "type": "scattergl"
           }
          ],
          "scattermapbox": [
           {
            "marker": {
             "colorbar": {
              "outlinewidth": 0,
              "ticks": ""
             }
            },
            "type": "scattermapbox"
           }
          ],
          "scatterpolar": [
           {
            "marker": {
             "colorbar": {
              "outlinewidth": 0,
              "ticks": ""
             }
            },
            "type": "scatterpolar"
           }
          ],
          "scatterpolargl": [
           {
            "marker": {
             "colorbar": {
              "outlinewidth": 0,
              "ticks": ""
             }
            },
            "type": "scatterpolargl"
           }
          ],
          "scatterternary": [
           {
            "marker": {
             "colorbar": {
              "outlinewidth": 0,
              "ticks": ""
             }
            },
            "type": "scatterternary"
           }
          ],
          "surface": [
           {
            "colorbar": {
             "outlinewidth": 0,
             "ticks": ""
            },
            "colorscale": [
             [
              0,
              "#0d0887"
             ],
             [
              0.1111111111111111,
              "#46039f"
             ],
             [
              0.2222222222222222,
              "#7201a8"
             ],
             [
              0.3333333333333333,
              "#9c179e"
             ],
             [
              0.4444444444444444,
              "#bd3786"
             ],
             [
              0.5555555555555556,
              "#d8576b"
             ],
             [
              0.6666666666666666,
              "#ed7953"
             ],
             [
              0.7777777777777778,
              "#fb9f3a"
             ],
             [
              0.8888888888888888,
              "#fdca26"
             ],
             [
              1,
              "#f0f921"
             ]
            ],
            "type": "surface"
           }
          ],
          "table": [
           {
            "cells": {
             "fill": {
              "color": "#EBF0F8"
             },
             "line": {
              "color": "white"
             }
            },
            "header": {
             "fill": {
              "color": "#C8D4E3"
             },
             "line": {
              "color": "white"
             }
            },
            "type": "table"
           }
          ]
         },
         "layout": {
          "annotationdefaults": {
           "arrowcolor": "#2a3f5f",
           "arrowhead": 0,
           "arrowwidth": 1
          },
          "autotypenumbers": "strict",
          "coloraxis": {
           "colorbar": {
            "outlinewidth": 0,
            "ticks": ""
           }
          },
          "colorscale": {
           "diverging": [
            [
             0,
             "#8e0152"
            ],
            [
             0.1,
             "#c51b7d"
            ],
            [
             0.2,
             "#de77ae"
            ],
            [
             0.3,
             "#f1b6da"
            ],
            [
             0.4,
             "#fde0ef"
            ],
            [
             0.5,
             "#f7f7f7"
            ],
            [
             0.6,
             "#e6f5d0"
            ],
            [
             0.7,
             "#b8e186"
            ],
            [
             0.8,
             "#7fbc41"
            ],
            [
             0.9,
             "#4d9221"
            ],
            [
             1,
             "#276419"
            ]
           ],
           "sequential": [
            [
             0,
             "#0d0887"
            ],
            [
             0.1111111111111111,
             "#46039f"
            ],
            [
             0.2222222222222222,
             "#7201a8"
            ],
            [
             0.3333333333333333,
             "#9c179e"
            ],
            [
             0.4444444444444444,
             "#bd3786"
            ],
            [
             0.5555555555555556,
             "#d8576b"
            ],
            [
             0.6666666666666666,
             "#ed7953"
            ],
            [
             0.7777777777777778,
             "#fb9f3a"
            ],
            [
             0.8888888888888888,
             "#fdca26"
            ],
            [
             1,
             "#f0f921"
            ]
           ],
           "sequentialminus": [
            [
             0,
             "#0d0887"
            ],
            [
             0.1111111111111111,
             "#46039f"
            ],
            [
             0.2222222222222222,
             "#7201a8"
            ],
            [
             0.3333333333333333,
             "#9c179e"
            ],
            [
             0.4444444444444444,
             "#bd3786"
            ],
            [
             0.5555555555555556,
             "#d8576b"
            ],
            [
             0.6666666666666666,
             "#ed7953"
            ],
            [
             0.7777777777777778,
             "#fb9f3a"
            ],
            [
             0.8888888888888888,
             "#fdca26"
            ],
            [
             1,
             "#f0f921"
            ]
           ]
          },
          "colorway": [
           "#636efa",
           "#EF553B",
           "#00cc96",
           "#ab63fa",
           "#FFA15A",
           "#19d3f3",
           "#FF6692",
           "#B6E880",
           "#FF97FF",
           "#FECB52"
          ],
          "font": {
           "color": "#2a3f5f"
          },
          "geo": {
           "bgcolor": "white",
           "lakecolor": "white",
           "landcolor": "#E5ECF6",
           "showlakes": true,
           "showland": true,
           "subunitcolor": "white"
          },
          "hoverlabel": {
           "align": "left"
          },
          "hovermode": "closest",
          "mapbox": {
           "style": "light"
          },
          "paper_bgcolor": "white",
          "plot_bgcolor": "#E5ECF6",
          "polar": {
           "angularaxis": {
            "gridcolor": "white",
            "linecolor": "white",
            "ticks": ""
           },
           "bgcolor": "#E5ECF6",
           "radialaxis": {
            "gridcolor": "white",
            "linecolor": "white",
            "ticks": ""
           }
          },
          "scene": {
           "xaxis": {
            "backgroundcolor": "#E5ECF6",
            "gridcolor": "white",
            "gridwidth": 2,
            "linecolor": "white",
            "showbackground": true,
            "ticks": "",
            "zerolinecolor": "white"
           },
           "yaxis": {
            "backgroundcolor": "#E5ECF6",
            "gridcolor": "white",
            "gridwidth": 2,
            "linecolor": "white",
            "showbackground": true,
            "ticks": "",
            "zerolinecolor": "white"
           },
           "zaxis": {
            "backgroundcolor": "#E5ECF6",
            "gridcolor": "white",
            "gridwidth": 2,
            "linecolor": "white",
            "showbackground": true,
            "ticks": "",
            "zerolinecolor": "white"
           }
          },
          "shapedefaults": {
           "line": {
            "color": "#2a3f5f"
           }
          },
          "ternary": {
           "aaxis": {
            "gridcolor": "white",
            "linecolor": "white",
            "ticks": ""
           },
           "baxis": {
            "gridcolor": "white",
            "linecolor": "white",
            "ticks": ""
           },
           "bgcolor": "#E5ECF6",
           "caxis": {
            "gridcolor": "white",
            "linecolor": "white",
            "ticks": ""
           }
          },
          "title": {
           "x": 0.05
          },
          "xaxis": {
           "automargin": true,
           "gridcolor": "white",
           "linecolor": "white",
           "ticks": "",
           "title": {
            "standoff": 15
           },
           "zerolinecolor": "white",
           "zerolinewidth": 2
          },
          "yaxis": {
           "automargin": true,
           "gridcolor": "white",
           "linecolor": "white",
           "ticks": "",
           "title": {
            "standoff": 15
           },
           "zerolinecolor": "white",
           "zerolinewidth": 2
          }
         }
        },
        "xaxis": {
         "anchor": "y",
         "domain": [
          0,
          1
         ],
         "type": "date"
        },
        "yaxis": {
         "anchor": "x",
         "domain": [
          0,
          1
         ],
         "title": {
          "text": "drug_concept_name"
         }
        }
       }
      }
     },
     "metadata": {},
     "output_type": "display_data"
    }
   ],
   "source": [
    "visit_df = patient_df.copy()\n",
    "visit_df[\"drug_concept_id\"] = visit_df[\"drug_concept_id\"].astype(str)\n",
    "visit_df = visit_df.sort_values(by=[\"drug_concept_id\", \"drug_exposure_start_datetime\"]).reset_index(drop=True)\n",
    "# TODO: Diff by drug_concept_id\n",
    "visit_df[\"quantity_diff\"] = visit_df.groupby(\"drug_concept_id\")[\"quantity\"].diff()\n",
    "visit_df[\"quantity_diff_percentage\"] = visit_df.apply(lambda x: round(x[\"quantity_diff\"]/x[\"quantity\"]*100, 2) if x[\"quantity\"] > 0 else 100, axis=1)\n",
    "visit_df[\"quantity_diff_trend\"] = visit_df[\"quantity_diff\"].apply(get_trend)\n",
    "\n",
    "fig = px.timeline(\n",
    "    visit_df,\n",
    "    x_start=\"drug_exposure_start_datetime\",\n",
    "    x_end=\"drug_exposure_end_datetime\",\n",
    "    y=\"drug_concept_name\",\n",
    "    # color=\"quantity_diff_trend\",\n",
    "    # color_continuous_scale=\"bluered\",\n",
    "    # opacity=0.5,\n",
    ")\n",
    "fig.show()"
   ]
  },
  {
   "cell_type": "code",
   "execution_count": 58,
   "metadata": {},
   "outputs": [],
   "source": [
    "visit_df[\"drug_concept_id\"] = visit_df[\"drug_concept_id\"].astype(str)\n",
    "visit_df = visit_df.sort_values(by=[\"drug_concept_id\", \"drug_exposure_start_datetime\"]).reset_index(drop=True)\n",
    "# TODO: Diff by drug_concept_id\n",
    "visit_df[\"quantity_diff\"] = visit_df.groupby(\"drug_concept_id\")[\"quantity\"].diff()\n",
    "visit_df[\"quantity_diff_percentage\"] = visit_df.apply(lambda x: round(x[\"quantity_diff\"]/x[\"quantity\"]*100, 2) if x[\"quantity\"] > 0 else 100, axis=1)\n",
    "visit_df[\"quantity_diff_trend\"] = visit_df[\"quantity_diff\"].apply(get_trend)"
   ]
  },
  {
   "cell_type": "code",
   "execution_count": 44,
   "metadata": {},
   "outputs": [
    {
     "data": {
      "text/plain": [
       "count    99.0\n",
       "mean      0.0\n",
       "std       0.0\n",
       "min       0.0\n",
       "25%       0.0\n",
       "50%       0.0\n",
       "75%       0.0\n",
       "max       0.0\n",
       "Name: quantity, dtype: float64"
      ]
     },
     "execution_count": 44,
     "metadata": {},
     "output_type": "execute_result"
    }
   ],
   "source": [
    "drug_exposure_df[drug_exposure_df[\"drug_concept_id\"] == 1596977][\"quantity\"].describe()"
   ]
  },
  {
   "cell_type": "code",
   "execution_count": 39,
   "metadata": {},
   "outputs": [
    {
     "data": {
      "text/html": [
       "<div>\n",
       "<style scoped>\n",
       "    .dataframe tbody tr th:only-of-type {\n",
       "        vertical-align: middle;\n",
       "    }\n",
       "\n",
       "    .dataframe tbody tr th {\n",
       "        vertical-align: top;\n",
       "    }\n",
       "\n",
       "    .dataframe thead th {\n",
       "        text-align: right;\n",
       "    }\n",
       "</style>\n",
       "<table border=\"1\" class=\"dataframe\">\n",
       "  <thead>\n",
       "    <tr style=\"text-align: right;\">\n",
       "      <th></th>\n",
       "      <th>level_0</th>\n",
       "      <th>index</th>\n",
       "      <th>drug_exposure_id</th>\n",
       "      <th>person_id</th>\n",
       "      <th>drug_concept_id</th>\n",
       "      <th>drug_exposure_start_date</th>\n",
       "      <th>drug_exposure_start_datetime</th>\n",
       "      <th>drug_exposure_end_date</th>\n",
       "      <th>drug_exposure_end_datetime</th>\n",
       "      <th>verbatim_end_date</th>\n",
       "      <th>drug_type_concept_id</th>\n",
       "      <th>stop_reason</th>\n",
       "      <th>refills</th>\n",
       "      <th>quantity</th>\n",
       "      <th>days_supply</th>\n",
       "      <th>sig</th>\n",
       "      <th>route_concept_id</th>\n",
       "      <th>lot_number</th>\n",
       "      <th>provider_id</th>\n",
       "      <th>visit_occurrence_id</th>\n",
       "      <th>visit_detail_id</th>\n",
       "      <th>drug_source_value</th>\n",
       "      <th>drug_source_concept_id</th>\n",
       "      <th>route_source_value</th>\n",
       "      <th>dose_unit_source_value</th>\n",
       "      <th>concept_id</th>\n",
       "      <th>concept_name</th>\n",
       "      <th>domain_id</th>\n",
       "      <th>vocabulary_id</th>\n",
       "      <th>concept_class_id</th>\n",
       "      <th>standard_concept</th>\n",
       "      <th>concept_code</th>\n",
       "      <th>valid_start_date</th>\n",
       "      <th>valid_end_date</th>\n",
       "      <th>invalid_reason</th>\n",
       "      <th>quantity_diff</th>\n",
       "      <th>quantity_diff_percentage</th>\n",
       "      <th>quantity_diff_trend</th>\n",
       "    </tr>\n",
       "  </thead>\n",
       "  <tbody>\n",
       "    <tr>\n",
       "      <th>36</th>\n",
       "      <td>61</td>\n",
       "      <td>61</td>\n",
       "      <td>2660403691083715582</td>\n",
       "      <td>1741351032930224901</td>\n",
       "      <td>19040187</td>\n",
       "      <td>2177-07-15</td>\n",
       "      <td>2177-07-15 04:00:00</td>\n",
       "      <td>2177-07-15</td>\n",
       "      <td>2177-07-15 20:00:00</td>\n",
       "      <td>NaN</td>\n",
       "      <td>32838</td>\n",
       "      <td>NaN</td>\n",
       "      <td>NaN</td>\n",
       "      <td>3.0</td>\n",
       "      <td>NaN</td>\n",
       "      <td>NaN</td>\n",
       "      <td>4132161</td>\n",
       "      <td>NaN</td>\n",
       "      <td>NaN</td>\n",
       "      <td>3736965967695233281</td>\n",
       "      <td>NaN</td>\n",
       "      <td>00456066270</td>\n",
       "      <td>45215516</td>\n",
       "      <td>PO</td>\n",
       "      <td>PKT</td>\n",
       "      <td>19040187.0</td>\n",
       "      <td>potassium chloride 1.33 MEQ/ML Oral Solution [...</td>\n",
       "      <td>Drug</td>\n",
       "      <td>RxNorm</td>\n",
       "      <td>Branded Drug</td>\n",
       "      <td>S</td>\n",
       "      <td>208958</td>\n",
       "      <td>1970-01-01</td>\n",
       "      <td>2099-12-31</td>\n",
       "      <td>NaN</td>\n",
       "      <td>NaN</td>\n",
       "      <td>NaN</td>\n",
       "      <td>0</td>\n",
       "    </tr>\n",
       "    <tr>\n",
       "      <th>37</th>\n",
       "      <td>62</td>\n",
       "      <td>62</td>\n",
       "      <td>2489702615899122656</td>\n",
       "      <td>1741351032930224901</td>\n",
       "      <td>19040187</td>\n",
       "      <td>2177-07-15</td>\n",
       "      <td>2177-07-15 04:00:00</td>\n",
       "      <td>2177-07-15</td>\n",
       "      <td>2177-07-15 20:00:00</td>\n",
       "      <td>NaN</td>\n",
       "      <td>32838</td>\n",
       "      <td>NaN</td>\n",
       "      <td>NaN</td>\n",
       "      <td>2.0</td>\n",
       "      <td>NaN</td>\n",
       "      <td>NaN</td>\n",
       "      <td>4132161</td>\n",
       "      <td>NaN</td>\n",
       "      <td>NaN</td>\n",
       "      <td>3736965967695233281</td>\n",
       "      <td>NaN</td>\n",
       "      <td>00456066270</td>\n",
       "      <td>45215516</td>\n",
       "      <td>PO</td>\n",
       "      <td>PKT</td>\n",
       "      <td>19040187.0</td>\n",
       "      <td>potassium chloride 1.33 MEQ/ML Oral Solution [...</td>\n",
       "      <td>Drug</td>\n",
       "      <td>RxNorm</td>\n",
       "      <td>Branded Drug</td>\n",
       "      <td>S</td>\n",
       "      <td>208958</td>\n",
       "      <td>1970-01-01</td>\n",
       "      <td>2099-12-31</td>\n",
       "      <td>NaN</td>\n",
       "      <td>-1.0</td>\n",
       "      <td>-50.0</td>\n",
       "      <td>-1</td>\n",
       "    </tr>\n",
       "    <tr>\n",
       "      <th>38</th>\n",
       "      <td>63</td>\n",
       "      <td>63</td>\n",
       "      <td>6451066140159016571</td>\n",
       "      <td>1741351032930224901</td>\n",
       "      <td>19040187</td>\n",
       "      <td>2177-07-15</td>\n",
       "      <td>2177-07-15 04:00:00</td>\n",
       "      <td>2177-07-15</td>\n",
       "      <td>2177-07-15 20:00:00</td>\n",
       "      <td>NaN</td>\n",
       "      <td>32838</td>\n",
       "      <td>NaN</td>\n",
       "      <td>NaN</td>\n",
       "      <td>4.0</td>\n",
       "      <td>NaN</td>\n",
       "      <td>NaN</td>\n",
       "      <td>4132161</td>\n",
       "      <td>NaN</td>\n",
       "      <td>NaN</td>\n",
       "      <td>3736965967695233281</td>\n",
       "      <td>NaN</td>\n",
       "      <td>00456066270</td>\n",
       "      <td>45215516</td>\n",
       "      <td>PO</td>\n",
       "      <td>PKT</td>\n",
       "      <td>19040187.0</td>\n",
       "      <td>potassium chloride 1.33 MEQ/ML Oral Solution [...</td>\n",
       "      <td>Drug</td>\n",
       "      <td>RxNorm</td>\n",
       "      <td>Branded Drug</td>\n",
       "      <td>S</td>\n",
       "      <td>208958</td>\n",
       "      <td>1970-01-01</td>\n",
       "      <td>2099-12-31</td>\n",
       "      <td>NaN</td>\n",
       "      <td>2.0</td>\n",
       "      <td>50.0</td>\n",
       "      <td>1</td>\n",
       "    </tr>\n",
       "  </tbody>\n",
       "</table>\n",
       "</div>"
      ],
      "text/plain": [
       "    level_0  index     drug_exposure_id            person_id drug_concept_id  \\\n",
       "36       61     61  2660403691083715582  1741351032930224901        19040187   \n",
       "37       62     62  2489702615899122656  1741351032930224901        19040187   \n",
       "38       63     63  6451066140159016571  1741351032930224901        19040187   \n",
       "\n",
       "   drug_exposure_start_date drug_exposure_start_datetime  \\\n",
       "36               2177-07-15          2177-07-15 04:00:00   \n",
       "37               2177-07-15          2177-07-15 04:00:00   \n",
       "38               2177-07-15          2177-07-15 04:00:00   \n",
       "\n",
       "   drug_exposure_end_date drug_exposure_end_datetime  verbatim_end_date  \\\n",
       "36             2177-07-15        2177-07-15 20:00:00                NaN   \n",
       "37             2177-07-15        2177-07-15 20:00:00                NaN   \n",
       "38             2177-07-15        2177-07-15 20:00:00                NaN   \n",
       "\n",
       "    drug_type_concept_id  stop_reason  refills  quantity  days_supply  sig  \\\n",
       "36                 32838          NaN      NaN       3.0          NaN  NaN   \n",
       "37                 32838          NaN      NaN       2.0          NaN  NaN   \n",
       "38                 32838          NaN      NaN       4.0          NaN  NaN   \n",
       "\n",
       "    route_concept_id  lot_number  provider_id  visit_occurrence_id  \\\n",
       "36           4132161         NaN          NaN  3736965967695233281   \n",
       "37           4132161         NaN          NaN  3736965967695233281   \n",
       "38           4132161         NaN          NaN  3736965967695233281   \n",
       "\n",
       "    visit_detail_id drug_source_value  drug_source_concept_id  \\\n",
       "36              NaN       00456066270                45215516   \n",
       "37              NaN       00456066270                45215516   \n",
       "38              NaN       00456066270                45215516   \n",
       "\n",
       "   route_source_value dose_unit_source_value  concept_id  \\\n",
       "36                 PO                    PKT  19040187.0   \n",
       "37                 PO                    PKT  19040187.0   \n",
       "38                 PO                    PKT  19040187.0   \n",
       "\n",
       "                                         concept_name domain_id vocabulary_id  \\\n",
       "36  potassium chloride 1.33 MEQ/ML Oral Solution [...      Drug        RxNorm   \n",
       "37  potassium chloride 1.33 MEQ/ML Oral Solution [...      Drug        RxNorm   \n",
       "38  potassium chloride 1.33 MEQ/ML Oral Solution [...      Drug        RxNorm   \n",
       "\n",
       "   concept_class_id standard_concept concept_code valid_start_date  \\\n",
       "36     Branded Drug                S       208958       1970-01-01   \n",
       "37     Branded Drug                S       208958       1970-01-01   \n",
       "38     Branded Drug                S       208958       1970-01-01   \n",
       "\n",
       "   valid_end_date invalid_reason  quantity_diff  quantity_diff_percentage  \\\n",
       "36     2099-12-31            NaN            NaN                       NaN   \n",
       "37     2099-12-31            NaN           -1.0                     -50.0   \n",
       "38     2099-12-31            NaN            2.0                      50.0   \n",
       "\n",
       "    quantity_diff_trend  \n",
       "36                    0  \n",
       "37                   -1  \n",
       "38                    1  "
      ]
     },
     "execution_count": 39,
     "metadata": {},
     "output_type": "execute_result"
    }
   ],
   "source": [
    "visit_df[visit_df[\"drug_concept_id\"] == \"19040187\"]"
   ]
  },
  {
   "cell_type": "code",
   "execution_count": 60,
   "metadata": {},
   "outputs": [
    {
     "data": {
      "text/html": [
       "<div>\n",
       "<style scoped>\n",
       "    .dataframe tbody tr th:only-of-type {\n",
       "        vertical-align: middle;\n",
       "    }\n",
       "\n",
       "    .dataframe tbody tr th {\n",
       "        vertical-align: top;\n",
       "    }\n",
       "\n",
       "    .dataframe thead th {\n",
       "        text-align: right;\n",
       "    }\n",
       "</style>\n",
       "<table border=\"1\" class=\"dataframe\">\n",
       "  <thead>\n",
       "    <tr style=\"text-align: right;\">\n",
       "      <th></th>\n",
       "      <th>drug_exposure_id</th>\n",
       "      <th>person_id</th>\n",
       "      <th>drug_concept_id</th>\n",
       "      <th>drug_exposure_start_date</th>\n",
       "      <th>drug_exposure_start_datetime</th>\n",
       "      <th>drug_exposure_end_date</th>\n",
       "      <th>drug_exposure_end_datetime</th>\n",
       "      <th>verbatim_end_date</th>\n",
       "      <th>drug_type_concept_id</th>\n",
       "      <th>stop_reason</th>\n",
       "      <th>refills</th>\n",
       "      <th>quantity</th>\n",
       "      <th>days_supply</th>\n",
       "      <th>sig</th>\n",
       "      <th>route_concept_id</th>\n",
       "      <th>lot_number</th>\n",
       "      <th>provider_id</th>\n",
       "      <th>visit_occurrence_id</th>\n",
       "      <th>visit_detail_id</th>\n",
       "      <th>drug_source_value</th>\n",
       "      <th>drug_source_concept_id</th>\n",
       "      <th>route_source_value</th>\n",
       "      <th>dose_unit_source_value</th>\n",
       "      <th>drug_concept_name</th>\n",
       "      <th>drug_domain_id</th>\n",
       "      <th>drug_vocabulary_id</th>\n",
       "      <th>drug_concept_class_id</th>\n",
       "      <th>drug_standard_concept</th>\n",
       "      <th>drug_concept_code</th>\n",
       "      <th>drug_valid_start_date</th>\n",
       "      <th>drug_valid_end_date</th>\n",
       "      <th>drug_invalid_reason</th>\n",
       "      <th>drug_type_concept_name</th>\n",
       "      <th>drug_type_domain_id</th>\n",
       "      <th>drug_type_vocabulary_id</th>\n",
       "      <th>drug_type_concept_class_id</th>\n",
       "      <th>drug_type_standard_concept</th>\n",
       "      <th>drug_type_concept_code</th>\n",
       "      <th>drug_type_valid_start_date</th>\n",
       "      <th>drug_type_valid_end_date</th>\n",
       "      <th>drug_type_invalid_reason</th>\n",
       "      <th>route_concept_name</th>\n",
       "      <th>route_domain_id</th>\n",
       "      <th>route_vocabulary_id</th>\n",
       "      <th>route_concept_class_id</th>\n",
       "      <th>route_standard_concept</th>\n",
       "      <th>route_concept_code</th>\n",
       "      <th>route_valid_start_date</th>\n",
       "      <th>route_valid_end_date</th>\n",
       "      <th>route_invalid_reason</th>\n",
       "      <th>ingredient_concept_id</th>\n",
       "      <th>amount_value</th>\n",
       "      <th>amount_unit_concept_id</th>\n",
       "      <th>numerator_value</th>\n",
       "      <th>numerator_unit_concept_id</th>\n",
       "      <th>denominator_value</th>\n",
       "      <th>denominator_unit_concept_id</th>\n",
       "      <th>box_size</th>\n",
       "      <th>valid_start_date</th>\n",
       "      <th>valid_end_date</th>\n",
       "      <th>invalid_reason</th>\n",
       "      <th>invalid_drug</th>\n",
       "      <th>amount_concept_id</th>\n",
       "      <th>amount_concept_name</th>\n",
       "      <th>amount_domain_id</th>\n",
       "      <th>amount_vocabulary_id</th>\n",
       "      <th>amount_concept_class_id</th>\n",
       "      <th>amount_standard_concept</th>\n",
       "      <th>amount_concept_code</th>\n",
       "      <th>amount_valid_start_date</th>\n",
       "      <th>amount_valid_end_date</th>\n",
       "      <th>amount_invalid_reason</th>\n",
       "      <th>numerator_concept_id</th>\n",
       "      <th>numerator_concept_name</th>\n",
       "      <th>numerator_domain_id</th>\n",
       "      <th>numerator_vocabulary_id</th>\n",
       "      <th>numerator_concept_class_id</th>\n",
       "      <th>numerator_standard_concept</th>\n",
       "      <th>numerator_concept_code</th>\n",
       "      <th>numerator_valid_start_date</th>\n",
       "      <th>numerator_valid_end_date</th>\n",
       "      <th>numerator_invalid_reason</th>\n",
       "      <th>denominator_concept_id</th>\n",
       "      <th>denominator_concept_name</th>\n",
       "      <th>denominator_domain_id</th>\n",
       "      <th>denominator_vocabulary_id</th>\n",
       "      <th>denominator_concept_class_id</th>\n",
       "      <th>denominator_standard_concept</th>\n",
       "      <th>denominator_concept_code</th>\n",
       "      <th>denominator_valid_start_date</th>\n",
       "      <th>denominator_valid_end_date</th>\n",
       "      <th>denominator_invalid_reason</th>\n",
       "      <th>ingredient_concept_name</th>\n",
       "      <th>ingredient_domain_id</th>\n",
       "      <th>ingredient_vocabulary_id</th>\n",
       "      <th>ingredient_concept_class_id</th>\n",
       "      <th>ingredient_standard_concept</th>\n",
       "      <th>ingredient_concept_code</th>\n",
       "      <th>ingredient_valid_start_date</th>\n",
       "      <th>ingredient_valid_end_date</th>\n",
       "      <th>ingredient_invalid_reason</th>\n",
       "      <th>dose</th>\n",
       "      <th>quantity_diff</th>\n",
       "      <th>quantity_diff_percentage</th>\n",
       "      <th>quantity_diff_trend</th>\n",
       "    </tr>\n",
       "  </thead>\n",
       "  <tbody>\n",
       "    <tr>\n",
       "      <th>46</th>\n",
       "      <td>P000037</td>\n",
       "      <td>P000000</td>\n",
       "      <td>19049684</td>\n",
       "      <td>2177-07-15</td>\n",
       "      <td>2177-07-15 04:00:00</td>\n",
       "      <td>2177-07-15</td>\n",
       "      <td>2177-07-15 20:00:00</td>\n",
       "      <td>NaN</td>\n",
       "      <td>32838</td>\n",
       "      <td>NaN</td>\n",
       "      <td>NaN</td>\n",
       "      <td>8.0</td>\n",
       "      <td>NaN</td>\n",
       "      <td>NaN</td>\n",
       "      <td>4132161</td>\n",
       "      <td>NaN</td>\n",
       "      <td>NaN</td>\n",
       "      <td>P000000</td>\n",
       "      <td>NaN</td>\n",
       "      <td>00245004101</td>\n",
       "      <td>44890917</td>\n",
       "      <td>PO</td>\n",
       "      <td>TAB</td>\n",
       "      <td>potassium chloride 10 MEQ Extended Release Ora...</td>\n",
       "      <td>Drug</td>\n",
       "      <td>RxNorm</td>\n",
       "      <td>Clinical Drug</td>\n",
       "      <td>S</td>\n",
       "      <td>628953</td>\n",
       "      <td>2006-06-04</td>\n",
       "      <td>2099-12-31</td>\n",
       "      <td>NaN</td>\n",
       "      <td>EHR prescription</td>\n",
       "      <td>Type Concept</td>\n",
       "      <td>Type Concept</td>\n",
       "      <td>Type Concept</td>\n",
       "      <td>S</td>\n",
       "      <td>OMOP4976911</td>\n",
       "      <td>2020-08-20</td>\n",
       "      <td>2099-12-31</td>\n",
       "      <td>NaN</td>\n",
       "      <td>NaN</td>\n",
       "      <td>NaN</td>\n",
       "      <td>NaN</td>\n",
       "      <td>NaN</td>\n",
       "      <td>NaN</td>\n",
       "      <td>NaN</td>\n",
       "      <td>NaT</td>\n",
       "      <td>NaT</td>\n",
       "      <td>NaN</td>\n",
       "      <td>19049105.0</td>\n",
       "      <td>10.0</td>\n",
       "      <td>9551.0</td>\n",
       "      <td>NaN</td>\n",
       "      <td>NaN</td>\n",
       "      <td>NaN</td>\n",
       "      <td>NaN</td>\n",
       "      <td>NaN</td>\n",
       "      <td>1970-01-01</td>\n",
       "      <td>2099-12-31</td>\n",
       "      <td>NaN</td>\n",
       "      <td>False</td>\n",
       "      <td>9551.0</td>\n",
       "      <td>milliequivalent</td>\n",
       "      <td>Unit</td>\n",
       "      <td>UCUM</td>\n",
       "      <td>Unit</td>\n",
       "      <td>S</td>\n",
       "      <td>10*-3.eq</td>\n",
       "      <td>1970-01-01</td>\n",
       "      <td>2099-12-31</td>\n",
       "      <td>NaN</td>\n",
       "      <td>NaN</td>\n",
       "      <td>NaN</td>\n",
       "      <td>NaN</td>\n",
       "      <td>NaN</td>\n",
       "      <td>NaN</td>\n",
       "      <td>NaN</td>\n",
       "      <td>NaN</td>\n",
       "      <td>NaT</td>\n",
       "      <td>NaT</td>\n",
       "      <td>NaN</td>\n",
       "      <td>NaN</td>\n",
       "      <td>NaN</td>\n",
       "      <td>NaN</td>\n",
       "      <td>NaN</td>\n",
       "      <td>NaN</td>\n",
       "      <td>NaN</td>\n",
       "      <td>NaN</td>\n",
       "      <td>NaT</td>\n",
       "      <td>NaT</td>\n",
       "      <td>NaN</td>\n",
       "      <td>potassium chloride</td>\n",
       "      <td>Drug</td>\n",
       "      <td>RxNorm</td>\n",
       "      <td>Ingredient</td>\n",
       "      <td>S</td>\n",
       "      <td>8591</td>\n",
       "      <td>1970-01-01</td>\n",
       "      <td>2099-12-31</td>\n",
       "      <td>NaN</td>\n",
       "      <td>(None, None)</td>\n",
       "      <td>NaN</td>\n",
       "      <td>NaN</td>\n",
       "      <td>0</td>\n",
       "    </tr>\n",
       "    <tr>\n",
       "      <th>47</th>\n",
       "      <td>P000038</td>\n",
       "      <td>P000000</td>\n",
       "      <td>19049684</td>\n",
       "      <td>2177-07-15</td>\n",
       "      <td>2177-07-15 04:00:00</td>\n",
       "      <td>2177-07-15</td>\n",
       "      <td>2177-07-15 20:00:00</td>\n",
       "      <td>NaN</td>\n",
       "      <td>32838</td>\n",
       "      <td>NaN</td>\n",
       "      <td>NaN</td>\n",
       "      <td>6.0</td>\n",
       "      <td>NaN</td>\n",
       "      <td>NaN</td>\n",
       "      <td>4132161</td>\n",
       "      <td>NaN</td>\n",
       "      <td>NaN</td>\n",
       "      <td>P000000</td>\n",
       "      <td>NaN</td>\n",
       "      <td>00245004101</td>\n",
       "      <td>44890917</td>\n",
       "      <td>PO</td>\n",
       "      <td>TAB</td>\n",
       "      <td>potassium chloride 10 MEQ Extended Release Ora...</td>\n",
       "      <td>Drug</td>\n",
       "      <td>RxNorm</td>\n",
       "      <td>Clinical Drug</td>\n",
       "      <td>S</td>\n",
       "      <td>628953</td>\n",
       "      <td>2006-06-04</td>\n",
       "      <td>2099-12-31</td>\n",
       "      <td>NaN</td>\n",
       "      <td>EHR prescription</td>\n",
       "      <td>Type Concept</td>\n",
       "      <td>Type Concept</td>\n",
       "      <td>Type Concept</td>\n",
       "      <td>S</td>\n",
       "      <td>OMOP4976911</td>\n",
       "      <td>2020-08-20</td>\n",
       "      <td>2099-12-31</td>\n",
       "      <td>NaN</td>\n",
       "      <td>NaN</td>\n",
       "      <td>NaN</td>\n",
       "      <td>NaN</td>\n",
       "      <td>NaN</td>\n",
       "      <td>NaN</td>\n",
       "      <td>NaN</td>\n",
       "      <td>NaT</td>\n",
       "      <td>NaT</td>\n",
       "      <td>NaN</td>\n",
       "      <td>19049105.0</td>\n",
       "      <td>10.0</td>\n",
       "      <td>9551.0</td>\n",
       "      <td>NaN</td>\n",
       "      <td>NaN</td>\n",
       "      <td>NaN</td>\n",
       "      <td>NaN</td>\n",
       "      <td>NaN</td>\n",
       "      <td>1970-01-01</td>\n",
       "      <td>2099-12-31</td>\n",
       "      <td>NaN</td>\n",
       "      <td>False</td>\n",
       "      <td>9551.0</td>\n",
       "      <td>milliequivalent</td>\n",
       "      <td>Unit</td>\n",
       "      <td>UCUM</td>\n",
       "      <td>Unit</td>\n",
       "      <td>S</td>\n",
       "      <td>10*-3.eq</td>\n",
       "      <td>1970-01-01</td>\n",
       "      <td>2099-12-31</td>\n",
       "      <td>NaN</td>\n",
       "      <td>NaN</td>\n",
       "      <td>NaN</td>\n",
       "      <td>NaN</td>\n",
       "      <td>NaN</td>\n",
       "      <td>NaN</td>\n",
       "      <td>NaN</td>\n",
       "      <td>NaN</td>\n",
       "      <td>NaT</td>\n",
       "      <td>NaT</td>\n",
       "      <td>NaN</td>\n",
       "      <td>NaN</td>\n",
       "      <td>NaN</td>\n",
       "      <td>NaN</td>\n",
       "      <td>NaN</td>\n",
       "      <td>NaN</td>\n",
       "      <td>NaN</td>\n",
       "      <td>NaN</td>\n",
       "      <td>NaT</td>\n",
       "      <td>NaT</td>\n",
       "      <td>NaN</td>\n",
       "      <td>potassium chloride</td>\n",
       "      <td>Drug</td>\n",
       "      <td>RxNorm</td>\n",
       "      <td>Ingredient</td>\n",
       "      <td>S</td>\n",
       "      <td>8591</td>\n",
       "      <td>1970-01-01</td>\n",
       "      <td>2099-12-31</td>\n",
       "      <td>NaN</td>\n",
       "      <td>(None, None)</td>\n",
       "      <td>-2.0</td>\n",
       "      <td>-33.33</td>\n",
       "      <td>-1</td>\n",
       "    </tr>\n",
       "    <tr>\n",
       "      <th>48</th>\n",
       "      <td>P000039</td>\n",
       "      <td>P000000</td>\n",
       "      <td>19049684</td>\n",
       "      <td>2177-07-15</td>\n",
       "      <td>2177-07-15 04:00:00</td>\n",
       "      <td>2177-07-15</td>\n",
       "      <td>2177-07-15 20:00:00</td>\n",
       "      <td>NaN</td>\n",
       "      <td>32838</td>\n",
       "      <td>NaN</td>\n",
       "      <td>NaN</td>\n",
       "      <td>4.0</td>\n",
       "      <td>NaN</td>\n",
       "      <td>NaN</td>\n",
       "      <td>4132161</td>\n",
       "      <td>NaN</td>\n",
       "      <td>NaN</td>\n",
       "      <td>P000000</td>\n",
       "      <td>NaN</td>\n",
       "      <td>00245004101</td>\n",
       "      <td>44890917</td>\n",
       "      <td>PO</td>\n",
       "      <td>TAB</td>\n",
       "      <td>potassium chloride 10 MEQ Extended Release Ora...</td>\n",
       "      <td>Drug</td>\n",
       "      <td>RxNorm</td>\n",
       "      <td>Clinical Drug</td>\n",
       "      <td>S</td>\n",
       "      <td>628953</td>\n",
       "      <td>2006-06-04</td>\n",
       "      <td>2099-12-31</td>\n",
       "      <td>NaN</td>\n",
       "      <td>EHR prescription</td>\n",
       "      <td>Type Concept</td>\n",
       "      <td>Type Concept</td>\n",
       "      <td>Type Concept</td>\n",
       "      <td>S</td>\n",
       "      <td>OMOP4976911</td>\n",
       "      <td>2020-08-20</td>\n",
       "      <td>2099-12-31</td>\n",
       "      <td>NaN</td>\n",
       "      <td>NaN</td>\n",
       "      <td>NaN</td>\n",
       "      <td>NaN</td>\n",
       "      <td>NaN</td>\n",
       "      <td>NaN</td>\n",
       "      <td>NaN</td>\n",
       "      <td>NaT</td>\n",
       "      <td>NaT</td>\n",
       "      <td>NaN</td>\n",
       "      <td>19049105.0</td>\n",
       "      <td>10.0</td>\n",
       "      <td>9551.0</td>\n",
       "      <td>NaN</td>\n",
       "      <td>NaN</td>\n",
       "      <td>NaN</td>\n",
       "      <td>NaN</td>\n",
       "      <td>NaN</td>\n",
       "      <td>1970-01-01</td>\n",
       "      <td>2099-12-31</td>\n",
       "      <td>NaN</td>\n",
       "      <td>False</td>\n",
       "      <td>9551.0</td>\n",
       "      <td>milliequivalent</td>\n",
       "      <td>Unit</td>\n",
       "      <td>UCUM</td>\n",
       "      <td>Unit</td>\n",
       "      <td>S</td>\n",
       "      <td>10*-3.eq</td>\n",
       "      <td>1970-01-01</td>\n",
       "      <td>2099-12-31</td>\n",
       "      <td>NaN</td>\n",
       "      <td>NaN</td>\n",
       "      <td>NaN</td>\n",
       "      <td>NaN</td>\n",
       "      <td>NaN</td>\n",
       "      <td>NaN</td>\n",
       "      <td>NaN</td>\n",
       "      <td>NaN</td>\n",
       "      <td>NaT</td>\n",
       "      <td>NaT</td>\n",
       "      <td>NaN</td>\n",
       "      <td>NaN</td>\n",
       "      <td>NaN</td>\n",
       "      <td>NaN</td>\n",
       "      <td>NaN</td>\n",
       "      <td>NaN</td>\n",
       "      <td>NaN</td>\n",
       "      <td>NaN</td>\n",
       "      <td>NaT</td>\n",
       "      <td>NaT</td>\n",
       "      <td>NaN</td>\n",
       "      <td>potassium chloride</td>\n",
       "      <td>Drug</td>\n",
       "      <td>RxNorm</td>\n",
       "      <td>Ingredient</td>\n",
       "      <td>S</td>\n",
       "      <td>8591</td>\n",
       "      <td>1970-01-01</td>\n",
       "      <td>2099-12-31</td>\n",
       "      <td>NaN</td>\n",
       "      <td>(None, None)</td>\n",
       "      <td>-2.0</td>\n",
       "      <td>-50.00</td>\n",
       "      <td>-1</td>\n",
       "    </tr>\n",
       "  </tbody>\n",
       "</table>\n",
       "</div>"
      ],
      "text/plain": [
       "   drug_exposure_id person_id drug_concept_id drug_exposure_start_date  \\\n",
       "46          P000037   P000000        19049684               2177-07-15   \n",
       "47          P000038   P000000        19049684               2177-07-15   \n",
       "48          P000039   P000000        19049684               2177-07-15   \n",
       "\n",
       "   drug_exposure_start_datetime drug_exposure_end_date  \\\n",
       "46          2177-07-15 04:00:00             2177-07-15   \n",
       "47          2177-07-15 04:00:00             2177-07-15   \n",
       "48          2177-07-15 04:00:00             2177-07-15   \n",
       "\n",
       "   drug_exposure_end_datetime  verbatim_end_date  drug_type_concept_id  \\\n",
       "46        2177-07-15 20:00:00                NaN                 32838   \n",
       "47        2177-07-15 20:00:00                NaN                 32838   \n",
       "48        2177-07-15 20:00:00                NaN                 32838   \n",
       "\n",
       "    stop_reason  refills  quantity  days_supply  sig  route_concept_id  \\\n",
       "46          NaN      NaN       8.0          NaN  NaN           4132161   \n",
       "47          NaN      NaN       6.0          NaN  NaN           4132161   \n",
       "48          NaN      NaN       4.0          NaN  NaN           4132161   \n",
       "\n",
       "    lot_number  provider_id visit_occurrence_id  visit_detail_id  \\\n",
       "46         NaN          NaN             P000000              NaN   \n",
       "47         NaN          NaN             P000000              NaN   \n",
       "48         NaN          NaN             P000000              NaN   \n",
       "\n",
       "   drug_source_value  drug_source_concept_id route_source_value  \\\n",
       "46       00245004101                44890917                 PO   \n",
       "47       00245004101                44890917                 PO   \n",
       "48       00245004101                44890917                 PO   \n",
       "\n",
       "   dose_unit_source_value                                  drug_concept_name  \\\n",
       "46                    TAB  potassium chloride 10 MEQ Extended Release Ora...   \n",
       "47                    TAB  potassium chloride 10 MEQ Extended Release Ora...   \n",
       "48                    TAB  potassium chloride 10 MEQ Extended Release Ora...   \n",
       "\n",
       "   drug_domain_id drug_vocabulary_id drug_concept_class_id  \\\n",
       "46           Drug             RxNorm         Clinical Drug   \n",
       "47           Drug             RxNorm         Clinical Drug   \n",
       "48           Drug             RxNorm         Clinical Drug   \n",
       "\n",
       "   drug_standard_concept drug_concept_code drug_valid_start_date  \\\n",
       "46                     S            628953            2006-06-04   \n",
       "47                     S            628953            2006-06-04   \n",
       "48                     S            628953            2006-06-04   \n",
       "\n",
       "   drug_valid_end_date drug_invalid_reason drug_type_concept_name  \\\n",
       "46          2099-12-31                 NaN       EHR prescription   \n",
       "47          2099-12-31                 NaN       EHR prescription   \n",
       "48          2099-12-31                 NaN       EHR prescription   \n",
       "\n",
       "   drug_type_domain_id drug_type_vocabulary_id drug_type_concept_class_id  \\\n",
       "46        Type Concept            Type Concept               Type Concept   \n",
       "47        Type Concept            Type Concept               Type Concept   \n",
       "48        Type Concept            Type Concept               Type Concept   \n",
       "\n",
       "   drug_type_standard_concept drug_type_concept_code  \\\n",
       "46                          S            OMOP4976911   \n",
       "47                          S            OMOP4976911   \n",
       "48                          S            OMOP4976911   \n",
       "\n",
       "   drug_type_valid_start_date drug_type_valid_end_date  \\\n",
       "46                 2020-08-20               2099-12-31   \n",
       "47                 2020-08-20               2099-12-31   \n",
       "48                 2020-08-20               2099-12-31   \n",
       "\n",
       "   drug_type_invalid_reason route_concept_name route_domain_id  \\\n",
       "46                      NaN                NaN             NaN   \n",
       "47                      NaN                NaN             NaN   \n",
       "48                      NaN                NaN             NaN   \n",
       "\n",
       "   route_vocabulary_id route_concept_class_id route_standard_concept  \\\n",
       "46                 NaN                    NaN                    NaN   \n",
       "47                 NaN                    NaN                    NaN   \n",
       "48                 NaN                    NaN                    NaN   \n",
       "\n",
       "   route_concept_code route_valid_start_date route_valid_end_date  \\\n",
       "46                NaN                    NaT                  NaT   \n",
       "47                NaN                    NaT                  NaT   \n",
       "48                NaN                    NaT                  NaT   \n",
       "\n",
       "   route_invalid_reason  ingredient_concept_id  amount_value  \\\n",
       "46                  NaN             19049105.0          10.0   \n",
       "47                  NaN             19049105.0          10.0   \n",
       "48                  NaN             19049105.0          10.0   \n",
       "\n",
       "    amount_unit_concept_id  numerator_value  numerator_unit_concept_id  \\\n",
       "46                  9551.0              NaN                        NaN   \n",
       "47                  9551.0              NaN                        NaN   \n",
       "48                  9551.0              NaN                        NaN   \n",
       "\n",
       "    denominator_value  denominator_unit_concept_id  box_size valid_start_date  \\\n",
       "46                NaN                          NaN       NaN       1970-01-01   \n",
       "47                NaN                          NaN       NaN       1970-01-01   \n",
       "48                NaN                          NaN       NaN       1970-01-01   \n",
       "\n",
       "   valid_end_date invalid_reason invalid_drug  amount_concept_id  \\\n",
       "46     2099-12-31            NaN        False             9551.0   \n",
       "47     2099-12-31            NaN        False             9551.0   \n",
       "48     2099-12-31            NaN        False             9551.0   \n",
       "\n",
       "   amount_concept_name amount_domain_id amount_vocabulary_id  \\\n",
       "46     milliequivalent             Unit                 UCUM   \n",
       "47     milliequivalent             Unit                 UCUM   \n",
       "48     milliequivalent             Unit                 UCUM   \n",
       "\n",
       "   amount_concept_class_id amount_standard_concept amount_concept_code  \\\n",
       "46                    Unit                       S            10*-3.eq   \n",
       "47                    Unit                       S            10*-3.eq   \n",
       "48                    Unit                       S            10*-3.eq   \n",
       "\n",
       "   amount_valid_start_date amount_valid_end_date amount_invalid_reason  \\\n",
       "46              1970-01-01            2099-12-31                   NaN   \n",
       "47              1970-01-01            2099-12-31                   NaN   \n",
       "48              1970-01-01            2099-12-31                   NaN   \n",
       "\n",
       "    numerator_concept_id numerator_concept_name numerator_domain_id  \\\n",
       "46                   NaN                    NaN                 NaN   \n",
       "47                   NaN                    NaN                 NaN   \n",
       "48                   NaN                    NaN                 NaN   \n",
       "\n",
       "   numerator_vocabulary_id numerator_concept_class_id  \\\n",
       "46                     NaN                        NaN   \n",
       "47                     NaN                        NaN   \n",
       "48                     NaN                        NaN   \n",
       "\n",
       "   numerator_standard_concept numerator_concept_code  \\\n",
       "46                        NaN                    NaN   \n",
       "47                        NaN                    NaN   \n",
       "48                        NaN                    NaN   \n",
       "\n",
       "   numerator_valid_start_date numerator_valid_end_date  \\\n",
       "46                        NaT                      NaT   \n",
       "47                        NaT                      NaT   \n",
       "48                        NaT                      NaT   \n",
       "\n",
       "   numerator_invalid_reason  denominator_concept_id denominator_concept_name  \\\n",
       "46                      NaN                     NaN                      NaN   \n",
       "47                      NaN                     NaN                      NaN   \n",
       "48                      NaN                     NaN                      NaN   \n",
       "\n",
       "   denominator_domain_id denominator_vocabulary_id  \\\n",
       "46                   NaN                       NaN   \n",
       "47                   NaN                       NaN   \n",
       "48                   NaN                       NaN   \n",
       "\n",
       "   denominator_concept_class_id denominator_standard_concept  \\\n",
       "46                          NaN                          NaN   \n",
       "47                          NaN                          NaN   \n",
       "48                          NaN                          NaN   \n",
       "\n",
       "   denominator_concept_code denominator_valid_start_date  \\\n",
       "46                      NaN                          NaT   \n",
       "47                      NaN                          NaT   \n",
       "48                      NaN                          NaT   \n",
       "\n",
       "   denominator_valid_end_date denominator_invalid_reason  \\\n",
       "46                        NaT                        NaN   \n",
       "47                        NaT                        NaN   \n",
       "48                        NaT                        NaN   \n",
       "\n",
       "   ingredient_concept_name ingredient_domain_id ingredient_vocabulary_id  \\\n",
       "46      potassium chloride                 Drug                   RxNorm   \n",
       "47      potassium chloride                 Drug                   RxNorm   \n",
       "48      potassium chloride                 Drug                   RxNorm   \n",
       "\n",
       "   ingredient_concept_class_id ingredient_standard_concept  \\\n",
       "46                  Ingredient                           S   \n",
       "47                  Ingredient                           S   \n",
       "48                  Ingredient                           S   \n",
       "\n",
       "   ingredient_concept_code ingredient_valid_start_date  \\\n",
       "46                    8591                  1970-01-01   \n",
       "47                    8591                  1970-01-01   \n",
       "48                    8591                  1970-01-01   \n",
       "\n",
       "   ingredient_valid_end_date ingredient_invalid_reason          dose  \\\n",
       "46                2099-12-31                       NaN  (None, None)   \n",
       "47                2099-12-31                       NaN  (None, None)   \n",
       "48                2099-12-31                       NaN  (None, None)   \n",
       "\n",
       "    quantity_diff  quantity_diff_percentage  quantity_diff_trend  \n",
       "46            NaN                       NaN                    0  \n",
       "47           -2.0                    -33.33                   -1  \n",
       "48           -2.0                    -50.00                   -1  "
      ]
     },
     "execution_count": 60,
     "metadata": {},
     "output_type": "execute_result"
    }
   ],
   "source": [
    "visit_df[visit_df[\"drug_concept_id\"] == \"19049684\"]"
   ]
  },
  {
   "cell_type": "code",
   "execution_count": null,
   "metadata": {},
   "outputs": [],
   "source": []
  },
  {
   "cell_type": "code",
   "execution_count": 59,
   "metadata": {},
   "outputs": [
    {
     "ename": "ValueError",
     "evalue": "Value of 'y' is not the name of a column in 'data_frame'. Expected one of ['drug_exposure_id', 'person_id', 'drug_concept_id', 'drug_exposure_start_date', 'drug_exposure_start_datetime', 'drug_exposure_end_date', 'drug_exposure_end_datetime', 'verbatim_end_date', 'drug_type_concept_id', 'stop_reason', 'refills', 'quantity', 'days_supply', 'sig', 'route_concept_id', 'lot_number', 'provider_id', 'visit_occurrence_id', 'visit_detail_id', 'drug_source_value', 'drug_source_concept_id', 'route_source_value', 'dose_unit_source_value', 'drug_concept_name', 'drug_domain_id', 'drug_vocabulary_id', 'drug_concept_class_id', 'drug_standard_concept', 'drug_concept_code', 'drug_valid_start_date', 'drug_valid_end_date', 'drug_invalid_reason', 'drug_type_concept_name', 'drug_type_domain_id', 'drug_type_vocabulary_id', 'drug_type_concept_class_id', 'drug_type_standard_concept', 'drug_type_concept_code', 'drug_type_valid_start_date', 'drug_type_valid_end_date', 'drug_type_invalid_reason', 'route_concept_name', 'route_domain_id', 'route_vocabulary_id', 'route_concept_class_id', 'route_standard_concept', 'route_concept_code', 'route_valid_start_date', 'route_valid_end_date', 'route_invalid_reason', 'ingredient_concept_id', 'amount_value', 'amount_unit_concept_id', 'numerator_value', 'numerator_unit_concept_id', 'denominator_value', 'denominator_unit_concept_id', 'box_size', 'valid_start_date', 'valid_end_date', 'invalid_reason', 'invalid_drug', 'amount_concept_id', 'amount_concept_name', 'amount_domain_id', 'amount_vocabulary_id', 'amount_concept_class_id', 'amount_standard_concept', 'amount_concept_code', 'amount_valid_start_date', 'amount_valid_end_date', 'amount_invalid_reason', 'numerator_concept_id', 'numerator_concept_name', 'numerator_domain_id', 'numerator_vocabulary_id', 'numerator_concept_class_id', 'numerator_standard_concept', 'numerator_concept_code', 'numerator_valid_start_date', 'numerator_valid_end_date', 'numerator_invalid_reason', 'denominator_concept_id', 'denominator_concept_name', 'denominator_domain_id', 'denominator_vocabulary_id', 'denominator_concept_class_id', 'denominator_standard_concept', 'denominator_concept_code', 'denominator_valid_start_date', 'denominator_valid_end_date', 'denominator_invalid_reason', 'ingredient_concept_name', 'ingredient_domain_id', 'ingredient_vocabulary_id', 'ingredient_concept_class_id', 'ingredient_standard_concept', 'ingredient_concept_code', 'ingredient_valid_start_date', 'ingredient_valid_end_date', 'ingredient_invalid_reason', 'dose', 'quantity_diff', 'quantity_diff_percentage', 'quantity_diff_trend'] but received: concept_name",
     "output_type": "error",
     "traceback": [
      "\u001b[0;31m---------------------------------------------------------------------------\u001b[0m",
      "\u001b[0;31mValueError\u001b[0m                                Traceback (most recent call last)",
      "Cell \u001b[0;32mIn[59], line 1\u001b[0m\n\u001b[0;32m----> 1\u001b[0m fig \u001b[38;5;241m=\u001b[39m \u001b[43mpx\u001b[49m\u001b[38;5;241;43m.\u001b[39;49m\u001b[43mtimeline\u001b[49m\u001b[43m(\u001b[49m\n\u001b[1;32m      2\u001b[0m \u001b[43m    \u001b[49m\u001b[43mvisit_df\u001b[49m\u001b[43m,\u001b[49m\n\u001b[1;32m      3\u001b[0m \u001b[43m    \u001b[49m\u001b[43mx_start\u001b[49m\u001b[38;5;241;43m=\u001b[39;49m\u001b[38;5;124;43m\"\u001b[39;49m\u001b[38;5;124;43mdrug_exposure_start_datetime\u001b[39;49m\u001b[38;5;124;43m\"\u001b[39;49m\u001b[43m,\u001b[49m\n\u001b[1;32m      4\u001b[0m \u001b[43m    \u001b[49m\u001b[43mx_end\u001b[49m\u001b[38;5;241;43m=\u001b[39;49m\u001b[38;5;124;43m\"\u001b[39;49m\u001b[38;5;124;43mdrug_exposure_end_datetime\u001b[39;49m\u001b[38;5;124;43m\"\u001b[39;49m\u001b[43m,\u001b[49m\n\u001b[1;32m      5\u001b[0m \u001b[43m    \u001b[49m\u001b[43my\u001b[49m\u001b[38;5;241;43m=\u001b[39;49m\u001b[38;5;124;43m\"\u001b[39;49m\u001b[38;5;124;43mconcept_name\u001b[39;49m\u001b[38;5;124;43m\"\u001b[39;49m\u001b[43m,\u001b[49m\n\u001b[1;32m      6\u001b[0m \u001b[43m    \u001b[49m\u001b[43mcolor\u001b[49m\u001b[38;5;241;43m=\u001b[39;49m\u001b[38;5;124;43m\"\u001b[39;49m\u001b[38;5;124;43mquantity_diff_trend\u001b[39;49m\u001b[38;5;124;43m\"\u001b[39;49m\u001b[43m,\u001b[49m\n\u001b[1;32m      7\u001b[0m \u001b[43m    \u001b[49m\u001b[43mcolor_continuous_scale\u001b[49m\u001b[38;5;241;43m=\u001b[39;49m\u001b[38;5;124;43m\"\u001b[39;49m\u001b[38;5;124;43mbluered\u001b[39;49m\u001b[38;5;124;43m\"\u001b[39;49m\u001b[43m,\u001b[49m\n\u001b[1;32m      8\u001b[0m \u001b[43m    \u001b[49m\u001b[43mopacity\u001b[49m\u001b[38;5;241;43m=\u001b[39;49m\u001b[38;5;241;43m0.5\u001b[39;49m\u001b[43m,\u001b[49m\n\u001b[1;32m      9\u001b[0m \u001b[43m)\u001b[49m\n\u001b[1;32m     10\u001b[0m fig\u001b[38;5;241m.\u001b[39mshow()\n",
      "File \u001b[0;32m~/PROJECTS/linkr/.venv/lib/python3.9/site-packages/plotly/express/_chart_types.py:423\u001b[0m, in \u001b[0;36mtimeline\u001b[0;34m(data_frame, x_start, x_end, y, color, pattern_shape, facet_row, facet_col, facet_col_wrap, facet_row_spacing, facet_col_spacing, hover_name, hover_data, custom_data, text, animation_frame, animation_group, category_orders, labels, color_discrete_sequence, color_discrete_map, pattern_shape_sequence, pattern_shape_map, color_continuous_scale, range_color, color_continuous_midpoint, opacity, range_x, range_y, title, template, width, height)\u001b[0m\n\u001b[1;32m    384\u001b[0m \u001b[38;5;28;01mdef\u001b[39;00m \u001b[38;5;21mtimeline\u001b[39m(\n\u001b[1;32m    385\u001b[0m     data_frame\u001b[38;5;241m=\u001b[39m\u001b[38;5;28;01mNone\u001b[39;00m,\n\u001b[1;32m    386\u001b[0m     x_start\u001b[38;5;241m=\u001b[39m\u001b[38;5;28;01mNone\u001b[39;00m,\n\u001b[0;32m   (...)\u001b[0m\n\u001b[1;32m    417\u001b[0m     height\u001b[38;5;241m=\u001b[39m\u001b[38;5;28;01mNone\u001b[39;00m,\n\u001b[1;32m    418\u001b[0m ) \u001b[38;5;241m-\u001b[39m\u001b[38;5;241m>\u001b[39m go\u001b[38;5;241m.\u001b[39mFigure:\n\u001b[1;32m    419\u001b[0m \u001b[38;5;250m    \u001b[39m\u001b[38;5;124;03m\"\"\"\u001b[39;00m\n\u001b[1;32m    420\u001b[0m \u001b[38;5;124;03m    In a timeline plot, each row of `data_frame` is represented as a rectangular\u001b[39;00m\n\u001b[1;32m    421\u001b[0m \u001b[38;5;124;03m    mark on an x axis of type `date`, spanning from `x_start` to `x_end`.\u001b[39;00m\n\u001b[1;32m    422\u001b[0m \u001b[38;5;124;03m    \"\"\"\u001b[39;00m\n\u001b[0;32m--> 423\u001b[0m     \u001b[38;5;28;01mreturn\u001b[39;00m \u001b[43mmake_figure\u001b[49m\u001b[43m(\u001b[49m\n\u001b[1;32m    424\u001b[0m \u001b[43m        \u001b[49m\u001b[43margs\u001b[49m\u001b[38;5;241;43m=\u001b[39;49m\u001b[38;5;28;43mlocals\u001b[39;49m\u001b[43m(\u001b[49m\u001b[43m)\u001b[49m\u001b[43m,\u001b[49m\n\u001b[1;32m    425\u001b[0m \u001b[43m        \u001b[49m\u001b[43mconstructor\u001b[49m\u001b[38;5;241;43m=\u001b[39;49m\u001b[38;5;124;43m\"\u001b[39;49m\u001b[38;5;124;43mtimeline\u001b[39;49m\u001b[38;5;124;43m\"\u001b[39;49m\u001b[43m,\u001b[49m\n\u001b[1;32m    426\u001b[0m \u001b[43m        \u001b[49m\u001b[43mtrace_patch\u001b[49m\u001b[38;5;241;43m=\u001b[39;49m\u001b[38;5;28;43mdict\u001b[39;49m\u001b[43m(\u001b[49m\u001b[43mtextposition\u001b[49m\u001b[38;5;241;43m=\u001b[39;49m\u001b[38;5;124;43m\"\u001b[39;49m\u001b[38;5;124;43mauto\u001b[39;49m\u001b[38;5;124;43m\"\u001b[39;49m\u001b[43m,\u001b[49m\u001b[43m \u001b[49m\u001b[43morientation\u001b[49m\u001b[38;5;241;43m=\u001b[39;49m\u001b[38;5;124;43m\"\u001b[39;49m\u001b[38;5;124;43mh\u001b[39;49m\u001b[38;5;124;43m\"\u001b[39;49m\u001b[43m)\u001b[49m\u001b[43m,\u001b[49m\n\u001b[1;32m    427\u001b[0m \u001b[43m        \u001b[49m\u001b[43mlayout_patch\u001b[49m\u001b[38;5;241;43m=\u001b[39;49m\u001b[38;5;28;43mdict\u001b[39;49m\u001b[43m(\u001b[49m\u001b[43mbarmode\u001b[49m\u001b[38;5;241;43m=\u001b[39;49m\u001b[38;5;124;43m\"\u001b[39;49m\u001b[38;5;124;43moverlay\u001b[39;49m\u001b[38;5;124;43m\"\u001b[39;49m\u001b[43m)\u001b[49m\u001b[43m,\u001b[49m\n\u001b[1;32m    428\u001b[0m \u001b[43m    \u001b[49m\u001b[43m)\u001b[49m\n",
      "File \u001b[0;32m~/PROJECTS/linkr/.venv/lib/python3.9/site-packages/plotly/express/_core.py:2090\u001b[0m, in \u001b[0;36mmake_figure\u001b[0;34m(args, constructor, trace_patch, layout_patch)\u001b[0m\n\u001b[1;32m   2087\u001b[0m layout_patch \u001b[38;5;241m=\u001b[39m layout_patch \u001b[38;5;129;01mor\u001b[39;00m {}\n\u001b[1;32m   2088\u001b[0m apply_default_cascade(args)\n\u001b[0;32m-> 2090\u001b[0m args \u001b[38;5;241m=\u001b[39m \u001b[43mbuild_dataframe\u001b[49m\u001b[43m(\u001b[49m\u001b[43margs\u001b[49m\u001b[43m,\u001b[49m\u001b[43m \u001b[49m\u001b[43mconstructor\u001b[49m\u001b[43m)\u001b[49m\n\u001b[1;32m   2091\u001b[0m \u001b[38;5;28;01mif\u001b[39;00m constructor \u001b[38;5;129;01min\u001b[39;00m [go\u001b[38;5;241m.\u001b[39mTreemap, go\u001b[38;5;241m.\u001b[39mSunburst, go\u001b[38;5;241m.\u001b[39mIcicle] \u001b[38;5;129;01mand\u001b[39;00m args[\u001b[38;5;124m\"\u001b[39m\u001b[38;5;124mpath\u001b[39m\u001b[38;5;124m\"\u001b[39m] \u001b[38;5;129;01mis\u001b[39;00m \u001b[38;5;129;01mnot\u001b[39;00m \u001b[38;5;28;01mNone\u001b[39;00m:\n\u001b[1;32m   2092\u001b[0m     args \u001b[38;5;241m=\u001b[39m process_dataframe_hierarchy(args)\n",
      "File \u001b[0;32m~/PROJECTS/linkr/.venv/lib/python3.9/site-packages/plotly/express/_core.py:1492\u001b[0m, in \u001b[0;36mbuild_dataframe\u001b[0;34m(args, constructor)\u001b[0m\n\u001b[1;32m   1489\u001b[0m     args[\u001b[38;5;124m\"\u001b[39m\u001b[38;5;124mcolor\u001b[39m\u001b[38;5;124m\"\u001b[39m] \u001b[38;5;241m=\u001b[39m \u001b[38;5;28;01mNone\u001b[39;00m\n\u001b[1;32m   1490\u001b[0m \u001b[38;5;66;03m# now that things have been prepped, we do the systematic rewriting of `args`\u001b[39;00m\n\u001b[0;32m-> 1492\u001b[0m df_output, wide_id_vars \u001b[38;5;241m=\u001b[39m \u001b[43mprocess_args_into_dataframe\u001b[49m\u001b[43m(\u001b[49m\n\u001b[1;32m   1493\u001b[0m \u001b[43m    \u001b[49m\u001b[43margs\u001b[49m\u001b[43m,\u001b[49m\u001b[43m \u001b[49m\u001b[43mwide_mode\u001b[49m\u001b[43m,\u001b[49m\u001b[43m \u001b[49m\u001b[43mvar_name\u001b[49m\u001b[43m,\u001b[49m\u001b[43m \u001b[49m\u001b[43mvalue_name\u001b[49m\n\u001b[1;32m   1494\u001b[0m \u001b[43m\u001b[49m\u001b[43m)\u001b[49m\n\u001b[1;32m   1496\u001b[0m \u001b[38;5;66;03m# now that `df_output` exists and `args` contains only references, we complete\u001b[39;00m\n\u001b[1;32m   1497\u001b[0m \u001b[38;5;66;03m# the special-case and wide-mode handling by further rewriting args and/or mutating\u001b[39;00m\n\u001b[1;32m   1498\u001b[0m \u001b[38;5;66;03m# df_output\u001b[39;00m\n\u001b[1;32m   1500\u001b[0m count_name \u001b[38;5;241m=\u001b[39m _escape_col_name(df_output, \u001b[38;5;124m\"\u001b[39m\u001b[38;5;124mcount\u001b[39m\u001b[38;5;124m\"\u001b[39m, [var_name, value_name])\n",
      "File \u001b[0;32m~/PROJECTS/linkr/.venv/lib/python3.9/site-packages/plotly/express/_core.py:1213\u001b[0m, in \u001b[0;36mprocess_args_into_dataframe\u001b[0;34m(args, wide_mode, var_name, value_name)\u001b[0m\n\u001b[1;32m   1211\u001b[0m         \u001b[38;5;28;01mif\u001b[39;00m argument \u001b[38;5;241m==\u001b[39m \u001b[38;5;124m\"\u001b[39m\u001b[38;5;124mindex\u001b[39m\u001b[38;5;124m\"\u001b[39m:\n\u001b[1;32m   1212\u001b[0m             err_msg \u001b[38;5;241m+\u001b[39m\u001b[38;5;241m=\u001b[39m \u001b[38;5;124m\"\u001b[39m\u001b[38;5;130;01m\\n\u001b[39;00m\u001b[38;5;124m To use the index, pass it in directly as `df.index`.\u001b[39m\u001b[38;5;124m\"\u001b[39m\n\u001b[0;32m-> 1213\u001b[0m         \u001b[38;5;28;01mraise\u001b[39;00m \u001b[38;5;167;01mValueError\u001b[39;00m(err_msg)\n\u001b[1;32m   1214\u001b[0m \u001b[38;5;28;01melif\u001b[39;00m length \u001b[38;5;129;01mand\u001b[39;00m \u001b[38;5;28mlen\u001b[39m(df_input[argument]) \u001b[38;5;241m!=\u001b[39m length:\n\u001b[1;32m   1215\u001b[0m     \u001b[38;5;28;01mraise\u001b[39;00m \u001b[38;5;167;01mValueError\u001b[39;00m(\n\u001b[1;32m   1216\u001b[0m         \u001b[38;5;124m\"\u001b[39m\u001b[38;5;124mAll arguments should have the same length. \u001b[39m\u001b[38;5;124m\"\u001b[39m\n\u001b[1;32m   1217\u001b[0m         \u001b[38;5;124m\"\u001b[39m\u001b[38;5;124mThe length of column argument `df[\u001b[39m\u001b[38;5;132;01m%s\u001b[39;00m\u001b[38;5;124m]` is \u001b[39m\u001b[38;5;132;01m%d\u001b[39;00m\u001b[38;5;124m, whereas the \u001b[39m\u001b[38;5;124m\"\u001b[39m\n\u001b[0;32m   (...)\u001b[0m\n\u001b[1;32m   1224\u001b[0m         )\n\u001b[1;32m   1225\u001b[0m     )\n",
      "\u001b[0;31mValueError\u001b[0m: Value of 'y' is not the name of a column in 'data_frame'. Expected one of ['drug_exposure_id', 'person_id', 'drug_concept_id', 'drug_exposure_start_date', 'drug_exposure_start_datetime', 'drug_exposure_end_date', 'drug_exposure_end_datetime', 'verbatim_end_date', 'drug_type_concept_id', 'stop_reason', 'refills', 'quantity', 'days_supply', 'sig', 'route_concept_id', 'lot_number', 'provider_id', 'visit_occurrence_id', 'visit_detail_id', 'drug_source_value', 'drug_source_concept_id', 'route_source_value', 'dose_unit_source_value', 'drug_concept_name', 'drug_domain_id', 'drug_vocabulary_id', 'drug_concept_class_id', 'drug_standard_concept', 'drug_concept_code', 'drug_valid_start_date', 'drug_valid_end_date', 'drug_invalid_reason', 'drug_type_concept_name', 'drug_type_domain_id', 'drug_type_vocabulary_id', 'drug_type_concept_class_id', 'drug_type_standard_concept', 'drug_type_concept_code', 'drug_type_valid_start_date', 'drug_type_valid_end_date', 'drug_type_invalid_reason', 'route_concept_name', 'route_domain_id', 'route_vocabulary_id', 'route_concept_class_id', 'route_standard_concept', 'route_concept_code', 'route_valid_start_date', 'route_valid_end_date', 'route_invalid_reason', 'ingredient_concept_id', 'amount_value', 'amount_unit_concept_id', 'numerator_value', 'numerator_unit_concept_id', 'denominator_value', 'denominator_unit_concept_id', 'box_size', 'valid_start_date', 'valid_end_date', 'invalid_reason', 'invalid_drug', 'amount_concept_id', 'amount_concept_name', 'amount_domain_id', 'amount_vocabulary_id', 'amount_concept_class_id', 'amount_standard_concept', 'amount_concept_code', 'amount_valid_start_date', 'amount_valid_end_date', 'amount_invalid_reason', 'numerator_concept_id', 'numerator_concept_name', 'numerator_domain_id', 'numerator_vocabulary_id', 'numerator_concept_class_id', 'numerator_standard_concept', 'numerator_concept_code', 'numerator_valid_start_date', 'numerator_valid_end_date', 'numerator_invalid_reason', 'denominator_concept_id', 'denominator_concept_name', 'denominator_domain_id', 'denominator_vocabulary_id', 'denominator_concept_class_id', 'denominator_standard_concept', 'denominator_concept_code', 'denominator_valid_start_date', 'denominator_valid_end_date', 'denominator_invalid_reason', 'ingredient_concept_name', 'ingredient_domain_id', 'ingredient_vocabulary_id', 'ingredient_concept_class_id', 'ingredient_standard_concept', 'ingredient_concept_code', 'ingredient_valid_start_date', 'ingredient_valid_end_date', 'ingredient_invalid_reason', 'dose', 'quantity_diff', 'quantity_diff_percentage', 'quantity_diff_trend'] but received: concept_name"
     ]
    }
   ],
   "source": [
    "fig = px.timeline(\n",
    "    visit_df,\n",
    "    x_start=\"drug_exposure_start_datetime\",\n",
    "    x_end=\"drug_exposure_end_datetime\",\n",
    "    y=\"concept_name\",\n",
    "    color=\"quantity_diff_trend\",\n",
    "    color_continuous_scale=\"bluered\",\n",
    "    opacity=0.5,\n",
    ")\n",
    "fig.show()"
   ]
  },
  {
   "cell_type": "code",
   "execution_count": 32,
   "metadata": {},
   "outputs": [
    {
     "data": {
      "text/html": [
       "<div>\n",
       "<style scoped>\n",
       "    .dataframe tbody tr th:only-of-type {\n",
       "        vertical-align: middle;\n",
       "    }\n",
       "\n",
       "    .dataframe tbody tr th {\n",
       "        vertical-align: top;\n",
       "    }\n",
       "\n",
       "    .dataframe thead th {\n",
       "        text-align: right;\n",
       "    }\n",
       "</style>\n",
       "<table border=\"1\" class=\"dataframe\">\n",
       "  <thead>\n",
       "    <tr style=\"text-align: right;\">\n",
       "      <th></th>\n",
       "      <th>drug_exposure_id</th>\n",
       "      <th>person_id</th>\n",
       "      <th>drug_concept_id</th>\n",
       "      <th>drug_exposure_start_date</th>\n",
       "      <th>drug_exposure_start_datetime</th>\n",
       "      <th>drug_exposure_end_date</th>\n",
       "      <th>drug_exposure_end_datetime</th>\n",
       "      <th>verbatim_end_date</th>\n",
       "      <th>drug_type_concept_id</th>\n",
       "      <th>stop_reason</th>\n",
       "      <th>refills</th>\n",
       "      <th>quantity</th>\n",
       "      <th>days_supply</th>\n",
       "      <th>sig</th>\n",
       "      <th>route_concept_id</th>\n",
       "      <th>lot_number</th>\n",
       "      <th>provider_id</th>\n",
       "      <th>visit_occurrence_id</th>\n",
       "      <th>visit_detail_id</th>\n",
       "      <th>drug_source_value</th>\n",
       "      <th>drug_source_concept_id</th>\n",
       "      <th>route_source_value</th>\n",
       "      <th>dose_unit_source_value</th>\n",
       "    </tr>\n",
       "  </thead>\n",
       "  <tbody>\n",
       "    <tr>\n",
       "      <th>0</th>\n",
       "      <td>P000000</td>\n",
       "      <td>P000000</td>\n",
       "      <td>40166274</td>\n",
       "      <td>2177-07-16</td>\n",
       "      <td>2177-07-16 22:00:00</td>\n",
       "      <td>2177-07-17</td>\n",
       "      <td>2177-07-17 21:00:00</td>\n",
       "      <td>NaN</td>\n",
       "      <td>32838</td>\n",
       "      <td>NaN</td>\n",
       "      <td>NaN</td>\n",
       "      <td>0.005</td>\n",
       "      <td>NaN</td>\n",
       "      <td>NaN</td>\n",
       "      <td>4142048</td>\n",
       "      <td>NaN</td>\n",
       "      <td>NaN</td>\n",
       "      <td>P000000</td>\n",
       "      <td>NaN</td>\n",
       "      <td>00002751001</td>\n",
       "      <td>45144375</td>\n",
       "      <td>SC</td>\n",
       "      <td>VIAL</td>\n",
       "    </tr>\n",
       "  </tbody>\n",
       "</table>\n",
       "</div>"
      ],
      "text/plain": [
       "  drug_exposure_id person_id  drug_concept_id drug_exposure_start_date  \\\n",
       "0          P000000   P000000         40166274               2177-07-16   \n",
       "\n",
       "  drug_exposure_start_datetime drug_exposure_end_date  \\\n",
       "0          2177-07-16 22:00:00             2177-07-17   \n",
       "\n",
       "  drug_exposure_end_datetime  verbatim_end_date  drug_type_concept_id  \\\n",
       "0        2177-07-17 21:00:00                NaN                 32838   \n",
       "\n",
       "   stop_reason  refills  quantity  days_supply  sig  route_concept_id  \\\n",
       "0          NaN      NaN     0.005          NaN  NaN           4142048   \n",
       "\n",
       "   lot_number  provider_id visit_occurrence_id  visit_detail_id  \\\n",
       "0         NaN          NaN             P000000              NaN   \n",
       "\n",
       "  drug_source_value  drug_source_concept_id route_source_value  \\\n",
       "0       00002751001                45144375                 SC   \n",
       "\n",
       "  dose_unit_source_value  \n",
       "0                   VIAL  "
      ]
     },
     "execution_count": 32,
     "metadata": {},
     "output_type": "execute_result"
    }
   ],
   "source": [
    "drug_exposure_df.head(1)"
   ]
  },
  {
   "cell_type": "code",
   "execution_count": 35,
   "metadata": {},
   "outputs": [
    {
     "data": {
      "text/plain": [
       "(434, 23)"
      ]
     },
     "execution_count": 35,
     "metadata": {},
     "output_type": "execute_result"
    },
    {
     "data": {
      "text/plain": [
       "visit_occurrence_id\n",
       "P000000    104\n",
       "P000049     58\n",
       "P000112     55\n",
       "P000155     51\n",
       "P000188     48\n",
       "P000192     45\n",
       "P000038     40\n",
       "P000115     33\n",
       "Name: count, dtype: int64"
      ]
     },
     "execution_count": 35,
     "metadata": {},
     "output_type": "execute_result"
    }
   ],
   "source": [
    "person_id= \"P000000\"\n",
    "drug_exposure_df[drug_exposure_df[\"person_id\"] == person_id].shape\n",
    "drug_exposure_df[drug_exposure_df[\"person_id\"] == person_id][\"visit_occurrence_id\"].value_counts()"
   ]
  },
  {
   "cell_type": "code",
   "execution_count": 36,
   "metadata": {},
   "outputs": [],
   "source": [
    "patient_df = drug_exposure_df[drug_exposure_df[\"person_id\"] == person_id]"
   ]
  },
  {
   "cell_type": "code",
   "execution_count": 12,
   "metadata": {},
   "outputs": [
    {
     "data": {
      "text/html": [
       "<div>\n",
       "<style scoped>\n",
       "    .dataframe tbody tr th:only-of-type {\n",
       "        vertical-align: middle;\n",
       "    }\n",
       "\n",
       "    .dataframe tbody tr th {\n",
       "        vertical-align: top;\n",
       "    }\n",
       "\n",
       "    .dataframe thead th {\n",
       "        text-align: right;\n",
       "    }\n",
       "</style>\n",
       "<table border=\"1\" class=\"dataframe\">\n",
       "  <thead>\n",
       "    <tr style=\"text-align: right;\">\n",
       "      <th></th>\n",
       "      <th>drug_exposure_start_date</th>\n",
       "      <th>drug_exposure_end_date</th>\n",
       "    </tr>\n",
       "  </thead>\n",
       "  <tbody>\n",
       "    <tr>\n",
       "      <th>count</th>\n",
       "      <td>1182</td>\n",
       "      <td>1182</td>\n",
       "    </tr>\n",
       "    <tr>\n",
       "      <th>unique</th>\n",
       "      <td>93</td>\n",
       "      <td>92</td>\n",
       "    </tr>\n",
       "    <tr>\n",
       "      <th>top</th>\n",
       "      <td>2150-04-10</td>\n",
       "      <td>2147-11-30</td>\n",
       "    </tr>\n",
       "    <tr>\n",
       "      <th>freq</th>\n",
       "      <td>61</td>\n",
       "      <td>50</td>\n",
       "    </tr>\n",
       "  </tbody>\n",
       "</table>\n",
       "</div>"
      ],
      "text/plain": [
       "       drug_exposure_start_date drug_exposure_end_date\n",
       "count                      1182                   1182\n",
       "unique                       93                     92\n",
       "top                  2150-04-10             2147-11-30\n",
       "freq                         61                     50"
      ]
     },
     "execution_count": 12,
     "metadata": {},
     "output_type": "execute_result"
    },
    {
     "data": {
      "text/html": [
       "<div>\n",
       "<style scoped>\n",
       "    .dataframe tbody tr th:only-of-type {\n",
       "        vertical-align: middle;\n",
       "    }\n",
       "\n",
       "    .dataframe tbody tr th {\n",
       "        vertical-align: top;\n",
       "    }\n",
       "\n",
       "    .dataframe thead th {\n",
       "        text-align: right;\n",
       "    }\n",
       "</style>\n",
       "<table border=\"1\" class=\"dataframe\">\n",
       "  <thead>\n",
       "    <tr style=\"text-align: right;\">\n",
       "      <th></th>\n",
       "      <th>drug_exposure_start_datetime</th>\n",
       "      <th>drug_exposure_end_datetime</th>\n",
       "    </tr>\n",
       "  </thead>\n",
       "  <tbody>\n",
       "    <tr>\n",
       "      <th>count</th>\n",
       "      <td>1182</td>\n",
       "      <td>1182</td>\n",
       "    </tr>\n",
       "    <tr>\n",
       "      <th>unique</th>\n",
       "      <td>414</td>\n",
       "      <td>308</td>\n",
       "    </tr>\n",
       "    <tr>\n",
       "      <th>top</th>\n",
       "      <td>2150-04-10 07:00:00</td>\n",
       "      <td>2147-11-30 21:00:00</td>\n",
       "    </tr>\n",
       "    <tr>\n",
       "      <th>freq</th>\n",
       "      <td>36</td>\n",
       "      <td>50</td>\n",
       "    </tr>\n",
       "  </tbody>\n",
       "</table>\n",
       "</div>"
      ],
      "text/plain": [
       "       drug_exposure_start_datetime drug_exposure_end_datetime\n",
       "count                          1182                       1182\n",
       "unique                          414                        308\n",
       "top             2150-04-10 07:00:00        2147-11-30 21:00:00\n",
       "freq                             36                         50"
      ]
     },
     "execution_count": 12,
     "metadata": {},
     "output_type": "execute_result"
    }
   ],
   "source": [
    "patient_df[[\"drug_exposure_start_date\", \"drug_exposure_end_date\"]].describe()\n",
    "patient_df[[\"drug_exposure_start_datetime\", \"drug_exposure_end_datetime\"]].describe()"
   ]
  },
  {
   "cell_type": "code",
   "execution_count": 13,
   "metadata": {},
   "outputs": [
    {
     "data": {
      "text/html": [
       "<div>\n",
       "<style scoped>\n",
       "    .dataframe tbody tr th:only-of-type {\n",
       "        vertical-align: middle;\n",
       "    }\n",
       "\n",
       "    .dataframe tbody tr th {\n",
       "        vertical-align: top;\n",
       "    }\n",
       "\n",
       "    .dataframe thead th {\n",
       "        text-align: right;\n",
       "    }\n",
       "</style>\n",
       "<table border=\"1\" class=\"dataframe\">\n",
       "  <thead>\n",
       "    <tr style=\"text-align: right;\">\n",
       "      <th></th>\n",
       "      <th>drug_exposure_id</th>\n",
       "      <th>person_id</th>\n",
       "      <th>drug_concept_id</th>\n",
       "      <th>drug_exposure_start_date</th>\n",
       "      <th>drug_exposure_start_datetime</th>\n",
       "      <th>drug_exposure_end_date</th>\n",
       "      <th>drug_exposure_end_datetime</th>\n",
       "      <th>verbatim_end_date</th>\n",
       "      <th>drug_type_concept_id</th>\n",
       "      <th>stop_reason</th>\n",
       "      <th>refills</th>\n",
       "      <th>quantity</th>\n",
       "      <th>days_supply</th>\n",
       "      <th>sig</th>\n",
       "      <th>route_concept_id</th>\n",
       "      <th>lot_number</th>\n",
       "      <th>provider_id</th>\n",
       "      <th>visit_occurrence_id</th>\n",
       "      <th>visit_detail_id</th>\n",
       "      <th>drug_source_value</th>\n",
       "      <th>drug_source_concept_id</th>\n",
       "      <th>route_source_value</th>\n",
       "      <th>dose_unit_source_value</th>\n",
       "    </tr>\n",
       "  </thead>\n",
       "  <tbody>\n",
       "    <tr>\n",
       "      <th>653</th>\n",
       "      <td>-7496322014807298311</td>\n",
       "      <td>7155255168997124770</td>\n",
       "      <td>19078557</td>\n",
       "      <td>2147-09-12</td>\n",
       "      <td>2147-09-12 13:00:00</td>\n",
       "      <td>2147-09-12</td>\n",
       "      <td>2147-09-12 23:00:00</td>\n",
       "      <td>NaN</td>\n",
       "      <td>32838</td>\n",
       "      <td>NaN</td>\n",
       "      <td>NaN</td>\n",
       "      <td>10.0</td>\n",
       "      <td>NaN</td>\n",
       "      <td>NaN</td>\n",
       "      <td>4142048</td>\n",
       "      <td>NaN</td>\n",
       "      <td>NaN</td>\n",
       "      <td>-7759653971096571129</td>\n",
       "      <td>NaN</td>\n",
       "      <td>00002821501</td>\n",
       "      <td>45178530</td>\n",
       "      <td>SC</td>\n",
       "      <td>VIAL</td>\n",
       "    </tr>\n",
       "    <tr>\n",
       "      <th>654</th>\n",
       "      <td>1278734725911696306</td>\n",
       "      <td>7155255168997124770</td>\n",
       "      <td>19068781</td>\n",
       "      <td>2147-09-12</td>\n",
       "      <td>2147-09-12 11:00:00</td>\n",
       "      <td>2147-09-12</td>\n",
       "      <td>2147-09-12 23:00:00</td>\n",
       "      <td>NaN</td>\n",
       "      <td>32838</td>\n",
       "      <td>NaN</td>\n",
       "      <td>NaN</td>\n",
       "      <td>1.0</td>\n",
       "      <td>NaN</td>\n",
       "      <td>NaN</td>\n",
       "      <td>4167540</td>\n",
       "      <td>NaN</td>\n",
       "      <td>NaN</td>\n",
       "      <td>-7759653971096571129</td>\n",
       "      <td>NaN</td>\n",
       "      <td>00071015892</td>\n",
       "      <td>44924015</td>\n",
       "      <td>PO/NG</td>\n",
       "      <td>TAB</td>\n",
       "    </tr>\n",
       "    <tr>\n",
       "      <th>655</th>\n",
       "      <td>6359928042509081942</td>\n",
       "      <td>7155255168997124770</td>\n",
       "      <td>19071700</td>\n",
       "      <td>2147-09-12</td>\n",
       "      <td>2147-09-12 13:00:00</td>\n",
       "      <td>2147-09-12</td>\n",
       "      <td>2147-09-12 23:00:00</td>\n",
       "      <td>NaN</td>\n",
       "      <td>32838</td>\n",
       "      <td>NaN</td>\n",
       "      <td>NaN</td>\n",
       "      <td>1.0</td>\n",
       "      <td>NaN</td>\n",
       "      <td>NaN</td>\n",
       "      <td>4142048</td>\n",
       "      <td>NaN</td>\n",
       "      <td>NaN</td>\n",
       "      <td>-7759653971096571129</td>\n",
       "      <td>NaN</td>\n",
       "      <td>00088222033</td>\n",
       "      <td>45060408</td>\n",
       "      <td>SC</td>\n",
       "      <td>VIAL</td>\n",
       "    </tr>\n",
       "    <tr>\n",
       "      <th>656</th>\n",
       "      <td>6622361697988094299</td>\n",
       "      <td>7155255168997124770</td>\n",
       "      <td>19071700</td>\n",
       "      <td>2147-09-12</td>\n",
       "      <td>2147-09-12 13:00:00</td>\n",
       "      <td>2147-09-12</td>\n",
       "      <td>2147-09-12 23:00:00</td>\n",
       "      <td>NaN</td>\n",
       "      <td>32838</td>\n",
       "      <td>NaN</td>\n",
       "      <td>NaN</td>\n",
       "      <td>1.0</td>\n",
       "      <td>NaN</td>\n",
       "      <td>NaN</td>\n",
       "      <td>4142048</td>\n",
       "      <td>NaN</td>\n",
       "      <td>NaN</td>\n",
       "      <td>-7759653971096571129</td>\n",
       "      <td>NaN</td>\n",
       "      <td>00088222033</td>\n",
       "      <td>45060408</td>\n",
       "      <td>SC</td>\n",
       "      <td>VIAL</td>\n",
       "    </tr>\n",
       "    <tr>\n",
       "      <th>657</th>\n",
       "      <td>4999808883224663607</td>\n",
       "      <td>7155255168997124770</td>\n",
       "      <td>1593969</td>\n",
       "      <td>2147-09-12</td>\n",
       "      <td>2147-09-12 07:00:00</td>\n",
       "      <td>2147-09-12</td>\n",
       "      <td>2147-09-12 23:00:00</td>\n",
       "      <td>NaN</td>\n",
       "      <td>32838</td>\n",
       "      <td>NaN</td>\n",
       "      <td>NaN</td>\n",
       "      <td>1.0</td>\n",
       "      <td>NaN</td>\n",
       "      <td>NaN</td>\n",
       "      <td>4171047</td>\n",
       "      <td>NaN</td>\n",
       "      <td>NaN</td>\n",
       "      <td>-7759653971096571129</td>\n",
       "      <td>NaN</td>\n",
       "      <td>00338105102</td>\n",
       "      <td>45197779</td>\n",
       "      <td>IV DRIP</td>\n",
       "      <td>BTL</td>\n",
       "    </tr>\n",
       "  </tbody>\n",
       "</table>\n",
       "</div>"
      ],
      "text/plain": [
       "        drug_exposure_id            person_id  drug_concept_id  \\\n",
       "653 -7496322014807298311  7155255168997124770         19078557   \n",
       "654  1278734725911696306  7155255168997124770         19068781   \n",
       "655  6359928042509081942  7155255168997124770         19071700   \n",
       "656  6622361697988094299  7155255168997124770         19071700   \n",
       "657  4999808883224663607  7155255168997124770          1593969   \n",
       "\n",
       "    drug_exposure_start_date drug_exposure_start_datetime  \\\n",
       "653               2147-09-12          2147-09-12 13:00:00   \n",
       "654               2147-09-12          2147-09-12 11:00:00   \n",
       "655               2147-09-12          2147-09-12 13:00:00   \n",
       "656               2147-09-12          2147-09-12 13:00:00   \n",
       "657               2147-09-12          2147-09-12 07:00:00   \n",
       "\n",
       "    drug_exposure_end_date drug_exposure_end_datetime  verbatim_end_date  \\\n",
       "653             2147-09-12        2147-09-12 23:00:00                NaN   \n",
       "654             2147-09-12        2147-09-12 23:00:00                NaN   \n",
       "655             2147-09-12        2147-09-12 23:00:00                NaN   \n",
       "656             2147-09-12        2147-09-12 23:00:00                NaN   \n",
       "657             2147-09-12        2147-09-12 23:00:00                NaN   \n",
       "\n",
       "     drug_type_concept_id  stop_reason  refills  quantity  days_supply  sig  \\\n",
       "653                 32838          NaN      NaN      10.0          NaN  NaN   \n",
       "654                 32838          NaN      NaN       1.0          NaN  NaN   \n",
       "655                 32838          NaN      NaN       1.0          NaN  NaN   \n",
       "656                 32838          NaN      NaN       1.0          NaN  NaN   \n",
       "657                 32838          NaN      NaN       1.0          NaN  NaN   \n",
       "\n",
       "     route_concept_id  lot_number  provider_id  visit_occurrence_id  \\\n",
       "653           4142048         NaN          NaN -7759653971096571129   \n",
       "654           4167540         NaN          NaN -7759653971096571129   \n",
       "655           4142048         NaN          NaN -7759653971096571129   \n",
       "656           4142048         NaN          NaN -7759653971096571129   \n",
       "657           4171047         NaN          NaN -7759653971096571129   \n",
       "\n",
       "     visit_detail_id drug_source_value  drug_source_concept_id  \\\n",
       "653              NaN       00002821501                45178530   \n",
       "654              NaN       00071015892                44924015   \n",
       "655              NaN       00088222033                45060408   \n",
       "656              NaN       00088222033                45060408   \n",
       "657              NaN       00338105102                45197779   \n",
       "\n",
       "    route_source_value dose_unit_source_value  \n",
       "653                 SC                   VIAL  \n",
       "654              PO/NG                    TAB  \n",
       "655                 SC                   VIAL  \n",
       "656                 SC                   VIAL  \n",
       "657            IV DRIP                    BTL  "
      ]
     },
     "execution_count": 13,
     "metadata": {},
     "output_type": "execute_result"
    }
   ],
   "source": [
    "patient_df.head()"
   ]
  },
  {
   "cell_type": "code",
   "execution_count": 37,
   "metadata": {},
   "outputs": [
    {
     "data": {
      "text/html": [
       "<div>\n",
       "<style scoped>\n",
       "    .dataframe tbody tr th:only-of-type {\n",
       "        vertical-align: middle;\n",
       "    }\n",
       "\n",
       "    .dataframe tbody tr th {\n",
       "        vertical-align: top;\n",
       "    }\n",
       "\n",
       "    .dataframe thead th {\n",
       "        text-align: right;\n",
       "    }\n",
       "</style>\n",
       "<table border=\"1\" class=\"dataframe\">\n",
       "  <thead>\n",
       "    <tr style=\"text-align: right;\">\n",
       "      <th></th>\n",
       "      <th>drug_exposure_start_date</th>\n",
       "      <th>drug_exposure_start_datetime</th>\n",
       "      <th>drug_exposure_end_date</th>\n",
       "      <th>drug_exposure_end_datetime</th>\n",
       "    </tr>\n",
       "  </thead>\n",
       "  <tbody>\n",
       "    <tr>\n",
       "      <th>2562</th>\n",
       "      <td>2179-07-25</td>\n",
       "      <td>2179-07-25 03:00:00</td>\n",
       "      <td>2179-07-28</td>\n",
       "      <td>2179-07-28 20:00:00</td>\n",
       "    </tr>\n",
       "    <tr>\n",
       "      <th>14001</th>\n",
       "      <td>2177-09-05</td>\n",
       "      <td>2177-09-05 01:00:00</td>\n",
       "      <td>2177-09-06</td>\n",
       "      <td>2177-09-06 00:00:00</td>\n",
       "    </tr>\n",
       "    <tr>\n",
       "      <th>13833</th>\n",
       "      <td>2182-05-01</td>\n",
       "      <td>2182-05-01 12:00:00</td>\n",
       "      <td>2182-05-02</td>\n",
       "      <td>2182-05-02 15:00:00</td>\n",
       "    </tr>\n",
       "    <tr>\n",
       "      <th>8463</th>\n",
       "      <td>2178-09-29</td>\n",
       "      <td>2178-09-29 03:00:00</td>\n",
       "      <td>2178-10-02</td>\n",
       "      <td>2178-10-02 22:00:00</td>\n",
       "    </tr>\n",
       "    <tr>\n",
       "      <th>56</th>\n",
       "      <td>2177-07-15</td>\n",
       "      <td>2177-07-15 00:00:00</td>\n",
       "      <td>2177-07-15</td>\n",
       "      <td>2177-07-15 06:00:00</td>\n",
       "    </tr>\n",
       "    <tr>\n",
       "      <th>2540</th>\n",
       "      <td>2179-07-28</td>\n",
       "      <td>2179-07-28 07:00:00</td>\n",
       "      <td>2179-07-28</td>\n",
       "      <td>2179-07-28 20:00:00</td>\n",
       "    </tr>\n",
       "    <tr>\n",
       "      <th>52</th>\n",
       "      <td>2177-07-15</td>\n",
       "      <td>2177-07-15 05:00:00</td>\n",
       "      <td>2177-07-15</td>\n",
       "      <td>2177-07-15 20:00:00</td>\n",
       "    </tr>\n",
       "    <tr>\n",
       "      <th>80</th>\n",
       "      <td>2177-07-15</td>\n",
       "      <td>2177-07-15 08:00:00</td>\n",
       "      <td>2177-07-24</td>\n",
       "      <td>2177-07-24 17:00:00</td>\n",
       "    </tr>\n",
       "    <tr>\n",
       "      <th>62</th>\n",
       "      <td>2177-07-15</td>\n",
       "      <td>2177-07-15 04:00:00</td>\n",
       "      <td>2177-07-15</td>\n",
       "      <td>2177-07-15 20:00:00</td>\n",
       "    </tr>\n",
       "    <tr>\n",
       "      <th>13999</th>\n",
       "      <td>2177-09-04</td>\n",
       "      <td>2177-09-04 10:00:00</td>\n",
       "      <td>2177-09-07</td>\n",
       "      <td>2177-09-07 21:00:00</td>\n",
       "    </tr>\n",
       "  </tbody>\n",
       "</table>\n",
       "</div>"
      ],
      "text/plain": [
       "      drug_exposure_start_date drug_exposure_start_datetime  \\\n",
       "2562                2179-07-25          2179-07-25 03:00:00   \n",
       "14001               2177-09-05          2177-09-05 01:00:00   \n",
       "13833               2182-05-01          2182-05-01 12:00:00   \n",
       "8463                2178-09-29          2178-09-29 03:00:00   \n",
       "56                  2177-07-15          2177-07-15 00:00:00   \n",
       "2540                2179-07-28          2179-07-28 07:00:00   \n",
       "52                  2177-07-15          2177-07-15 05:00:00   \n",
       "80                  2177-07-15          2177-07-15 08:00:00   \n",
       "62                  2177-07-15          2177-07-15 04:00:00   \n",
       "13999               2177-09-04          2177-09-04 10:00:00   \n",
       "\n",
       "      drug_exposure_end_date drug_exposure_end_datetime  \n",
       "2562              2179-07-28        2179-07-28 20:00:00  \n",
       "14001             2177-09-06        2177-09-06 00:00:00  \n",
       "13833             2182-05-02        2182-05-02 15:00:00  \n",
       "8463              2178-10-02        2178-10-02 22:00:00  \n",
       "56                2177-07-15        2177-07-15 06:00:00  \n",
       "2540              2179-07-28        2179-07-28 20:00:00  \n",
       "52                2177-07-15        2177-07-15 20:00:00  \n",
       "80                2177-07-24        2177-07-24 17:00:00  \n",
       "62                2177-07-15        2177-07-15 20:00:00  \n",
       "13999             2177-09-07        2177-09-07 21:00:00  "
      ]
     },
     "execution_count": 37,
     "metadata": {},
     "output_type": "execute_result"
    }
   ],
   "source": [
    "patient_df[[\"drug_exposure_start_date\", \"drug_exposure_start_datetime\", \"drug_exposure_end_date\", \"drug_exposure_end_datetime\"]].sample(10)"
   ]
  },
  {
   "cell_type": "code",
   "execution_count": 38,
   "metadata": {},
   "outputs": [
    {
     "data": {
      "text/plain": [
       "8"
      ]
     },
     "execution_count": 38,
     "metadata": {},
     "output_type": "execute_result"
    }
   ],
   "source": [
    "patient_df[\"visit_occurrence_id\"].nunique()"
   ]
  },
  {
   "cell_type": "code",
   "execution_count": 39,
   "metadata": {},
   "outputs": [
    {
     "name": "stderr",
     "output_type": "stream",
     "text": [
      "/var/folders/5t/vb6260nn0dd8rm99r3ls2p8h0000gp/T/ipykernel_4190/3582365127.py:1: SettingWithCopyWarning: \n",
      "A value is trying to be set on a copy of a slice from a DataFrame.\n",
      "Try using .loc[row_indexer,col_indexer] = value instead\n",
      "\n",
      "See the caveats in the documentation: https://pandas.pydata.org/pandas-docs/stable/user_guide/indexing.html#returning-a-view-versus-a-copy\n",
      "  patient_df[\"drug_exposure_start_datetime\"] = patient_df[\"drug_exposure_start_datetime\"].astype(\"datetime64[s]\")\n",
      "/var/folders/5t/vb6260nn0dd8rm99r3ls2p8h0000gp/T/ipykernel_4190/3582365127.py:2: SettingWithCopyWarning: \n",
      "A value is trying to be set on a copy of a slice from a DataFrame.\n",
      "Try using .loc[row_indexer,col_indexer] = value instead\n",
      "\n",
      "See the caveats in the documentation: https://pandas.pydata.org/pandas-docs/stable/user_guide/indexing.html#returning-a-view-versus-a-copy\n",
      "  patient_df[\"drug_exposure_end_datetime\"] = patient_df[\"drug_exposure_end_datetime\"].astype(\"datetime64[s]\")\n"
     ]
    }
   ],
   "source": [
    "patient_df[\"drug_exposure_start_datetime\"] = patient_df[\"drug_exposure_start_datetime\"].astype(\"datetime64[s]\")\n",
    "patient_df[\"drug_exposure_end_datetime\"] = patient_df[\"drug_exposure_end_datetime\"].astype(\"datetime64[s]\")"
   ]
  },
  {
   "cell_type": "code",
   "execution_count": 40,
   "metadata": {},
   "outputs": [
    {
     "data": {
      "text/plain": [
       "count                    434\n",
       "mean     2178-11-08 00:26:16\n",
       "min      2177-07-14 20:00:00\n",
       "25%      2177-09-04 10:00:00\n",
       "50%      2178-09-29 18:00:00\n",
       "75%      2179-03-30 10:00:00\n",
       "max      2182-05-03 11:00:00\n",
       "Name: drug_exposure_start_datetime, dtype: object"
      ]
     },
     "execution_count": 40,
     "metadata": {},
     "output_type": "execute_result"
    }
   ],
   "source": [
    "patient_df[\"drug_exposure_start_datetime\"].describe()"
   ]
  },
  {
   "cell_type": "code",
   "execution_count": 41,
   "metadata": {},
   "outputs": [
    {
     "data": {
      "text/plain": [
       "101"
      ]
     },
     "execution_count": 41,
     "metadata": {},
     "output_type": "execute_result"
    },
    {
     "data": {
      "text/plain": [
       "drug_concept_id\n",
       "19071700    43\n",
       "40166274    36\n",
       "46275280    34\n",
       "1596977     17\n",
       "40221385    12\n",
       "            ..\n",
       "19072176     1\n",
       "19029876     1\n",
       "46287354     1\n",
       "19077546     1\n",
       "40167443     1\n",
       "Name: count, Length: 101, dtype: int64"
      ]
     },
     "execution_count": 41,
     "metadata": {},
     "output_type": "execute_result"
    }
   ],
   "source": [
    "patient_df[\"drug_concept_id\"].nunique()\n",
    "patient_df[\"drug_concept_id\"].value_counts()"
   ]
  },
  {
   "cell_type": "code",
   "execution_count": 57,
   "metadata": {},
   "outputs": [
    {
     "data": {
      "text/html": [
       "<div>\n",
       "<style scoped>\n",
       "    .dataframe tbody tr th:only-of-type {\n",
       "        vertical-align: middle;\n",
       "    }\n",
       "\n",
       "    .dataframe tbody tr th {\n",
       "        vertical-align: top;\n",
       "    }\n",
       "\n",
       "    .dataframe thead th {\n",
       "        text-align: right;\n",
       "    }\n",
       "</style>\n",
       "<table border=\"1\" class=\"dataframe\">\n",
       "  <thead>\n",
       "    <tr style=\"text-align: right;\">\n",
       "      <th></th>\n",
       "      <th>date</th>\n",
       "      <th>drug_concept_id</th>\n",
       "    </tr>\n",
       "  </thead>\n",
       "  <tbody>\n",
       "    <tr>\n",
       "      <th>0</th>\n",
       "      <td>2147-09-12</td>\n",
       "      <td>19078557</td>\n",
       "    </tr>\n",
       "    <tr>\n",
       "      <th>1</th>\n",
       "      <td>2147-09-12</td>\n",
       "      <td>19068781</td>\n",
       "    </tr>\n",
       "    <tr>\n",
       "      <th>2</th>\n",
       "      <td>2147-09-12</td>\n",
       "      <td>19071700</td>\n",
       "    </tr>\n",
       "    <tr>\n",
       "      <th>3</th>\n",
       "      <td>2147-09-12</td>\n",
       "      <td>19071700</td>\n",
       "    </tr>\n",
       "    <tr>\n",
       "      <th>4</th>\n",
       "      <td>2147-09-12</td>\n",
       "      <td>1593969</td>\n",
       "    </tr>\n",
       "  </tbody>\n",
       "</table>\n",
       "</div>"
      ],
      "text/plain": [
       "        date  drug_concept_id\n",
       "0 2147-09-12         19078557\n",
       "1 2147-09-12         19068781\n",
       "2 2147-09-12         19071700\n",
       "3 2147-09-12         19071700\n",
       "4 2147-09-12          1593969"
      ]
     },
     "execution_count": 57,
     "metadata": {},
     "output_type": "execute_result"
    }
   ],
   "source": [
    "tmp = pd.concat([pd.Series(row.drug_concept_id, pd.date_range(row.drug_exposure_start_date, row.drug_exposure_end_date)) for row in patient_df.itertuples()])\n",
    "tmp_df = pd.DataFrame(tmp, columns=[\"drug_concept_id\"]).reset_index(names=\"date\")\n",
    "tmp_df.head()"
   ]
  },
  {
   "cell_type": "code",
   "execution_count": 51,
   "metadata": {},
   "outputs": [
    {
     "data": {
      "application/vnd.plotly.v1+json": {
       "config": {
        "plotlyServerURL": "https://plot.ly"
       },
       "data": [
        {
         "hovertemplate": "visit_id=P000000<br>date=%{x}<br>nb_drugs=%{y}<extra></extra>",
         "legendgroup": "P000000",
         "marker": {
          "color": "#636efa",
          "symbol": "circle"
         },
         "mode": "markers",
         "name": "P000000",
         "orientation": "v",
         "showlegend": true,
         "type": "scatter",
         "x": [
          "2177-07-14T00:00:00",
          "2177-07-15T00:00:00",
          "2177-07-16T00:00:00",
          "2177-07-17T00:00:00",
          "2177-07-18T00:00:00",
          "2177-07-19T00:00:00",
          "2177-07-20T00:00:00",
          "2177-07-21T00:00:00",
          "2177-07-22T00:00:00",
          "2177-07-23T00:00:00",
          "2177-07-24T00:00:00"
         ],
         "xaxis": "x",
         "y": [
          7,
          42,
          33,
          34,
          34,
          36,
          35,
          32,
          33,
          31,
          31
         ],
         "yaxis": "y"
        },
        {
         "hovertemplate": "visit_id=P000192<br>date=%{x}<br>nb_drugs=%{y}<extra></extra>",
         "legendgroup": "P000192",
         "marker": {
          "color": "#EF553B",
          "symbol": "circle"
         },
         "mode": "markers",
         "name": "P000192",
         "orientation": "v",
         "showlegend": true,
         "type": "scatter",
         "x": [
          "2177-09-04T00:00:00",
          "2177-09-05T00:00:00",
          "2177-09-06T00:00:00",
          "2177-09-07T00:00:00"
         ],
         "xaxis": "x",
         "y": [
          26,
          29,
          26,
          24
         ],
         "yaxis": "y"
        },
        {
         "hovertemplate": "visit_id=P000115<br>date=%{x}<br>nb_drugs=%{y}<extra></extra>",
         "legendgroup": "P000115",
         "marker": {
          "color": "#00cc96",
          "symbol": "circle"
         },
         "mode": "markers",
         "name": "P000115",
         "orientation": "v",
         "showlegend": true,
         "type": "scatter",
         "x": [
          "2177-12-21T00:00:00",
          "2177-12-22T00:00:00",
          "2177-12-23T00:00:00"
         ],
         "xaxis": "x",
         "y": [
          2,
          29,
          29
         ],
         "yaxis": "y"
        },
        {
         "hovertemplate": "visit_id=P000112<br>date=%{x}<br>nb_drugs=%{y}<extra></extra>",
         "legendgroup": "P000112",
         "marker": {
          "color": "#ab63fa",
          "symbol": "circle"
         },
         "mode": "markers",
         "name": "P000112",
         "orientation": "v",
         "showlegend": true,
         "type": "scatter",
         "x": [
          "2178-09-29T00:00:00",
          "2178-09-30T00:00:00",
          "2178-10-01T00:00:00",
          "2178-10-02T00:00:00"
         ],
         "xaxis": "x",
         "y": [
          33,
          30,
          28,
          28
         ],
         "yaxis": "y"
        },
        {
         "hovertemplate": "visit_id=P000155<br>date=%{x}<br>nb_drugs=%{y}<extra></extra>",
         "legendgroup": "P000155",
         "marker": {
          "color": "#FFA15A",
          "symbol": "circle"
         },
         "mode": "markers",
         "name": "P000155",
         "orientation": "v",
         "showlegend": true,
         "type": "scatter",
         "x": [
          "2178-12-21T00:00:00",
          "2178-12-22T00:00:00",
          "2178-12-23T00:00:00",
          "2178-12-24T00:00:00",
          "2178-12-25T00:00:00",
          "2178-12-26T00:00:00"
         ],
         "xaxis": "x",
         "y": [
          23,
          25,
          18,
          20,
          21,
          23
         ],
         "yaxis": "y"
        },
        {
         "hovertemplate": "visit_id=P000049<br>date=%{x}<br>nb_drugs=%{y}<extra></extra>",
         "legendgroup": "P000049",
         "marker": {
          "color": "#19d3f3",
          "symbol": "circle"
         },
         "mode": "markers",
         "name": "P000049",
         "orientation": "v",
         "showlegend": true,
         "type": "scatter",
         "x": [
          "2179-03-27T00:00:00",
          "2179-03-28T00:00:00",
          "2179-03-29T00:00:00",
          "2179-03-30T00:00:00",
          "2179-03-31T00:00:00",
          "2179-04-01T00:00:00",
          "2179-04-02T00:00:00",
          "2179-04-03T00:00:00",
          "2179-04-04T00:00:00"
         ],
         "xaxis": "x",
         "y": [
          15,
          25,
          20,
          23,
          24,
          21,
          20,
          20,
          20
         ],
         "yaxis": "y"
        },
        {
         "hovertemplate": "visit_id=P000038<br>date=%{x}<br>nb_drugs=%{y}<extra></extra>",
         "legendgroup": "P000038",
         "marker": {
          "color": "#FF6692",
          "symbol": "circle"
         },
         "mode": "markers",
         "name": "P000038",
         "orientation": "v",
         "showlegend": true,
         "type": "scatter",
         "x": [
          "2179-07-25T00:00:00",
          "2179-07-26T00:00:00",
          "2179-07-27T00:00:00",
          "2179-07-28T00:00:00"
         ],
         "xaxis": "x",
         "y": [
          24,
          26,
          23,
          20
         ],
         "yaxis": "y"
        },
        {
         "hovertemplate": "visit_id=P000188<br>date=%{x}<br>nb_drugs=%{y}<extra></extra>",
         "legendgroup": "P000188",
         "marker": {
          "color": "#B6E880",
          "symbol": "circle"
         },
         "mode": "markers",
         "name": "P000188",
         "orientation": "v",
         "showlegend": true,
         "type": "scatter",
         "x": [
          "2182-04-29T00:00:00",
          "2182-04-30T00:00:00",
          "2182-05-01T00:00:00",
          "2182-05-02T00:00:00",
          "2182-05-03T00:00:00"
         ],
         "xaxis": "x",
         "y": [
          14,
          17,
          22,
          23,
          22
         ],
         "yaxis": "y"
        }
       ],
       "layout": {
        "legend": {
         "title": {
          "text": "visit_id"
         },
         "tracegroupgap": 0
        },
        "margin": {
         "t": 60
        },
        "template": {
         "data": {
          "bar": [
           {
            "error_x": {
             "color": "#2a3f5f"
            },
            "error_y": {
             "color": "#2a3f5f"
            },
            "marker": {
             "line": {
              "color": "#E5ECF6",
              "width": 0.5
             },
             "pattern": {
              "fillmode": "overlay",
              "size": 10,
              "solidity": 0.2
             }
            },
            "type": "bar"
           }
          ],
          "barpolar": [
           {
            "marker": {
             "line": {
              "color": "#E5ECF6",
              "width": 0.5
             },
             "pattern": {
              "fillmode": "overlay",
              "size": 10,
              "solidity": 0.2
             }
            },
            "type": "barpolar"
           }
          ],
          "carpet": [
           {
            "aaxis": {
             "endlinecolor": "#2a3f5f",
             "gridcolor": "white",
             "linecolor": "white",
             "minorgridcolor": "white",
             "startlinecolor": "#2a3f5f"
            },
            "baxis": {
             "endlinecolor": "#2a3f5f",
             "gridcolor": "white",
             "linecolor": "white",
             "minorgridcolor": "white",
             "startlinecolor": "#2a3f5f"
            },
            "type": "carpet"
           }
          ],
          "choropleth": [
           {
            "colorbar": {
             "outlinewidth": 0,
             "ticks": ""
            },
            "type": "choropleth"
           }
          ],
          "contour": [
           {
            "colorbar": {
             "outlinewidth": 0,
             "ticks": ""
            },
            "colorscale": [
             [
              0,
              "#0d0887"
             ],
             [
              0.1111111111111111,
              "#46039f"
             ],
             [
              0.2222222222222222,
              "#7201a8"
             ],
             [
              0.3333333333333333,
              "#9c179e"
             ],
             [
              0.4444444444444444,
              "#bd3786"
             ],
             [
              0.5555555555555556,
              "#d8576b"
             ],
             [
              0.6666666666666666,
              "#ed7953"
             ],
             [
              0.7777777777777778,
              "#fb9f3a"
             ],
             [
              0.8888888888888888,
              "#fdca26"
             ],
             [
              1,
              "#f0f921"
             ]
            ],
            "type": "contour"
           }
          ],
          "contourcarpet": [
           {
            "colorbar": {
             "outlinewidth": 0,
             "ticks": ""
            },
            "type": "contourcarpet"
           }
          ],
          "heatmap": [
           {
            "colorbar": {
             "outlinewidth": 0,
             "ticks": ""
            },
            "colorscale": [
             [
              0,
              "#0d0887"
             ],
             [
              0.1111111111111111,
              "#46039f"
             ],
             [
              0.2222222222222222,
              "#7201a8"
             ],
             [
              0.3333333333333333,
              "#9c179e"
             ],
             [
              0.4444444444444444,
              "#bd3786"
             ],
             [
              0.5555555555555556,
              "#d8576b"
             ],
             [
              0.6666666666666666,
              "#ed7953"
             ],
             [
              0.7777777777777778,
              "#fb9f3a"
             ],
             [
              0.8888888888888888,
              "#fdca26"
             ],
             [
              1,
              "#f0f921"
             ]
            ],
            "type": "heatmap"
           }
          ],
          "heatmapgl": [
           {
            "colorbar": {
             "outlinewidth": 0,
             "ticks": ""
            },
            "colorscale": [
             [
              0,
              "#0d0887"
             ],
             [
              0.1111111111111111,
              "#46039f"
             ],
             [
              0.2222222222222222,
              "#7201a8"
             ],
             [
              0.3333333333333333,
              "#9c179e"
             ],
             [
              0.4444444444444444,
              "#bd3786"
             ],
             [
              0.5555555555555556,
              "#d8576b"
             ],
             [
              0.6666666666666666,
              "#ed7953"
             ],
             [
              0.7777777777777778,
              "#fb9f3a"
             ],
             [
              0.8888888888888888,
              "#fdca26"
             ],
             [
              1,
              "#f0f921"
             ]
            ],
            "type": "heatmapgl"
           }
          ],
          "histogram": [
           {
            "marker": {
             "pattern": {
              "fillmode": "overlay",
              "size": 10,
              "solidity": 0.2
             }
            },
            "type": "histogram"
           }
          ],
          "histogram2d": [
           {
            "colorbar": {
             "outlinewidth": 0,
             "ticks": ""
            },
            "colorscale": [
             [
              0,
              "#0d0887"
             ],
             [
              0.1111111111111111,
              "#46039f"
             ],
             [
              0.2222222222222222,
              "#7201a8"
             ],
             [
              0.3333333333333333,
              "#9c179e"
             ],
             [
              0.4444444444444444,
              "#bd3786"
             ],
             [
              0.5555555555555556,
              "#d8576b"
             ],
             [
              0.6666666666666666,
              "#ed7953"
             ],
             [
              0.7777777777777778,
              "#fb9f3a"
             ],
             [
              0.8888888888888888,
              "#fdca26"
             ],
             [
              1,
              "#f0f921"
             ]
            ],
            "type": "histogram2d"
           }
          ],
          "histogram2dcontour": [
           {
            "colorbar": {
             "outlinewidth": 0,
             "ticks": ""
            },
            "colorscale": [
             [
              0,
              "#0d0887"
             ],
             [
              0.1111111111111111,
              "#46039f"
             ],
             [
              0.2222222222222222,
              "#7201a8"
             ],
             [
              0.3333333333333333,
              "#9c179e"
             ],
             [
              0.4444444444444444,
              "#bd3786"
             ],
             [
              0.5555555555555556,
              "#d8576b"
             ],
             [
              0.6666666666666666,
              "#ed7953"
             ],
             [
              0.7777777777777778,
              "#fb9f3a"
             ],
             [
              0.8888888888888888,
              "#fdca26"
             ],
             [
              1,
              "#f0f921"
             ]
            ],
            "type": "histogram2dcontour"
           }
          ],
          "mesh3d": [
           {
            "colorbar": {
             "outlinewidth": 0,
             "ticks": ""
            },
            "type": "mesh3d"
           }
          ],
          "parcoords": [
           {
            "line": {
             "colorbar": {
              "outlinewidth": 0,
              "ticks": ""
             }
            },
            "type": "parcoords"
           }
          ],
          "pie": [
           {
            "automargin": true,
            "type": "pie"
           }
          ],
          "scatter": [
           {
            "fillpattern": {
             "fillmode": "overlay",
             "size": 10,
             "solidity": 0.2
            },
            "type": "scatter"
           }
          ],
          "scatter3d": [
           {
            "line": {
             "colorbar": {
              "outlinewidth": 0,
              "ticks": ""
             }
            },
            "marker": {
             "colorbar": {
              "outlinewidth": 0,
              "ticks": ""
             }
            },
            "type": "scatter3d"
           }
          ],
          "scattercarpet": [
           {
            "marker": {
             "colorbar": {
              "outlinewidth": 0,
              "ticks": ""
             }
            },
            "type": "scattercarpet"
           }
          ],
          "scattergeo": [
           {
            "marker": {
             "colorbar": {
              "outlinewidth": 0,
              "ticks": ""
             }
            },
            "type": "scattergeo"
           }
          ],
          "scattergl": [
           {
            "marker": {
             "colorbar": {
              "outlinewidth": 0,
              "ticks": ""
             }
            },
            "type": "scattergl"
           }
          ],
          "scattermapbox": [
           {
            "marker": {
             "colorbar": {
              "outlinewidth": 0,
              "ticks": ""
             }
            },
            "type": "scattermapbox"
           }
          ],
          "scatterpolar": [
           {
            "marker": {
             "colorbar": {
              "outlinewidth": 0,
              "ticks": ""
             }
            },
            "type": "scatterpolar"
           }
          ],
          "scatterpolargl": [
           {
            "marker": {
             "colorbar": {
              "outlinewidth": 0,
              "ticks": ""
             }
            },
            "type": "scatterpolargl"
           }
          ],
          "scatterternary": [
           {
            "marker": {
             "colorbar": {
              "outlinewidth": 0,
              "ticks": ""
             }
            },
            "type": "scatterternary"
           }
          ],
          "surface": [
           {
            "colorbar": {
             "outlinewidth": 0,
             "ticks": ""
            },
            "colorscale": [
             [
              0,
              "#0d0887"
             ],
             [
              0.1111111111111111,
              "#46039f"
             ],
             [
              0.2222222222222222,
              "#7201a8"
             ],
             [
              0.3333333333333333,
              "#9c179e"
             ],
             [
              0.4444444444444444,
              "#bd3786"
             ],
             [
              0.5555555555555556,
              "#d8576b"
             ],
             [
              0.6666666666666666,
              "#ed7953"
             ],
             [
              0.7777777777777778,
              "#fb9f3a"
             ],
             [
              0.8888888888888888,
              "#fdca26"
             ],
             [
              1,
              "#f0f921"
             ]
            ],
            "type": "surface"
           }
          ],
          "table": [
           {
            "cells": {
             "fill": {
              "color": "#EBF0F8"
             },
             "line": {
              "color": "white"
             }
            },
            "header": {
             "fill": {
              "color": "#C8D4E3"
             },
             "line": {
              "color": "white"
             }
            },
            "type": "table"
           }
          ]
         },
         "layout": {
          "annotationdefaults": {
           "arrowcolor": "#2a3f5f",
           "arrowhead": 0,
           "arrowwidth": 1
          },
          "autotypenumbers": "strict",
          "coloraxis": {
           "colorbar": {
            "outlinewidth": 0,
            "ticks": ""
           }
          },
          "colorscale": {
           "diverging": [
            [
             0,
             "#8e0152"
            ],
            [
             0.1,
             "#c51b7d"
            ],
            [
             0.2,
             "#de77ae"
            ],
            [
             0.3,
             "#f1b6da"
            ],
            [
             0.4,
             "#fde0ef"
            ],
            [
             0.5,
             "#f7f7f7"
            ],
            [
             0.6,
             "#e6f5d0"
            ],
            [
             0.7,
             "#b8e186"
            ],
            [
             0.8,
             "#7fbc41"
            ],
            [
             0.9,
             "#4d9221"
            ],
            [
             1,
             "#276419"
            ]
           ],
           "sequential": [
            [
             0,
             "#0d0887"
            ],
            [
             0.1111111111111111,
             "#46039f"
            ],
            [
             0.2222222222222222,
             "#7201a8"
            ],
            [
             0.3333333333333333,
             "#9c179e"
            ],
            [
             0.4444444444444444,
             "#bd3786"
            ],
            [
             0.5555555555555556,
             "#d8576b"
            ],
            [
             0.6666666666666666,
             "#ed7953"
            ],
            [
             0.7777777777777778,
             "#fb9f3a"
            ],
            [
             0.8888888888888888,
             "#fdca26"
            ],
            [
             1,
             "#f0f921"
            ]
           ],
           "sequentialminus": [
            [
             0,
             "#0d0887"
            ],
            [
             0.1111111111111111,
             "#46039f"
            ],
            [
             0.2222222222222222,
             "#7201a8"
            ],
            [
             0.3333333333333333,
             "#9c179e"
            ],
            [
             0.4444444444444444,
             "#bd3786"
            ],
            [
             0.5555555555555556,
             "#d8576b"
            ],
            [
             0.6666666666666666,
             "#ed7953"
            ],
            [
             0.7777777777777778,
             "#fb9f3a"
            ],
            [
             0.8888888888888888,
             "#fdca26"
            ],
            [
             1,
             "#f0f921"
            ]
           ]
          },
          "colorway": [
           "#636efa",
           "#EF553B",
           "#00cc96",
           "#ab63fa",
           "#FFA15A",
           "#19d3f3",
           "#FF6692",
           "#B6E880",
           "#FF97FF",
           "#FECB52"
          ],
          "font": {
           "color": "#2a3f5f"
          },
          "geo": {
           "bgcolor": "white",
           "lakecolor": "white",
           "landcolor": "#E5ECF6",
           "showlakes": true,
           "showland": true,
           "subunitcolor": "white"
          },
          "hoverlabel": {
           "align": "left"
          },
          "hovermode": "closest",
          "mapbox": {
           "style": "light"
          },
          "paper_bgcolor": "white",
          "plot_bgcolor": "#E5ECF6",
          "polar": {
           "angularaxis": {
            "gridcolor": "white",
            "linecolor": "white",
            "ticks": ""
           },
           "bgcolor": "#E5ECF6",
           "radialaxis": {
            "gridcolor": "white",
            "linecolor": "white",
            "ticks": ""
           }
          },
          "scene": {
           "xaxis": {
            "backgroundcolor": "#E5ECF6",
            "gridcolor": "white",
            "gridwidth": 2,
            "linecolor": "white",
            "showbackground": true,
            "ticks": "",
            "zerolinecolor": "white"
           },
           "yaxis": {
            "backgroundcolor": "#E5ECF6",
            "gridcolor": "white",
            "gridwidth": 2,
            "linecolor": "white",
            "showbackground": true,
            "ticks": "",
            "zerolinecolor": "white"
           },
           "zaxis": {
            "backgroundcolor": "#E5ECF6",
            "gridcolor": "white",
            "gridwidth": 2,
            "linecolor": "white",
            "showbackground": true,
            "ticks": "",
            "zerolinecolor": "white"
           }
          },
          "shapedefaults": {
           "line": {
            "color": "#2a3f5f"
           }
          },
          "ternary": {
           "aaxis": {
            "gridcolor": "white",
            "linecolor": "white",
            "ticks": ""
           },
           "baxis": {
            "gridcolor": "white",
            "linecolor": "white",
            "ticks": ""
           },
           "bgcolor": "#E5ECF6",
           "caxis": {
            "gridcolor": "white",
            "linecolor": "white",
            "ticks": ""
           }
          },
          "title": {
           "x": 0.05
          },
          "xaxis": {
           "automargin": true,
           "gridcolor": "white",
           "linecolor": "white",
           "ticks": "",
           "title": {
            "standoff": 15
           },
           "zerolinecolor": "white",
           "zerolinewidth": 2
          },
          "yaxis": {
           "automargin": true,
           "gridcolor": "white",
           "linecolor": "white",
           "ticks": "",
           "title": {
            "standoff": 15
           },
           "zerolinecolor": "white",
           "zerolinewidth": 2
          }
         }
        },
        "xaxis": {
         "anchor": "y",
         "domain": [
          0,
          1
         ],
         "title": {
          "text": "date"
         }
        },
        "yaxis": {
         "anchor": "x",
         "domain": [
          0,
          1
         ],
         "title": {
          "text": "nb_drugs"
         }
        }
       }
      }
     },
     "metadata": {},
     "output_type": "display_data"
    }
   ],
   "source": [
    "tmp_drug = pd.concat([pd.Series(row.drug_concept_id, pd.date_range(row.drug_exposure_start_date, row.drug_exposure_end_date)) for row in patient_df.itertuples()])\n",
    "tmp_drug_df = pd.DataFrame(tmp_drug, columns=[\"drug_concept_id\"])\n",
    "tmp_visit = pd.concat([pd.Series(row.visit_occurrence_id, pd.date_range(row.drug_exposure_start_date, row.drug_exposure_end_date)) for row in patient_df.itertuples()])\n",
    "tmp_visit_df = pd.DataFrame(tmp_visit, columns=[\"visit_occurrence_id\"])\n",
    "tmp_df = pd.concat([tmp_drug_df, tmp_visit_df], axis=1).reset_index(names=\"date\")\n",
    "\n",
    "grouped_tmp_df = tmp_df.groupby(\"date\").agg({\"drug_concept_id\": [\"unique\", \"nunique\"], \"visit_occurrence_id\": [\"unique\", \"nunique\"]}).reset_index()\n",
    "\n",
    "# new_grouped_tmp_df = grouped_tmp_df[grouped_tmp_df[(\"visit_occurrence_id\", \"nunique\")] == 1]\n",
    "grouped_tmp_df.columns = [\"date\", \"unique_drugs\", \"nb_drugs\", \"visit_id\", \"nb_visits\"]\n",
    "grouped_tmp_df[\"visit_id\"] = grouped_tmp_df[\"visit_id\"].apply(lambda x: x[0]).astype(str)\n",
    "\n",
    "fig = px.scatter(grouped_tmp_df, x=\"date\", y=\"nb_drugs\", color=\"visit_id\")\n",
    "fig.show()"
   ]
  },
  {
   "cell_type": "code",
   "execution_count": 43,
   "metadata": {},
   "outputs": [
    {
     "data": {
      "text/html": [
       "<div>\n",
       "<style scoped>\n",
       "    .dataframe tbody tr th:only-of-type {\n",
       "        vertical-align: middle;\n",
       "    }\n",
       "\n",
       "    .dataframe tbody tr th {\n",
       "        vertical-align: top;\n",
       "    }\n",
       "\n",
       "    .dataframe thead th {\n",
       "        text-align: right;\n",
       "    }\n",
       "</style>\n",
       "<table border=\"1\" class=\"dataframe\">\n",
       "  <thead>\n",
       "    <tr style=\"text-align: right;\">\n",
       "      <th></th>\n",
       "      <th>drug_concept_id</th>\n",
       "    </tr>\n",
       "  </thead>\n",
       "  <tbody>\n",
       "    <tr>\n",
       "      <th>2177-07-16</th>\n",
       "      <td>40166274</td>\n",
       "    </tr>\n",
       "    <tr>\n",
       "      <th>2177-07-17</th>\n",
       "      <td>40166274</td>\n",
       "    </tr>\n",
       "    <tr>\n",
       "      <th>2177-07-17</th>\n",
       "      <td>40166274</td>\n",
       "    </tr>\n",
       "    <tr>\n",
       "      <th>2177-07-18</th>\n",
       "      <td>40166274</td>\n",
       "    </tr>\n",
       "    <tr>\n",
       "      <th>2177-07-15</th>\n",
       "      <td>40166274</td>\n",
       "    </tr>\n",
       "  </tbody>\n",
       "</table>\n",
       "</div>"
      ],
      "text/plain": [
       "            drug_concept_id\n",
       "2177-07-16         40166274\n",
       "2177-07-17         40166274\n",
       "2177-07-17         40166274\n",
       "2177-07-18         40166274\n",
       "2177-07-15         40166274"
      ]
     },
     "execution_count": 43,
     "metadata": {},
     "output_type": "execute_result"
    },
    {
     "data": {
      "text/html": [
       "<div>\n",
       "<style scoped>\n",
       "    .dataframe tbody tr th:only-of-type {\n",
       "        vertical-align: middle;\n",
       "    }\n",
       "\n",
       "    .dataframe tbody tr th {\n",
       "        vertical-align: top;\n",
       "    }\n",
       "\n",
       "    .dataframe thead th {\n",
       "        text-align: right;\n",
       "    }\n",
       "</style>\n",
       "<table border=\"1\" class=\"dataframe\">\n",
       "  <thead>\n",
       "    <tr style=\"text-align: right;\">\n",
       "      <th></th>\n",
       "      <th>visit_occurrence_id</th>\n",
       "    </tr>\n",
       "  </thead>\n",
       "  <tbody>\n",
       "    <tr>\n",
       "      <th>2177-07-16</th>\n",
       "      <td>P000000</td>\n",
       "    </tr>\n",
       "    <tr>\n",
       "      <th>2177-07-17</th>\n",
       "      <td>P000000</td>\n",
       "    </tr>\n",
       "    <tr>\n",
       "      <th>2177-07-17</th>\n",
       "      <td>P000000</td>\n",
       "    </tr>\n",
       "    <tr>\n",
       "      <th>2177-07-18</th>\n",
       "      <td>P000000</td>\n",
       "    </tr>\n",
       "    <tr>\n",
       "      <th>2177-07-15</th>\n",
       "      <td>P000000</td>\n",
       "    </tr>\n",
       "  </tbody>\n",
       "</table>\n",
       "</div>"
      ],
      "text/plain": [
       "           visit_occurrence_id\n",
       "2177-07-16             P000000\n",
       "2177-07-17             P000000\n",
       "2177-07-17             P000000\n",
       "2177-07-18             P000000\n",
       "2177-07-15             P000000"
      ]
     },
     "execution_count": 43,
     "metadata": {},
     "output_type": "execute_result"
    },
    {
     "data": {
      "text/html": [
       "<div>\n",
       "<style scoped>\n",
       "    .dataframe tbody tr th:only-of-type {\n",
       "        vertical-align: middle;\n",
       "    }\n",
       "\n",
       "    .dataframe tbody tr th {\n",
       "        vertical-align: top;\n",
       "    }\n",
       "\n",
       "    .dataframe thead th {\n",
       "        text-align: right;\n",
       "    }\n",
       "</style>\n",
       "<table border=\"1\" class=\"dataframe\">\n",
       "  <thead>\n",
       "    <tr style=\"text-align: right;\">\n",
       "      <th></th>\n",
       "      <th>date</th>\n",
       "      <th>drug_concept_id</th>\n",
       "      <th>visit_occurrence_id</th>\n",
       "    </tr>\n",
       "  </thead>\n",
       "  <tbody>\n",
       "    <tr>\n",
       "      <th>0</th>\n",
       "      <td>2177-07-16</td>\n",
       "      <td>40166274</td>\n",
       "      <td>P000000</td>\n",
       "    </tr>\n",
       "    <tr>\n",
       "      <th>1</th>\n",
       "      <td>2177-07-17</td>\n",
       "      <td>40166274</td>\n",
       "      <td>P000000</td>\n",
       "    </tr>\n",
       "    <tr>\n",
       "      <th>2</th>\n",
       "      <td>2177-07-17</td>\n",
       "      <td>40166274</td>\n",
       "      <td>P000000</td>\n",
       "    </tr>\n",
       "    <tr>\n",
       "      <th>3</th>\n",
       "      <td>2177-07-18</td>\n",
       "      <td>40166274</td>\n",
       "      <td>P000000</td>\n",
       "    </tr>\n",
       "    <tr>\n",
       "      <th>4</th>\n",
       "      <td>2177-07-15</td>\n",
       "      <td>40166274</td>\n",
       "      <td>P000000</td>\n",
       "    </tr>\n",
       "  </tbody>\n",
       "</table>\n",
       "</div>"
      ],
      "text/plain": [
       "        date  drug_concept_id visit_occurrence_id\n",
       "0 2177-07-16         40166274             P000000\n",
       "1 2177-07-17         40166274             P000000\n",
       "2 2177-07-17         40166274             P000000\n",
       "3 2177-07-18         40166274             P000000\n",
       "4 2177-07-15         40166274             P000000"
      ]
     },
     "execution_count": 43,
     "metadata": {},
     "output_type": "execute_result"
    }
   ],
   "source": [
    "tmp_drug = pd.concat([pd.Series(row.drug_concept_id, pd.date_range(row.drug_exposure_start_date, row.drug_exposure_end_date)) for row in patient_df.itertuples()])\n",
    "tmp_drug_df = pd.DataFrame(tmp_drug, columns=[\"drug_concept_id\"])\n",
    "tmp_drug_df.head()\n",
    "tmp_visit = pd.concat([pd.Series(row.visit_occurrence_id, pd.date_range(row.drug_exposure_start_date, row.drug_exposure_end_date)) for row in patient_df.itertuples()])\n",
    "tmp_visit_df = pd.DataFrame(tmp_visit, columns=[\"visit_occurrence_id\"])\n",
    "tmp_visit_df.head()\n",
    "tmp_df = pd.concat([tmp_drug_df, tmp_visit_df], axis=1).reset_index(names=\"date\")\n",
    "tmp_df.head()"
   ]
  },
  {
   "cell_type": "code",
   "execution_count": 85,
   "metadata": {},
   "outputs": [
    {
     "data": {
      "text/html": [
       "<div>\n",
       "<style scoped>\n",
       "    .dataframe tbody tr th:only-of-type {\n",
       "        vertical-align: middle;\n",
       "    }\n",
       "\n",
       "    .dataframe tbody tr th {\n",
       "        vertical-align: top;\n",
       "    }\n",
       "\n",
       "    .dataframe thead th {\n",
       "        text-align: right;\n",
       "    }\n",
       "</style>\n",
       "<table border=\"1\" class=\"dataframe\">\n",
       "  <thead>\n",
       "    <tr style=\"text-align: right;\">\n",
       "      <th></th>\n",
       "      <th>visit_occurrence_id</th>\n",
       "    </tr>\n",
       "  </thead>\n",
       "  <tbody>\n",
       "    <tr>\n",
       "      <th>2148-06-24</th>\n",
       "      <td>2717440401888979354</td>\n",
       "    </tr>\n",
       "    <tr>\n",
       "      <th>2148-06-24</th>\n",
       "      <td>2717440401888979354</td>\n",
       "    </tr>\n",
       "    <tr>\n",
       "      <th>2148-06-24</th>\n",
       "      <td>2717440401888979354</td>\n",
       "    </tr>\n",
       "    <tr>\n",
       "      <th>2148-06-24</th>\n",
       "      <td>2717440401888979354</td>\n",
       "    </tr>\n",
       "    <tr>\n",
       "      <th>2148-06-24</th>\n",
       "      <td>2717440401888979354</td>\n",
       "    </tr>\n",
       "    <tr>\n",
       "      <th>...</th>\n",
       "      <td>...</td>\n",
       "    </tr>\n",
       "    <tr>\n",
       "      <th>2148-06-28</th>\n",
       "      <td>2717440401888979354</td>\n",
       "    </tr>\n",
       "    <tr>\n",
       "      <th>2148-06-28</th>\n",
       "      <td>2717440401888979354</td>\n",
       "    </tr>\n",
       "    <tr>\n",
       "      <th>2148-06-30</th>\n",
       "      <td>2717440401888979354</td>\n",
       "    </tr>\n",
       "    <tr>\n",
       "      <th>2148-07-03</th>\n",
       "      <td>2717440401888979354</td>\n",
       "    </tr>\n",
       "    <tr>\n",
       "      <th>2148-07-06</th>\n",
       "      <td>2717440401888979354</td>\n",
       "    </tr>\n",
       "  </tbody>\n",
       "</table>\n",
       "<p>239 rows × 1 columns</p>\n",
       "</div>"
      ],
      "text/plain": [
       "            visit_occurrence_id\n",
       "2148-06-24  2717440401888979354\n",
       "2148-06-24  2717440401888979354\n",
       "2148-06-24  2717440401888979354\n",
       "2148-06-24  2717440401888979354\n",
       "2148-06-24  2717440401888979354\n",
       "...                         ...\n",
       "2148-06-28  2717440401888979354\n",
       "2148-06-28  2717440401888979354\n",
       "2148-06-30  2717440401888979354\n",
       "2148-07-03  2717440401888979354\n",
       "2148-07-06  2717440401888979354\n",
       "\n",
       "[239 rows x 1 columns]"
      ]
     },
     "execution_count": 85,
     "metadata": {},
     "output_type": "execute_result"
    }
   ],
   "source": [
    "tmp_visit_df[tmp_visit_df[\"visit_occurrence_id\"] == 2717440401888979354].sort_index()"
   ]
  },
  {
   "cell_type": "code",
   "execution_count": 44,
   "metadata": {},
   "outputs": [
    {
     "data": {
      "text/html": [
       "<div>\n",
       "<style scoped>\n",
       "    .dataframe tbody tr th:only-of-type {\n",
       "        vertical-align: middle;\n",
       "    }\n",
       "\n",
       "    .dataframe tbody tr th {\n",
       "        vertical-align: top;\n",
       "    }\n",
       "\n",
       "    .dataframe thead th {\n",
       "        text-align: right;\n",
       "    }\n",
       "</style>\n",
       "<table border=\"1\" class=\"dataframe\">\n",
       "  <thead>\n",
       "    <tr style=\"text-align: right;\">\n",
       "      <th></th>\n",
       "      <th>date</th>\n",
       "      <th>drug_concept_id</th>\n",
       "      <th>visit_occurrence_id</th>\n",
       "    </tr>\n",
       "  </thead>\n",
       "  <tbody>\n",
       "  </tbody>\n",
       "</table>\n",
       "</div>"
      ],
      "text/plain": [
       "Empty DataFrame\n",
       "Columns: [date, drug_concept_id, visit_occurrence_id]\n",
       "Index: []"
      ]
     },
     "execution_count": 44,
     "metadata": {},
     "output_type": "execute_result"
    }
   ],
   "source": [
    "tmp_df[tmp_df[\"date\"] == dt.datetime(2148, 6, 30)]"
   ]
  },
  {
   "cell_type": "code",
   "execution_count": 45,
   "metadata": {},
   "outputs": [
    {
     "data": {
      "text/html": [
       "<div>\n",
       "<style scoped>\n",
       "    .dataframe tbody tr th:only-of-type {\n",
       "        vertical-align: middle;\n",
       "    }\n",
       "\n",
       "    .dataframe tbody tr th {\n",
       "        vertical-align: top;\n",
       "    }\n",
       "\n",
       "    .dataframe thead tr th {\n",
       "        text-align: left;\n",
       "    }\n",
       "</style>\n",
       "<table border=\"1\" class=\"dataframe\">\n",
       "  <thead>\n",
       "    <tr>\n",
       "      <th></th>\n",
       "      <th>date</th>\n",
       "      <th colspan=\"2\" halign=\"left\">drug_concept_id</th>\n",
       "      <th colspan=\"2\" halign=\"left\">visit_occurrence_id</th>\n",
       "    </tr>\n",
       "    <tr>\n",
       "      <th></th>\n",
       "      <th></th>\n",
       "      <th>unique</th>\n",
       "      <th>nunique</th>\n",
       "      <th>unique</th>\n",
       "      <th>nunique</th>\n",
       "    </tr>\n",
       "  </thead>\n",
       "  <tbody>\n",
       "    <tr>\n",
       "      <th>0</th>\n",
       "      <td>2177-07-14</td>\n",
       "      <td>[42708743, 40221369, 1718698, 19074247, 190201...</td>\n",
       "      <td>7</td>\n",
       "      <td>[P000000]</td>\n",
       "      <td>1</td>\n",
       "    </tr>\n",
       "    <tr>\n",
       "      <th>1</th>\n",
       "      <td>2177-07-15</td>\n",
       "      <td>[40166274, 19078557, 1549218, 36250141, 154599...</td>\n",
       "      <td>42</td>\n",
       "      <td>[P000000]</td>\n",
       "      <td>1</td>\n",
       "    </tr>\n",
       "    <tr>\n",
       "      <th>2</th>\n",
       "      <td>2177-07-16</td>\n",
       "      <td>[40166274, 1549218, 36250141, 1545999, 1907170...</td>\n",
       "      <td>33</td>\n",
       "      <td>[P000000]</td>\n",
       "      <td>1</td>\n",
       "    </tr>\n",
       "    <tr>\n",
       "      <th>3</th>\n",
       "      <td>2177-07-17</td>\n",
       "      <td>[40166274, 1549218, 36250141, 1545999, 1907170...</td>\n",
       "      <td>34</td>\n",
       "      <td>[P000000]</td>\n",
       "      <td>1</td>\n",
       "    </tr>\n",
       "    <tr>\n",
       "      <th>4</th>\n",
       "      <td>2177-07-18</td>\n",
       "      <td>[40166274, 1549218, 36250141, 1545999, 1907170...</td>\n",
       "      <td>34</td>\n",
       "      <td>[P000000]</td>\n",
       "      <td>1</td>\n",
       "    </tr>\n",
       "  </tbody>\n",
       "</table>\n",
       "</div>"
      ],
      "text/plain": [
       "        date                                    drug_concept_id          \\\n",
       "                                                         unique nunique   \n",
       "0 2177-07-14  [42708743, 40221369, 1718698, 19074247, 190201...       7   \n",
       "1 2177-07-15  [40166274, 19078557, 1549218, 36250141, 154599...      42   \n",
       "2 2177-07-16  [40166274, 1549218, 36250141, 1545999, 1907170...      33   \n",
       "3 2177-07-17  [40166274, 1549218, 36250141, 1545999, 1907170...      34   \n",
       "4 2177-07-18  [40166274, 1549218, 36250141, 1545999, 1907170...      34   \n",
       "\n",
       "  visit_occurrence_id          \n",
       "               unique nunique  \n",
       "0           [P000000]       1  \n",
       "1           [P000000]       1  \n",
       "2           [P000000]       1  \n",
       "3           [P000000]       1  \n",
       "4           [P000000]       1  "
      ]
     },
     "execution_count": 45,
     "metadata": {},
     "output_type": "execute_result"
    }
   ],
   "source": [
    "grouped_tmp_df = tmp_df.groupby(\"date\").agg({\"drug_concept_id\": [\"unique\", \"nunique\"], \"visit_occurrence_id\": [\"unique\", \"nunique\"]}).reset_index()\n",
    "grouped_tmp_df.head()"
   ]
  },
  {
   "cell_type": "code",
   "execution_count": 46,
   "metadata": {},
   "outputs": [
    {
     "data": {
      "text/plain": [
       "(visit_occurrence_id, nunique)\n",
       "1    46\n",
       "Name: count, dtype: int64"
      ]
     },
     "execution_count": 46,
     "metadata": {},
     "output_type": "execute_result"
    }
   ],
   "source": [
    "grouped_tmp_df[(\"visit_occurrence_id\", \"nunique\")].value_counts()"
   ]
  },
  {
   "cell_type": "code",
   "execution_count": 47,
   "metadata": {},
   "outputs": [
    {
     "data": {
      "text/html": [
       "<div>\n",
       "<style scoped>\n",
       "    .dataframe tbody tr th:only-of-type {\n",
       "        vertical-align: middle;\n",
       "    }\n",
       "\n",
       "    .dataframe tbody tr th {\n",
       "        vertical-align: top;\n",
       "    }\n",
       "\n",
       "    .dataframe thead tr th {\n",
       "        text-align: left;\n",
       "    }\n",
       "</style>\n",
       "<table border=\"1\" class=\"dataframe\">\n",
       "  <thead>\n",
       "    <tr>\n",
       "      <th></th>\n",
       "      <th>date</th>\n",
       "      <th colspan=\"2\" halign=\"left\">drug_concept_id</th>\n",
       "      <th colspan=\"2\" halign=\"left\">visit_occurrence_id</th>\n",
       "    </tr>\n",
       "    <tr>\n",
       "      <th></th>\n",
       "      <th></th>\n",
       "      <th>unique</th>\n",
       "      <th>nunique</th>\n",
       "      <th>unique</th>\n",
       "      <th>nunique</th>\n",
       "    </tr>\n",
       "  </thead>\n",
       "  <tbody>\n",
       "  </tbody>\n",
       "</table>\n",
       "</div>"
      ],
      "text/plain": [
       "Empty DataFrame\n",
       "Columns: [(date, ), (drug_concept_id, unique), (drug_concept_id, nunique), (visit_occurrence_id, unique), (visit_occurrence_id, nunique)]\n",
       "Index: []"
      ]
     },
     "execution_count": 47,
     "metadata": {},
     "output_type": "execute_result"
    }
   ],
   "source": [
    "grouped_tmp_df[grouped_tmp_df[(\"visit_occurrence_id\", \"nunique\")] == 2]"
   ]
  },
  {
   "cell_type": "code",
   "execution_count": 89,
   "metadata": {},
   "outputs": [
    {
     "data": {
      "text/html": [
       "<div>\n",
       "<style scoped>\n",
       "    .dataframe tbody tr th:only-of-type {\n",
       "        vertical-align: middle;\n",
       "    }\n",
       "\n",
       "    .dataframe tbody tr th {\n",
       "        vertical-align: top;\n",
       "    }\n",
       "\n",
       "    .dataframe thead th {\n",
       "        text-align: right;\n",
       "    }\n",
       "</style>\n",
       "<table border=\"1\" class=\"dataframe\">\n",
       "  <thead>\n",
       "    <tr style=\"text-align: right;\">\n",
       "      <th></th>\n",
       "      <th>visit_occurrence_id</th>\n",
       "      <th>person_id</th>\n",
       "      <th>visit_concept_id</th>\n",
       "      <th>visit_start_date</th>\n",
       "      <th>visit_start_datetime</th>\n",
       "      <th>visit_end_date</th>\n",
       "      <th>visit_end_datetime</th>\n",
       "      <th>visit_type_concept_id</th>\n",
       "      <th>provider_id</th>\n",
       "      <th>care_site_id</th>\n",
       "      <th>visit_source_value</th>\n",
       "      <th>visit_source_concept_id</th>\n",
       "      <th>admitting_source_concept_id</th>\n",
       "      <th>admitting_source_value</th>\n",
       "      <th>discharge_to_concept_id</th>\n",
       "      <th>discharge_to_source_value</th>\n",
       "      <th>preceding_visit_occurrence_id</th>\n",
       "    </tr>\n",
       "  </thead>\n",
       "  <tbody>\n",
       "    <tr>\n",
       "      <th>0</th>\n",
       "      <td>-4406053801395356975</td>\n",
       "      <td>4783904755296699562</td>\n",
       "      <td>38004207</td>\n",
       "      <td>2112-11-06</td>\n",
       "      <td>2112-11-06 11:05:00</td>\n",
       "      <td>2112-11-06</td>\n",
       "      <td>2112-11-06 11:05:00</td>\n",
       "      <td>32817</td>\n",
       "      <td>NaN</td>\n",
       "      <td>NaN</td>\n",
       "      <td>10035631|2112-11-06</td>\n",
       "      <td>2000001801</td>\n",
       "      <td>NaN</td>\n",
       "      <td>NaN</td>\n",
       "      <td>NaN</td>\n",
       "      <td>NaN</td>\n",
       "      <td>-3.100296e+18</td>\n",
       "    </tr>\n",
       "  </tbody>\n",
       "</table>\n",
       "</div>"
      ],
      "text/plain": [
       "   visit_occurrence_id            person_id  visit_concept_id  \\\n",
       "0 -4406053801395356975  4783904755296699562          38004207   \n",
       "\n",
       "  visit_start_date visit_start_datetime visit_end_date   visit_end_datetime  \\\n",
       "0       2112-11-06  2112-11-06 11:05:00     2112-11-06  2112-11-06 11:05:00   \n",
       "\n",
       "   visit_type_concept_id  provider_id  care_site_id   visit_source_value  \\\n",
       "0                  32817          NaN           NaN  10035631|2112-11-06   \n",
       "\n",
       "   visit_source_concept_id  admitting_source_concept_id  \\\n",
       "0               2000001801                          NaN   \n",
       "\n",
       "  admitting_source_value  discharge_to_concept_id discharge_to_source_value  \\\n",
       "0                    NaN                      NaN                       NaN   \n",
       "\n",
       "   preceding_visit_occurrence_id  \n",
       "0                  -3.100296e+18  "
      ]
     },
     "execution_count": 89,
     "metadata": {},
     "output_type": "execute_result"
    },
    {
     "data": {
      "text/html": [
       "<div>\n",
       "<style scoped>\n",
       "    .dataframe tbody tr th:only-of-type {\n",
       "        vertical-align: middle;\n",
       "    }\n",
       "\n",
       "    .dataframe tbody tr th {\n",
       "        vertical-align: top;\n",
       "    }\n",
       "\n",
       "    .dataframe thead th {\n",
       "        text-align: right;\n",
       "    }\n",
       "</style>\n",
       "<table border=\"1\" class=\"dataframe\">\n",
       "  <thead>\n",
       "    <tr style=\"text-align: right;\">\n",
       "      <th></th>\n",
       "      <th>visit_detail_id</th>\n",
       "      <th>person_id</th>\n",
       "      <th>visit_detail_concept_id</th>\n",
       "      <th>visit_detail_start_date</th>\n",
       "      <th>visit_detail_start_datetime</th>\n",
       "      <th>visit_detail_end_date</th>\n",
       "      <th>visit_detail_end_datetime</th>\n",
       "      <th>visit_detail_type_concept_id</th>\n",
       "      <th>provider_id</th>\n",
       "      <th>care_site_id</th>\n",
       "      <th>admitting_source_concept_id</th>\n",
       "      <th>discharge_to_concept_id</th>\n",
       "      <th>preceding_visit_detail_id</th>\n",
       "      <th>visit_detail_source_value</th>\n",
       "      <th>visit_detail_source_concept_id</th>\n",
       "      <th>admitting_source_value</th>\n",
       "      <th>discharge_to_source_value</th>\n",
       "      <th>visit_detail_parent_id</th>\n",
       "      <th>visit_occurrence_id</th>\n",
       "    </tr>\n",
       "  </thead>\n",
       "  <tbody>\n",
       "    <tr>\n",
       "      <th>0</th>\n",
       "      <td>-1757828362327778468</td>\n",
       "      <td>3129727379702505063</td>\n",
       "      <td>8870</td>\n",
       "      <td>2197-04-17</td>\n",
       "      <td>2197-04-17 09:48:00</td>\n",
       "      <td>2197-04-17</td>\n",
       "      <td>2197-04-17 11:44:19</td>\n",
       "      <td>32817</td>\n",
       "      <td>NaN</td>\n",
       "      <td>-3.633440e+18</td>\n",
       "      <td>8870.0</td>\n",
       "      <td>NaN</td>\n",
       "      <td>NaN</td>\n",
       "      <td>10002930|25282382|38481760</td>\n",
       "      <td>2000001903</td>\n",
       "      <td>EMERGENCY ROOM</td>\n",
       "      <td>NaN</td>\n",
       "      <td>NaN</td>\n",
       "      <td>-9127810274408915712</td>\n",
       "    </tr>\n",
       "  </tbody>\n",
       "</table>\n",
       "</div>"
      ],
      "text/plain": [
       "       visit_detail_id            person_id  visit_detail_concept_id  \\\n",
       "0 -1757828362327778468  3129727379702505063                     8870   \n",
       "\n",
       "  visit_detail_start_date visit_detail_start_datetime visit_detail_end_date  \\\n",
       "0              2197-04-17         2197-04-17 09:48:00            2197-04-17   \n",
       "\n",
       "  visit_detail_end_datetime  visit_detail_type_concept_id  provider_id  \\\n",
       "0       2197-04-17 11:44:19                         32817          NaN   \n",
       "\n",
       "   care_site_id  admitting_source_concept_id  discharge_to_concept_id  \\\n",
       "0 -3.633440e+18                       8870.0                      NaN   \n",
       "\n",
       "   preceding_visit_detail_id   visit_detail_source_value  \\\n",
       "0                        NaN  10002930|25282382|38481760   \n",
       "\n",
       "   visit_detail_source_concept_id admitting_source_value  \\\n",
       "0                      2000001903         EMERGENCY ROOM   \n",
       "\n",
       "  discharge_to_source_value  visit_detail_parent_id  visit_occurrence_id  \n",
       "0                       NaN                     NaN -9127810274408915712  "
      ]
     },
     "execution_count": 89,
     "metadata": {},
     "output_type": "execute_result"
    }
   ],
   "source": [
    "visit_occurrence_df.head(1)\n",
    "visit_detail_df.head(1)"
   ]
  },
  {
   "cell_type": "code",
   "execution_count": 86,
   "metadata": {},
   "outputs": [
    {
     "data": {
      "text/html": [
       "<div>\n",
       "<style scoped>\n",
       "    .dataframe tbody tr th:only-of-type {\n",
       "        vertical-align: middle;\n",
       "    }\n",
       "\n",
       "    .dataframe tbody tr th {\n",
       "        vertical-align: top;\n",
       "    }\n",
       "\n",
       "    .dataframe thead th {\n",
       "        text-align: right;\n",
       "    }\n",
       "</style>\n",
       "<table border=\"1\" class=\"dataframe\">\n",
       "  <thead>\n",
       "    <tr style=\"text-align: right;\">\n",
       "      <th></th>\n",
       "      <th>drug_exposure_id</th>\n",
       "      <th>person_id</th>\n",
       "      <th>drug_concept_id</th>\n",
       "      <th>drug_exposure_start_date</th>\n",
       "      <th>drug_exposure_start_datetime</th>\n",
       "      <th>drug_exposure_end_date</th>\n",
       "      <th>drug_exposure_end_datetime</th>\n",
       "      <th>verbatim_end_date</th>\n",
       "      <th>drug_type_concept_id</th>\n",
       "      <th>stop_reason</th>\n",
       "      <th>refills</th>\n",
       "      <th>quantity</th>\n",
       "      <th>days_supply</th>\n",
       "      <th>sig</th>\n",
       "      <th>route_concept_id</th>\n",
       "      <th>lot_number</th>\n",
       "      <th>provider_id</th>\n",
       "      <th>visit_occurrence_id</th>\n",
       "      <th>visit_detail_id</th>\n",
       "      <th>drug_source_value</th>\n",
       "      <th>drug_source_concept_id</th>\n",
       "      <th>route_source_value</th>\n",
       "      <th>dose_unit_source_value</th>\n",
       "    </tr>\n",
       "  </thead>\n",
       "  <tbody>\n",
       "    <tr>\n",
       "      <th>12171</th>\n",
       "      <td>-300938841025473319</td>\n",
       "      <td>7155255168997124770</td>\n",
       "      <td>1113346</td>\n",
       "      <td>2148-06-24</td>\n",
       "      <td>2148-06-24 18:00:00</td>\n",
       "      <td>2148-06-25</td>\n",
       "      <td>2148-06-25 15:00:00</td>\n",
       "      <td>NaN</td>\n",
       "      <td>32838</td>\n",
       "      <td>NaN</td>\n",
       "      <td>NaN</td>\n",
       "      <td>1.0</td>\n",
       "      <td>NaN</td>\n",
       "      <td>NaN</td>\n",
       "      <td>4167540</td>\n",
       "      <td>NaN</td>\n",
       "      <td>NaN</td>\n",
       "      <td>2717440401888979354</td>\n",
       "      <td>NaN</td>\n",
       "      <td>00904628889</td>\n",
       "      <td>44910513</td>\n",
       "      <td>PO/NG</td>\n",
       "      <td>TAB</td>\n",
       "    </tr>\n",
       "    <tr>\n",
       "      <th>12197</th>\n",
       "      <td>817507700258432499</td>\n",
       "      <td>7155255168997124770</td>\n",
       "      <td>19019112</td>\n",
       "      <td>2148-06-24</td>\n",
       "      <td>2148-06-24 19:00:00</td>\n",
       "      <td>2148-06-25</td>\n",
       "      <td>2148-06-25 18:00:00</td>\n",
       "      <td>NaN</td>\n",
       "      <td>32838</td>\n",
       "      <td>NaN</td>\n",
       "      <td>NaN</td>\n",
       "      <td>1.0</td>\n",
       "      <td>NaN</td>\n",
       "      <td>NaN</td>\n",
       "      <td>4167540</td>\n",
       "      <td>NaN</td>\n",
       "      <td>NaN</td>\n",
       "      <td>2717440401888979354</td>\n",
       "      <td>NaN</td>\n",
       "      <td>63739049910</td>\n",
       "      <td>45108668</td>\n",
       "      <td>PO/NG</td>\n",
       "      <td>TAB</td>\n",
       "    </tr>\n",
       "    <tr>\n",
       "      <th>12145</th>\n",
       "      <td>-6619715848743895892</td>\n",
       "      <td>7155255168997124770</td>\n",
       "      <td>40166274</td>\n",
       "      <td>2148-06-24</td>\n",
       "      <td>2148-06-24 18:00:00</td>\n",
       "      <td>2148-06-26</td>\n",
       "      <td>2148-06-26 12:00:00</td>\n",
       "      <td>NaN</td>\n",
       "      <td>32838</td>\n",
       "      <td>NaN</td>\n",
       "      <td>NaN</td>\n",
       "      <td>1.0</td>\n",
       "      <td>NaN</td>\n",
       "      <td>NaN</td>\n",
       "      <td>4142048</td>\n",
       "      <td>NaN</td>\n",
       "      <td>NaN</td>\n",
       "      <td>2717440401888979354</td>\n",
       "      <td>NaN</td>\n",
       "      <td>00002751001</td>\n",
       "      <td>45144375</td>\n",
       "      <td>SC</td>\n",
       "      <td>VIAL</td>\n",
       "    </tr>\n",
       "    <tr>\n",
       "      <th>12155</th>\n",
       "      <td>-2999314229284571782</td>\n",
       "      <td>7155255168997124770</td>\n",
       "      <td>19071700</td>\n",
       "      <td>2148-06-24</td>\n",
       "      <td>2148-06-24 22:00:00</td>\n",
       "      <td>2148-06-26</td>\n",
       "      <td>2148-06-26 12:00:00</td>\n",
       "      <td>NaN</td>\n",
       "      <td>32838</td>\n",
       "      <td>NaN</td>\n",
       "      <td>NaN</td>\n",
       "      <td>1.0</td>\n",
       "      <td>NaN</td>\n",
       "      <td>NaN</td>\n",
       "      <td>4142048</td>\n",
       "      <td>NaN</td>\n",
       "      <td>NaN</td>\n",
       "      <td>2717440401888979354</td>\n",
       "      <td>NaN</td>\n",
       "      <td>00088222033</td>\n",
       "      <td>45060408</td>\n",
       "      <td>SC</td>\n",
       "      <td>VIAL</td>\n",
       "    </tr>\n",
       "    <tr>\n",
       "      <th>12156</th>\n",
       "      <td>9220948588785381346</td>\n",
       "      <td>7155255168997124770</td>\n",
       "      <td>19071700</td>\n",
       "      <td>2148-06-24</td>\n",
       "      <td>2148-06-24 08:00:00</td>\n",
       "      <td>2148-06-26</td>\n",
       "      <td>2148-06-26 12:00:00</td>\n",
       "      <td>NaN</td>\n",
       "      <td>32838</td>\n",
       "      <td>NaN</td>\n",
       "      <td>NaN</td>\n",
       "      <td>1.0</td>\n",
       "      <td>NaN</td>\n",
       "      <td>NaN</td>\n",
       "      <td>4142048</td>\n",
       "      <td>NaN</td>\n",
       "      <td>NaN</td>\n",
       "      <td>2717440401888979354</td>\n",
       "      <td>NaN</td>\n",
       "      <td>00088222033</td>\n",
       "      <td>45060408</td>\n",
       "      <td>SC</td>\n",
       "      <td>VIAL</td>\n",
       "    </tr>\n",
       "    <tr>\n",
       "      <th>...</th>\n",
       "      <td>...</td>\n",
       "      <td>...</td>\n",
       "      <td>...</td>\n",
       "      <td>...</td>\n",
       "      <td>...</td>\n",
       "      <td>...</td>\n",
       "      <td>...</td>\n",
       "      <td>...</td>\n",
       "      <td>...</td>\n",
       "      <td>...</td>\n",
       "      <td>...</td>\n",
       "      <td>...</td>\n",
       "      <td>...</td>\n",
       "      <td>...</td>\n",
       "      <td>...</td>\n",
       "      <td>...</td>\n",
       "      <td>...</td>\n",
       "      <td>...</td>\n",
       "      <td>...</td>\n",
       "      <td>...</td>\n",
       "      <td>...</td>\n",
       "      <td>...</td>\n",
       "      <td>...</td>\n",
       "    </tr>\n",
       "    <tr>\n",
       "      <th>12202</th>\n",
       "      <td>-3519568063102425770</td>\n",
       "      <td>7155255168997124770</td>\n",
       "      <td>40164492</td>\n",
       "      <td>2148-06-27</td>\n",
       "      <td>2148-06-27 08:00:00</td>\n",
       "      <td>2148-06-28</td>\n",
       "      <td>2148-06-28 18:00:00</td>\n",
       "      <td>NaN</td>\n",
       "      <td>32838</td>\n",
       "      <td>NaN</td>\n",
       "      <td>NaN</td>\n",
       "      <td>1.0</td>\n",
       "      <td>NaN</td>\n",
       "      <td>NaN</td>\n",
       "      <td>4167540</td>\n",
       "      <td>NaN</td>\n",
       "      <td>NaN</td>\n",
       "      <td>2717440401888979354</td>\n",
       "      <td>NaN</td>\n",
       "      <td>64764011907</td>\n",
       "      <td>45176946</td>\n",
       "      <td>PO/NG</td>\n",
       "      <td>TAB</td>\n",
       "    </tr>\n",
       "    <tr>\n",
       "      <th>12152</th>\n",
       "      <td>-168353688812238794</td>\n",
       "      <td>7155255168997124770</td>\n",
       "      <td>1551170</td>\n",
       "      <td>2148-06-28</td>\n",
       "      <td>2148-06-28 08:00:00</td>\n",
       "      <td>2148-06-28</td>\n",
       "      <td>2148-06-28 18:00:00</td>\n",
       "      <td>NaN</td>\n",
       "      <td>32838</td>\n",
       "      <td>NaN</td>\n",
       "      <td>NaN</td>\n",
       "      <td>2.0</td>\n",
       "      <td>NaN</td>\n",
       "      <td>NaN</td>\n",
       "      <td>4132161</td>\n",
       "      <td>NaN</td>\n",
       "      <td>NaN</td>\n",
       "      <td>2717440401888979354</td>\n",
       "      <td>NaN</td>\n",
       "      <td>00054001820</td>\n",
       "      <td>44957599</td>\n",
       "      <td>PO</td>\n",
       "      <td>TAB</td>\n",
       "    </tr>\n",
       "    <tr>\n",
       "      <th>12198</th>\n",
       "      <td>-4543917500577915795</td>\n",
       "      <td>7155255168997124770</td>\n",
       "      <td>1551101</td>\n",
       "      <td>2148-06-30</td>\n",
       "      <td>2148-06-30 08:00:00</td>\n",
       "      <td>2148-06-30</td>\n",
       "      <td>2148-06-30 08:00:00</td>\n",
       "      <td>NaN</td>\n",
       "      <td>32838</td>\n",
       "      <td>NaN</td>\n",
       "      <td>NaN</td>\n",
       "      <td>3.0</td>\n",
       "      <td>NaN</td>\n",
       "      <td>NaN</td>\n",
       "      <td>4132161</td>\n",
       "      <td>NaN</td>\n",
       "      <td>NaN</td>\n",
       "      <td>2717440401888979354</td>\n",
       "      <td>NaN</td>\n",
       "      <td>63739051910</td>\n",
       "      <td>45125502</td>\n",
       "      <td>PO</td>\n",
       "      <td>TAB</td>\n",
       "    </tr>\n",
       "    <tr>\n",
       "      <th>12150</th>\n",
       "      <td>6846587631550174607</td>\n",
       "      <td>7155255168997124770</td>\n",
       "      <td>1551170</td>\n",
       "      <td>2148-07-03</td>\n",
       "      <td>2148-07-03 08:00:00</td>\n",
       "      <td>2148-07-03</td>\n",
       "      <td>2148-07-03 08:00:00</td>\n",
       "      <td>NaN</td>\n",
       "      <td>32838</td>\n",
       "      <td>NaN</td>\n",
       "      <td>NaN</td>\n",
       "      <td>1.0</td>\n",
       "      <td>NaN</td>\n",
       "      <td>NaN</td>\n",
       "      <td>4132161</td>\n",
       "      <td>NaN</td>\n",
       "      <td>NaN</td>\n",
       "      <td>2717440401888979354</td>\n",
       "      <td>NaN</td>\n",
       "      <td>00054001820</td>\n",
       "      <td>44957599</td>\n",
       "      <td>PO</td>\n",
       "      <td>TAB</td>\n",
       "    </tr>\n",
       "    <tr>\n",
       "      <th>12199</th>\n",
       "      <td>2947951362138694269</td>\n",
       "      <td>7155255168997124770</td>\n",
       "      <td>1551101</td>\n",
       "      <td>2148-07-06</td>\n",
       "      <td>2148-07-06 08:00:00</td>\n",
       "      <td>2148-07-06</td>\n",
       "      <td>2148-07-06 08:00:00</td>\n",
       "      <td>NaN</td>\n",
       "      <td>32838</td>\n",
       "      <td>NaN</td>\n",
       "      <td>NaN</td>\n",
       "      <td>1.0</td>\n",
       "      <td>NaN</td>\n",
       "      <td>NaN</td>\n",
       "      <td>4132161</td>\n",
       "      <td>NaN</td>\n",
       "      <td>NaN</td>\n",
       "      <td>2717440401888979354</td>\n",
       "      <td>NaN</td>\n",
       "      <td>63739051910</td>\n",
       "      <td>45125502</td>\n",
       "      <td>PO</td>\n",
       "      <td>TAB</td>\n",
       "    </tr>\n",
       "  </tbody>\n",
       "</table>\n",
       "<p>69 rows × 23 columns</p>\n",
       "</div>"
      ],
      "text/plain": [
       "          drug_exposure_id            person_id  drug_concept_id  \\\n",
       "12171  -300938841025473319  7155255168997124770          1113346   \n",
       "12197   817507700258432499  7155255168997124770         19019112   \n",
       "12145 -6619715848743895892  7155255168997124770         40166274   \n",
       "12155 -2999314229284571782  7155255168997124770         19071700   \n",
       "12156  9220948588785381346  7155255168997124770         19071700   \n",
       "...                    ...                  ...              ...   \n",
       "12202 -3519568063102425770  7155255168997124770         40164492   \n",
       "12152  -168353688812238794  7155255168997124770          1551170   \n",
       "12198 -4543917500577915795  7155255168997124770          1551101   \n",
       "12150  6846587631550174607  7155255168997124770          1551170   \n",
       "12199  2947951362138694269  7155255168997124770          1551101   \n",
       "\n",
       "      drug_exposure_start_date drug_exposure_start_datetime  \\\n",
       "12171               2148-06-24          2148-06-24 18:00:00   \n",
       "12197               2148-06-24          2148-06-24 19:00:00   \n",
       "12145               2148-06-24          2148-06-24 18:00:00   \n",
       "12155               2148-06-24          2148-06-24 22:00:00   \n",
       "12156               2148-06-24          2148-06-24 08:00:00   \n",
       "...                        ...                          ...   \n",
       "12202               2148-06-27          2148-06-27 08:00:00   \n",
       "12152               2148-06-28          2148-06-28 08:00:00   \n",
       "12198               2148-06-30          2148-06-30 08:00:00   \n",
       "12150               2148-07-03          2148-07-03 08:00:00   \n",
       "12199               2148-07-06          2148-07-06 08:00:00   \n",
       "\n",
       "      drug_exposure_end_date drug_exposure_end_datetime  verbatim_end_date  \\\n",
       "12171             2148-06-25        2148-06-25 15:00:00                NaN   \n",
       "12197             2148-06-25        2148-06-25 18:00:00                NaN   \n",
       "12145             2148-06-26        2148-06-26 12:00:00                NaN   \n",
       "12155             2148-06-26        2148-06-26 12:00:00                NaN   \n",
       "12156             2148-06-26        2148-06-26 12:00:00                NaN   \n",
       "...                      ...                        ...                ...   \n",
       "12202             2148-06-28        2148-06-28 18:00:00                NaN   \n",
       "12152             2148-06-28        2148-06-28 18:00:00                NaN   \n",
       "12198             2148-06-30        2148-06-30 08:00:00                NaN   \n",
       "12150             2148-07-03        2148-07-03 08:00:00                NaN   \n",
       "12199             2148-07-06        2148-07-06 08:00:00                NaN   \n",
       "\n",
       "       drug_type_concept_id  stop_reason  refills  quantity  days_supply  sig  \\\n",
       "12171                 32838          NaN      NaN       1.0          NaN  NaN   \n",
       "12197                 32838          NaN      NaN       1.0          NaN  NaN   \n",
       "12145                 32838          NaN      NaN       1.0          NaN  NaN   \n",
       "12155                 32838          NaN      NaN       1.0          NaN  NaN   \n",
       "12156                 32838          NaN      NaN       1.0          NaN  NaN   \n",
       "...                     ...          ...      ...       ...          ...  ...   \n",
       "12202                 32838          NaN      NaN       1.0          NaN  NaN   \n",
       "12152                 32838          NaN      NaN       2.0          NaN  NaN   \n",
       "12198                 32838          NaN      NaN       3.0          NaN  NaN   \n",
       "12150                 32838          NaN      NaN       1.0          NaN  NaN   \n",
       "12199                 32838          NaN      NaN       1.0          NaN  NaN   \n",
       "\n",
       "       route_concept_id  lot_number  provider_id  visit_occurrence_id  \\\n",
       "12171           4167540         NaN          NaN  2717440401888979354   \n",
       "12197           4167540         NaN          NaN  2717440401888979354   \n",
       "12145           4142048         NaN          NaN  2717440401888979354   \n",
       "12155           4142048         NaN          NaN  2717440401888979354   \n",
       "12156           4142048         NaN          NaN  2717440401888979354   \n",
       "...                 ...         ...          ...                  ...   \n",
       "12202           4167540         NaN          NaN  2717440401888979354   \n",
       "12152           4132161         NaN          NaN  2717440401888979354   \n",
       "12198           4132161         NaN          NaN  2717440401888979354   \n",
       "12150           4132161         NaN          NaN  2717440401888979354   \n",
       "12199           4132161         NaN          NaN  2717440401888979354   \n",
       "\n",
       "       visit_detail_id drug_source_value  drug_source_concept_id  \\\n",
       "12171              NaN       00904628889                44910513   \n",
       "12197              NaN       63739049910                45108668   \n",
       "12145              NaN       00002751001                45144375   \n",
       "12155              NaN       00088222033                45060408   \n",
       "12156              NaN       00088222033                45060408   \n",
       "...                ...               ...                     ...   \n",
       "12202              NaN       64764011907                45176946   \n",
       "12152              NaN       00054001820                44957599   \n",
       "12198              NaN       63739051910                45125502   \n",
       "12150              NaN       00054001820                44957599   \n",
       "12199              NaN       63739051910                45125502   \n",
       "\n",
       "      route_source_value dose_unit_source_value  \n",
       "12171              PO/NG                    TAB  \n",
       "12197              PO/NG                    TAB  \n",
       "12145                 SC                   VIAL  \n",
       "12155                 SC                   VIAL  \n",
       "12156                 SC                   VIAL  \n",
       "...                  ...                    ...  \n",
       "12202              PO/NG                    TAB  \n",
       "12152                 PO                    TAB  \n",
       "12198                 PO                    TAB  \n",
       "12150                 PO                    TAB  \n",
       "12199                 PO                    TAB  \n",
       "\n",
       "[69 rows x 23 columns]"
      ]
     },
     "execution_count": 86,
     "metadata": {},
     "output_type": "execute_result"
    }
   ],
   "source": [
    "patient_df[patient_df[\"visit_occurrence_id\"] == 2717440401888979354].sort_values(by=[\"drug_exposure_start_date\", \"drug_exposure_end_date\"])"
   ]
  },
  {
   "cell_type": "code",
   "execution_count": 80,
   "metadata": {},
   "outputs": [
    {
     "data": {
      "text/html": [
       "<div>\n",
       "<style scoped>\n",
       "    .dataframe tbody tr th:only-of-type {\n",
       "        vertical-align: middle;\n",
       "    }\n",
       "\n",
       "    .dataframe tbody tr th {\n",
       "        vertical-align: top;\n",
       "    }\n",
       "\n",
       "    .dataframe thead th {\n",
       "        text-align: right;\n",
       "    }\n",
       "</style>\n",
       "<table border=\"1\" class=\"dataframe\">\n",
       "  <thead>\n",
       "    <tr style=\"text-align: right;\">\n",
       "      <th></th>\n",
       "      <th>visit_occurrence_id</th>\n",
       "      <th>person_id</th>\n",
       "      <th>visit_concept_id</th>\n",
       "      <th>visit_start_date</th>\n",
       "      <th>visit_start_datetime</th>\n",
       "      <th>visit_end_date</th>\n",
       "      <th>visit_end_datetime</th>\n",
       "      <th>visit_type_concept_id</th>\n",
       "      <th>provider_id</th>\n",
       "      <th>care_site_id</th>\n",
       "      <th>visit_source_value</th>\n",
       "      <th>visit_source_concept_id</th>\n",
       "      <th>admitting_source_concept_id</th>\n",
       "      <th>admitting_source_value</th>\n",
       "      <th>discharge_to_concept_id</th>\n",
       "      <th>discharge_to_source_value</th>\n",
       "      <th>preceding_visit_occurrence_id</th>\n",
       "    </tr>\n",
       "  </thead>\n",
       "  <tbody>\n",
       "    <tr>\n",
       "      <th>683</th>\n",
       "      <td>2717440401888979354</td>\n",
       "      <td>7155255168997124770</td>\n",
       "      <td>581385</td>\n",
       "      <td>2148-06-24</td>\n",
       "      <td>2148-06-24 09:22:00</td>\n",
       "      <td>2148-06-28</td>\n",
       "      <td>2148-06-28 13:54:00</td>\n",
       "      <td>32817</td>\n",
       "      <td>NaN</td>\n",
       "      <td>NaN</td>\n",
       "      <td>10014354|23132022</td>\n",
       "      <td>2000001807</td>\n",
       "      <td>38004207.0</td>\n",
       "      <td>PHYSICIAN REFERRAL</td>\n",
       "      <td>581476.0</td>\n",
       "      <td>HOME</td>\n",
       "      <td>NaN</td>\n",
       "    </tr>\n",
       "    <tr>\n",
       "      <th>802</th>\n",
       "      <td>-2408772910912676912</td>\n",
       "      <td>7155255168997124770</td>\n",
       "      <td>262</td>\n",
       "      <td>2148-06-29</td>\n",
       "      <td>2148-06-29 21:06:00</td>\n",
       "      <td>2148-07-13</td>\n",
       "      <td>2148-07-13 19:35:00</td>\n",
       "      <td>32817</td>\n",
       "      <td>NaN</td>\n",
       "      <td>NaN</td>\n",
       "      <td>10014354|27487226</td>\n",
       "      <td>2000001809</td>\n",
       "      <td>8717.0</td>\n",
       "      <td>TRANSFER FROM HOSPITAL</td>\n",
       "      <td>581476.0</td>\n",
       "      <td>HOME HEALTH CARE</td>\n",
       "      <td>NaN</td>\n",
       "    </tr>\n",
       "  </tbody>\n",
       "</table>\n",
       "</div>"
      ],
      "text/plain": [
       "     visit_occurrence_id            person_id  visit_concept_id  \\\n",
       "683  2717440401888979354  7155255168997124770            581385   \n",
       "802 -2408772910912676912  7155255168997124770               262   \n",
       "\n",
       "    visit_start_date visit_start_datetime visit_end_date   visit_end_datetime  \\\n",
       "683       2148-06-24  2148-06-24 09:22:00     2148-06-28  2148-06-28 13:54:00   \n",
       "802       2148-06-29  2148-06-29 21:06:00     2148-07-13  2148-07-13 19:35:00   \n",
       "\n",
       "     visit_type_concept_id  provider_id  care_site_id visit_source_value  \\\n",
       "683                  32817          NaN           NaN  10014354|23132022   \n",
       "802                  32817          NaN           NaN  10014354|27487226   \n",
       "\n",
       "     visit_source_concept_id  admitting_source_concept_id  \\\n",
       "683               2000001807                   38004207.0   \n",
       "802               2000001809                       8717.0   \n",
       "\n",
       "     admitting_source_value  discharge_to_concept_id  \\\n",
       "683      PHYSICIAN REFERRAL                 581476.0   \n",
       "802  TRANSFER FROM HOSPITAL                 581476.0   \n",
       "\n",
       "    discharge_to_source_value  preceding_visit_occurrence_id  \n",
       "683                      HOME                            NaN  \n",
       "802          HOME HEALTH CARE                            NaN  "
      ]
     },
     "execution_count": 80,
     "metadata": {},
     "output_type": "execute_result"
    }
   ],
   "source": [
    "visit_occurrence_df[(visit_occurrence_df[\"person_id\"] == person_id) & (visit_occurrence_df[\"visit_occurrence_id\"].isin([2717440401888979354, -2408772910912676912]))]"
   ]
  },
  {
   "cell_type": "code",
   "execution_count": 76,
   "metadata": {},
   "outputs": [
    {
     "data": {
      "text/html": [
       "<div>\n",
       "<style scoped>\n",
       "    .dataframe tbody tr th:only-of-type {\n",
       "        vertical-align: middle;\n",
       "    }\n",
       "\n",
       "    .dataframe tbody tr th {\n",
       "        vertical-align: top;\n",
       "    }\n",
       "\n",
       "    .dataframe thead th {\n",
       "        text-align: right;\n",
       "    }\n",
       "</style>\n",
       "<table border=\"1\" class=\"dataframe\">\n",
       "  <thead>\n",
       "    <tr style=\"text-align: right;\">\n",
       "      <th></th>\n",
       "      <th>drug_exposure_id</th>\n",
       "      <th>person_id</th>\n",
       "      <th>drug_concept_id</th>\n",
       "      <th>drug_exposure_start_date</th>\n",
       "      <th>drug_exposure_start_datetime</th>\n",
       "      <th>drug_exposure_end_date</th>\n",
       "      <th>drug_exposure_end_datetime</th>\n",
       "      <th>verbatim_end_date</th>\n",
       "      <th>drug_type_concept_id</th>\n",
       "      <th>stop_reason</th>\n",
       "      <th>refills</th>\n",
       "      <th>quantity</th>\n",
       "      <th>days_supply</th>\n",
       "      <th>sig</th>\n",
       "      <th>route_concept_id</th>\n",
       "      <th>lot_number</th>\n",
       "      <th>provider_id</th>\n",
       "      <th>visit_occurrence_id</th>\n",
       "      <th>visit_detail_id</th>\n",
       "      <th>drug_source_value</th>\n",
       "      <th>drug_source_concept_id</th>\n",
       "      <th>route_source_value</th>\n",
       "      <th>dose_unit_source_value</th>\n",
       "    </tr>\n",
       "  </thead>\n",
       "  <tbody>\n",
       "    <tr>\n",
       "      <th>12143</th>\n",
       "      <td>-7417655728750480613</td>\n",
       "      <td>7155255168997124770</td>\n",
       "      <td>40166274</td>\n",
       "      <td>2148-06-26</td>\n",
       "      <td>2148-06-26 13:00:00</td>\n",
       "      <td>2148-06-26</td>\n",
       "      <td>2148-06-26 13:00:00</td>\n",
       "      <td>NaN</td>\n",
       "      <td>32838</td>\n",
       "      <td>NaN</td>\n",
       "      <td>NaN</td>\n",
       "      <td>1.0</td>\n",
       "      <td>NaN</td>\n",
       "      <td>NaN</td>\n",
       "      <td>4142048</td>\n",
       "      <td>NaN</td>\n",
       "      <td>NaN</td>\n",
       "      <td>2717440401888979354</td>\n",
       "      <td>NaN</td>\n",
       "      <td>00002751001</td>\n",
       "      <td>45144375</td>\n",
       "      <td>SC</td>\n",
       "      <td>VIAL</td>\n",
       "    </tr>\n",
       "    <tr>\n",
       "      <th>12144</th>\n",
       "      <td>565603239085007381</td>\n",
       "      <td>7155255168997124770</td>\n",
       "      <td>40166274</td>\n",
       "      <td>2148-06-26</td>\n",
       "      <td>2148-06-26 17:00:00</td>\n",
       "      <td>2148-06-27</td>\n",
       "      <td>2148-06-27 12:00:00</td>\n",
       "      <td>NaN</td>\n",
       "      <td>32838</td>\n",
       "      <td>NaN</td>\n",
       "      <td>NaN</td>\n",
       "      <td>1.0</td>\n",
       "      <td>NaN</td>\n",
       "      <td>NaN</td>\n",
       "      <td>4142048</td>\n",
       "      <td>NaN</td>\n",
       "      <td>NaN</td>\n",
       "      <td>2717440401888979354</td>\n",
       "      <td>NaN</td>\n",
       "      <td>00002751001</td>\n",
       "      <td>45144375</td>\n",
       "      <td>SC</td>\n",
       "      <td>VIAL</td>\n",
       "    </tr>\n",
       "    <tr>\n",
       "      <th>12145</th>\n",
       "      <td>-6619715848743895892</td>\n",
       "      <td>7155255168997124770</td>\n",
       "      <td>40166274</td>\n",
       "      <td>2148-06-24</td>\n",
       "      <td>2148-06-24 18:00:00</td>\n",
       "      <td>2148-06-26</td>\n",
       "      <td>2148-06-26 12:00:00</td>\n",
       "      <td>NaN</td>\n",
       "      <td>32838</td>\n",
       "      <td>NaN</td>\n",
       "      <td>NaN</td>\n",
       "      <td>1.0</td>\n",
       "      <td>NaN</td>\n",
       "      <td>NaN</td>\n",
       "      <td>4142048</td>\n",
       "      <td>NaN</td>\n",
       "      <td>NaN</td>\n",
       "      <td>2717440401888979354</td>\n",
       "      <td>NaN</td>\n",
       "      <td>00002751001</td>\n",
       "      <td>45144375</td>\n",
       "      <td>SC</td>\n",
       "      <td>VIAL</td>\n",
       "    </tr>\n",
       "    <tr>\n",
       "      <th>12146</th>\n",
       "      <td>-9004465727595887306</td>\n",
       "      <td>7155255168997124770</td>\n",
       "      <td>40166274</td>\n",
       "      <td>2148-06-26</td>\n",
       "      <td>2148-06-26 13:00:00</td>\n",
       "      <td>2148-06-28</td>\n",
       "      <td>2148-06-28 18:00:00</td>\n",
       "      <td>NaN</td>\n",
       "      <td>32838</td>\n",
       "      <td>NaN</td>\n",
       "      <td>NaN</td>\n",
       "      <td>1.0</td>\n",
       "      <td>NaN</td>\n",
       "      <td>NaN</td>\n",
       "      <td>4142048</td>\n",
       "      <td>NaN</td>\n",
       "      <td>NaN</td>\n",
       "      <td>2717440401888979354</td>\n",
       "      <td>NaN</td>\n",
       "      <td>00002751001</td>\n",
       "      <td>45144375</td>\n",
       "      <td>SC</td>\n",
       "      <td>VIAL</td>\n",
       "    </tr>\n",
       "    <tr>\n",
       "      <th>12147</th>\n",
       "      <td>-1011315529531470722</td>\n",
       "      <td>7155255168997124770</td>\n",
       "      <td>19078557</td>\n",
       "      <td>2148-06-26</td>\n",
       "      <td>2148-06-26 14:00:00</td>\n",
       "      <td>2148-06-27</td>\n",
       "      <td>2148-06-27 12:00:00</td>\n",
       "      <td>NaN</td>\n",
       "      <td>32838</td>\n",
       "      <td>NaN</td>\n",
       "      <td>NaN</td>\n",
       "      <td>10.0</td>\n",
       "      <td>NaN</td>\n",
       "      <td>NaN</td>\n",
       "      <td>4142048</td>\n",
       "      <td>NaN</td>\n",
       "      <td>NaN</td>\n",
       "      <td>2717440401888979354</td>\n",
       "      <td>NaN</td>\n",
       "      <td>00002821501</td>\n",
       "      <td>45178530</td>\n",
       "      <td>SC</td>\n",
       "      <td>VIAL</td>\n",
       "    </tr>\n",
       "    <tr>\n",
       "      <th>...</th>\n",
       "      <td>...</td>\n",
       "      <td>...</td>\n",
       "      <td>...</td>\n",
       "      <td>...</td>\n",
       "      <td>...</td>\n",
       "      <td>...</td>\n",
       "      <td>...</td>\n",
       "      <td>...</td>\n",
       "      <td>...</td>\n",
       "      <td>...</td>\n",
       "      <td>...</td>\n",
       "      <td>...</td>\n",
       "      <td>...</td>\n",
       "      <td>...</td>\n",
       "      <td>...</td>\n",
       "      <td>...</td>\n",
       "      <td>...</td>\n",
       "      <td>...</td>\n",
       "      <td>...</td>\n",
       "      <td>...</td>\n",
       "      <td>...</td>\n",
       "      <td>...</td>\n",
       "      <td>...</td>\n",
       "    </tr>\n",
       "    <tr>\n",
       "      <th>15706</th>\n",
       "      <td>-7827247298232247086</td>\n",
       "      <td>7155255168997124770</td>\n",
       "      <td>19127213</td>\n",
       "      <td>2148-06-30</td>\n",
       "      <td>2148-06-30 08:00:00</td>\n",
       "      <td>2148-07-13</td>\n",
       "      <td>2148-07-13 23:00:00</td>\n",
       "      <td>NaN</td>\n",
       "      <td>32838</td>\n",
       "      <td>NaN</td>\n",
       "      <td>NaN</td>\n",
       "      <td>1.0</td>\n",
       "      <td>NaN</td>\n",
       "      <td>NaN</td>\n",
       "      <td>4171047</td>\n",
       "      <td>NaN</td>\n",
       "      <td>NaN</td>\n",
       "      <td>-2408772910912676912</td>\n",
       "      <td>NaN</td>\n",
       "      <td>Sodium Chloride 0.9%  Flush 10 mL Syringe</td>\n",
       "      <td>2000011396</td>\n",
       "      <td>IV</td>\n",
       "      <td>SYR</td>\n",
       "    </tr>\n",
       "    <tr>\n",
       "      <th>15707</th>\n",
       "      <td>6204318315453781902</td>\n",
       "      <td>7155255168997124770</td>\n",
       "      <td>19127213</td>\n",
       "      <td>2148-07-10</td>\n",
       "      <td>2148-07-10 19:00:00</td>\n",
       "      <td>2148-07-13</td>\n",
       "      <td>2148-07-13 23:00:00</td>\n",
       "      <td>NaN</td>\n",
       "      <td>32838</td>\n",
       "      <td>NaN</td>\n",
       "      <td>NaN</td>\n",
       "      <td>0.3</td>\n",
       "      <td>NaN</td>\n",
       "      <td>NaN</td>\n",
       "      <td>4171047</td>\n",
       "      <td>NaN</td>\n",
       "      <td>NaN</td>\n",
       "      <td>-2408772910912676912</td>\n",
       "      <td>NaN</td>\n",
       "      <td>Sodium Chloride 0.9%  Flush 10 mL Syringe</td>\n",
       "      <td>2000011396</td>\n",
       "      <td>IV</td>\n",
       "      <td>SYR</td>\n",
       "    </tr>\n",
       "    <tr>\n",
       "      <th>15708</th>\n",
       "      <td>-2535157145593732078</td>\n",
       "      <td>7155255168997124770</td>\n",
       "      <td>19127213</td>\n",
       "      <td>2148-07-07</td>\n",
       "      <td>2148-07-07 17:00:00</td>\n",
       "      <td>2148-07-08</td>\n",
       "      <td>2148-07-08 13:00:00</td>\n",
       "      <td>NaN</td>\n",
       "      <td>32838</td>\n",
       "      <td>NaN</td>\n",
       "      <td>NaN</td>\n",
       "      <td>0.3</td>\n",
       "      <td>NaN</td>\n",
       "      <td>NaN</td>\n",
       "      <td>4171047</td>\n",
       "      <td>NaN</td>\n",
       "      <td>NaN</td>\n",
       "      <td>-2408772910912676912</td>\n",
       "      <td>NaN</td>\n",
       "      <td>Sodium Chloride 0.9%  Flush 10 mL Syringe</td>\n",
       "      <td>2000011396</td>\n",
       "      <td>IV</td>\n",
       "      <td>SYR</td>\n",
       "    </tr>\n",
       "    <tr>\n",
       "      <th>15709</th>\n",
       "      <td>8004527106975967806</td>\n",
       "      <td>7155255168997124770</td>\n",
       "      <td>19127213</td>\n",
       "      <td>2148-07-04</td>\n",
       "      <td>2148-07-04 21:00:00</td>\n",
       "      <td>2148-07-08</td>\n",
       "      <td>2148-07-08 13:00:00</td>\n",
       "      <td>NaN</td>\n",
       "      <td>32838</td>\n",
       "      <td>NaN</td>\n",
       "      <td>NaN</td>\n",
       "      <td>0.3</td>\n",
       "      <td>NaN</td>\n",
       "      <td>NaN</td>\n",
       "      <td>4171047</td>\n",
       "      <td>NaN</td>\n",
       "      <td>NaN</td>\n",
       "      <td>-2408772910912676912</td>\n",
       "      <td>NaN</td>\n",
       "      <td>Sodium Chloride 0.9%  Flush 10 mL Syringe</td>\n",
       "      <td>2000011396</td>\n",
       "      <td>IV</td>\n",
       "      <td>SYR</td>\n",
       "    </tr>\n",
       "    <tr>\n",
       "      <th>15710</th>\n",
       "      <td>-2471900779296557671</td>\n",
       "      <td>7155255168997124770</td>\n",
       "      <td>19127213</td>\n",
       "      <td>2148-07-07</td>\n",
       "      <td>2148-07-07 23:00:00</td>\n",
       "      <td>2148-07-09</td>\n",
       "      <td>2148-07-09 14:00:00</td>\n",
       "      <td>NaN</td>\n",
       "      <td>32838</td>\n",
       "      <td>NaN</td>\n",
       "      <td>NaN</td>\n",
       "      <td>0.2</td>\n",
       "      <td>NaN</td>\n",
       "      <td>NaN</td>\n",
       "      <td>4171047</td>\n",
       "      <td>NaN</td>\n",
       "      <td>NaN</td>\n",
       "      <td>-2408772910912676912</td>\n",
       "      <td>NaN</td>\n",
       "      <td>Sodium Chloride 0.9%  Flush 10 mL Syringe</td>\n",
       "      <td>2000011396</td>\n",
       "      <td>IV</td>\n",
       "      <td>SYR</td>\n",
       "    </tr>\n",
       "  </tbody>\n",
       "</table>\n",
       "<p>234 rows × 23 columns</p>\n",
       "</div>"
      ],
      "text/plain": [
       "          drug_exposure_id            person_id  drug_concept_id  \\\n",
       "12143 -7417655728750480613  7155255168997124770         40166274   \n",
       "12144   565603239085007381  7155255168997124770         40166274   \n",
       "12145 -6619715848743895892  7155255168997124770         40166274   \n",
       "12146 -9004465727595887306  7155255168997124770         40166274   \n",
       "12147 -1011315529531470722  7155255168997124770         19078557   \n",
       "...                    ...                  ...              ...   \n",
       "15706 -7827247298232247086  7155255168997124770         19127213   \n",
       "15707  6204318315453781902  7155255168997124770         19127213   \n",
       "15708 -2535157145593732078  7155255168997124770         19127213   \n",
       "15709  8004527106975967806  7155255168997124770         19127213   \n",
       "15710 -2471900779296557671  7155255168997124770         19127213   \n",
       "\n",
       "      drug_exposure_start_date drug_exposure_start_datetime  \\\n",
       "12143               2148-06-26          2148-06-26 13:00:00   \n",
       "12144               2148-06-26          2148-06-26 17:00:00   \n",
       "12145               2148-06-24          2148-06-24 18:00:00   \n",
       "12146               2148-06-26          2148-06-26 13:00:00   \n",
       "12147               2148-06-26          2148-06-26 14:00:00   \n",
       "...                        ...                          ...   \n",
       "15706               2148-06-30          2148-06-30 08:00:00   \n",
       "15707               2148-07-10          2148-07-10 19:00:00   \n",
       "15708               2148-07-07          2148-07-07 17:00:00   \n",
       "15709               2148-07-04          2148-07-04 21:00:00   \n",
       "15710               2148-07-07          2148-07-07 23:00:00   \n",
       "\n",
       "      drug_exposure_end_date drug_exposure_end_datetime  verbatim_end_date  \\\n",
       "12143             2148-06-26        2148-06-26 13:00:00                NaN   \n",
       "12144             2148-06-27        2148-06-27 12:00:00                NaN   \n",
       "12145             2148-06-26        2148-06-26 12:00:00                NaN   \n",
       "12146             2148-06-28        2148-06-28 18:00:00                NaN   \n",
       "12147             2148-06-27        2148-06-27 12:00:00                NaN   \n",
       "...                      ...                        ...                ...   \n",
       "15706             2148-07-13        2148-07-13 23:00:00                NaN   \n",
       "15707             2148-07-13        2148-07-13 23:00:00                NaN   \n",
       "15708             2148-07-08        2148-07-08 13:00:00                NaN   \n",
       "15709             2148-07-08        2148-07-08 13:00:00                NaN   \n",
       "15710             2148-07-09        2148-07-09 14:00:00                NaN   \n",
       "\n",
       "       drug_type_concept_id  stop_reason  refills  quantity  days_supply  sig  \\\n",
       "12143                 32838          NaN      NaN       1.0          NaN  NaN   \n",
       "12144                 32838          NaN      NaN       1.0          NaN  NaN   \n",
       "12145                 32838          NaN      NaN       1.0          NaN  NaN   \n",
       "12146                 32838          NaN      NaN       1.0          NaN  NaN   \n",
       "12147                 32838          NaN      NaN      10.0          NaN  NaN   \n",
       "...                     ...          ...      ...       ...          ...  ...   \n",
       "15706                 32838          NaN      NaN       1.0          NaN  NaN   \n",
       "15707                 32838          NaN      NaN       0.3          NaN  NaN   \n",
       "15708                 32838          NaN      NaN       0.3          NaN  NaN   \n",
       "15709                 32838          NaN      NaN       0.3          NaN  NaN   \n",
       "15710                 32838          NaN      NaN       0.2          NaN  NaN   \n",
       "\n",
       "       route_concept_id  lot_number  provider_id  visit_occurrence_id  \\\n",
       "12143           4142048         NaN          NaN  2717440401888979354   \n",
       "12144           4142048         NaN          NaN  2717440401888979354   \n",
       "12145           4142048         NaN          NaN  2717440401888979354   \n",
       "12146           4142048         NaN          NaN  2717440401888979354   \n",
       "12147           4142048         NaN          NaN  2717440401888979354   \n",
       "...                 ...         ...          ...                  ...   \n",
       "15706           4171047         NaN          NaN -2408772910912676912   \n",
       "15707           4171047         NaN          NaN -2408772910912676912   \n",
       "15708           4171047         NaN          NaN -2408772910912676912   \n",
       "15709           4171047         NaN          NaN -2408772910912676912   \n",
       "15710           4171047         NaN          NaN -2408772910912676912   \n",
       "\n",
       "       visit_detail_id                          drug_source_value  \\\n",
       "12143              NaN                                00002751001   \n",
       "12144              NaN                                00002751001   \n",
       "12145              NaN                                00002751001   \n",
       "12146              NaN                                00002751001   \n",
       "12147              NaN                                00002821501   \n",
       "...                ...                                        ...   \n",
       "15706              NaN  Sodium Chloride 0.9%  Flush 10 mL Syringe   \n",
       "15707              NaN  Sodium Chloride 0.9%  Flush 10 mL Syringe   \n",
       "15708              NaN  Sodium Chloride 0.9%  Flush 10 mL Syringe   \n",
       "15709              NaN  Sodium Chloride 0.9%  Flush 10 mL Syringe   \n",
       "15710              NaN  Sodium Chloride 0.9%  Flush 10 mL Syringe   \n",
       "\n",
       "       drug_source_concept_id route_source_value dose_unit_source_value  \n",
       "12143                45144375                 SC                   VIAL  \n",
       "12144                45144375                 SC                   VIAL  \n",
       "12145                45144375                 SC                   VIAL  \n",
       "12146                45144375                 SC                   VIAL  \n",
       "12147                45178530                 SC                   VIAL  \n",
       "...                       ...                ...                    ...  \n",
       "15706              2000011396                 IV                    SYR  \n",
       "15707              2000011396                 IV                    SYR  \n",
       "15708              2000011396                 IV                    SYR  \n",
       "15709              2000011396                 IV                    SYR  \n",
       "15710              2000011396                 IV                    SYR  \n",
       "\n",
       "[234 rows x 23 columns]"
      ]
     },
     "execution_count": 76,
     "metadata": {},
     "output_type": "execute_result"
    }
   ],
   "source": [
    "patient_df[patient_df[\"visit_occurrence_id\"].isin([2717440401888979354, -2408772910912676912])]"
   ]
  },
  {
   "cell_type": "code",
   "execution_count": 48,
   "metadata": {},
   "outputs": [
    {
     "data": {
      "text/html": [
       "<div>\n",
       "<style scoped>\n",
       "    .dataframe tbody tr th:only-of-type {\n",
       "        vertical-align: middle;\n",
       "    }\n",
       "\n",
       "    .dataframe tbody tr th {\n",
       "        vertical-align: top;\n",
       "    }\n",
       "\n",
       "    .dataframe thead th {\n",
       "        text-align: right;\n",
       "    }\n",
       "</style>\n",
       "<table border=\"1\" class=\"dataframe\">\n",
       "  <thead>\n",
       "    <tr style=\"text-align: right;\">\n",
       "      <th></th>\n",
       "      <th>date</th>\n",
       "      <th>unique_drugs</th>\n",
       "      <th>nb_drugs</th>\n",
       "      <th>visit_id</th>\n",
       "      <th>nb_visits</th>\n",
       "    </tr>\n",
       "  </thead>\n",
       "  <tbody>\n",
       "    <tr>\n",
       "      <th>0</th>\n",
       "      <td>2177-07-14</td>\n",
       "      <td>[42708743, 40221369, 1718698, 19074247, 190201...</td>\n",
       "      <td>7</td>\n",
       "      <td>P000000</td>\n",
       "      <td>1</td>\n",
       "    </tr>\n",
       "  </tbody>\n",
       "</table>\n",
       "</div>"
      ],
      "text/plain": [
       "        date                                       unique_drugs  nb_drugs  \\\n",
       "0 2177-07-14  [42708743, 40221369, 1718698, 19074247, 190201...         7   \n",
       "\n",
       "  visit_id  nb_visits  \n",
       "0  P000000          1  "
      ]
     },
     "execution_count": 48,
     "metadata": {},
     "output_type": "execute_result"
    }
   ],
   "source": [
    "new_grouped_tmp_df = grouped_tmp_df[grouped_tmp_df[(\"visit_occurrence_id\", \"nunique\")] == 1]\n",
    "new_grouped_tmp_df.columns = [\"date\", \"unique_drugs\", \"nb_drugs\", \"visit_id\", \"nb_visits\"]\n",
    "new_grouped_tmp_df[\"visit_id\"] = new_grouped_tmp_df[\"visit_id\"].apply(lambda x: x[0]).astype(str)\n",
    "new_grouped_tmp_df.head(1)"
   ]
  },
  {
   "cell_type": "code",
   "execution_count": 49,
   "metadata": {},
   "outputs": [
    {
     "data": {
      "application/vnd.plotly.v1+json": {
       "config": {
        "plotlyServerURL": "https://plot.ly"
       },
       "data": [
        {
         "hovertemplate": "visit_id=P000000<br>date=%{x}<br>nb_drugs=%{y}<extra></extra>",
         "legendgroup": "P000000",
         "marker": {
          "color": "#636efa",
          "symbol": "circle"
         },
         "mode": "markers",
         "name": "P000000",
         "orientation": "v",
         "showlegend": true,
         "type": "scatter",
         "x": [
          "2177-07-14T00:00:00",
          "2177-07-15T00:00:00",
          "2177-07-16T00:00:00",
          "2177-07-17T00:00:00",
          "2177-07-18T00:00:00",
          "2177-07-19T00:00:00",
          "2177-07-20T00:00:00",
          "2177-07-21T00:00:00",
          "2177-07-22T00:00:00",
          "2177-07-23T00:00:00",
          "2177-07-24T00:00:00"
         ],
         "xaxis": "x",
         "y": [
          7,
          42,
          33,
          34,
          34,
          36,
          35,
          32,
          33,
          31,
          31
         ],
         "yaxis": "y"
        },
        {
         "hovertemplate": "visit_id=P000192<br>date=%{x}<br>nb_drugs=%{y}<extra></extra>",
         "legendgroup": "P000192",
         "marker": {
          "color": "#EF553B",
          "symbol": "circle"
         },
         "mode": "markers",
         "name": "P000192",
         "orientation": "v",
         "showlegend": true,
         "type": "scatter",
         "x": [
          "2177-09-04T00:00:00",
          "2177-09-05T00:00:00",
          "2177-09-06T00:00:00",
          "2177-09-07T00:00:00"
         ],
         "xaxis": "x",
         "y": [
          26,
          29,
          26,
          24
         ],
         "yaxis": "y"
        },
        {
         "hovertemplate": "visit_id=P000115<br>date=%{x}<br>nb_drugs=%{y}<extra></extra>",
         "legendgroup": "P000115",
         "marker": {
          "color": "#00cc96",
          "symbol": "circle"
         },
         "mode": "markers",
         "name": "P000115",
         "orientation": "v",
         "showlegend": true,
         "type": "scatter",
         "x": [
          "2177-12-21T00:00:00",
          "2177-12-22T00:00:00",
          "2177-12-23T00:00:00"
         ],
         "xaxis": "x",
         "y": [
          2,
          29,
          29
         ],
         "yaxis": "y"
        },
        {
         "hovertemplate": "visit_id=P000112<br>date=%{x}<br>nb_drugs=%{y}<extra></extra>",
         "legendgroup": "P000112",
         "marker": {
          "color": "#ab63fa",
          "symbol": "circle"
         },
         "mode": "markers",
         "name": "P000112",
         "orientation": "v",
         "showlegend": true,
         "type": "scatter",
         "x": [
          "2178-09-29T00:00:00",
          "2178-09-30T00:00:00",
          "2178-10-01T00:00:00",
          "2178-10-02T00:00:00"
         ],
         "xaxis": "x",
         "y": [
          33,
          30,
          28,
          28
         ],
         "yaxis": "y"
        },
        {
         "hovertemplate": "visit_id=P000155<br>date=%{x}<br>nb_drugs=%{y}<extra></extra>",
         "legendgroup": "P000155",
         "marker": {
          "color": "#FFA15A",
          "symbol": "circle"
         },
         "mode": "markers",
         "name": "P000155",
         "orientation": "v",
         "showlegend": true,
         "type": "scatter",
         "x": [
          "2178-12-21T00:00:00",
          "2178-12-22T00:00:00",
          "2178-12-23T00:00:00",
          "2178-12-24T00:00:00",
          "2178-12-25T00:00:00",
          "2178-12-26T00:00:00"
         ],
         "xaxis": "x",
         "y": [
          23,
          25,
          18,
          20,
          21,
          23
         ],
         "yaxis": "y"
        },
        {
         "hovertemplate": "visit_id=P000049<br>date=%{x}<br>nb_drugs=%{y}<extra></extra>",
         "legendgroup": "P000049",
         "marker": {
          "color": "#19d3f3",
          "symbol": "circle"
         },
         "mode": "markers",
         "name": "P000049",
         "orientation": "v",
         "showlegend": true,
         "type": "scatter",
         "x": [
          "2179-03-27T00:00:00",
          "2179-03-28T00:00:00",
          "2179-03-29T00:00:00",
          "2179-03-30T00:00:00",
          "2179-03-31T00:00:00",
          "2179-04-01T00:00:00",
          "2179-04-02T00:00:00",
          "2179-04-03T00:00:00",
          "2179-04-04T00:00:00"
         ],
         "xaxis": "x",
         "y": [
          15,
          25,
          20,
          23,
          24,
          21,
          20,
          20,
          20
         ],
         "yaxis": "y"
        },
        {
         "hovertemplate": "visit_id=P000038<br>date=%{x}<br>nb_drugs=%{y}<extra></extra>",
         "legendgroup": "P000038",
         "marker": {
          "color": "#FF6692",
          "symbol": "circle"
         },
         "mode": "markers",
         "name": "P000038",
         "orientation": "v",
         "showlegend": true,
         "type": "scatter",
         "x": [
          "2179-07-25T00:00:00",
          "2179-07-26T00:00:00",
          "2179-07-27T00:00:00",
          "2179-07-28T00:00:00"
         ],
         "xaxis": "x",
         "y": [
          24,
          26,
          23,
          20
         ],
         "yaxis": "y"
        },
        {
         "hovertemplate": "visit_id=P000188<br>date=%{x}<br>nb_drugs=%{y}<extra></extra>",
         "legendgroup": "P000188",
         "marker": {
          "color": "#B6E880",
          "symbol": "circle"
         },
         "mode": "markers",
         "name": "P000188",
         "orientation": "v",
         "showlegend": true,
         "type": "scatter",
         "x": [
          "2182-04-29T00:00:00",
          "2182-04-30T00:00:00",
          "2182-05-01T00:00:00",
          "2182-05-02T00:00:00",
          "2182-05-03T00:00:00"
         ],
         "xaxis": "x",
         "y": [
          14,
          17,
          22,
          23,
          22
         ],
         "yaxis": "y"
        }
       ],
       "layout": {
        "legend": {
         "title": {
          "text": "visit_id"
         },
         "tracegroupgap": 0
        },
        "margin": {
         "t": 60
        },
        "template": {
         "data": {
          "bar": [
           {
            "error_x": {
             "color": "#2a3f5f"
            },
            "error_y": {
             "color": "#2a3f5f"
            },
            "marker": {
             "line": {
              "color": "#E5ECF6",
              "width": 0.5
             },
             "pattern": {
              "fillmode": "overlay",
              "size": 10,
              "solidity": 0.2
             }
            },
            "type": "bar"
           }
          ],
          "barpolar": [
           {
            "marker": {
             "line": {
              "color": "#E5ECF6",
              "width": 0.5
             },
             "pattern": {
              "fillmode": "overlay",
              "size": 10,
              "solidity": 0.2
             }
            },
            "type": "barpolar"
           }
          ],
          "carpet": [
           {
            "aaxis": {
             "endlinecolor": "#2a3f5f",
             "gridcolor": "white",
             "linecolor": "white",
             "minorgridcolor": "white",
             "startlinecolor": "#2a3f5f"
            },
            "baxis": {
             "endlinecolor": "#2a3f5f",
             "gridcolor": "white",
             "linecolor": "white",
             "minorgridcolor": "white",
             "startlinecolor": "#2a3f5f"
            },
            "type": "carpet"
           }
          ],
          "choropleth": [
           {
            "colorbar": {
             "outlinewidth": 0,
             "ticks": ""
            },
            "type": "choropleth"
           }
          ],
          "contour": [
           {
            "colorbar": {
             "outlinewidth": 0,
             "ticks": ""
            },
            "colorscale": [
             [
              0,
              "#0d0887"
             ],
             [
              0.1111111111111111,
              "#46039f"
             ],
             [
              0.2222222222222222,
              "#7201a8"
             ],
             [
              0.3333333333333333,
              "#9c179e"
             ],
             [
              0.4444444444444444,
              "#bd3786"
             ],
             [
              0.5555555555555556,
              "#d8576b"
             ],
             [
              0.6666666666666666,
              "#ed7953"
             ],
             [
              0.7777777777777778,
              "#fb9f3a"
             ],
             [
              0.8888888888888888,
              "#fdca26"
             ],
             [
              1,
              "#f0f921"
             ]
            ],
            "type": "contour"
           }
          ],
          "contourcarpet": [
           {
            "colorbar": {
             "outlinewidth": 0,
             "ticks": ""
            },
            "type": "contourcarpet"
           }
          ],
          "heatmap": [
           {
            "colorbar": {
             "outlinewidth": 0,
             "ticks": ""
            },
            "colorscale": [
             [
              0,
              "#0d0887"
             ],
             [
              0.1111111111111111,
              "#46039f"
             ],
             [
              0.2222222222222222,
              "#7201a8"
             ],
             [
              0.3333333333333333,
              "#9c179e"
             ],
             [
              0.4444444444444444,
              "#bd3786"
             ],
             [
              0.5555555555555556,
              "#d8576b"
             ],
             [
              0.6666666666666666,
              "#ed7953"
             ],
             [
              0.7777777777777778,
              "#fb9f3a"
             ],
             [
              0.8888888888888888,
              "#fdca26"
             ],
             [
              1,
              "#f0f921"
             ]
            ],
            "type": "heatmap"
           }
          ],
          "heatmapgl": [
           {
            "colorbar": {
             "outlinewidth": 0,
             "ticks": ""
            },
            "colorscale": [
             [
              0,
              "#0d0887"
             ],
             [
              0.1111111111111111,
              "#46039f"
             ],
             [
              0.2222222222222222,
              "#7201a8"
             ],
             [
              0.3333333333333333,
              "#9c179e"
             ],
             [
              0.4444444444444444,
              "#bd3786"
             ],
             [
              0.5555555555555556,
              "#d8576b"
             ],
             [
              0.6666666666666666,
              "#ed7953"
             ],
             [
              0.7777777777777778,
              "#fb9f3a"
             ],
             [
              0.8888888888888888,
              "#fdca26"
             ],
             [
              1,
              "#f0f921"
             ]
            ],
            "type": "heatmapgl"
           }
          ],
          "histogram": [
           {
            "marker": {
             "pattern": {
              "fillmode": "overlay",
              "size": 10,
              "solidity": 0.2
             }
            },
            "type": "histogram"
           }
          ],
          "histogram2d": [
           {
            "colorbar": {
             "outlinewidth": 0,
             "ticks": ""
            },
            "colorscale": [
             [
              0,
              "#0d0887"
             ],
             [
              0.1111111111111111,
              "#46039f"
             ],
             [
              0.2222222222222222,
              "#7201a8"
             ],
             [
              0.3333333333333333,
              "#9c179e"
             ],
             [
              0.4444444444444444,
              "#bd3786"
             ],
             [
              0.5555555555555556,
              "#d8576b"
             ],
             [
              0.6666666666666666,
              "#ed7953"
             ],
             [
              0.7777777777777778,
              "#fb9f3a"
             ],
             [
              0.8888888888888888,
              "#fdca26"
             ],
             [
              1,
              "#f0f921"
             ]
            ],
            "type": "histogram2d"
           }
          ],
          "histogram2dcontour": [
           {
            "colorbar": {
             "outlinewidth": 0,
             "ticks": ""
            },
            "colorscale": [
             [
              0,
              "#0d0887"
             ],
             [
              0.1111111111111111,
              "#46039f"
             ],
             [
              0.2222222222222222,
              "#7201a8"
             ],
             [
              0.3333333333333333,
              "#9c179e"
             ],
             [
              0.4444444444444444,
              "#bd3786"
             ],
             [
              0.5555555555555556,
              "#d8576b"
             ],
             [
              0.6666666666666666,
              "#ed7953"
             ],
             [
              0.7777777777777778,
              "#fb9f3a"
             ],
             [
              0.8888888888888888,
              "#fdca26"
             ],
             [
              1,
              "#f0f921"
             ]
            ],
            "type": "histogram2dcontour"
           }
          ],
          "mesh3d": [
           {
            "colorbar": {
             "outlinewidth": 0,
             "ticks": ""
            },
            "type": "mesh3d"
           }
          ],
          "parcoords": [
           {
            "line": {
             "colorbar": {
              "outlinewidth": 0,
              "ticks": ""
             }
            },
            "type": "parcoords"
           }
          ],
          "pie": [
           {
            "automargin": true,
            "type": "pie"
           }
          ],
          "scatter": [
           {
            "fillpattern": {
             "fillmode": "overlay",
             "size": 10,
             "solidity": 0.2
            },
            "type": "scatter"
           }
          ],
          "scatter3d": [
           {
            "line": {
             "colorbar": {
              "outlinewidth": 0,
              "ticks": ""
             }
            },
            "marker": {
             "colorbar": {
              "outlinewidth": 0,
              "ticks": ""
             }
            },
            "type": "scatter3d"
           }
          ],
          "scattercarpet": [
           {
            "marker": {
             "colorbar": {
              "outlinewidth": 0,
              "ticks": ""
             }
            },
            "type": "scattercarpet"
           }
          ],
          "scattergeo": [
           {
            "marker": {
             "colorbar": {
              "outlinewidth": 0,
              "ticks": ""
             }
            },
            "type": "scattergeo"
           }
          ],
          "scattergl": [
           {
            "marker": {
             "colorbar": {
              "outlinewidth": 0,
              "ticks": ""
             }
            },
            "type": "scattergl"
           }
          ],
          "scattermapbox": [
           {
            "marker": {
             "colorbar": {
              "outlinewidth": 0,
              "ticks": ""
             }
            },
            "type": "scattermapbox"
           }
          ],
          "scatterpolar": [
           {
            "marker": {
             "colorbar": {
              "outlinewidth": 0,
              "ticks": ""
             }
            },
            "type": "scatterpolar"
           }
          ],
          "scatterpolargl": [
           {
            "marker": {
             "colorbar": {
              "outlinewidth": 0,
              "ticks": ""
             }
            },
            "type": "scatterpolargl"
           }
          ],
          "scatterternary": [
           {
            "marker": {
             "colorbar": {
              "outlinewidth": 0,
              "ticks": ""
             }
            },
            "type": "scatterternary"
           }
          ],
          "surface": [
           {
            "colorbar": {
             "outlinewidth": 0,
             "ticks": ""
            },
            "colorscale": [
             [
              0,
              "#0d0887"
             ],
             [
              0.1111111111111111,
              "#46039f"
             ],
             [
              0.2222222222222222,
              "#7201a8"
             ],
             [
              0.3333333333333333,
              "#9c179e"
             ],
             [
              0.4444444444444444,
              "#bd3786"
             ],
             [
              0.5555555555555556,
              "#d8576b"
             ],
             [
              0.6666666666666666,
              "#ed7953"
             ],
             [
              0.7777777777777778,
              "#fb9f3a"
             ],
             [
              0.8888888888888888,
              "#fdca26"
             ],
             [
              1,
              "#f0f921"
             ]
            ],
            "type": "surface"
           }
          ],
          "table": [
           {
            "cells": {
             "fill": {
              "color": "#EBF0F8"
             },
             "line": {
              "color": "white"
             }
            },
            "header": {
             "fill": {
              "color": "#C8D4E3"
             },
             "line": {
              "color": "white"
             }
            },
            "type": "table"
           }
          ]
         },
         "layout": {
          "annotationdefaults": {
           "arrowcolor": "#2a3f5f",
           "arrowhead": 0,
           "arrowwidth": 1
          },
          "autotypenumbers": "strict",
          "coloraxis": {
           "colorbar": {
            "outlinewidth": 0,
            "ticks": ""
           }
          },
          "colorscale": {
           "diverging": [
            [
             0,
             "#8e0152"
            ],
            [
             0.1,
             "#c51b7d"
            ],
            [
             0.2,
             "#de77ae"
            ],
            [
             0.3,
             "#f1b6da"
            ],
            [
             0.4,
             "#fde0ef"
            ],
            [
             0.5,
             "#f7f7f7"
            ],
            [
             0.6,
             "#e6f5d0"
            ],
            [
             0.7,
             "#b8e186"
            ],
            [
             0.8,
             "#7fbc41"
            ],
            [
             0.9,
             "#4d9221"
            ],
            [
             1,
             "#276419"
            ]
           ],
           "sequential": [
            [
             0,
             "#0d0887"
            ],
            [
             0.1111111111111111,
             "#46039f"
            ],
            [
             0.2222222222222222,
             "#7201a8"
            ],
            [
             0.3333333333333333,
             "#9c179e"
            ],
            [
             0.4444444444444444,
             "#bd3786"
            ],
            [
             0.5555555555555556,
             "#d8576b"
            ],
            [
             0.6666666666666666,
             "#ed7953"
            ],
            [
             0.7777777777777778,
             "#fb9f3a"
            ],
            [
             0.8888888888888888,
             "#fdca26"
            ],
            [
             1,
             "#f0f921"
            ]
           ],
           "sequentialminus": [
            [
             0,
             "#0d0887"
            ],
            [
             0.1111111111111111,
             "#46039f"
            ],
            [
             0.2222222222222222,
             "#7201a8"
            ],
            [
             0.3333333333333333,
             "#9c179e"
            ],
            [
             0.4444444444444444,
             "#bd3786"
            ],
            [
             0.5555555555555556,
             "#d8576b"
            ],
            [
             0.6666666666666666,
             "#ed7953"
            ],
            [
             0.7777777777777778,
             "#fb9f3a"
            ],
            [
             0.8888888888888888,
             "#fdca26"
            ],
            [
             1,
             "#f0f921"
            ]
           ]
          },
          "colorway": [
           "#636efa",
           "#EF553B",
           "#00cc96",
           "#ab63fa",
           "#FFA15A",
           "#19d3f3",
           "#FF6692",
           "#B6E880",
           "#FF97FF",
           "#FECB52"
          ],
          "font": {
           "color": "#2a3f5f"
          },
          "geo": {
           "bgcolor": "white",
           "lakecolor": "white",
           "landcolor": "#E5ECF6",
           "showlakes": true,
           "showland": true,
           "subunitcolor": "white"
          },
          "hoverlabel": {
           "align": "left"
          },
          "hovermode": "closest",
          "mapbox": {
           "style": "light"
          },
          "paper_bgcolor": "white",
          "plot_bgcolor": "#E5ECF6",
          "polar": {
           "angularaxis": {
            "gridcolor": "white",
            "linecolor": "white",
            "ticks": ""
           },
           "bgcolor": "#E5ECF6",
           "radialaxis": {
            "gridcolor": "white",
            "linecolor": "white",
            "ticks": ""
           }
          },
          "scene": {
           "xaxis": {
            "backgroundcolor": "#E5ECF6",
            "gridcolor": "white",
            "gridwidth": 2,
            "linecolor": "white",
            "showbackground": true,
            "ticks": "",
            "zerolinecolor": "white"
           },
           "yaxis": {
            "backgroundcolor": "#E5ECF6",
            "gridcolor": "white",
            "gridwidth": 2,
            "linecolor": "white",
            "showbackground": true,
            "ticks": "",
            "zerolinecolor": "white"
           },
           "zaxis": {
            "backgroundcolor": "#E5ECF6",
            "gridcolor": "white",
            "gridwidth": 2,
            "linecolor": "white",
            "showbackground": true,
            "ticks": "",
            "zerolinecolor": "white"
           }
          },
          "shapedefaults": {
           "line": {
            "color": "#2a3f5f"
           }
          },
          "ternary": {
           "aaxis": {
            "gridcolor": "white",
            "linecolor": "white",
            "ticks": ""
           },
           "baxis": {
            "gridcolor": "white",
            "linecolor": "white",
            "ticks": ""
           },
           "bgcolor": "#E5ECF6",
           "caxis": {
            "gridcolor": "white",
            "linecolor": "white",
            "ticks": ""
           }
          },
          "title": {
           "x": 0.05
          },
          "xaxis": {
           "automargin": true,
           "gridcolor": "white",
           "linecolor": "white",
           "ticks": "",
           "title": {
            "standoff": 15
           },
           "zerolinecolor": "white",
           "zerolinewidth": 2
          },
          "yaxis": {
           "automargin": true,
           "gridcolor": "white",
           "linecolor": "white",
           "ticks": "",
           "title": {
            "standoff": 15
           },
           "zerolinecolor": "white",
           "zerolinewidth": 2
          }
         }
        },
        "xaxis": {
         "anchor": "y",
         "domain": [
          0,
          1
         ],
         "title": {
          "text": "date"
         }
        },
        "yaxis": {
         "anchor": "x",
         "domain": [
          0,
          1
         ],
         "title": {
          "text": "nb_drugs"
         }
        }
       }
      }
     },
     "metadata": {},
     "output_type": "display_data"
    }
   ],
   "source": [
    "fig = px.scatter(new_grouped_tmp_df, x=\"date\", y=\"nb_drugs\", color=\"visit_id\")\n",
    "fig.show()"
   ]
  },
  {
   "cell_type": "code",
   "execution_count": 32,
   "metadata": {},
   "outputs": [
    {
     "data": {
      "text/html": [
       "<div>\n",
       "<style scoped>\n",
       "    .dataframe tbody tr th:only-of-type {\n",
       "        vertical-align: middle;\n",
       "    }\n",
       "\n",
       "    .dataframe tbody tr th {\n",
       "        vertical-align: top;\n",
       "    }\n",
       "\n",
       "    .dataframe thead th {\n",
       "        text-align: right;\n",
       "    }\n",
       "</style>\n",
       "<table border=\"1\" class=\"dataframe\">\n",
       "  <thead>\n",
       "    <tr style=\"text-align: right;\">\n",
       "      <th></th>\n",
       "      <th>date</th>\n",
       "      <th>drug_concept_id</th>\n",
       "    </tr>\n",
       "  </thead>\n",
       "  <tbody>\n",
       "    <tr>\n",
       "      <th>0</th>\n",
       "      <td>2147-09-12</td>\n",
       "      <td>19078557</td>\n",
       "    </tr>\n",
       "    <tr>\n",
       "      <th>1</th>\n",
       "      <td>2147-09-12</td>\n",
       "      <td>19068781</td>\n",
       "    </tr>\n",
       "    <tr>\n",
       "      <th>2</th>\n",
       "      <td>2147-09-12</td>\n",
       "      <td>19071700</td>\n",
       "    </tr>\n",
       "    <tr>\n",
       "      <th>3</th>\n",
       "      <td>2147-09-12</td>\n",
       "      <td>19071700</td>\n",
       "    </tr>\n",
       "    <tr>\n",
       "      <th>4</th>\n",
       "      <td>2147-09-12</td>\n",
       "      <td>1593969</td>\n",
       "    </tr>\n",
       "  </tbody>\n",
       "</table>\n",
       "</div>"
      ],
      "text/plain": [
       "        date  drug_concept_id\n",
       "0 2147-09-12         19078557\n",
       "1 2147-09-12         19068781\n",
       "2 2147-09-12         19071700\n",
       "3 2147-09-12         19071700\n",
       "4 2147-09-12          1593969"
      ]
     },
     "execution_count": 32,
     "metadata": {},
     "output_type": "execute_result"
    }
   ],
   "source": [
    "tmp_df.head()"
   ]
  },
  {
   "cell_type": "code",
   "execution_count": 38,
   "metadata": {},
   "outputs": [
    {
     "data": {
      "application/vnd.plotly.v1+json": {
       "config": {
        "plotlyServerURL": "https://plot.ly"
       },
       "data": [
        {
         "hovertemplate": "x=%{x}<br>y=%{y}<extra></extra>",
         "legendgroup": "",
         "marker": {
          "color": "#636efa",
          "symbol": "circle"
         },
         "mode": "markers",
         "name": "",
         "orientation": "v",
         "showlegend": false,
         "type": "scatter",
         "x": [
          "2147-11-26T00:00:00",
          "2147-11-27T00:00:00",
          "2147-11-28T00:00:00",
          "2147-11-29T00:00:00",
          "2147-11-30T00:00:00",
          "2150-05-09T00:00:00",
          "2150-05-10T00:00:00",
          "2150-02-05T00:00:00",
          "2150-02-07T00:00:00",
          "2150-02-08T00:00:00",
          "2150-02-06T00:00:00",
          "2150-02-07T00:00:00",
          "2150-02-08T00:00:00",
          "2150-02-07T00:00:00",
          "2150-02-05T00:00:00",
          "2150-02-06T00:00:00",
          "2150-02-06T00:00:00",
          "2150-02-05T00:00:00",
          "2150-02-06T00:00:00",
          "2147-06-04T00:00:00",
          "2148-08-22T00:00:00",
          "2148-08-23T00:00:00",
          "2148-08-24T00:00:00",
          "2148-08-25T00:00:00",
          "2148-08-26T00:00:00",
          "2148-08-27T00:00:00",
          "2148-08-28T00:00:00",
          "2148-08-29T00:00:00",
          "2148-08-30T00:00:00",
          "2148-08-31T00:00:00",
          "2148-09-01T00:00:00",
          "2148-09-02T00:00:00",
          "2148-09-03T00:00:00",
          "2148-09-04T00:00:00",
          "2148-09-05T00:00:00",
          "2148-09-06T00:00:00",
          "2148-09-07T00:00:00",
          "2148-09-08T00:00:00",
          "2147-04-26T00:00:00",
          "2147-04-27T00:00:00",
          "2147-04-28T00:00:00",
          "2147-04-29T00:00:00",
          "2147-11-15T00:00:00",
          "2147-11-15T00:00:00",
          "2147-11-16T00:00:00",
          "2148-07-18T00:00:00",
          "2148-07-19T00:00:00",
          "2148-07-19T00:00:00",
          "2148-07-20T00:00:00",
          "2148-07-20T00:00:00",
          "2148-07-18T00:00:00",
          "2150-04-13T00:00:00",
          "2150-04-14T00:00:00",
          "2150-04-15T00:00:00",
          "2150-04-10T00:00:00",
          "2150-04-12T00:00:00",
          "2150-04-12T00:00:00",
          "2150-04-13T00:00:00",
          "2150-04-11T00:00:00",
          "2150-04-10T00:00:00",
          "2150-04-11T00:00:00",
          "2150-04-12T00:00:00",
          "2150-04-13T00:00:00",
          "2150-04-14T00:00:00",
          "2150-04-15T00:00:00",
          "2150-04-15T00:00:00",
          "2150-04-11T00:00:00",
          "2150-04-12T00:00:00",
          "2150-04-10T00:00:00",
          "2150-04-15T00:00:00",
          "2150-04-10T00:00:00",
          "2148-08-15T00:00:00",
          "2148-08-15T00:00:00",
          "2148-08-16T00:00:00",
          "2148-08-17T00:00:00",
          "2148-08-18T00:00:00",
          "2148-08-19T00:00:00",
          "2148-08-15T00:00:00",
          "2148-06-26T00:00:00",
          "2148-06-26T00:00:00",
          "2148-06-27T00:00:00",
          "2148-06-24T00:00:00",
          "2148-06-25T00:00:00",
          "2148-06-26T00:00:00",
          "2148-06-26T00:00:00",
          "2148-06-27T00:00:00",
          "2148-06-28T00:00:00",
          "2150-05-01T00:00:00",
          "2150-05-02T00:00:00",
          "2150-05-03T00:00:00",
          "2150-05-04T00:00:00",
          "2150-05-05T00:00:00",
          "2150-05-06T00:00:00",
          "2150-05-07T00:00:00",
          "2148-07-08T00:00:00",
          "2148-07-08T00:00:00",
          "2148-07-08T00:00:00",
          "2148-07-08T00:00:00",
          "2148-07-13T00:00:00",
          "2148-07-03T00:00:00",
          "2148-07-04T00:00:00",
          "2148-07-10T00:00:00",
          "2148-07-11T00:00:00",
          "2148-07-04T00:00:00",
          "2148-07-04T00:00:00",
          "2148-07-07T00:00:00",
          "2148-07-08T00:00:00",
          "2148-07-06T00:00:00",
          "2148-07-07T00:00:00",
          "2148-07-08T00:00:00",
          "2148-07-08T00:00:00",
          "2148-07-09T00:00:00",
          "2148-07-10T00:00:00",
          "2148-07-10T00:00:00",
          "2148-07-11T00:00:00",
          "2148-07-12T00:00:00",
          "2148-07-01T00:00:00",
          "2148-07-02T00:00:00",
          "2148-07-03T00:00:00",
          "2148-07-03T00:00:00",
          "2148-07-04T00:00:00",
          "2148-07-04T00:00:00",
          "2148-07-04T00:00:00",
          "2148-07-05T00:00:00",
          "2148-07-06T00:00:00",
          "2148-07-10T00:00:00",
          "2148-07-08T00:00:00",
          "2148-07-12T00:00:00",
          "2148-07-13T00:00:00",
          "2148-07-03T00:00:00",
          "2148-07-04T00:00:00",
          "2148-07-04T00:00:00",
          "2148-07-07T00:00:00",
          "2148-07-08T00:00:00",
          "2149-09-18T00:00:00",
          "2148-05-18T00:00:00",
          "2148-05-17T00:00:00",
          "2148-05-18T00:00:00",
          "2148-05-11T00:00:00",
          "2148-05-12T00:00:00",
          "2148-05-13T00:00:00",
          "2148-05-14T00:00:00",
          "2148-05-15T00:00:00",
          "2148-05-16T00:00:00",
          "2148-05-17T00:00:00",
          "2148-05-11T00:00:00",
          "2148-05-11T00:00:00",
          "2148-05-18T00:00:00",
          "2148-05-19T00:00:00",
          "2148-05-20T00:00:00"
         ],
         "xaxis": "x",
         "y": [
          40166274,
          40166274,
          40166274,
          40166274,
          40166274,
          40166274,
          40166274,
          40166274,
          40166274,
          40166274,
          40166274,
          40166274,
          40166274,
          40166274,
          40166274,
          40166274,
          40166274,
          40166274,
          40166274,
          40166274,
          40166274,
          40166274,
          40166274,
          40166274,
          40166274,
          40166274,
          40166274,
          40166274,
          40166274,
          40166274,
          40166274,
          40166274,
          40166274,
          40166274,
          40166274,
          40166274,
          40166274,
          40166274,
          40166274,
          40166274,
          40166274,
          40166274,
          40166274,
          40166274,
          40166274,
          40166274,
          40166274,
          40166274,
          40166274,
          40166274,
          40166274,
          40166274,
          40166274,
          40166274,
          40166274,
          40166274,
          40166274,
          40166274,
          40166274,
          40166274,
          40166274,
          40166274,
          40166274,
          40166274,
          40166274,
          40166274,
          40166274,
          40166274,
          40166274,
          40166274,
          40166274,
          40166274,
          40166274,
          40166274,
          40166274,
          40166274,
          40166274,
          40166274,
          40166274,
          40166274,
          40166274,
          40166274,
          40166274,
          40166274,
          40166274,
          40166274,
          40166274,
          40166274,
          40166274,
          40166274,
          40166274,
          40166274,
          40166274,
          40166274,
          40166274,
          40166274,
          40166274,
          40166274,
          40166274,
          40166274,
          40166274,
          40166274,
          40166274,
          40166274,
          40166274,
          40166274,
          40166274,
          40166274,
          40166274,
          40166274,
          40166274,
          40166274,
          40166274,
          40166274,
          40166274,
          40166274,
          40166274,
          40166274,
          40166274,
          40166274,
          40166274,
          40166274,
          40166274,
          40166274,
          40166274,
          40166274,
          40166274,
          40166274,
          40166274,
          40166274,
          40166274,
          40166274,
          40166274,
          40166274,
          40166274,
          40166274,
          40166274,
          40166274,
          40166274,
          40166274,
          40166274,
          40166274,
          40166274,
          40166274,
          40166274,
          40166274,
          40166274,
          40166274,
          40166274,
          40166274
         ],
         "yaxis": "y"
        }
       ],
       "layout": {
        "legend": {
         "tracegroupgap": 0
        },
        "margin": {
         "t": 60
        },
        "template": {
         "data": {
          "bar": [
           {
            "error_x": {
             "color": "#2a3f5f"
            },
            "error_y": {
             "color": "#2a3f5f"
            },
            "marker": {
             "line": {
              "color": "#E5ECF6",
              "width": 0.5
             },
             "pattern": {
              "fillmode": "overlay",
              "size": 10,
              "solidity": 0.2
             }
            },
            "type": "bar"
           }
          ],
          "barpolar": [
           {
            "marker": {
             "line": {
              "color": "#E5ECF6",
              "width": 0.5
             },
             "pattern": {
              "fillmode": "overlay",
              "size": 10,
              "solidity": 0.2
             }
            },
            "type": "barpolar"
           }
          ],
          "carpet": [
           {
            "aaxis": {
             "endlinecolor": "#2a3f5f",
             "gridcolor": "white",
             "linecolor": "white",
             "minorgridcolor": "white",
             "startlinecolor": "#2a3f5f"
            },
            "baxis": {
             "endlinecolor": "#2a3f5f",
             "gridcolor": "white",
             "linecolor": "white",
             "minorgridcolor": "white",
             "startlinecolor": "#2a3f5f"
            },
            "type": "carpet"
           }
          ],
          "choropleth": [
           {
            "colorbar": {
             "outlinewidth": 0,
             "ticks": ""
            },
            "type": "choropleth"
           }
          ],
          "contour": [
           {
            "colorbar": {
             "outlinewidth": 0,
             "ticks": ""
            },
            "colorscale": [
             [
              0,
              "#0d0887"
             ],
             [
              0.1111111111111111,
              "#46039f"
             ],
             [
              0.2222222222222222,
              "#7201a8"
             ],
             [
              0.3333333333333333,
              "#9c179e"
             ],
             [
              0.4444444444444444,
              "#bd3786"
             ],
             [
              0.5555555555555556,
              "#d8576b"
             ],
             [
              0.6666666666666666,
              "#ed7953"
             ],
             [
              0.7777777777777778,
              "#fb9f3a"
             ],
             [
              0.8888888888888888,
              "#fdca26"
             ],
             [
              1,
              "#f0f921"
             ]
            ],
            "type": "contour"
           }
          ],
          "contourcarpet": [
           {
            "colorbar": {
             "outlinewidth": 0,
             "ticks": ""
            },
            "type": "contourcarpet"
           }
          ],
          "heatmap": [
           {
            "colorbar": {
             "outlinewidth": 0,
             "ticks": ""
            },
            "colorscale": [
             [
              0,
              "#0d0887"
             ],
             [
              0.1111111111111111,
              "#46039f"
             ],
             [
              0.2222222222222222,
              "#7201a8"
             ],
             [
              0.3333333333333333,
              "#9c179e"
             ],
             [
              0.4444444444444444,
              "#bd3786"
             ],
             [
              0.5555555555555556,
              "#d8576b"
             ],
             [
              0.6666666666666666,
              "#ed7953"
             ],
             [
              0.7777777777777778,
              "#fb9f3a"
             ],
             [
              0.8888888888888888,
              "#fdca26"
             ],
             [
              1,
              "#f0f921"
             ]
            ],
            "type": "heatmap"
           }
          ],
          "heatmapgl": [
           {
            "colorbar": {
             "outlinewidth": 0,
             "ticks": ""
            },
            "colorscale": [
             [
              0,
              "#0d0887"
             ],
             [
              0.1111111111111111,
              "#46039f"
             ],
             [
              0.2222222222222222,
              "#7201a8"
             ],
             [
              0.3333333333333333,
              "#9c179e"
             ],
             [
              0.4444444444444444,
              "#bd3786"
             ],
             [
              0.5555555555555556,
              "#d8576b"
             ],
             [
              0.6666666666666666,
              "#ed7953"
             ],
             [
              0.7777777777777778,
              "#fb9f3a"
             ],
             [
              0.8888888888888888,
              "#fdca26"
             ],
             [
              1,
              "#f0f921"
             ]
            ],
            "type": "heatmapgl"
           }
          ],
          "histogram": [
           {
            "marker": {
             "pattern": {
              "fillmode": "overlay",
              "size": 10,
              "solidity": 0.2
             }
            },
            "type": "histogram"
           }
          ],
          "histogram2d": [
           {
            "colorbar": {
             "outlinewidth": 0,
             "ticks": ""
            },
            "colorscale": [
             [
              0,
              "#0d0887"
             ],
             [
              0.1111111111111111,
              "#46039f"
             ],
             [
              0.2222222222222222,
              "#7201a8"
             ],
             [
              0.3333333333333333,
              "#9c179e"
             ],
             [
              0.4444444444444444,
              "#bd3786"
             ],
             [
              0.5555555555555556,
              "#d8576b"
             ],
             [
              0.6666666666666666,
              "#ed7953"
             ],
             [
              0.7777777777777778,
              "#fb9f3a"
             ],
             [
              0.8888888888888888,
              "#fdca26"
             ],
             [
              1,
              "#f0f921"
             ]
            ],
            "type": "histogram2d"
           }
          ],
          "histogram2dcontour": [
           {
            "colorbar": {
             "outlinewidth": 0,
             "ticks": ""
            },
            "colorscale": [
             [
              0,
              "#0d0887"
             ],
             [
              0.1111111111111111,
              "#46039f"
             ],
             [
              0.2222222222222222,
              "#7201a8"
             ],
             [
              0.3333333333333333,
              "#9c179e"
             ],
             [
              0.4444444444444444,
              "#bd3786"
             ],
             [
              0.5555555555555556,
              "#d8576b"
             ],
             [
              0.6666666666666666,
              "#ed7953"
             ],
             [
              0.7777777777777778,
              "#fb9f3a"
             ],
             [
              0.8888888888888888,
              "#fdca26"
             ],
             [
              1,
              "#f0f921"
             ]
            ],
            "type": "histogram2dcontour"
           }
          ],
          "mesh3d": [
           {
            "colorbar": {
             "outlinewidth": 0,
             "ticks": ""
            },
            "type": "mesh3d"
           }
          ],
          "parcoords": [
           {
            "line": {
             "colorbar": {
              "outlinewidth": 0,
              "ticks": ""
             }
            },
            "type": "parcoords"
           }
          ],
          "pie": [
           {
            "automargin": true,
            "type": "pie"
           }
          ],
          "scatter": [
           {
            "fillpattern": {
             "fillmode": "overlay",
             "size": 10,
             "solidity": 0.2
            },
            "type": "scatter"
           }
          ],
          "scatter3d": [
           {
            "line": {
             "colorbar": {
              "outlinewidth": 0,
              "ticks": ""
             }
            },
            "marker": {
             "colorbar": {
              "outlinewidth": 0,
              "ticks": ""
             }
            },
            "type": "scatter3d"
           }
          ],
          "scattercarpet": [
           {
            "marker": {
             "colorbar": {
              "outlinewidth": 0,
              "ticks": ""
             }
            },
            "type": "scattercarpet"
           }
          ],
          "scattergeo": [
           {
            "marker": {
             "colorbar": {
              "outlinewidth": 0,
              "ticks": ""
             }
            },
            "type": "scattergeo"
           }
          ],
          "scattergl": [
           {
            "marker": {
             "colorbar": {
              "outlinewidth": 0,
              "ticks": ""
             }
            },
            "type": "scattergl"
           }
          ],
          "scattermapbox": [
           {
            "marker": {
             "colorbar": {
              "outlinewidth": 0,
              "ticks": ""
             }
            },
            "type": "scattermapbox"
           }
          ],
          "scatterpolar": [
           {
            "marker": {
             "colorbar": {
              "outlinewidth": 0,
              "ticks": ""
             }
            },
            "type": "scatterpolar"
           }
          ],
          "scatterpolargl": [
           {
            "marker": {
             "colorbar": {
              "outlinewidth": 0,
              "ticks": ""
             }
            },
            "type": "scatterpolargl"
           }
          ],
          "scatterternary": [
           {
            "marker": {
             "colorbar": {
              "outlinewidth": 0,
              "ticks": ""
             }
            },
            "type": "scatterternary"
           }
          ],
          "surface": [
           {
            "colorbar": {
             "outlinewidth": 0,
             "ticks": ""
            },
            "colorscale": [
             [
              0,
              "#0d0887"
             ],
             [
              0.1111111111111111,
              "#46039f"
             ],
             [
              0.2222222222222222,
              "#7201a8"
             ],
             [
              0.3333333333333333,
              "#9c179e"
             ],
             [
              0.4444444444444444,
              "#bd3786"
             ],
             [
              0.5555555555555556,
              "#d8576b"
             ],
             [
              0.6666666666666666,
              "#ed7953"
             ],
             [
              0.7777777777777778,
              "#fb9f3a"
             ],
             [
              0.8888888888888888,
              "#fdca26"
             ],
             [
              1,
              "#f0f921"
             ]
            ],
            "type": "surface"
           }
          ],
          "table": [
           {
            "cells": {
             "fill": {
              "color": "#EBF0F8"
             },
             "line": {
              "color": "white"
             }
            },
            "header": {
             "fill": {
              "color": "#C8D4E3"
             },
             "line": {
              "color": "white"
             }
            },
            "type": "table"
           }
          ]
         },
         "layout": {
          "annotationdefaults": {
           "arrowcolor": "#2a3f5f",
           "arrowhead": 0,
           "arrowwidth": 1
          },
          "autotypenumbers": "strict",
          "coloraxis": {
           "colorbar": {
            "outlinewidth": 0,
            "ticks": ""
           }
          },
          "colorscale": {
           "diverging": [
            [
             0,
             "#8e0152"
            ],
            [
             0.1,
             "#c51b7d"
            ],
            [
             0.2,
             "#de77ae"
            ],
            [
             0.3,
             "#f1b6da"
            ],
            [
             0.4,
             "#fde0ef"
            ],
            [
             0.5,
             "#f7f7f7"
            ],
            [
             0.6,
             "#e6f5d0"
            ],
            [
             0.7,
             "#b8e186"
            ],
            [
             0.8,
             "#7fbc41"
            ],
            [
             0.9,
             "#4d9221"
            ],
            [
             1,
             "#276419"
            ]
           ],
           "sequential": [
            [
             0,
             "#0d0887"
            ],
            [
             0.1111111111111111,
             "#46039f"
            ],
            [
             0.2222222222222222,
             "#7201a8"
            ],
            [
             0.3333333333333333,
             "#9c179e"
            ],
            [
             0.4444444444444444,
             "#bd3786"
            ],
            [
             0.5555555555555556,
             "#d8576b"
            ],
            [
             0.6666666666666666,
             "#ed7953"
            ],
            [
             0.7777777777777778,
             "#fb9f3a"
            ],
            [
             0.8888888888888888,
             "#fdca26"
            ],
            [
             1,
             "#f0f921"
            ]
           ],
           "sequentialminus": [
            [
             0,
             "#0d0887"
            ],
            [
             0.1111111111111111,
             "#46039f"
            ],
            [
             0.2222222222222222,
             "#7201a8"
            ],
            [
             0.3333333333333333,
             "#9c179e"
            ],
            [
             0.4444444444444444,
             "#bd3786"
            ],
            [
             0.5555555555555556,
             "#d8576b"
            ],
            [
             0.6666666666666666,
             "#ed7953"
            ],
            [
             0.7777777777777778,
             "#fb9f3a"
            ],
            [
             0.8888888888888888,
             "#fdca26"
            ],
            [
             1,
             "#f0f921"
            ]
           ]
          },
          "colorway": [
           "#636efa",
           "#EF553B",
           "#00cc96",
           "#ab63fa",
           "#FFA15A",
           "#19d3f3",
           "#FF6692",
           "#B6E880",
           "#FF97FF",
           "#FECB52"
          ],
          "font": {
           "color": "#2a3f5f"
          },
          "geo": {
           "bgcolor": "white",
           "lakecolor": "white",
           "landcolor": "#E5ECF6",
           "showlakes": true,
           "showland": true,
           "subunitcolor": "white"
          },
          "hoverlabel": {
           "align": "left"
          },
          "hovermode": "closest",
          "mapbox": {
           "style": "light"
          },
          "paper_bgcolor": "white",
          "plot_bgcolor": "#E5ECF6",
          "polar": {
           "angularaxis": {
            "gridcolor": "white",
            "linecolor": "white",
            "ticks": ""
           },
           "bgcolor": "#E5ECF6",
           "radialaxis": {
            "gridcolor": "white",
            "linecolor": "white",
            "ticks": ""
           }
          },
          "scene": {
           "xaxis": {
            "backgroundcolor": "#E5ECF6",
            "gridcolor": "white",
            "gridwidth": 2,
            "linecolor": "white",
            "showbackground": true,
            "ticks": "",
            "zerolinecolor": "white"
           },
           "yaxis": {
            "backgroundcolor": "#E5ECF6",
            "gridcolor": "white",
            "gridwidth": 2,
            "linecolor": "white",
            "showbackground": true,
            "ticks": "",
            "zerolinecolor": "white"
           },
           "zaxis": {
            "backgroundcolor": "#E5ECF6",
            "gridcolor": "white",
            "gridwidth": 2,
            "linecolor": "white",
            "showbackground": true,
            "ticks": "",
            "zerolinecolor": "white"
           }
          },
          "shapedefaults": {
           "line": {
            "color": "#2a3f5f"
           }
          },
          "ternary": {
           "aaxis": {
            "gridcolor": "white",
            "linecolor": "white",
            "ticks": ""
           },
           "baxis": {
            "gridcolor": "white",
            "linecolor": "white",
            "ticks": ""
           },
           "bgcolor": "#E5ECF6",
           "caxis": {
            "gridcolor": "white",
            "linecolor": "white",
            "ticks": ""
           }
          },
          "title": {
           "x": 0.05
          },
          "xaxis": {
           "automargin": true,
           "gridcolor": "white",
           "linecolor": "white",
           "ticks": "",
           "title": {
            "standoff": 15
           },
           "zerolinecolor": "white",
           "zerolinewidth": 2
          },
          "yaxis": {
           "automargin": true,
           "gridcolor": "white",
           "linecolor": "white",
           "ticks": "",
           "title": {
            "standoff": 15
           },
           "zerolinecolor": "white",
           "zerolinewidth": 2
          }
         }
        },
        "xaxis": {
         "anchor": "y",
         "domain": [
          0,
          1
         ],
         "title": {
          "text": "x"
         }
        },
        "yaxis": {
         "anchor": "x",
         "domain": [
          0,
          1
         ],
         "title": {
          "text": "y"
         }
        }
       }
      }
     },
     "metadata": {},
     "output_type": "display_data"
    }
   ],
   "source": [
    "a = tmp_df[tmp_df[\"drug_concept_id\"] == 40166274]\n",
    "fig = px.scatter(x=a[\"date\"], y=a[\"drug_concept_id\"])\n",
    "fig.show()"
   ]
  },
  {
   "cell_type": "code",
   "execution_count": 17,
   "metadata": {},
   "outputs": [
    {
     "data": {
      "application/vnd.plotly.v1+json": {
       "config": {
        "plotlyServerURL": "https://plot.ly"
       },
       "data": [
        {
         "hovertemplate": "drug_exposure_start_datetime=%{x}<br>quantity=%{y}<extra></extra>",
         "legendgroup": "",
         "line": {
          "color": "#636efa",
          "dash": "solid"
         },
         "marker": {
          "symbol": "circle"
         },
         "mode": "lines",
         "name": "",
         "showlegend": false,
         "type": "scattergl",
         "x": [
          "2147-09-12T13:00:00",
          "2147-09-12T11:00:00",
          "2147-09-12T13:00:00",
          "2147-09-12T13:00:00",
          "2147-09-12T07:00:00",
          "2147-09-12T13:00:00",
          "2147-09-12T13:00:00",
          "2147-09-12T08:00:00",
          "2147-09-12T13:00:00",
          "2147-09-12T11:00:00",
          "2147-09-12T08:00:00",
          "2147-09-12T13:00:00",
          "2147-09-12T13:00:00",
          "2147-09-12T08:00:00",
          "2147-09-12T07:00:00",
          "2147-09-12T07:00:00",
          "2146-10-09T03:00:00",
          "2146-10-10T18:00:00",
          "2146-10-09T03:00:00",
          "2146-10-09T03:00:00",
          "2146-10-10T22:00:00",
          "2146-10-09T22:00:00",
          "2146-10-10T08:00:00",
          "2146-10-09T03:00:00",
          "2146-10-10T08:00:00",
          "2146-10-11T18:00:00",
          "2146-10-09T03:00:00",
          "2146-10-09T06:00:00",
          "2146-10-09T03:00:00",
          "2146-10-09T12:00:00",
          "2146-10-09T03:00:00",
          "2146-10-09T04:00:00",
          "2146-10-09T04:00:00",
          "2146-10-09T04:00:00",
          "2146-10-09T03:00:00",
          "2146-10-11T21:00:00",
          "2146-10-09T22:00:00",
          "2146-10-09T03:00:00",
          "2146-10-10T14:00:00",
          "2146-10-09T03:00:00",
          "2146-10-09T03:00:00",
          "2146-10-09T03:00:00",
          "2146-10-09T03:00:00",
          "2146-10-09T03:00:00",
          "2146-10-09T03:00:00",
          "2146-10-09T03:00:00",
          "2146-10-09T03:00:00",
          "2146-10-09T03:00:00",
          "2146-10-09T22:00:00",
          "2146-10-10T08:00:00",
          "2146-10-09T04:00:00",
          "2146-10-09T04:00:00",
          "2146-10-09T04:00:00",
          "2146-10-09T04:00:00",
          "2146-10-09T04:00:00",
          "2146-10-09T04:00:00",
          "2146-10-09T04:00:00",
          "2146-10-09T04:00:00",
          "2146-10-09T04:00:00",
          "2146-10-09T22:00:00",
          "2146-10-09T03:00:00",
          "2146-10-09T04:00:00",
          "2146-10-09T04:00:00",
          "2146-10-09T04:00:00",
          "2147-11-26T03:00:00",
          "2147-11-26T04:00:00",
          "2147-11-26T08:00:00",
          "2147-11-26T03:00:00",
          "2147-11-26T03:00:00",
          "2147-11-26T10:00:00",
          "2147-11-30T09:00:00",
          "2147-11-27T19:00:00",
          "2147-11-28T13:00:00",
          "2147-11-26T03:00:00",
          "2147-11-26T06:00:00",
          "2147-11-26T06:00:00",
          "2147-11-26T06:00:00",
          "2147-11-26T06:00:00",
          "2147-11-26T09:00:00",
          "2147-11-26T09:00:00",
          "2147-11-26T09:00:00",
          "2147-11-26T03:00:00",
          "2147-11-26T10:00:00",
          "2147-11-26T03:00:00",
          "2147-11-26T03:00:00",
          "2147-11-26T08:00:00",
          "2147-11-26T08:00:00",
          "2147-11-26T03:00:00",
          "2147-11-26T04:00:00",
          "2147-11-26T03:00:00",
          "2147-11-26T03:00:00",
          "2147-11-28T05:00:00",
          "2147-11-27T19:00:00",
          "2147-11-27T13:00:00",
          "2147-11-26T03:00:00",
          "2147-11-26T04:00:00",
          "2147-11-28T13:00:00",
          "2147-11-26T03:00:00",
          "2147-11-26T08:00:00",
          "2147-11-26T03:00:00",
          "2147-11-26T03:00:00",
          "2147-11-26T04:00:00",
          "2147-11-27T13:00:00",
          "2147-11-26T03:00:00",
          "2147-11-26T08:00:00",
          "2147-11-26T08:00:00",
          "2147-11-26T03:00:00",
          "2147-11-26T03:00:00",
          "2147-11-26T03:00:00",
          "2147-11-26T03:00:00",
          "2147-11-26T03:00:00",
          "2147-11-26T03:00:00",
          "2147-11-26T06:00:00",
          "2147-11-26T06:00:00",
          "2147-11-26T06:00:00",
          "2147-11-26T03:00:00",
          "2147-11-27T19:00:00",
          "2147-11-26T03:00:00",
          "2147-11-26T10:00:00",
          "2147-11-26T03:00:00",
          "2147-11-26T08:00:00",
          "2147-11-26T09:00:00",
          "2147-11-26T09:00:00",
          "2147-11-26T09:00:00",
          "2147-11-26T08:00:00",
          "2147-11-26T06:00:00",
          "2147-11-26T06:00:00",
          "2147-11-26T06:00:00",
          "2147-11-26T06:00:00",
          "2147-11-26T03:00:00",
          "2147-11-26T06:00:00",
          "2147-11-26T06:00:00",
          "2147-11-26T06:00:00",
          "2150-05-09T21:00:00",
          "2150-05-10T08:00:00",
          "2150-05-10T17:00:00",
          "2150-05-10T12:00:00",
          "2150-05-09T20:00:00",
          "2150-05-09T20:00:00",
          "2150-05-10T12:00:00",
          "2150-05-09T20:00:00",
          "2150-05-09T20:00:00",
          "2150-05-09T21:00:00",
          "2150-05-09T20:00:00",
          "2150-05-09T21:00:00",
          "2150-05-09T20:00:00",
          "2150-05-09T20:00:00",
          "2150-05-09T20:00:00",
          "2150-05-09T20:00:00",
          "2150-05-09T20:00:00",
          "2150-05-09T21:00:00",
          "2150-05-09T20:00:00",
          "2150-05-09T21:00:00",
          "2150-05-10T08:00:00",
          "2150-05-09T20:00:00",
          "2150-05-09T21:00:00",
          "2150-05-09T20:00:00",
          "2150-05-09T20:00:00",
          "2150-05-09T21:00:00",
          "2150-05-09T20:00:00",
          "2150-05-09T20:00:00",
          "2150-05-09T20:00:00",
          "2150-05-09T20:00:00",
          "2150-05-09T20:00:00",
          "2150-05-10T08:00:00",
          "2150-05-09T20:00:00",
          "2150-05-09T20:00:00",
          "2150-05-09T20:00:00",
          "2150-05-09T20:00:00",
          "2150-05-09T21:00:00",
          "2150-05-09T21:00:00",
          "2150-05-09T20:00:00",
          "2150-05-10T08:00:00",
          "2150-02-05T17:00:00",
          "2150-02-07T11:00:00",
          "2150-02-06T14:00:00",
          "2150-02-08T12:00:00",
          "2150-02-07T07:00:00",
          "2150-02-05T18:00:00",
          "2150-02-06T10:00:00",
          "2150-02-05T22:00:00",
          "2150-02-08T12:00:00",
          "2150-02-08T08:00:00",
          "2150-02-06T08:00:00",
          "2150-02-05T08:00:00",
          "2150-02-07T17:00:00",
          "2150-02-07T17:00:00",
          "2150-02-06T08:00:00",
          "2150-02-07T12:00:00",
          "2150-02-06T17:00:00",
          "2150-02-07T08:00:00",
          "2150-02-06T10:00:00",
          "2150-02-05T17:00:00",
          "2150-02-08T17:00:00",
          "2150-02-05T17:00:00",
          "2150-02-05T01:00:00",
          "2150-02-07T08:00:00",
          "2150-02-06T17:00:00",
          "2150-02-05T00:00:00",
          "2150-02-05T00:00:00",
          "2150-02-06T08:00:00",
          "2150-02-07T00:00:00",
          "2150-02-06T08:00:00",
          "2150-02-07T19:00:00",
          "2150-02-08T09:00:00",
          "2150-02-07T15:00:00",
          "2150-02-05T01:00:00",
          "2150-02-05T17:00:00",
          "2150-02-05T00:00:00",
          "2150-02-05T01:00:00",
          "2150-02-05T00:00:00",
          "2150-02-05T00:00:00",
          "2150-02-05T01:00:00",
          "2150-02-05T00:00:00",
          "2150-02-06T08:00:00",
          "2150-02-05T00:00:00",
          "2150-02-05T00:00:00",
          "2150-02-07T11:00:00",
          "2150-02-05T10:00:00",
          "2150-02-05T22:00:00",
          "2150-02-05T00:00:00",
          "2150-02-05T01:00:00",
          "2150-02-05T08:00:00",
          "2150-02-05T01:00:00",
          "2150-02-06T08:00:00",
          "2150-02-05T00:00:00",
          "2150-02-05T00:00:00",
          "2150-02-07T09:00:00",
          "2150-02-05T02:00:00",
          "2150-02-08T11:00:00",
          "2150-02-05T00:00:00",
          "2150-02-05T00:00:00",
          "2150-02-05T02:00:00",
          "2150-02-05T00:00:00",
          "2150-02-05T01:00:00",
          "2150-02-06T20:00:00",
          "2150-02-05T00:00:00",
          "2150-02-05T00:00:00",
          "2150-02-05T01:00:00",
          "2150-02-08T11:00:00",
          "2150-02-05T00:00:00",
          "2150-02-05T00:00:00",
          "2150-02-05T08:00:00",
          "2150-02-05T14:00:00",
          "2150-02-07T00:00:00",
          "2150-02-05T01:00:00",
          "2150-02-06T19:00:00",
          "2150-02-05T08:00:00",
          "2150-02-05T00:00:00",
          "2147-06-04T12:00:00",
          "2147-06-04T12:00:00",
          "2147-06-04T12:00:00",
          "2147-06-04T12:00:00",
          "2147-06-04T12:00:00",
          "2147-06-04T12:00:00",
          "2147-06-04T12:00:00",
          "2147-06-04T12:00:00",
          "2147-06-04T14:00:00",
          "2147-06-04T12:00:00",
          "2147-06-04T12:00:00",
          "2147-06-04T12:00:00",
          "2147-06-04T12:00:00",
          "2147-06-04T12:00:00",
          "2147-06-04T12:00:00",
          "2147-06-04T12:00:00",
          "2147-06-04T12:00:00",
          "2147-06-04T12:00:00",
          "2147-06-04T12:00:00",
          "2147-06-04T12:00:00",
          "2147-06-04T11:00:00",
          "2147-06-04T12:00:00",
          "2147-06-04T12:00:00",
          "2147-06-04T13:00:00",
          "2147-06-04T12:00:00",
          "2147-06-04T12:00:00",
          "2147-06-04T12:00:00",
          "2147-06-04T12:00:00",
          "2147-06-04T12:00:00",
          "2147-06-04T13:00:00",
          "2147-06-04T12:00:00",
          "2147-06-04T11:00:00",
          "2148-08-22T16:00:00",
          "2148-09-02T00:00:00",
          "2148-08-22T20:00:00",
          "2148-08-23T08:00:00",
          "2148-08-29T13:00:00",
          "2148-09-01T22:00:00",
          "2148-09-02T22:00:00",
          "2148-08-22T22:00:00",
          "2148-09-02T08:00:00",
          "2148-08-22T08:00:00",
          "2148-08-25T08:00:00",
          "2148-09-01T18:00:00",
          "2148-09-01T18:00:00",
          "2148-08-31T13:00:00",
          "2148-08-30T19:00:00",
          "2148-08-30T17:00:00",
          "2148-08-22T17:00:00",
          "2148-08-23T20:00:00",
          "2148-08-24T11:00:00",
          "2148-08-22T16:00:00",
          "2148-08-29T12:00:00",
          "2148-09-07T20:00:00",
          "2148-09-08T08:00:00",
          "2148-09-04T08:00:00",
          "2148-08-28T17:00:00",
          "2148-09-05T18:00:00",
          "2148-09-03T11:00:00",
          "2148-09-07T09:00:00",
          "2148-09-01T09:00:00",
          "2148-08-29T17:00:00",
          "2148-09-06T16:00:00",
          "2148-09-02T08:00:00",
          "2148-09-05T09:00:00",
          "2148-08-31T17:00:00",
          "2148-09-02T19:00:00",
          "2148-09-06T09:00:00",
          "2148-08-31T07:00:00",
          "2148-09-04T18:00:00",
          "2148-09-06T18:00:00",
          "2148-08-23T18:00:00",
          "2148-09-03T21:00:00",
          "2148-08-22T16:00:00",
          "2148-08-26T20:00:00",
          "2148-09-04T20:00:00",
          "2148-08-22T16:00:00",
          "2148-08-24T11:00:00",
          "2148-09-04T22:00:00",
          "2148-09-02T23:00:00",
          "2148-08-23T08:00:00",
          "2148-08-22T16:00:00",
          "2148-08-23T08:00:00",
          "2148-08-22T16:00:00",
          "2148-09-02T08:00:00",
          "2148-08-23T19:00:00",
          "2148-08-22T20:00:00",
          "2148-08-22T16:00:00",
          "2148-08-22T16:00:00",
          "2148-08-22T16:00:00",
          "2148-08-22T16:00:00",
          "2148-08-22T16:00:00",
          "2148-09-03T21:00:00",
          "2148-09-02T08:00:00",
          "2148-09-05T22:00:00",
          "2148-08-26T15:00:00",
          "2148-09-05T18:00:00",
          "2148-09-04T18:00:00",
          "2148-08-30T17:00:00",
          "2148-09-01T09:00:00",
          "2148-08-24T16:00:00",
          "2148-08-22T16:00:00",
          "2148-09-01T21:00:00",
          "2148-09-01T16:00:00",
          "2148-08-31T17:00:00",
          "2148-08-22T16:00:00",
          "2148-09-07T20:00:00",
          "2148-08-22T17:00:00",
          "2148-08-22T16:00:00",
          "2148-08-29T08:00:00",
          "2148-09-01T08:00:00",
          "2148-08-23T08:00:00",
          "2148-08-23T04:00:00",
          "2148-09-07T17:00:00",
          "2148-08-25T11:00:00",
          "2148-08-22T20:00:00",
          "2148-08-23T08:00:00",
          "2148-08-22T20:00:00",
          "2148-09-01T19:00:00",
          "2148-08-22T16:00:00",
          "2148-08-23T11:00:00",
          "2148-08-25T11:00:00",
          "2148-09-01T14:00:00",
          "2148-08-27T08:00:00",
          "2148-09-01T08:00:00",
          "2148-09-01T18:00:00",
          "2148-09-01T18:00:00",
          "2148-08-30T19:00:00",
          "2148-08-31T13:00:00",
          "2148-09-06T09:00:00",
          "2148-08-24T04:00:00",
          "2148-08-23T08:00:00",
          "2148-08-23T08:00:00",
          "2148-08-28T13:00:00",
          "2148-08-25T08:00:00",
          "2148-08-23T08:00:00",
          "2148-08-23T08:00:00",
          "2148-09-08T08:00:00",
          "2148-08-26T20:00:00",
          "2148-08-22T20:00:00",
          "2148-09-06T18:00:00",
          "2148-08-30T18:00:00",
          "2148-09-04T20:00:00",
          "2148-08-31T17:00:00",
          "2148-09-05T20:00:00",
          "2148-09-07T16:00:00",
          "2148-08-24T04:00:00",
          "2148-08-22T16:00:00",
          "2147-04-26T18:00:00",
          "2147-04-26T18:00:00",
          "2147-04-26T18:00:00",
          "2147-04-27T12:00:00",
          "2147-04-26T18:00:00",
          "2147-04-26T18:00:00",
          "2147-04-26T18:00:00",
          "2147-04-26T18:00:00",
          "2147-04-27T17:00:00",
          "2147-04-28T21:00:00",
          "2147-04-26T18:00:00",
          "2147-04-26T18:00:00",
          "2147-04-27T01:00:00",
          "2147-04-28T22:00:00",
          "2147-04-26T18:00:00",
          "2147-04-26T18:00:00",
          "2147-04-26T18:00:00",
          "2147-04-26T18:00:00",
          "2147-04-26T18:00:00",
          "2147-04-29T08:00:00",
          "2147-04-26T20:00:00",
          "2147-04-27T08:00:00",
          "2147-04-26T18:00:00",
          "2147-04-26T18:00:00",
          "2147-04-26T18:00:00",
          "2147-04-26T18:00:00",
          "2147-04-27T17:00:00",
          "2147-04-27T22:00:00",
          "2147-04-28T18:00:00",
          "2147-04-27T08:00:00",
          "2147-04-26T22:00:00",
          "2147-04-26T18:00:00",
          "2147-04-26T18:00:00",
          "2147-04-26T20:00:00",
          "2147-04-27T17:00:00",
          "2147-04-27T17:00:00",
          "2147-04-26T18:00:00",
          "2147-04-29T08:00:00",
          "2147-04-26T18:00:00",
          "2147-04-26T18:00:00",
          "2147-04-26T18:00:00",
          "2147-04-26T18:00:00",
          "2147-04-28T08:00:00",
          "2147-04-26T18:00:00",
          "2147-04-26T18:00:00",
          "2147-04-26T18:00:00",
          "2147-04-27T17:00:00",
          "2147-04-26T18:00:00",
          "2147-11-15T01:00:00",
          "2147-11-15T23:00:00",
          "2147-11-15T01:00:00",
          "2147-11-15T01:00:00",
          "2147-11-15T22:00:00",
          "2147-11-15T08:00:00",
          "2147-11-15T08:00:00",
          "2147-11-15T22:00:00",
          "2147-11-15T01:00:00",
          "2147-11-15T02:00:00",
          "2147-11-15T01:00:00",
          "2147-11-15T14:00:00",
          "2147-11-16T10:00:00",
          "2147-11-15T12:00:00",
          "2147-11-15T12:00:00",
          "2147-11-15T12:00:00",
          "2147-11-15T02:00:00",
          "2147-11-15T01:00:00",
          "2147-11-15T01:00:00",
          "2147-11-15T01:00:00",
          "2147-11-15T08:00:00",
          "2147-11-15T01:00:00",
          "2147-11-15T01:00:00",
          "2147-11-15T01:00:00",
          "2147-11-15T01:00:00",
          "2147-11-17T08:00:00",
          "2147-11-15T08:00:00",
          "2147-11-15T01:00:00",
          "2147-11-15T01:00:00",
          "2147-11-15T01:00:00",
          "2147-11-16T14:00:00",
          "2147-11-15T12:00:00",
          "2147-11-15T01:00:00",
          "2147-11-15T14:00:00",
          "2147-11-15T01:00:00",
          "2147-11-15T01:00:00",
          "2147-11-15T01:00:00",
          "2147-11-15T01:00:00",
          "2147-11-16T16:00:00",
          "2147-11-15T22:00:00",
          "2147-11-15T01:00:00",
          "2147-11-15T12:00:00",
          "2147-11-15T12:00:00",
          "2147-11-15T12:00:00",
          "2147-11-17T08:00:00",
          "2148-07-18T20:00:00",
          "2148-07-19T17:00:00",
          "2148-07-20T14:00:00",
          "2148-07-18T07:00:00",
          "2148-07-18T07:00:00",
          "2148-07-19T08:00:00",
          "2148-07-18T07:00:00",
          "2148-07-18T07:00:00",
          "2148-07-18T20:00:00",
          "2148-07-18T20:00:00",
          "2148-07-20T22:00:00",
          "2148-07-19T17:00:00",
          "2148-07-21T08:00:00",
          "2148-07-19T17:00:00",
          "2148-07-18T07:00:00",
          "2148-07-18T07:00:00",
          "2148-07-18T07:00:00",
          "2148-07-18T07:00:00",
          "2148-07-19T12:00:00",
          "2148-07-18T18:00:00",
          "2148-07-18T18:00:00",
          "2148-07-18T07:00:00",
          "2148-07-18T07:00:00",
          "2148-07-19T04:00:00",
          "2148-07-19T23:00:00",
          "2148-07-19T18:00:00",
          "2148-07-18T07:00:00",
          "2148-07-18T07:00:00",
          "2148-07-18T20:00:00",
          "2148-07-18T07:00:00",
          "2148-07-18T07:00:00",
          "2148-07-18T07:00:00",
          "2148-07-18T20:00:00",
          "2148-07-18T07:00:00",
          "2148-07-20T08:00:00",
          "2148-07-18T07:00:00",
          "2148-07-18T08:00:00",
          "2148-07-18T07:00:00",
          "2148-07-18T07:00:00",
          "2148-07-18T17:00:00",
          "2148-07-18T07:00:00",
          "2148-07-21T08:00:00",
          "2148-07-18T18:00:00",
          "2148-07-18T11:00:00",
          "2148-07-18T20:00:00",
          "2148-07-18T07:00:00",
          "2148-07-18T07:00:00",
          "2148-07-18T07:00:00",
          "2148-07-18T07:00:00",
          "2148-07-18T08:00:00",
          "2148-07-18T07:00:00",
          "2148-07-18T07:00:00",
          "2148-07-19T08:00:00",
          "2148-07-18T07:00:00",
          "2148-07-18T07:00:00",
          "2148-07-18T08:00:00",
          "2150-04-13T15:00:00",
          "2150-04-10T07:00:00",
          "2150-04-12T08:00:00",
          "2150-04-12T15:00:00",
          "2150-04-11T13:00:00",
          "2150-04-10T16:00:00",
          "2150-04-15T15:00:00",
          "2150-04-11T15:00:00",
          "2150-04-10T14:00:00",
          "2150-04-15T14:00:00",
          "2150-04-10T07:00:00",
          "2150-04-16T08:00:00",
          "2150-04-16T17:00:00",
          "2150-04-10T14:00:00",
          "2150-04-16T08:00:00",
          "2150-04-10T16:00:00",
          "2150-04-12T08:00:00",
          "2150-04-11T15:00:00",
          "2150-04-10T16:00:00",
          "2150-04-11T15:00:00",
          "2150-04-10T07:00:00",
          "2150-04-10T16:00:00",
          "2150-04-12T08:00:00",
          "2150-04-13T15:00:00",
          "2150-04-10T18:00:00",
          "2150-04-13T15:00:00",
          "2150-04-10T14:00:00",
          "2150-04-10T07:00:00",
          "2150-04-12T08:00:00",
          "2150-04-10T07:00:00",
          "2150-04-13T08:00:00",
          "2150-04-10T07:00:00",
          "2150-04-13T15:00:00",
          "2150-04-10T07:00:00",
          "2150-04-15T17:00:00",
          "2150-04-13T12:00:00",
          "2150-04-10T14:00:00",
          "2150-04-16T12:00:00",
          "2150-04-10T18:00:00",
          "2150-04-11T13:00:00",
          "2150-04-10T07:00:00",
          "2150-04-12T15:00:00",
          "2150-04-11T08:00:00",
          "2150-04-10T18:00:00",
          "2150-04-10T07:00:00",
          "2150-04-10T20:00:00",
          "2150-04-10T07:00:00",
          "2150-04-10T06:00:00",
          "2150-04-12T13:00:00",
          "2150-04-10T13:00:00",
          "2150-04-11T08:00:00",
          "2150-04-10T11:00:00",
          "2150-04-10T07:00:00",
          "2150-04-11T08:00:00",
          "2150-04-13T08:00:00",
          "2150-04-10T10:00:00",
          "2150-04-11T10:00:00",
          "2150-04-13T23:00:00",
          "2150-04-10T07:00:00",
          "2150-04-10T20:00:00",
          "2150-04-10T07:00:00",
          "2150-04-10T07:00:00",
          "2150-04-10T07:00:00",
          "2150-04-10T09:00:00",
          "2150-04-10T07:00:00",
          "2150-04-10T07:00:00",
          "2150-04-10T09:00:00",
          "2150-04-10T07:00:00",
          "2150-04-13T22:00:00",
          "2150-04-10T07:00:00",
          "2150-04-13T08:00:00",
          "2150-04-10T07:00:00",
          "2150-04-10T07:00:00",
          "2150-04-11T13:00:00",
          "2150-04-10T07:00:00",
          "2150-04-10T07:00:00",
          "2150-04-10T06:00:00",
          "2150-04-10T06:00:00",
          "2150-04-10T07:00:00",
          "2150-04-10T07:00:00",
          "2150-04-11T17:00:00",
          "2150-04-10T07:00:00",
          "2150-04-12T08:00:00",
          "2150-04-10T07:00:00",
          "2150-04-10T07:00:00",
          "2150-04-12T08:00:00",
          "2150-04-10T20:00:00",
          "2150-04-10T07:00:00",
          "2150-04-10T07:00:00",
          "2150-04-13T08:00:00",
          "2150-04-10T11:00:00",
          "2150-04-10T07:00:00",
          "2150-04-14T16:00:00",
          "2150-04-10T07:00:00",
          "2150-04-10T07:00:00",
          "2150-04-10T08:00:00",
          "2150-04-10T07:00:00",
          "2150-04-12T20:00:00",
          "2150-04-10T07:00:00",
          "2150-04-10T07:00:00",
          "2150-04-11T17:00:00",
          "2150-04-16T17:00:00",
          "2150-04-16T08:00:00",
          "2150-04-10T06:00:00",
          "2148-08-15T02:00:00",
          "2148-08-15T09:00:00",
          "2148-08-15T03:00:00",
          "2148-08-15T08:00:00",
          "2148-08-16T08:00:00",
          "2148-08-18T08:00:00",
          "2148-08-16T08:00:00",
          "2148-08-16T08:00:00",
          "2148-08-17T08:00:00",
          "2148-08-15T08:00:00",
          "2148-08-15T08:00:00",
          "2148-08-15T22:00:00",
          "2148-08-15T22:00:00",
          "2148-08-15T08:00:00",
          "2148-08-15T02:00:00",
          "2148-08-16T13:00:00",
          "2148-08-16T11:00:00",
          "2148-08-16T17:00:00",
          "2148-08-16T06:00:00",
          "2148-08-15T17:00:00",
          "2148-08-16T09:00:00",
          "2148-08-16T10:00:00",
          "2148-08-16T13:00:00",
          "2148-08-16T17:00:00",
          "2148-08-15T02:00:00",
          "2148-08-16T19:00:00",
          "2148-08-16T13:00:00",
          "2148-08-15T02:00:00",
          "2148-08-15T17:00:00",
          "2148-08-15T02:00:00",
          "2148-08-15T02:00:00",
          "2148-08-15T18:00:00",
          "2148-08-15T19:00:00",
          "2148-08-15T19:00:00",
          "2148-08-15T08:00:00",
          "2148-08-15T09:00:00",
          "2148-08-15T02:00:00",
          "2148-08-15T15:00:00",
          "2148-08-16T14:00:00",
          "2148-08-15T08:00:00",
          "2148-08-16T08:00:00",
          "2148-08-19T08:00:00",
          "2148-08-17T12:00:00",
          "2148-08-16T08:00:00",
          "2148-08-19T09:00:00",
          "2148-08-16T13:00:00",
          "2148-08-15T09:00:00",
          "2148-08-15T16:00:00",
          "2148-08-15T07:00:00",
          "2148-08-16T12:00:00",
          "2148-08-17T23:00:00",
          "2148-08-18T09:00:00",
          "2148-08-15T02:00:00",
          "2148-08-18T17:00:00",
          "2148-08-16T20:00:00",
          "2148-08-15T08:00:00",
          "2148-08-15T08:00:00",
          "2148-08-16T14:00:00",
          "2148-08-17T08:00:00",
          "2148-08-16T21:00:00",
          "2148-08-16T13:00:00",
          "2148-08-15T02:00:00",
          "2148-08-15T02:00:00",
          "2148-08-18T14:00:00",
          "2148-08-18T14:00:00",
          "2148-08-18T17:00:00",
          "2148-08-15T17:00:00",
          "2148-08-15T08:00:00",
          "2148-08-15T08:00:00",
          "2148-08-19T08:00:00",
          "2148-08-16T04:00:00",
          "2148-08-15T19:00:00",
          "2148-08-18T18:00:00",
          "2148-08-15T20:00:00",
          "2148-08-15T08:00:00",
          "2148-08-17T08:00:00",
          "2148-08-15T19:00:00",
          "2148-08-16T16:00:00",
          "2148-08-17T12:00:00",
          "2148-08-16T10:00:00",
          "2148-08-16T10:00:00",
          "2148-08-16T10:00:00",
          "2148-08-16T11:00:00",
          "2148-08-16T17:00:00",
          "2148-08-16T17:00:00",
          "2148-08-16T11:00:00",
          "2148-08-16T13:00:00",
          "2148-08-16T19:00:00",
          "2148-08-15T17:00:00",
          "2148-08-15T02:00:00",
          "2148-08-15T20:00:00",
          "2148-08-15T08:00:00",
          "2148-08-15T02:00:00",
          "2148-08-16T14:00:00",
          "2148-08-15T01:00:00",
          "2148-08-17T08:00:00",
          "2148-08-15T08:00:00",
          "2148-08-15T02:00:00",
          "2148-08-16T14:00:00",
          "2148-08-15T02:00:00",
          "2148-08-15T08:00:00",
          "2148-08-19T08:00:00",
          "2148-08-16T08:00:00",
          "2148-08-15T08:00:00",
          "2148-08-15T08:00:00",
          "2148-08-15T08:00:00",
          "2148-08-19T08:00:00",
          "2148-08-18T14:00:00",
          "2148-08-16T14:00:00",
          "2148-08-16T11:00:00",
          "2148-08-16T17:00:00",
          "2148-08-16T10:00:00",
          "2148-08-16T10:00:00",
          "2148-08-15T08:00:00",
          "2148-08-17T16:00:00",
          "2148-06-26T13:00:00",
          "2148-06-26T17:00:00",
          "2148-06-24T18:00:00",
          "2148-06-26T13:00:00",
          "2148-06-26T14:00:00",
          "2148-06-26T13:00:00",
          "2148-06-24T18:00:00",
          "2148-07-03T08:00:00",
          "2148-06-25T16:00:00",
          "2148-06-28T08:00:00",
          "2148-06-24T18:00:00",
          "2148-06-26T22:00:00",
          "2148-06-24T22:00:00",
          "2148-06-24T08:00:00",
          "2148-06-26T08:00:00",
          "2148-06-24T18:00:00",
          "2148-06-26T13:00:00",
          "2148-06-26T17:00:00",
          "2148-06-24T18:00:00",
          "2148-06-24T19:00:00",
          "2148-06-24T18:00:00",
          "2148-06-24T18:00:00",
          "2148-06-24T18:00:00",
          "2148-06-24T18:00:00",
          "2148-06-26T10:00:00",
          "2148-06-24T18:00:00",
          "2148-06-26T08:00:00",
          "2148-06-25T23:00:00",
          "2148-06-24T18:00:00",
          "2148-06-24T18:00:00",
          "2148-06-24T18:00:00",
          "2148-06-25T08:00:00",
          "2148-06-25T18:00:00",
          "2148-06-26T18:00:00",
          "2148-06-27T08:00:00",
          "2148-06-24T18:00:00",
          "2148-06-24T20:00:00",
          "2148-06-27T17:00:00",
          "2148-06-24T20:00:00",
          "2148-06-26T17:00:00",
          "2148-06-24T18:00:00",
          "2148-06-24T18:00:00",
          "2148-06-24T18:00:00",
          "2148-06-24T18:00:00",
          "2148-06-24T18:00:00",
          "2148-06-24T18:00:00",
          "2148-06-24T18:00:00",
          "2148-06-24T18:00:00",
          "2148-06-24T18:00:00",
          "2148-06-25T10:00:00",
          "2148-06-24T18:00:00",
          "2148-06-24T18:00:00",
          "2148-06-24T18:00:00",
          "2148-06-24T18:00:00",
          "2148-06-24T19:00:00",
          "2148-06-30T08:00:00",
          "2148-07-06T08:00:00",
          "2148-06-24T19:00:00",
          "2148-06-25T20:00:00",
          "2148-06-27T08:00:00",
          "2148-06-24T18:00:00",
          "2148-06-24T18:00:00",
          "2148-06-24T18:00:00",
          "2148-06-26T17:00:00",
          "2148-06-26T13:00:00",
          "2148-06-26T13:00:00",
          "2148-06-26T17:00:00",
          "2148-06-25T08:00:00",
          "2148-06-24T18:00:00",
          "2150-05-01T01:00:00",
          "2150-04-30T23:00:00",
          "2150-05-01T08:00:00",
          "2150-05-01T08:00:00",
          "2150-05-01T12:00:00",
          "2150-05-01T17:00:00",
          "2150-05-01T17:00:00",
          "2150-05-01T12:00:00",
          "2150-05-01T09:00:00",
          "2150-05-01T00:00:00",
          "2150-05-01T08:00:00",
          "2150-05-01T06:00:00",
          "2150-05-01T09:00:00",
          "2150-05-03T13:00:00",
          "2150-05-02T21:00:00",
          "2150-05-01T19:00:00",
          "2150-05-01T08:00:00",
          "2150-05-04T19:00:00",
          "2150-05-01T20:00:00",
          "2150-04-30T23:00:00",
          "2150-05-01T01:00:00",
          "2150-05-04T14:00:00",
          "2150-05-01T01:00:00",
          "2150-04-30T23:00:00",
          "2150-05-01T20:00:00",
          "2150-05-06T10:00:00",
          "2150-05-06T17:00:00",
          "2150-05-01T08:00:00",
          "2150-05-01T14:00:00",
          "2150-05-01T08:00:00",
          "2150-05-05T20:00:00",
          "2150-05-04T08:00:00",
          "2150-05-06T18:00:00",
          "2150-05-01T01:00:00",
          "2150-05-01T08:00:00",
          "2150-05-01T01:00:00",
          "2150-05-01T01:00:00",
          "2150-05-01T01:00:00",
          "2150-05-04T08:00:00",
          "2150-05-01T00:00:00",
          "2150-05-01T00:00:00",
          "2150-05-01T00:00:00",
          "2150-05-01T00:00:00",
          "2150-05-01T01:00:00",
          "2150-04-30T23:00:00",
          "2150-05-05T17:00:00",
          "2150-05-01T17:00:00",
          "2150-05-01T22:00:00",
          "2150-05-02T06:00:00",
          "2150-05-01T10:00:00",
          "2150-05-01T01:00:00",
          "2150-05-01T13:00:00",
          "2150-05-01T08:00:00",
          "2150-05-01T22:00:00",
          "2150-05-01T23:00:00",
          "2150-05-02T14:00:00",
          "2150-05-01T14:00:00",
          "2150-05-01T08:00:00",
          "2150-05-01T14:00:00",
          "2150-05-01T14:00:00",
          "2150-05-02T20:00:00",
          "2150-04-30T23:00:00",
          "2150-05-01T01:00:00",
          "2150-04-30T23:00:00",
          "2150-05-01T01:00:00",
          "2150-05-02T17:00:00",
          "2150-05-01T19:00:00",
          "2150-05-01T00:00:00",
          "2148-07-08T12:00:00",
          "2148-07-08T17:00:00",
          "2148-07-08T08:00:00",
          "2148-07-08T11:00:00",
          "2148-07-13T15:00:00",
          "2148-07-03T17:00:00",
          "2148-07-10T22:00:00",
          "2148-07-04T12:00:00",
          "2148-07-04T08:00:00",
          "2148-07-07T17:00:00",
          "2148-07-06T18:00:00",
          "2148-07-08T17:00:00",
          "2148-07-10T14:00:00",
          "2148-07-01T14:00:00",
          "2148-07-03T19:00:00",
          "2148-07-04T17:00:00",
          "2148-07-04T15:00:00",
          "2148-07-10T11:00:00",
          "2148-07-08T16:00:00",
          "2148-07-12T14:00:00",
          "2148-07-03T22:00:00",
          "2148-07-04T12:00:00",
          "2148-07-07T21:00:00",
          "2148-06-30T17:00:00",
          "2148-06-30T08:00:00",
          "2148-06-30T05:00:00",
          "2148-07-05T08:00:00",
          "2148-06-30T08:00:00",
          "2148-06-30T05:00:00",
          "2148-07-12T08:00:00",
          "2148-07-08T08:00:00",
          "2148-07-08T22:00:00",
          "2148-07-14T08:00:00",
          "2148-07-08T08:00:00",
          "2148-07-10T22:00:00",
          "2148-07-08T22:00:00",
          "2148-07-08T22:00:00",
          "2148-07-08T08:00:00",
          "2148-07-04T08:00:00",
          "2148-07-07T22:00:00",
          "2148-07-04T22:00:00",
          "2148-07-07T08:00:00",
          "2148-07-03T22:00:00",
          "2148-07-01T22:00:00",
          "2148-07-06T22:00:00",
          "2148-07-07T08:00:00",
          "2148-07-10T08:00:00",
          "2148-07-04T22:00:00",
          "2148-07-10T08:00:00",
          "2148-07-09T15:00:00",
          "2148-07-09T22:00:00",
          "2148-07-07T13:00:00",
          "2148-07-07T21:00:00",
          "2148-06-30T08:00:00",
          "2148-07-05T10:00:00",
          "2148-07-08T20:00:00",
          "2148-07-01T08:00:00",
          "2148-07-03T15:00:00",
          "2148-07-07T22:00:00",
          "2148-06-30T08:00:00",
          "2148-06-30T08:00:00",
          "2148-07-01T14:00:00",
          "2148-06-30T17:00:00",
          "2148-07-04T12:00:00",
          "2148-07-03T10:00:00",
          "2148-07-05T10:00:00",
          "2148-07-06T13:00:00",
          "2148-06-30T08:00:00",
          "2148-07-02T20:00:00",
          "2148-07-13T09:00:00",
          "2148-07-01T14:00:00",
          "2148-07-06T12:00:00",
          "2148-07-07T21:00:00",
          "2148-07-07T13:00:00",
          "2148-06-30T07:00:00",
          "2148-06-30T05:00:00",
          "2148-06-30T06:00:00",
          "2148-06-30T05:00:00",
          "2148-06-30T05:00:00",
          "2148-07-08T16:00:00",
          "2148-07-12T08:00:00",
          "2148-07-01T22:00:00",
          "2148-06-30T04:00:00",
          "2148-06-30T12:00:00",
          "2148-07-01T22:00:00",
          "2148-07-01T23:00:00",
          "2148-06-30T05:00:00",
          "2148-07-03T20:00:00",
          "2148-06-30T08:00:00",
          "2148-07-03T19:00:00",
          "2148-07-07T12:00:00",
          "2148-07-07T13:00:00",
          "2148-07-07T22:00:00",
          "2148-07-01T14:00:00",
          "2148-06-30T08:00:00",
          "2148-06-30T16:00:00",
          "2148-06-30T03:00:00",
          "2148-07-08T16:00:00",
          "2148-07-13T17:00:00",
          "2148-07-08T17:00:00",
          "2148-07-03T17:00:00",
          "2148-07-11T08:00:00",
          "2148-07-13T08:00:00",
          "2148-06-30T05:00:00",
          "2148-07-01T06:00:00",
          "2148-07-12T11:00:00",
          "2148-07-09T13:00:00",
          "2148-07-02T18:00:00",
          "2148-07-10T13:00:00",
          "2148-07-10T01:00:00",
          "2148-07-01T20:00:00",
          "2148-07-11T23:00:00",
          "2148-07-07T11:00:00",
          "2148-06-30T05:00:00",
          "2148-06-30T05:00:00",
          "2148-06-30T05:00:00",
          "2148-06-30T05:00:00",
          "2148-07-07T08:00:00",
          "2148-07-03T20:00:00",
          "2148-06-30T04:00:00",
          "2148-07-09T14:00:00",
          "2148-07-09T14:00:00",
          "2148-06-30T05:00:00",
          "2148-07-07T17:00:00",
          "2148-07-10T13:00:00",
          "2148-07-03T18:00:00",
          "2148-07-11T19:00:00",
          "2148-07-12T11:00:00",
          "2148-07-10T01:00:00",
          "2148-07-05T19:00:00",
          "2148-07-10T20:00:00",
          "2148-06-30T08:00:00",
          "2148-06-30T05:00:00",
          "2148-07-13T08:00:00",
          "2148-07-02T08:00:00",
          "2148-07-07T08:00:00",
          "2148-07-08T08:00:00",
          "2148-07-10T08:00:00",
          "2148-06-30T04:00:00",
          "2148-06-30T05:00:00",
          "2148-07-06T12:00:00",
          "2148-07-06T05:00:00",
          "2148-07-05T04:00:00",
          "2148-07-05T20:00:00",
          "2148-07-13T08:00:00",
          "2148-06-30T05:00:00",
          "2148-07-13T08:00:00",
          "2148-07-13T08:00:00",
          "2148-07-07T08:00:00",
          "2148-06-30T08:00:00",
          "2148-07-04T11:00:00",
          "2148-07-05T19:00:00",
          "2148-07-05T10:00:00",
          "2148-07-01T08:00:00",
          "2148-07-08T20:00:00",
          "2148-07-03T15:00:00",
          "2148-07-07T22:00:00",
          "2148-06-30T08:00:00",
          "2148-07-07T17:00:00",
          "2148-07-01T22:00:00",
          "2148-06-30T08:00:00",
          "2148-07-10T19:00:00",
          "2148-07-07T17:00:00",
          "2148-07-04T21:00:00",
          "2148-07-07T23:00:00",
          "2149-09-18T03:00:00",
          "2149-09-18T08:00:00",
          "2149-09-18T17:00:00",
          "2149-09-18T03:00:00",
          "2149-09-18T03:00:00",
          "2149-09-18T03:00:00",
          "2149-09-18T03:00:00",
          "2149-09-18T03:00:00",
          "2149-09-18T03:00:00",
          "2149-09-18T03:00:00",
          "2149-09-18T03:00:00",
          "2149-09-18T03:00:00",
          "2149-09-18T03:00:00",
          "2149-09-18T03:00:00",
          "2149-09-18T03:00:00",
          "2149-09-18T03:00:00",
          "2149-09-18T03:00:00",
          "2149-09-18T03:00:00",
          "2149-09-18T03:00:00",
          "2149-09-18T03:00:00",
          "2149-09-18T03:00:00",
          "2149-09-18T03:00:00",
          "2148-05-18T08:00:00",
          "2148-05-17T12:00:00",
          "2148-05-11T07:00:00",
          "2148-05-11T03:00:00",
          "2148-05-11T05:00:00",
          "2148-05-18T12:00:00",
          "2148-05-11T08:00:00",
          "2148-05-11T08:00:00",
          "2148-05-11T05:00:00",
          "2148-05-11T03:00:00",
          "2148-05-18T08:00:00",
          "2148-05-11T05:00:00",
          "2148-05-11T03:00:00",
          "2148-05-17T12:00:00",
          "2148-05-18T12:00:00",
          "2148-05-16T20:00:00",
          "2148-05-11T23:00:00",
          "2148-05-11T08:00:00",
          "2148-05-11T08:00:00",
          "2148-05-13T08:00:00",
          "2148-05-17T09:00:00",
          "2148-05-19T11:00:00",
          "2148-05-18T14:00:00",
          "2148-05-18T18:00:00",
          "2148-05-11T15:00:00",
          "2148-05-11T03:00:00",
          "2148-05-12T08:00:00",
          "2148-05-11T23:00:00",
          "2148-05-11T03:00:00",
          "2148-05-11T03:00:00",
          "2148-05-14T22:00:00",
          "2148-05-13T13:00:00",
          "2148-05-12T17:00:00",
          "2148-05-11T06:00:00",
          "2148-05-11T19:00:00",
          "2148-05-12T22:00:00",
          "2148-05-11T03:00:00",
          "2148-05-11T03:00:00",
          "2148-05-11T08:00:00",
          "2148-05-11T08:00:00",
          "2148-05-19T00:00:00",
          "2148-05-18T18:00:00",
          "2148-05-17T01:00:00",
          "2148-05-18T09:00:00",
          "2148-05-11T04:00:00",
          "2148-05-13T10:00:00",
          "2148-05-18T12:00:00",
          "2148-05-17T17:00:00",
          "2148-05-11T03:00:00",
          "2148-05-11T03:00:00",
          "2148-05-11T03:00:00",
          "2148-05-11T08:00:00",
          "2148-05-11T18:00:00",
          "2148-05-13T10:00:00",
          "2148-05-11T03:00:00",
          "2148-05-11T03:00:00",
          "2148-05-11T20:00:00",
          "2148-05-12T08:00:00",
          "2148-05-16T08:00:00",
          "2148-05-11T08:00:00",
          "2148-05-18T18:00:00",
          "2148-05-13T10:00:00",
          "2148-05-14T22:00:00",
          "2148-05-11T14:00:00",
          "2148-05-11T08:00:00",
          "2148-05-11T20:00:00",
          "2148-05-11T08:00:00",
          "2148-05-16T13:00:00",
          "2148-05-16T13:00:00",
          "2148-05-18T10:00:00",
          "2148-05-11T05:00:00",
          "2148-05-11T03:00:00",
          "2148-05-16T13:00:00",
          "2148-05-17T09:00:00",
          "2148-05-16T20:00:00",
          "2148-05-14T08:00:00",
          "2148-05-11T04:00:00",
          "2148-05-13T19:00:00",
          "2148-05-15T10:00:00",
          "2148-05-13T03:00:00",
          "2148-05-17T21:00:00",
          "2148-05-12T03:00:00",
          "2148-05-14T19:00:00",
          "2148-05-19T00:00:00",
          "2148-05-19T08:00:00",
          "2148-05-19T11:00:00",
          "2148-05-11T03:00:00",
          "2148-05-18T06:00:00",
          "2148-05-11T04:00:00",
          "2148-05-13T08:00:00",
          "2148-05-11T08:00:00",
          "2148-05-11T08:00:00",
          "2148-05-11T03:00:00"
         ],
         "xaxis": "x",
         "y": [
          10,
          1,
          1,
          1,
          1,
          0.5,
          1,
          1,
          1,
          1,
          1,
          1,
          1,
          1,
          1,
          0.3,
          0,
          0,
          1,
          1,
          0.05,
          0.05,
          1,
          1,
          1,
          1000,
          1000,
          1,
          1,
          1,
          0.5,
          1,
          1,
          2,
          1,
          3,
          1,
          1,
          1,
          1,
          1,
          2,
          1,
          1,
          2,
          3,
          1,
          2,
          1,
          1,
          4,
          3,
          4,
          1,
          2,
          1,
          1,
          1,
          2,
          0.3,
          0.3,
          2,
          1,
          1,
          1,
          1,
          1,
          1,
          1,
          0.5,
          1000,
          1000,
          1000,
          0.5,
          150,
          100,
          200,
          200,
          2,
          4,
          3,
          2,
          1,
          1,
          3,
          3,
          1,
          1,
          1,
          1,
          1,
          1,
          1,
          1,
          1,
          1,
          1,
          1,
          0.5,
          2,
          1,
          1,
          1,
          1,
          1,
          1,
          1,
          1,
          1,
          1,
          1,
          1,
          2,
          1,
          2,
          1,
          3,
          1,
          2,
          1,
          1,
          6,
          8,
          4,
          1,
          200,
          200,
          100,
          150,
          1,
          2,
          1,
          2,
          1,
          1,
          1,
          1,
          1,
          0.5,
          1,
          1,
          3,
          1,
          1,
          1,
          1,
          1,
          2,
          1,
          1,
          1,
          1,
          1,
          1,
          1,
          1,
          1,
          1,
          1,
          1,
          1,
          1,
          1,
          1,
          1,
          1,
          2,
          1,
          0.5,
          0.5,
          1,
          0.3,
          1,
          1,
          1,
          1,
          1,
          1,
          1,
          1,
          1,
          1,
          1,
          1,
          1,
          1,
          1,
          1,
          1,
          1,
          1,
          1,
          1,
          1,
          1,
          1,
          1,
          1,
          0.5,
          1,
          1,
          0.5,
          0.5,
          0.5,
          1.5,
          1,
          0.5,
          0.1,
          3,
          1,
          1,
          1.5,
          1,
          1,
          1,
          1,
          1,
          0.5,
          2,
          2,
          1,
          1,
          1,
          1,
          1,
          2,
          1,
          1,
          1,
          1,
          1,
          0.9773,
          1,
          1.5,
          1,
          1,
          0.01,
          1,
          1,
          1,
          1,
          1,
          2,
          2,
          1,
          0.25,
          4,
          1,
          0.3,
          0,
          0.01,
          1,
          1,
          0.056,
          0.056,
          0.5,
          0.1,
          1,
          2,
          0.01,
          3,
          1,
          2,
          1,
          2,
          1,
          1,
          3,
          1,
          1,
          2,
          1,
          1,
          1,
          1,
          1,
          2,
          1,
          1,
          0.25,
          0.3,
          1,
          1,
          1,
          1,
          1,
          1,
          1,
          1,
          1,
          1,
          1,
          1,
          1,
          1,
          1,
          1000,
          1000,
          1000,
          1000,
          0.5,
          1,
          2,
          2,
          1.5,
          1,
          1,
          1.5,
          2,
          1,
          1.5,
          2,
          1.5,
          2,
          1.5,
          1,
          2,
          1.5,
          1,
          150,
          1,
          2,
          3,
          2,
          1,
          1,
          1,
          1,
          1,
          1,
          2,
          1,
          1,
          1,
          1,
          1,
          1,
          1,
          1,
          1,
          1,
          1,
          1,
          1,
          3,
          1,
          1,
          3,
          1,
          1,
          1,
          1,
          2,
          2,
          1,
          1,
          1,
          1,
          1,
          1,
          1,
          3,
          3,
          1,
          1,
          1,
          1,
          1,
          0.01,
          1.5,
          1,
          1,
          1.5,
          2,
          150,
          150,
          150,
          150,
          1,
          1,
          1,
          1,
          1,
          1,
          1,
          1,
          3,
          1,
          1,
          150,
          2,
          5,
          2,
          1,
          1,
          1,
          1,
          0,
          0.01,
          1,
          1,
          1,
          0.056,
          0.056,
          1,
          1,
          1000,
          0.5,
          3,
          2,
          0.01,
          3,
          1,
          2,
          1,
          1,
          1,
          1,
          3,
          1,
          2,
          1,
          1,
          1,
          1,
          1,
          2,
          3,
          1,
          2,
          1,
          0.8,
          0.28,
          1,
          1,
          2,
          4,
          6,
          1,
          1,
          1,
          2,
          3,
          250,
          0.3,
          1,
          1,
          1,
          1,
          1,
          1,
          1,
          1,
          1000,
          0.25,
          0.5,
          2,
          1,
          3,
          4,
          2,
          1,
          1,
          1,
          3,
          1,
          1,
          1,
          1,
          1,
          1,
          1,
          1,
          1,
          1,
          1,
          1,
          1,
          1,
          1,
          1,
          1,
          1,
          1,
          1,
          1,
          4,
          8,
          6,
          1,
          1,
          1,
          1,
          1,
          1,
          2,
          1,
          1,
          1,
          1,
          1,
          1,
          1,
          1,
          1,
          1,
          1,
          0.5,
          1,
          2,
          1,
          3,
          1,
          1,
          1,
          1,
          1,
          1,
          1,
          2,
          1,
          1,
          1,
          1,
          1,
          1,
          1,
          1,
          1,
          1,
          1,
          1,
          1,
          1,
          3,
          1,
          0.01,
          1.5,
          1,
          1,
          1,
          1,
          1,
          1,
          0.3,
          1,
          1,
          1,
          1,
          1,
          1,
          1,
          1,
          1,
          1,
          1,
          1,
          0.16,
          0.12,
          1,
          1,
          1,
          1,
          1,
          1,
          1,
          1,
          1,
          1,
          1,
          1,
          1,
          1,
          1,
          1,
          1,
          1,
          1,
          1,
          1,
          1,
          1,
          1,
          1,
          1,
          1,
          1,
          1,
          1,
          1,
          0.01,
          0.01,
          1000,
          1000,
          1000,
          1000,
          1000,
          1,
          1,
          1,
          1,
          0.5,
          0.5,
          0.5,
          1,
          3,
          3,
          1,
          1,
          1,
          1,
          3,
          3,
          3,
          3,
          1,
          2,
          1,
          1,
          1,
          1,
          1,
          1,
          1,
          1,
          1,
          1,
          1,
          1,
          1,
          1,
          1,
          1,
          1,
          1,
          1,
          1,
          1,
          2,
          1,
          1,
          1,
          1,
          1,
          2,
          0.5,
          4,
          1,
          1,
          1,
          1,
          1,
          1,
          1,
          1,
          1,
          1,
          1,
          1,
          1,
          1,
          1,
          1,
          1,
          0.5,
          1,
          1,
          1,
          1000,
          1000,
          1000,
          1000,
          1000,
          1,
          0.5,
          250,
          250,
          1,
          1,
          3,
          1,
          0.1,
          0.1,
          1,
          1,
          2,
          2,
          2,
          2,
          1,
          1,
          1,
          1,
          1,
          1,
          1,
          1,
          1,
          1,
          1,
          1,
          1,
          1,
          1,
          2,
          2,
          1,
          1,
          1,
          1,
          1,
          1,
          1,
          1,
          1,
          1,
          1,
          1,
          1,
          1,
          3,
          1,
          3,
          3,
          1,
          0.01,
          1,
          1.5,
          1.5,
          1,
          1,
          1,
          1.4,
          1.4,
          0.36,
          0.36,
          9,
          9,
          0.5,
          1,
          1,
          1,
          2,
          2,
          1,
          1,
          1,
          1,
          1,
          1,
          1,
          1,
          1,
          1,
          1,
          3,
          3,
          3,
          1,
          250,
          250,
          1,
          1,
          1,
          0.3,
          1,
          1,
          1,
          1,
          10,
          10,
          1,
          1,
          2,
          2,
          1,
          1,
          1,
          1,
          1,
          1,
          1000,
          1000,
          0.5,
          3,
          1,
          1,
          1,
          3,
          2,
          1,
          1,
          1,
          1,
          1,
          1,
          1,
          2,
          1,
          1,
          1,
          1,
          1,
          1,
          1,
          1,
          1,
          1,
          1,
          1,
          1,
          1,
          1,
          1,
          1,
          0.01,
          1,
          1,
          1,
          1,
          3,
          1,
          1,
          1,
          1,
          1,
          1,
          1,
          1,
          1,
          1,
          1,
          1,
          0.3,
          1,
          1,
          1,
          1,
          1,
          1,
          1,
          1,
          1000,
          1000,
          1,
          1,
          1,
          1,
          0.25,
          1,
          1,
          2,
          3,
          1,
          1,
          1,
          1,
          1,
          1,
          1,
          3,
          3,
          3,
          3,
          1,
          1,
          1,
          2,
          2,
          1,
          1,
          1,
          1,
          1,
          1,
          1,
          1,
          1,
          1,
          1,
          1,
          1,
          1,
          1,
          1,
          1,
          1,
          1,
          1,
          2,
          1,
          1,
          1,
          2,
          1,
          1,
          0.5,
          0.5,
          0.3333,
          4,
          1,
          1,
          1,
          1,
          1,
          1,
          1,
          1,
          1,
          1,
          1,
          1,
          1,
          1,
          1,
          1,
          1,
          1,
          1,
          1,
          1,
          1,
          1,
          1,
          1,
          10,
          10,
          1,
          1,
          2,
          1,
          1,
          1,
          1,
          1,
          1,
          1,
          1,
          1,
          1,
          1,
          1,
          1,
          1,
          1,
          1,
          1,
          1,
          1,
          1,
          1,
          1,
          1,
          1000,
          1000,
          1000,
          1,
          1,
          1,
          1,
          200,
          200,
          1,
          0.5,
          1,
          1,
          1,
          1,
          1,
          3,
          3,
          2,
          1,
          2,
          1,
          1,
          1,
          1,
          2,
          2,
          1,
          1,
          1,
          1,
          1,
          1,
          1,
          1,
          1,
          1,
          1,
          1,
          0.4,
          0.4,
          1,
          1,
          1,
          2,
          1,
          1,
          1,
          1,
          1,
          1,
          1,
          1,
          1,
          1,
          0.5,
          1,
          1,
          1,
          1,
          1,
          1,
          1,
          1,
          1,
          1,
          1,
          1,
          1,
          1,
          1,
          0.01,
          1,
          1,
          1,
          1,
          1,
          1,
          1,
          1,
          1,
          1,
          1,
          3,
          1,
          1,
          1,
          1,
          1,
          4,
          1,
          2,
          2,
          1,
          1,
          1,
          1,
          1,
          1,
          3,
          1,
          100,
          100,
          100,
          100,
          200,
          200,
          250,
          0.3,
          1,
          0.3,
          0.3,
          0.3,
          0.2,
          1,
          1,
          1,
          1,
          0.5,
          1,
          1.5,
          1,
          1,
          1,
          1,
          1,
          1,
          1,
          1,
          2,
          2,
          1,
          1,
          1,
          1,
          1,
          1,
          1,
          1,
          1,
          1,
          1,
          1,
          1,
          1,
          1,
          1,
          1,
          1,
          1,
          1,
          1,
          1000,
          1000,
          1000,
          1000,
          1000,
          1000,
          1000,
          1000,
          1,
          0.5,
          1,
          1,
          3,
          1,
          1,
          0.5,
          0.5,
          0.5,
          0.5,
          0.5,
          1,
          3,
          1,
          1,
          1,
          1,
          1,
          1,
          1,
          0.5,
          1,
          1,
          1,
          1,
          1,
          1,
          1,
          2,
          1,
          1,
          1,
          1,
          1,
          1,
          1,
          1,
          1,
          1,
          1,
          3,
          1,
          2,
          2,
          1,
          1,
          1,
          1,
          1,
          1,
          1,
          1,
          1,
          1,
          1,
          1,
          1,
          1,
          1,
          1,
          1,
          1,
          1,
          1,
          1,
          1,
          1,
          0.3
         ],
         "yaxis": "y"
        }
       ],
       "layout": {
        "legend": {
         "tracegroupgap": 0
        },
        "margin": {
         "t": 60
        },
        "template": {
         "data": {
          "bar": [
           {
            "error_x": {
             "color": "#2a3f5f"
            },
            "error_y": {
             "color": "#2a3f5f"
            },
            "marker": {
             "line": {
              "color": "#E5ECF6",
              "width": 0.5
             },
             "pattern": {
              "fillmode": "overlay",
              "size": 10,
              "solidity": 0.2
             }
            },
            "type": "bar"
           }
          ],
          "barpolar": [
           {
            "marker": {
             "line": {
              "color": "#E5ECF6",
              "width": 0.5
             },
             "pattern": {
              "fillmode": "overlay",
              "size": 10,
              "solidity": 0.2
             }
            },
            "type": "barpolar"
           }
          ],
          "carpet": [
           {
            "aaxis": {
             "endlinecolor": "#2a3f5f",
             "gridcolor": "white",
             "linecolor": "white",
             "minorgridcolor": "white",
             "startlinecolor": "#2a3f5f"
            },
            "baxis": {
             "endlinecolor": "#2a3f5f",
             "gridcolor": "white",
             "linecolor": "white",
             "minorgridcolor": "white",
             "startlinecolor": "#2a3f5f"
            },
            "type": "carpet"
           }
          ],
          "choropleth": [
           {
            "colorbar": {
             "outlinewidth": 0,
             "ticks": ""
            },
            "type": "choropleth"
           }
          ],
          "contour": [
           {
            "colorbar": {
             "outlinewidth": 0,
             "ticks": ""
            },
            "colorscale": [
             [
              0,
              "#0d0887"
             ],
             [
              0.1111111111111111,
              "#46039f"
             ],
             [
              0.2222222222222222,
              "#7201a8"
             ],
             [
              0.3333333333333333,
              "#9c179e"
             ],
             [
              0.4444444444444444,
              "#bd3786"
             ],
             [
              0.5555555555555556,
              "#d8576b"
             ],
             [
              0.6666666666666666,
              "#ed7953"
             ],
             [
              0.7777777777777778,
              "#fb9f3a"
             ],
             [
              0.8888888888888888,
              "#fdca26"
             ],
             [
              1,
              "#f0f921"
             ]
            ],
            "type": "contour"
           }
          ],
          "contourcarpet": [
           {
            "colorbar": {
             "outlinewidth": 0,
             "ticks": ""
            },
            "type": "contourcarpet"
           }
          ],
          "heatmap": [
           {
            "colorbar": {
             "outlinewidth": 0,
             "ticks": ""
            },
            "colorscale": [
             [
              0,
              "#0d0887"
             ],
             [
              0.1111111111111111,
              "#46039f"
             ],
             [
              0.2222222222222222,
              "#7201a8"
             ],
             [
              0.3333333333333333,
              "#9c179e"
             ],
             [
              0.4444444444444444,
              "#bd3786"
             ],
             [
              0.5555555555555556,
              "#d8576b"
             ],
             [
              0.6666666666666666,
              "#ed7953"
             ],
             [
              0.7777777777777778,
              "#fb9f3a"
             ],
             [
              0.8888888888888888,
              "#fdca26"
             ],
             [
              1,
              "#f0f921"
             ]
            ],
            "type": "heatmap"
           }
          ],
          "heatmapgl": [
           {
            "colorbar": {
             "outlinewidth": 0,
             "ticks": ""
            },
            "colorscale": [
             [
              0,
              "#0d0887"
             ],
             [
              0.1111111111111111,
              "#46039f"
             ],
             [
              0.2222222222222222,
              "#7201a8"
             ],
             [
              0.3333333333333333,
              "#9c179e"
             ],
             [
              0.4444444444444444,
              "#bd3786"
             ],
             [
              0.5555555555555556,
              "#d8576b"
             ],
             [
              0.6666666666666666,
              "#ed7953"
             ],
             [
              0.7777777777777778,
              "#fb9f3a"
             ],
             [
              0.8888888888888888,
              "#fdca26"
             ],
             [
              1,
              "#f0f921"
             ]
            ],
            "type": "heatmapgl"
           }
          ],
          "histogram": [
           {
            "marker": {
             "pattern": {
              "fillmode": "overlay",
              "size": 10,
              "solidity": 0.2
             }
            },
            "type": "histogram"
           }
          ],
          "histogram2d": [
           {
            "colorbar": {
             "outlinewidth": 0,
             "ticks": ""
            },
            "colorscale": [
             [
              0,
              "#0d0887"
             ],
             [
              0.1111111111111111,
              "#46039f"
             ],
             [
              0.2222222222222222,
              "#7201a8"
             ],
             [
              0.3333333333333333,
              "#9c179e"
             ],
             [
              0.4444444444444444,
              "#bd3786"
             ],
             [
              0.5555555555555556,
              "#d8576b"
             ],
             [
              0.6666666666666666,
              "#ed7953"
             ],
             [
              0.7777777777777778,
              "#fb9f3a"
             ],
             [
              0.8888888888888888,
              "#fdca26"
             ],
             [
              1,
              "#f0f921"
             ]
            ],
            "type": "histogram2d"
           }
          ],
          "histogram2dcontour": [
           {
            "colorbar": {
             "outlinewidth": 0,
             "ticks": ""
            },
            "colorscale": [
             [
              0,
              "#0d0887"
             ],
             [
              0.1111111111111111,
              "#46039f"
             ],
             [
              0.2222222222222222,
              "#7201a8"
             ],
             [
              0.3333333333333333,
              "#9c179e"
             ],
             [
              0.4444444444444444,
              "#bd3786"
             ],
             [
              0.5555555555555556,
              "#d8576b"
             ],
             [
              0.6666666666666666,
              "#ed7953"
             ],
             [
              0.7777777777777778,
              "#fb9f3a"
             ],
             [
              0.8888888888888888,
              "#fdca26"
             ],
             [
              1,
              "#f0f921"
             ]
            ],
            "type": "histogram2dcontour"
           }
          ],
          "mesh3d": [
           {
            "colorbar": {
             "outlinewidth": 0,
             "ticks": ""
            },
            "type": "mesh3d"
           }
          ],
          "parcoords": [
           {
            "line": {
             "colorbar": {
              "outlinewidth": 0,
              "ticks": ""
             }
            },
            "type": "parcoords"
           }
          ],
          "pie": [
           {
            "automargin": true,
            "type": "pie"
           }
          ],
          "scatter": [
           {
            "fillpattern": {
             "fillmode": "overlay",
             "size": 10,
             "solidity": 0.2
            },
            "type": "scatter"
           }
          ],
          "scatter3d": [
           {
            "line": {
             "colorbar": {
              "outlinewidth": 0,
              "ticks": ""
             }
            },
            "marker": {
             "colorbar": {
              "outlinewidth": 0,
              "ticks": ""
             }
            },
            "type": "scatter3d"
           }
          ],
          "scattercarpet": [
           {
            "marker": {
             "colorbar": {
              "outlinewidth": 0,
              "ticks": ""
             }
            },
            "type": "scattercarpet"
           }
          ],
          "scattergeo": [
           {
            "marker": {
             "colorbar": {
              "outlinewidth": 0,
              "ticks": ""
             }
            },
            "type": "scattergeo"
           }
          ],
          "scattergl": [
           {
            "marker": {
             "colorbar": {
              "outlinewidth": 0,
              "ticks": ""
             }
            },
            "type": "scattergl"
           }
          ],
          "scattermapbox": [
           {
            "marker": {
             "colorbar": {
              "outlinewidth": 0,
              "ticks": ""
             }
            },
            "type": "scattermapbox"
           }
          ],
          "scatterpolar": [
           {
            "marker": {
             "colorbar": {
              "outlinewidth": 0,
              "ticks": ""
             }
            },
            "type": "scatterpolar"
           }
          ],
          "scatterpolargl": [
           {
            "marker": {
             "colorbar": {
              "outlinewidth": 0,
              "ticks": ""
             }
            },
            "type": "scatterpolargl"
           }
          ],
          "scatterternary": [
           {
            "marker": {
             "colorbar": {
              "outlinewidth": 0,
              "ticks": ""
             }
            },
            "type": "scatterternary"
           }
          ],
          "surface": [
           {
            "colorbar": {
             "outlinewidth": 0,
             "ticks": ""
            },
            "colorscale": [
             [
              0,
              "#0d0887"
             ],
             [
              0.1111111111111111,
              "#46039f"
             ],
             [
              0.2222222222222222,
              "#7201a8"
             ],
             [
              0.3333333333333333,
              "#9c179e"
             ],
             [
              0.4444444444444444,
              "#bd3786"
             ],
             [
              0.5555555555555556,
              "#d8576b"
             ],
             [
              0.6666666666666666,
              "#ed7953"
             ],
             [
              0.7777777777777778,
              "#fb9f3a"
             ],
             [
              0.8888888888888888,
              "#fdca26"
             ],
             [
              1,
              "#f0f921"
             ]
            ],
            "type": "surface"
           }
          ],
          "table": [
           {
            "cells": {
             "fill": {
              "color": "#EBF0F8"
             },
             "line": {
              "color": "white"
             }
            },
            "header": {
             "fill": {
              "color": "#C8D4E3"
             },
             "line": {
              "color": "white"
             }
            },
            "type": "table"
           }
          ]
         },
         "layout": {
          "annotationdefaults": {
           "arrowcolor": "#2a3f5f",
           "arrowhead": 0,
           "arrowwidth": 1
          },
          "autotypenumbers": "strict",
          "coloraxis": {
           "colorbar": {
            "outlinewidth": 0,
            "ticks": ""
           }
          },
          "colorscale": {
           "diverging": [
            [
             0,
             "#8e0152"
            ],
            [
             0.1,
             "#c51b7d"
            ],
            [
             0.2,
             "#de77ae"
            ],
            [
             0.3,
             "#f1b6da"
            ],
            [
             0.4,
             "#fde0ef"
            ],
            [
             0.5,
             "#f7f7f7"
            ],
            [
             0.6,
             "#e6f5d0"
            ],
            [
             0.7,
             "#b8e186"
            ],
            [
             0.8,
             "#7fbc41"
            ],
            [
             0.9,
             "#4d9221"
            ],
            [
             1,
             "#276419"
            ]
           ],
           "sequential": [
            [
             0,
             "#0d0887"
            ],
            [
             0.1111111111111111,
             "#46039f"
            ],
            [
             0.2222222222222222,
             "#7201a8"
            ],
            [
             0.3333333333333333,
             "#9c179e"
            ],
            [
             0.4444444444444444,
             "#bd3786"
            ],
            [
             0.5555555555555556,
             "#d8576b"
            ],
            [
             0.6666666666666666,
             "#ed7953"
            ],
            [
             0.7777777777777778,
             "#fb9f3a"
            ],
            [
             0.8888888888888888,
             "#fdca26"
            ],
            [
             1,
             "#f0f921"
            ]
           ],
           "sequentialminus": [
            [
             0,
             "#0d0887"
            ],
            [
             0.1111111111111111,
             "#46039f"
            ],
            [
             0.2222222222222222,
             "#7201a8"
            ],
            [
             0.3333333333333333,
             "#9c179e"
            ],
            [
             0.4444444444444444,
             "#bd3786"
            ],
            [
             0.5555555555555556,
             "#d8576b"
            ],
            [
             0.6666666666666666,
             "#ed7953"
            ],
            [
             0.7777777777777778,
             "#fb9f3a"
            ],
            [
             0.8888888888888888,
             "#fdca26"
            ],
            [
             1,
             "#f0f921"
            ]
           ]
          },
          "colorway": [
           "#636efa",
           "#EF553B",
           "#00cc96",
           "#ab63fa",
           "#FFA15A",
           "#19d3f3",
           "#FF6692",
           "#B6E880",
           "#FF97FF",
           "#FECB52"
          ],
          "font": {
           "color": "#2a3f5f"
          },
          "geo": {
           "bgcolor": "white",
           "lakecolor": "white",
           "landcolor": "#E5ECF6",
           "showlakes": true,
           "showland": true,
           "subunitcolor": "white"
          },
          "hoverlabel": {
           "align": "left"
          },
          "hovermode": "closest",
          "mapbox": {
           "style": "light"
          },
          "paper_bgcolor": "white",
          "plot_bgcolor": "#E5ECF6",
          "polar": {
           "angularaxis": {
            "gridcolor": "white",
            "linecolor": "white",
            "ticks": ""
           },
           "bgcolor": "#E5ECF6",
           "radialaxis": {
            "gridcolor": "white",
            "linecolor": "white",
            "ticks": ""
           }
          },
          "scene": {
           "xaxis": {
            "backgroundcolor": "#E5ECF6",
            "gridcolor": "white",
            "gridwidth": 2,
            "linecolor": "white",
            "showbackground": true,
            "ticks": "",
            "zerolinecolor": "white"
           },
           "yaxis": {
            "backgroundcolor": "#E5ECF6",
            "gridcolor": "white",
            "gridwidth": 2,
            "linecolor": "white",
            "showbackground": true,
            "ticks": "",
            "zerolinecolor": "white"
           },
           "zaxis": {
            "backgroundcolor": "#E5ECF6",
            "gridcolor": "white",
            "gridwidth": 2,
            "linecolor": "white",
            "showbackground": true,
            "ticks": "",
            "zerolinecolor": "white"
           }
          },
          "shapedefaults": {
           "line": {
            "color": "#2a3f5f"
           }
          },
          "ternary": {
           "aaxis": {
            "gridcolor": "white",
            "linecolor": "white",
            "ticks": ""
           },
           "baxis": {
            "gridcolor": "white",
            "linecolor": "white",
            "ticks": ""
           },
           "bgcolor": "#E5ECF6",
           "caxis": {
            "gridcolor": "white",
            "linecolor": "white",
            "ticks": ""
           }
          },
          "title": {
           "x": 0.05
          },
          "xaxis": {
           "automargin": true,
           "gridcolor": "white",
           "linecolor": "white",
           "ticks": "",
           "title": {
            "standoff": 15
           },
           "zerolinecolor": "white",
           "zerolinewidth": 2
          },
          "yaxis": {
           "automargin": true,
           "gridcolor": "white",
           "linecolor": "white",
           "ticks": "",
           "title": {
            "standoff": 15
           },
           "zerolinecolor": "white",
           "zerolinewidth": 2
          }
         }
        },
        "xaxis": {
         "anchor": "y",
         "domain": [
          0,
          1
         ],
         "title": {
          "text": "drug_exposure_start_datetime"
         }
        },
        "yaxis": {
         "anchor": "x",
         "domain": [
          0,
          1
         ],
         "title": {
          "text": "quantity"
         }
        }
       }
      }
     },
     "metadata": {},
     "output_type": "display_data"
    }
   ],
   "source": [
    "\n",
    "fig = px.line(patient_df, x=\"drug_exposure_start_datetime\", y=\"quantity\")\n",
    "fig.show()"
   ]
  },
  {
   "cell_type": "code",
   "execution_count": 53,
   "metadata": {},
   "outputs": [
    {
     "data": {
      "application/vnd.plotly.v1+json": {
       "config": {
        "plotlyServerURL": "https://plot.ly"
       },
       "data": [
        {
         "hovertemplate": "<extra></extra>",
         "legendgroup": "",
         "marker": {
          "color": "#636efa",
          "symbol": "circle"
         },
         "mode": "markers",
         "name": "",
         "orientation": "v",
         "showlegend": false,
         "type": "scatter",
         "xaxis": "x",
         "yaxis": "y"
        }
       ],
       "layout": {
        "legend": {
         "tracegroupgap": 0
        },
        "margin": {
         "t": 60
        },
        "template": {
         "data": {
          "bar": [
           {
            "error_x": {
             "color": "#2a3f5f"
            },
            "error_y": {
             "color": "#2a3f5f"
            },
            "marker": {
             "line": {
              "color": "#E5ECF6",
              "width": 0.5
             },
             "pattern": {
              "fillmode": "overlay",
              "size": 10,
              "solidity": 0.2
             }
            },
            "type": "bar"
           }
          ],
          "barpolar": [
           {
            "marker": {
             "line": {
              "color": "#E5ECF6",
              "width": 0.5
             },
             "pattern": {
              "fillmode": "overlay",
              "size": 10,
              "solidity": 0.2
             }
            },
            "type": "barpolar"
           }
          ],
          "carpet": [
           {
            "aaxis": {
             "endlinecolor": "#2a3f5f",
             "gridcolor": "white",
             "linecolor": "white",
             "minorgridcolor": "white",
             "startlinecolor": "#2a3f5f"
            },
            "baxis": {
             "endlinecolor": "#2a3f5f",
             "gridcolor": "white",
             "linecolor": "white",
             "minorgridcolor": "white",
             "startlinecolor": "#2a3f5f"
            },
            "type": "carpet"
           }
          ],
          "choropleth": [
           {
            "colorbar": {
             "outlinewidth": 0,
             "ticks": ""
            },
            "type": "choropleth"
           }
          ],
          "contour": [
           {
            "colorbar": {
             "outlinewidth": 0,
             "ticks": ""
            },
            "colorscale": [
             [
              0,
              "#0d0887"
             ],
             [
              0.1111111111111111,
              "#46039f"
             ],
             [
              0.2222222222222222,
              "#7201a8"
             ],
             [
              0.3333333333333333,
              "#9c179e"
             ],
             [
              0.4444444444444444,
              "#bd3786"
             ],
             [
              0.5555555555555556,
              "#d8576b"
             ],
             [
              0.6666666666666666,
              "#ed7953"
             ],
             [
              0.7777777777777778,
              "#fb9f3a"
             ],
             [
              0.8888888888888888,
              "#fdca26"
             ],
             [
              1,
              "#f0f921"
             ]
            ],
            "type": "contour"
           }
          ],
          "contourcarpet": [
           {
            "colorbar": {
             "outlinewidth": 0,
             "ticks": ""
            },
            "type": "contourcarpet"
           }
          ],
          "heatmap": [
           {
            "colorbar": {
             "outlinewidth": 0,
             "ticks": ""
            },
            "colorscale": [
             [
              0,
              "#0d0887"
             ],
             [
              0.1111111111111111,
              "#46039f"
             ],
             [
              0.2222222222222222,
              "#7201a8"
             ],
             [
              0.3333333333333333,
              "#9c179e"
             ],
             [
              0.4444444444444444,
              "#bd3786"
             ],
             [
              0.5555555555555556,
              "#d8576b"
             ],
             [
              0.6666666666666666,
              "#ed7953"
             ],
             [
              0.7777777777777778,
              "#fb9f3a"
             ],
             [
              0.8888888888888888,
              "#fdca26"
             ],
             [
              1,
              "#f0f921"
             ]
            ],
            "type": "heatmap"
           }
          ],
          "heatmapgl": [
           {
            "colorbar": {
             "outlinewidth": 0,
             "ticks": ""
            },
            "colorscale": [
             [
              0,
              "#0d0887"
             ],
             [
              0.1111111111111111,
              "#46039f"
             ],
             [
              0.2222222222222222,
              "#7201a8"
             ],
             [
              0.3333333333333333,
              "#9c179e"
             ],
             [
              0.4444444444444444,
              "#bd3786"
             ],
             [
              0.5555555555555556,
              "#d8576b"
             ],
             [
              0.6666666666666666,
              "#ed7953"
             ],
             [
              0.7777777777777778,
              "#fb9f3a"
             ],
             [
              0.8888888888888888,
              "#fdca26"
             ],
             [
              1,
              "#f0f921"
             ]
            ],
            "type": "heatmapgl"
           }
          ],
          "histogram": [
           {
            "marker": {
             "pattern": {
              "fillmode": "overlay",
              "size": 10,
              "solidity": 0.2
             }
            },
            "type": "histogram"
           }
          ],
          "histogram2d": [
           {
            "colorbar": {
             "outlinewidth": 0,
             "ticks": ""
            },
            "colorscale": [
             [
              0,
              "#0d0887"
             ],
             [
              0.1111111111111111,
              "#46039f"
             ],
             [
              0.2222222222222222,
              "#7201a8"
             ],
             [
              0.3333333333333333,
              "#9c179e"
             ],
             [
              0.4444444444444444,
              "#bd3786"
             ],
             [
              0.5555555555555556,
              "#d8576b"
             ],
             [
              0.6666666666666666,
              "#ed7953"
             ],
             [
              0.7777777777777778,
              "#fb9f3a"
             ],
             [
              0.8888888888888888,
              "#fdca26"
             ],
             [
              1,
              "#f0f921"
             ]
            ],
            "type": "histogram2d"
           }
          ],
          "histogram2dcontour": [
           {
            "colorbar": {
             "outlinewidth": 0,
             "ticks": ""
            },
            "colorscale": [
             [
              0,
              "#0d0887"
             ],
             [
              0.1111111111111111,
              "#46039f"
             ],
             [
              0.2222222222222222,
              "#7201a8"
             ],
             [
              0.3333333333333333,
              "#9c179e"
             ],
             [
              0.4444444444444444,
              "#bd3786"
             ],
             [
              0.5555555555555556,
              "#d8576b"
             ],
             [
              0.6666666666666666,
              "#ed7953"
             ],
             [
              0.7777777777777778,
              "#fb9f3a"
             ],
             [
              0.8888888888888888,
              "#fdca26"
             ],
             [
              1,
              "#f0f921"
             ]
            ],
            "type": "histogram2dcontour"
           }
          ],
          "mesh3d": [
           {
            "colorbar": {
             "outlinewidth": 0,
             "ticks": ""
            },
            "type": "mesh3d"
           }
          ],
          "parcoords": [
           {
            "line": {
             "colorbar": {
              "outlinewidth": 0,
              "ticks": ""
             }
            },
            "type": "parcoords"
           }
          ],
          "pie": [
           {
            "automargin": true,
            "type": "pie"
           }
          ],
          "scatter": [
           {
            "fillpattern": {
             "fillmode": "overlay",
             "size": 10,
             "solidity": 0.2
            },
            "type": "scatter"
           }
          ],
          "scatter3d": [
           {
            "line": {
             "colorbar": {
              "outlinewidth": 0,
              "ticks": ""
             }
            },
            "marker": {
             "colorbar": {
              "outlinewidth": 0,
              "ticks": ""
             }
            },
            "type": "scatter3d"
           }
          ],
          "scattercarpet": [
           {
            "marker": {
             "colorbar": {
              "outlinewidth": 0,
              "ticks": ""
             }
            },
            "type": "scattercarpet"
           }
          ],
          "scattergeo": [
           {
            "marker": {
             "colorbar": {
              "outlinewidth": 0,
              "ticks": ""
             }
            },
            "type": "scattergeo"
           }
          ],
          "scattergl": [
           {
            "marker": {
             "colorbar": {
              "outlinewidth": 0,
              "ticks": ""
             }
            },
            "type": "scattergl"
           }
          ],
          "scattermapbox": [
           {
            "marker": {
             "colorbar": {
              "outlinewidth": 0,
              "ticks": ""
             }
            },
            "type": "scattermapbox"
           }
          ],
          "scatterpolar": [
           {
            "marker": {
             "colorbar": {
              "outlinewidth": 0,
              "ticks": ""
             }
            },
            "type": "scatterpolar"
           }
          ],
          "scatterpolargl": [
           {
            "marker": {
             "colorbar": {
              "outlinewidth": 0,
              "ticks": ""
             }
            },
            "type": "scatterpolargl"
           }
          ],
          "scatterternary": [
           {
            "marker": {
             "colorbar": {
              "outlinewidth": 0,
              "ticks": ""
             }
            },
            "type": "scatterternary"
           }
          ],
          "surface": [
           {
            "colorbar": {
             "outlinewidth": 0,
             "ticks": ""
            },
            "colorscale": [
             [
              0,
              "#0d0887"
             ],
             [
              0.1111111111111111,
              "#46039f"
             ],
             [
              0.2222222222222222,
              "#7201a8"
             ],
             [
              0.3333333333333333,
              "#9c179e"
             ],
             [
              0.4444444444444444,
              "#bd3786"
             ],
             [
              0.5555555555555556,
              "#d8576b"
             ],
             [
              0.6666666666666666,
              "#ed7953"
             ],
             [
              0.7777777777777778,
              "#fb9f3a"
             ],
             [
              0.8888888888888888,
              "#fdca26"
             ],
             [
              1,
              "#f0f921"
             ]
            ],
            "type": "surface"
           }
          ],
          "table": [
           {
            "cells": {
             "fill": {
              "color": "#EBF0F8"
             },
             "line": {
              "color": "white"
             }
            },
            "header": {
             "fill": {
              "color": "#C8D4E3"
             },
             "line": {
              "color": "white"
             }
            },
            "type": "table"
           }
          ]
         },
         "layout": {
          "annotationdefaults": {
           "arrowcolor": "#2a3f5f",
           "arrowhead": 0,
           "arrowwidth": 1
          },
          "autotypenumbers": "strict",
          "coloraxis": {
           "colorbar": {
            "outlinewidth": 0,
            "ticks": ""
           }
          },
          "colorscale": {
           "diverging": [
            [
             0,
             "#8e0152"
            ],
            [
             0.1,
             "#c51b7d"
            ],
            [
             0.2,
             "#de77ae"
            ],
            [
             0.3,
             "#f1b6da"
            ],
            [
             0.4,
             "#fde0ef"
            ],
            [
             0.5,
             "#f7f7f7"
            ],
            [
             0.6,
             "#e6f5d0"
            ],
            [
             0.7,
             "#b8e186"
            ],
            [
             0.8,
             "#7fbc41"
            ],
            [
             0.9,
             "#4d9221"
            ],
            [
             1,
             "#276419"
            ]
           ],
           "sequential": [
            [
             0,
             "#0d0887"
            ],
            [
             0.1111111111111111,
             "#46039f"
            ],
            [
             0.2222222222222222,
             "#7201a8"
            ],
            [
             0.3333333333333333,
             "#9c179e"
            ],
            [
             0.4444444444444444,
             "#bd3786"
            ],
            [
             0.5555555555555556,
             "#d8576b"
            ],
            [
             0.6666666666666666,
             "#ed7953"
            ],
            [
             0.7777777777777778,
             "#fb9f3a"
            ],
            [
             0.8888888888888888,
             "#fdca26"
            ],
            [
             1,
             "#f0f921"
            ]
           ],
           "sequentialminus": [
            [
             0,
             "#0d0887"
            ],
            [
             0.1111111111111111,
             "#46039f"
            ],
            [
             0.2222222222222222,
             "#7201a8"
            ],
            [
             0.3333333333333333,
             "#9c179e"
            ],
            [
             0.4444444444444444,
             "#bd3786"
            ],
            [
             0.5555555555555556,
             "#d8576b"
            ],
            [
             0.6666666666666666,
             "#ed7953"
            ],
            [
             0.7777777777777778,
             "#fb9f3a"
            ],
            [
             0.8888888888888888,
             "#fdca26"
            ],
            [
             1,
             "#f0f921"
            ]
           ]
          },
          "colorway": [
           "#636efa",
           "#EF553B",
           "#00cc96",
           "#ab63fa",
           "#FFA15A",
           "#19d3f3",
           "#FF6692",
           "#B6E880",
           "#FF97FF",
           "#FECB52"
          ],
          "font": {
           "color": "#2a3f5f"
          },
          "geo": {
           "bgcolor": "white",
           "lakecolor": "white",
           "landcolor": "#E5ECF6",
           "showlakes": true,
           "showland": true,
           "subunitcolor": "white"
          },
          "hoverlabel": {
           "align": "left"
          },
          "hovermode": "closest",
          "mapbox": {
           "style": "light"
          },
          "paper_bgcolor": "white",
          "plot_bgcolor": "#E5ECF6",
          "polar": {
           "angularaxis": {
            "gridcolor": "white",
            "linecolor": "white",
            "ticks": ""
           },
           "bgcolor": "#E5ECF6",
           "radialaxis": {
            "gridcolor": "white",
            "linecolor": "white",
            "ticks": ""
           }
          },
          "scene": {
           "xaxis": {
            "backgroundcolor": "#E5ECF6",
            "gridcolor": "white",
            "gridwidth": 2,
            "linecolor": "white",
            "showbackground": true,
            "ticks": "",
            "zerolinecolor": "white"
           },
           "yaxis": {
            "backgroundcolor": "#E5ECF6",
            "gridcolor": "white",
            "gridwidth": 2,
            "linecolor": "white",
            "showbackground": true,
            "ticks": "",
            "zerolinecolor": "white"
           },
           "zaxis": {
            "backgroundcolor": "#E5ECF6",
            "gridcolor": "white",
            "gridwidth": 2,
            "linecolor": "white",
            "showbackground": true,
            "ticks": "",
            "zerolinecolor": "white"
           }
          },
          "shapedefaults": {
           "line": {
            "color": "#2a3f5f"
           }
          },
          "ternary": {
           "aaxis": {
            "gridcolor": "white",
            "linecolor": "white",
            "ticks": ""
           },
           "baxis": {
            "gridcolor": "white",
            "linecolor": "white",
            "ticks": ""
           },
           "bgcolor": "#E5ECF6",
           "caxis": {
            "gridcolor": "white",
            "linecolor": "white",
            "ticks": ""
           }
          },
          "title": {
           "x": 0.05
          },
          "xaxis": {
           "automargin": true,
           "gridcolor": "white",
           "linecolor": "white",
           "ticks": "",
           "title": {
            "standoff": 15
           },
           "zerolinecolor": "white",
           "zerolinewidth": 2
          },
          "yaxis": {
           "automargin": true,
           "gridcolor": "white",
           "linecolor": "white",
           "ticks": "",
           "title": {
            "standoff": 15
           },
           "zerolinecolor": "white",
           "zerolinewidth": 2
          }
         }
        },
        "xaxis": {
         "anchor": "y",
         "domain": [
          0,
          1
         ]
        },
        "yaxis": {
         "anchor": "x",
         "domain": [
          0,
          1
         ]
        }
       }
      }
     },
     "metadata": {},
     "output_type": "display_data"
    }
   ],
   "source": [
    "f = px.scatter()\n",
    "f.show()"
   ]
  }
 ],
 "metadata": {
  "kernelspec": {
   "display_name": ".venv",
   "language": "python",
   "name": "python3"
  },
  "language_info": {
   "codemirror_mode": {
    "name": "ipython",
    "version": 3
   },
   "file_extension": ".py",
   "mimetype": "text/x-python",
   "name": "python",
   "nbconvert_exporter": "python",
   "pygments_lexer": "ipython3",
   "version": "3.9.18"
  }
 },
 "nbformat": 4,
 "nbformat_minor": 2
}
