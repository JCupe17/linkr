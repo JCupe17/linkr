{
 "cells": [
  {
   "cell_type": "markdown",
   "id": "39be42e0-43e0-429a-9a18-72a6b6577a6b",
   "metadata": {},
   "source": [
    "# Issue 12 - Medication Timeline : \n",
    "Design a plugin to display the timeline of medication administration for an individual patient, utilizing an R library."
   ]
  },
  {
   "cell_type": "code",
   "execution_count": null,
   "id": "eef040f1-c9f3-48db-af61-0d6efe96f28c",
   "metadata": {},
   "outputs": [],
   "source": [
    "! pip install plotly"
   ]
  },
  {
   "cell_type": "code",
   "execution_count": null,
   "id": "44ac3419-7d85-422b-8d59-38c1215ec0a8",
   "metadata": {},
   "outputs": [],
   "source": [
    "# Import librairies:\n",
    "\n",
    "import pandas as pd\n",
    "import seaborn as sns\n",
    "import matplotlib as plt\n",
    "import plotly.io as pio\n",
    "import plotly.express as px\n",
    "import plotly.graph_objs as go\n",
    "from plotly.subplots import make_subplots"
   ]
  },
  {
   "cell_type": "markdown",
   "id": "c7f05684-b7d6-46b1-b262-7a59ad26dc16",
   "metadata": {},
   "source": [
    "# NEED TO PUT DRUG EXPOSURE AND DRUG STRENGTH"
   ]
  },
  {
   "cell_type": "code",
   "execution_count": null,
   "id": "a7b3312a-7fc0-495c-9baa-6520130b2201",
   "metadata": {},
   "outputs": [],
   "source": [
    "drug_exposure = pd.read_csv('Data/drug_exposure.csv')\n",
    "# drug_exposure.shape #(18229, 23)\n",
    "\n",
    "#dose_era = pd.read_csv('Data/dose_era.csv')\n",
    "#dose_era.shape #(117, 7)\n",
    "\n",
    "#drug_era = pd.read_csv('Data/drug_era.csv')\n",
    "#drug_era.shape #(7931, 7)\n",
    "\n",
    "# drugstrength RxNorm -> from Athena\n",
    "drug_strength = pd.read_csv('Data/DRUG_STRENGTH.csv', sep='\\s+')\n",
    "# drug_strength.shape #(200983, 12)\n",
    "\n",
    "\n"
   ]
  },
  {
   "cell_type": "markdown",
   "id": "ab069861-54dc-405c-90c0-caef2ab6a0de",
   "metadata": {},
   "source": [
    "### INTERESTING COLUMNS:\n",
    "\n",
    "Index(['drug_exposure_id', PRIMARY KEY\n",
    "'person_id', PERSON ID\n",
    "\n",
    "'drug_concept_id', DRUG ID (RxNorm) STANDARD\n",
    "\n",
    "       'drug_exposure_start_date'_REQUIRED, 'drug_exposure_start_datetime'_WITH HOURS BUT NOT REQUIRED\n",
    "       'drug_exposure_end_date'_REQUIRED, 'drug_exposure_end_datetime'_WITH HOURS BUT NOT REQUIRED\n",
    "       \n",
    "       'drug_type_concept_id', TYPE OF PRESCRIPTION (32838 = EHR Prescription)\n",
    "       'quantity', _ NO UNIT \n",
    "       'route_concept_id',\n",
    "       'visit_occurrence_id', \n",
    "       'drug_source_value', \n",
    "       'drug_source_concept_id', NOT STANDARS\n",
    "       'route_source_value', \n",
    "       'dose_unit_source_value' _ UNIT TO WORK WITH : COULD BE TAB, SYRINGE...],\n",
    "      dtype='object')\n"
   ]
  },
  {
   "cell_type": "markdown",
   "id": "d6318dbb-e004-4c95-8968-b63ce9233d73",
   "metadata": {},
   "source": [
    "## Test 1 patient"
   ]
  },
  {
   "cell_type": "code",
   "execution_count": null,
   "id": "a1bb8ebd-1fab-447e-bd5a-f65c3d0d8e51",
   "metadata": {},
   "outputs": [],
   "source": [
    "# liste of non_null columns. The others are totaly empty or useless\n",
    "liste_non_null = ['drug_exposure_id', 'person_id', 'drug_concept_id',  'drug_exposure_start_date', 'drug_exposure_start_datetime',\n",
    "       'drug_exposure_end_date', 'drug_exposure_end_datetime', 'drug_type_concept_id',   'quantity',\n",
    "       'route_concept_id', 'visit_occurrence_id', 'drug_source_value', 'drug_source_concept_id', 'route_source_value', 'dose_unit_source_value']\n",
    "\n",
    "patient1 = drug_exposure.loc[drug_exposure['person_id'] == 3912882389848878631, liste_non_null]\n",
    "\n"
   ]
  },
  {
   "cell_type": "code",
   "execution_count": null,
   "id": "f5ff2c2d-e4bb-47ab-8894-0d2748e96bd1",
   "metadata": {},
   "outputs": [],
   "source": [
    "# Test for dummy graph with 1 drug only:\n",
    "\n",
    "patient1_drug1 = patient1.loc[patient1.drug_concept_id==40232756,['drug_exposure_start_datetime', 'drug_exposure_end_datetime', 'quantity']].sort_values(by='drug_exposure_start_datetime')\n",
    "patient1_drug1['cumulative'] = [0.5, 1.5, 3.0, 4.0]\n",
    "\n",
    "fig = make_subplots(rows = 1, cols = 2, subplot_titles=('not cumulative','cumulative'))\n",
    "fig.add_trace(go.Scatter(x = patient1_drug1.drug_exposure_start_datetime, y = patient1_drug1.quantity), row=1, col=1)\n",
    "fig.update_layout(xaxis=dict(rangeslider=dict(autorange=True, range=[patient1_drug1.drug_exposure_start_datetime.min(), patient1_drug1.drug_exposure_start_datetime.max()])))\n",
    "   \n",
    "fig.add_trace(go.Scatter(x = patient1_drug1.drug_exposure_start_datetime, y = patient1_drug1.cumulative), row=1, col=2)\n",
    "\n",
    "fig.show()\n",
    "\n",
    "# curseur ok, but I can make it if several traces. Only goes to the first one"
   ]
  },
  {
   "cell_type": "code",
   "execution_count": null,
   "id": "8c7256d4-cbad-4c63-962c-5040ed0a95bf",
   "metadata": {},
   "outputs": [],
   "source": [
    "# test for dummy graph with all drugs, but on separated panels according ti drug type. \n",
    "# won't stay like this since we will transform it into a mg unit for all?\n",
    "\n",
    "patient1 = patient1.sort_values(by='drug_exposure_start_datetime')\n",
    "number_types = patient1.dose_unit_source_value.describe()['unique']\n",
    "\n",
    "fig3 = make_subplots(rows = 1, cols = number_types, subplot_titles=(patient1.dose_unit_source_value.value_counts().index))\n",
    "colonne = 1\n",
    "\n",
    "for drug_type in patient1.dose_unit_source_value.value_counts().index:\n",
    "    #print(drug_type)\n",
    "\n",
    "    for d in patient1[patient1.dose_unit_source_value == drug_type].drug_concept_id.unique():\n",
    "        temp = patient1[patient1.drug_concept_id == d]\n",
    "        fig3.add_trace(go.Scatter(x = temp.drug_exposure_start_datetime, y = temp.quantity, name=f'{d}, {temp.dose_unit_source_value.unique()}'), row=1, col=colonne)\n",
    "\n",
    "    colonne += 1\n",
    "\n",
    "fig3.show()\n",
    "\n"
   ]
  },
  {
   "cell_type": "markdown",
   "id": "2f3e30f8-5ac5-45d0-9ea7-80c85491f904",
   "metadata": {},
   "source": [
    "**PLOTLY GRAPH ARE DYNAMIC. DRUGS CAN BE SELECTED OR UNSELECTED IN THE LEGEND. DON'T KNOW ABOUT IN THE PLUG IN THOUGH IF IT IS JUST A SNAPSHOT, IT WON'T WORK.**\n",
    "SO WE CAN TRY WITH THE BUTTONS AS SUCH:"
   ]
  },
  {
   "cell_type": "code",
   "execution_count": null,
   "id": "74f3438c-1100-4d36-8ba5-63a3dea5044f",
   "metadata": {},
   "outputs": [],
   "source": [
    "# TOGGLE GRAPH - not useful\n",
    "\n",
    "patient1 = patient1.sort_values(by='drug_exposure_start_datetime')\n",
    "number_types = patient1.dose_unit_source_value.describe()['unique']\n",
    "\n",
    "#fig3 = make_subplots(rows = 1, cols = number_types, subplot_titles=(patient1.dose_unit_source_value.value_counts().index))\n",
    "colonne = 1\n",
    "\n",
    "for drug_type in patient1.dose_unit_source_value.value_counts().index:\n",
    "    #print(drug_type)\n",
    "    traces = []\n",
    "    buttons = []\n",
    "\n",
    "    # for each drug type, create a liste of traces and buttons\n",
    "    for d in patient1[patient1.dose_unit_source_value == drug_type].drug_concept_id.unique():\n",
    "        temp = patient1[patient1.drug_concept_id == d]\n",
    "\n",
    "        traces.append(go.Scatter(x = temp.drug_exposure_start_datetime, y = temp.quantity, name=f'{d}, {temp.dose_unit_source_value.unique()}', visible = True))\n",
    "        \n",
    "        buttons.append(dict(method='update',\n",
    "                        label=f'{d}',\n",
    "                        visible=True,\n",
    "                        args=[{'visible':[x == d for x in patient1[patient1.dose_unit_source_value == drug_type].drug_concept_id.unique()]}],\n",
    "                        args2=[{'visible':[x != d for x in patient1[patient1.dose_unit_source_value == drug_type].drug_concept_id.unique()]}]\n",
    "                        )\n",
    "                )\n",
    "\n",
    "    # Make the graph with toggle\n",
    "    layout = go.Layout(\n",
    "        updatemenus=[\n",
    "            dict(\n",
    "                type='buttons',\n",
    "                direction='right',\n",
    "                x=0.7,\n",
    "                y=1.3,\n",
    "                showactive=True,\n",
    "                buttons=buttons\n",
    "            )\n",
    "        ],\n",
    "        showlegend=True\n",
    "\n",
    "    )\n",
    "\n",
    "    fig3 = go.Figure(data=traces,layout=layout)\n",
    "    fig3.update_layout(xaxis=dict(rangeslider=dict(autorange=True, range=[patient1_drug1.drug_exposure_start_datetime.min(), patient1_drug1.drug_exposure_start_datetime.max()])))\n",
    "   \n",
    "    fig3.show()\n"
   ]
  }
 ],
 "metadata": {
  "kernelspec": {
   "display_name": "Python 3",
   "language": "python",
   "name": "python3"
  },
  "language_info": {
   "codemirror_mode": {
    "name": "ipython",
    "version": 3
   },
   "file_extension": ".py",
   "mimetype": "text/x-python",
   "name": "python",
   "nbconvert_exporter": "python",
   "pygments_lexer": "ipython3",
   "version": "3.9.2"
  }
 },
 "nbformat": 4,
 "nbformat_minor": 5
}
